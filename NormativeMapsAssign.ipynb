{
 "cells": [
  {
   "metadata": {
    "ExecuteTime": {
     "end_time": "2024-05-08T00:21:07.028158Z",
     "start_time": "2024-05-08T00:21:06.766943Z"
    }
   },
   "cell_type": "code",
   "source": "from helper import *",
   "id": "7e557dfc25edc40a",
   "outputs": [],
   "execution_count": 1
  },
  {
   "cell_type": "code",
   "id": "initial_id",
   "metadata": {
    "collapsed": true,
    "ExecuteTime": {
     "end_time": "2024-05-08T00:21:07.033141Z",
     "start_time": "2024-05-08T00:21:07.029162Z"
    }
   },
   "source": [
    "raw_data_folder_path = \"./raw_data/\"\n",
    "preprocessed_data_folder_path = \"./preprocessed_data/\"\n",
    "save_data_folder_path = \"./save_data/\"\n",
    "images_folder_path = \"./images/\"\n",
    "statistics_folder_path = \"statistics/\"\n",
    "mhw_objects_folder_path = \"mhw_objects/\"\n",
    "\n",
    "folders = Folders(\n",
    "    end_folder = \"\",\n",
    "    raw_data = raw_data_folder_path,\n",
    "    preprocessed_data = preprocessed_data_folder_path,\n",
    "    save_data = save_data_folder_path,\n",
    "    images = images_folder_path,\n",
    "    statistics=statistics_folder_path,\n",
    "    mhw_objects=mhw_objects_folder_path\n",
    ")\n",
    "\n",
    "\n",
    "filenames014 = [\n",
    "    \"ACP_INP0014_REST1_1pnt_1vis\",\n",
    "    \"ACP_INP0014_REST2_1pnt_1vis\",\n",
    "    \"ACP_INP0014_REST3_1pnt_1vis\",\n",
    "    \"ACP_INP0014_REST1_1pnt_2vis\",\n",
    "    \"ACP_INP0014_REST2_1pnt_2vis\",\n",
    "    \"ACP_INP0014_REST3_1pnt_2vis\"\n",
    "]\n",
    "path014 = \"rest_14/\"\n",
    "\n",
    "filenames019 = [\n",
    "    \"INP0019_v1.4_REST1_R003_R003_08.11.23\",\n",
    "    \"INP0019_v1.4_REST2_R003_R003_08.11.23\",\n",
    "    \"INP0019_v1.4_REST3_R003_R003_08.11.23\",\n",
    "    \"INP0019_v1.5_REST2_Op005_Op007_08.12.23\",\n",
    "    \"INP0019_v1.5_REST3_Op005_Op007_08.12.23\",\n",
    "]\n",
    "path019 = \"rest_19/\"\n",
    "\n",
    "filenames036 = [\n",
    "    \"INP0036_v1.4_REST1_Op008_Op011_11.12.23\",\n",
    "    \"INP0036_v1.4_REST2_Op008_Op011_11.12.23\",\n",
    "    \"INP0036_v1.4_REST3_Op008_Op011_11.12.23\",\n",
    "    \"INP0036_v1.5_REST1_Op005_Op010_12.12.23\",\n",
    "    \"INP0036_v1.5_REST2_Op005_Op010_12.12.23\",\n",
    "    \"INP0036_v1.5_REST3_Op005_Op010_12.12.23\",\n",
    "]\n",
    "path036 = \"rest_36/\"\n",
    "\n",
    "filenames045 = [\n",
    "    \"INP0045_v1.4_REST1_R003_R003_08.11.23\",\n",
    "    \"INP0045_v1.4_REST2_R003_R003_08.11.23\",\n",
    "    \"INP0045_v1.4_REST3_R003_R003_08.11.23\",\n",
    "    \"INP0045_v1.5_rs11_Op005_Op008_Op011_17.11.23\",\n",
    "    \"INP0045_v1.5_rs22_Op005_Op008_Op011_17.11.23\",\n",
    "    \"INP0045_v1.5_rs23_Op005_Op008_Op011_17.11.23\",\n",
    "]\n",
    "path045 = \"rest_45/\"\n",
    "\n",
    "filenames064 = [\n",
    "    \"INP0064_v1.4_rs11_S008_R003_04.12.23\",\n",
    "    \"INP0064_v1.4_rs12_Op008_R003_04.12.23\",\n",
    "    \"INP0064_v1.4_rs13_Op008_R003_04.12.23\",\n",
    "    \"INP0064_v1.5_rs21_Op005_Op006_Op008_05.12.23\",\n",
    "    \"INP0064_v1.5_rs22_Op009_A002_13.12.23\",\n",
    "    \"INP0064_v1.5_rs23_Op009_A002_13.12.23\",\n",
    "]\n",
    "path064 = \"rest_64/\"\n",
    "\n",
    "filenames = [filenames014, filenames019, filenames036, filenames045, filenames064]\n",
    "paths = [path014, path019, path036, path045, path064]"
   ],
   "outputs": [],
   "execution_count": 2
  },
  {
   "metadata": {},
   "cell_type": "markdown",
   "source": "# Назначение нормативных карт",
   "id": "d1a94e97493f811e"
  },
  {
   "metadata": {
    "ExecuteTime": {
     "end_time": "2024-05-08T00:21:08.431590Z",
     "start_time": "2024-05-08T00:21:07.033141Z"
    }
   },
   "cell_type": "code",
   "source": [
    "filename = filenames014[0]\n",
    "path = path014\n",
    "th_filename = filename+\"_th\"\n",
    "folders.end_folder = path\n",
    "raw = mne.io.read_raw_eeglab(folders.preprocessed_data + folders.end_folder + filenames014[0] + '.set')\n",
    "mhw = MicrostateHelperWrapper(folders, raw, th_filename)\n",
    "mhw = mhw.load()"
   ],
   "id": "35b8cbf7a6c760cf",
   "outputs": [
    {
     "name": "stderr",
     "output_type": "stream",
     "text": [
      "C:\\Users\\bortn\\AppData\\Local\\Temp\\ipykernel_40448\\2808348043.py:5: RuntimeWarning: Data will be preloaded. preload=False or a string preload is not supported when the data is stored in the .set file\n",
      "  raw = mne.io.read_raw_eeglab(folders.preprocessed_data + folders.end_folder + filenames014[0] + '.set')\n"
     ]
    },
    {
     "name": "stdout",
     "output_type": "stream",
     "text": [
      "Loading MHW object ACP_INP0014_REST1_1pnt_1vis_th\n"
     ]
    },
    {
     "name": "stderr",
     "output_type": "stream",
     "text": [
      "C:\\Users\\bortn\\AppData\\Local\\Temp\\ipykernel_40448\\2808348043.py:5: RuntimeWarning: The data contains 'boundary' events, indicating data discontinuities. Be cautious of filtering and epoching around these events.\n",
      "  raw = mne.io.read_raw_eeglab(folders.preprocessed_data + folders.end_folder + filenames014[0] + '.set')\n"
     ]
    }
   ],
   "execution_count": 3
  },
  {
   "metadata": {
    "ExecuteTime": {
     "end_time": "2024-05-08T00:21:08.442614Z",
     "start_time": "2024-05-08T00:21:08.432595Z"
    }
   },
   "cell_type": "code",
   "source": [
    "global_maps = pd.read_csv(folders.save_data + \"global_maps.csv\")\n",
    "global_maps"
   ],
   "id": "7914ffe8e1725930",
   "outputs": [
    {
     "data": {
      "text/plain": [
       "           A         B         C         D\n",
       "0   0.009410  0.011683 -0.084315  0.067991\n",
       "1  -0.010530  0.020074 -0.088397  0.069857\n",
       "2  -0.027919  0.039200 -0.085567  0.072701\n",
       "3   0.049914 -0.030500 -0.101364  0.078310\n",
       "4   0.041308 -0.055918 -0.122922  0.139854\n",
       "..       ...       ...       ...       ...\n",
       "56  0.161452 -0.120289  0.020834 -0.067826\n",
       "57 -0.150399  0.182519  0.048983 -0.055031\n",
       "58  0.186994 -0.142777  0.133235 -0.159450\n",
       "59 -0.125913  0.173533  0.177644 -0.165471\n",
       "60  0.035258  0.009125  0.186266 -0.174230\n",
       "\n",
       "[61 rows x 4 columns]"
      ],
      "text/html": [
       "<div>\n",
       "<style scoped>\n",
       "    .dataframe tbody tr th:only-of-type {\n",
       "        vertical-align: middle;\n",
       "    }\n",
       "\n",
       "    .dataframe tbody tr th {\n",
       "        vertical-align: top;\n",
       "    }\n",
       "\n",
       "    .dataframe thead th {\n",
       "        text-align: right;\n",
       "    }\n",
       "</style>\n",
       "<table border=\"1\" class=\"dataframe\">\n",
       "  <thead>\n",
       "    <tr style=\"text-align: right;\">\n",
       "      <th></th>\n",
       "      <th>A</th>\n",
       "      <th>B</th>\n",
       "      <th>C</th>\n",
       "      <th>D</th>\n",
       "    </tr>\n",
       "  </thead>\n",
       "  <tbody>\n",
       "    <tr>\n",
       "      <th>0</th>\n",
       "      <td>0.009410</td>\n",
       "      <td>0.011683</td>\n",
       "      <td>-0.084315</td>\n",
       "      <td>0.067991</td>\n",
       "    </tr>\n",
       "    <tr>\n",
       "      <th>1</th>\n",
       "      <td>-0.010530</td>\n",
       "      <td>0.020074</td>\n",
       "      <td>-0.088397</td>\n",
       "      <td>0.069857</td>\n",
       "    </tr>\n",
       "    <tr>\n",
       "      <th>2</th>\n",
       "      <td>-0.027919</td>\n",
       "      <td>0.039200</td>\n",
       "      <td>-0.085567</td>\n",
       "      <td>0.072701</td>\n",
       "    </tr>\n",
       "    <tr>\n",
       "      <th>3</th>\n",
       "      <td>0.049914</td>\n",
       "      <td>-0.030500</td>\n",
       "      <td>-0.101364</td>\n",
       "      <td>0.078310</td>\n",
       "    </tr>\n",
       "    <tr>\n",
       "      <th>4</th>\n",
       "      <td>0.041308</td>\n",
       "      <td>-0.055918</td>\n",
       "      <td>-0.122922</td>\n",
       "      <td>0.139854</td>\n",
       "    </tr>\n",
       "    <tr>\n",
       "      <th>...</th>\n",
       "      <td>...</td>\n",
       "      <td>...</td>\n",
       "      <td>...</td>\n",
       "      <td>...</td>\n",
       "    </tr>\n",
       "    <tr>\n",
       "      <th>56</th>\n",
       "      <td>0.161452</td>\n",
       "      <td>-0.120289</td>\n",
       "      <td>0.020834</td>\n",
       "      <td>-0.067826</td>\n",
       "    </tr>\n",
       "    <tr>\n",
       "      <th>57</th>\n",
       "      <td>-0.150399</td>\n",
       "      <td>0.182519</td>\n",
       "      <td>0.048983</td>\n",
       "      <td>-0.055031</td>\n",
       "    </tr>\n",
       "    <tr>\n",
       "      <th>58</th>\n",
       "      <td>0.186994</td>\n",
       "      <td>-0.142777</td>\n",
       "      <td>0.133235</td>\n",
       "      <td>-0.159450</td>\n",
       "    </tr>\n",
       "    <tr>\n",
       "      <th>59</th>\n",
       "      <td>-0.125913</td>\n",
       "      <td>0.173533</td>\n",
       "      <td>0.177644</td>\n",
       "      <td>-0.165471</td>\n",
       "    </tr>\n",
       "    <tr>\n",
       "      <th>60</th>\n",
       "      <td>0.035258</td>\n",
       "      <td>0.009125</td>\n",
       "      <td>0.186266</td>\n",
       "      <td>-0.174230</td>\n",
       "    </tr>\n",
       "  </tbody>\n",
       "</table>\n",
       "<p>61 rows × 4 columns</p>\n",
       "</div>"
      ]
     },
     "execution_count": 4,
     "metadata": {},
     "output_type": "execute_result"
    }
   ],
   "execution_count": 4
  },
  {
   "metadata": {
    "ExecuteTime": {
     "end_time": "2024-05-08T00:23:48.540976Z",
     "start_time": "2024-05-08T00:23:48.531470Z"
    }
   },
   "cell_type": "code",
   "source": "mhw.calc_normative_labels(global_maps).sort_index()",
   "id": "668645ca2394889d",
   "outputs": [
    {
     "name": "stdout",
     "output_type": "stream",
     "text": [
      "Calculating normative labels...\n",
      "Normative labels not set, calculating...\n",
      "##########\n",
      "[5, 0, 2, 7]\n",
      "[0.8845105142193246, 0.2828144200862944, 0.5826129411014059, 0.4394161919548738]\n",
      "2.1893540673618985\n",
      "[[1.7940752  0.28281442 1.16352471 1.39720596]\n",
      " [1.61301111 1.06028578 1.71683555 0.49113638]\n",
      " [1.14057    1.43383476 0.58261294 1.73886864]\n",
      " [1.43576363 1.02394111 0.41395835 1.80780398]\n",
      " [0.4067651  1.8060655  1.40343295 1.22843694]\n",
      " [0.88451051 1.48917784 0.61309826 1.79444333]\n",
      " [1.44335157 1.13400814 1.72741887 0.66149652]\n",
      " [1.15010716 1.51439796 1.775402   0.43941619]]\n",
      "0 5\n",
      "1 0\n",
      "2 2\n",
      "3 7\n"
     ]
    },
    {
     "name": "stderr",
     "output_type": "stream",
     "text": [
      "D:\\nsu-microstate-rest-eeg\\helper.py:559: FutureWarning: The behavior of DataFrame concatenation with empty or all-NA entries is deprecated. In a future version, this will no longer exclude empty or all-NA columns when determining the result dtypes. To retain the old behavior, exclude the relevant entries before the concat operation.\n",
      "  remap_df_inv = pd.concat([\n"
     ]
    },
    {
     "data": {
      "text/plain": [
       "   Distance_A  Distance_B  Distance_C  Distance_D label    inv\n",
       "0    1.794075    0.282814    1.163525    1.397206     B  False\n",
       "1    0.884511    1.489178    0.613098    1.794443     A   True\n",
       "2    1.140570    1.433835    0.582613    1.738869     C  False\n",
       "3    1.150107    1.514398    1.775402    0.439416     D   True"
      ],
      "text/html": [
       "<div>\n",
       "<style scoped>\n",
       "    .dataframe tbody tr th:only-of-type {\n",
       "        vertical-align: middle;\n",
       "    }\n",
       "\n",
       "    .dataframe tbody tr th {\n",
       "        vertical-align: top;\n",
       "    }\n",
       "\n",
       "    .dataframe thead th {\n",
       "        text-align: right;\n",
       "    }\n",
       "</style>\n",
       "<table border=\"1\" class=\"dataframe\">\n",
       "  <thead>\n",
       "    <tr style=\"text-align: right;\">\n",
       "      <th></th>\n",
       "      <th>Distance_A</th>\n",
       "      <th>Distance_B</th>\n",
       "      <th>Distance_C</th>\n",
       "      <th>Distance_D</th>\n",
       "      <th>label</th>\n",
       "      <th>inv</th>\n",
       "    </tr>\n",
       "  </thead>\n",
       "  <tbody>\n",
       "    <tr>\n",
       "      <th>0</th>\n",
       "      <td>1.794075</td>\n",
       "      <td>0.282814</td>\n",
       "      <td>1.163525</td>\n",
       "      <td>1.397206</td>\n",
       "      <td>B</td>\n",
       "      <td>False</td>\n",
       "    </tr>\n",
       "    <tr>\n",
       "      <th>1</th>\n",
       "      <td>0.884511</td>\n",
       "      <td>1.489178</td>\n",
       "      <td>0.613098</td>\n",
       "      <td>1.794443</td>\n",
       "      <td>A</td>\n",
       "      <td>True</td>\n",
       "    </tr>\n",
       "    <tr>\n",
       "      <th>2</th>\n",
       "      <td>1.140570</td>\n",
       "      <td>1.433835</td>\n",
       "      <td>0.582613</td>\n",
       "      <td>1.738869</td>\n",
       "      <td>C</td>\n",
       "      <td>False</td>\n",
       "    </tr>\n",
       "    <tr>\n",
       "      <th>3</th>\n",
       "      <td>1.150107</td>\n",
       "      <td>1.514398</td>\n",
       "      <td>1.775402</td>\n",
       "      <td>0.439416</td>\n",
       "      <td>D</td>\n",
       "      <td>True</td>\n",
       "    </tr>\n",
       "  </tbody>\n",
       "</table>\n",
       "</div>"
      ]
     },
     "execution_count": 7,
     "metadata": {},
     "output_type": "execute_result"
    }
   ],
   "execution_count": 7
  },
  {
   "metadata": {},
   "cell_type": "markdown",
   "source": "",
   "id": "3819903e281b33c7"
  },
  {
   "metadata": {
    "ExecuteTime": {
     "end_time": "2024-05-08T00:21:08.671440Z",
     "start_time": "2024-05-08T00:21:08.452443Z"
    }
   },
   "cell_type": "code",
   "source": [
    "for i in range(4):\n",
    "    mne.viz.plot_topomap(mhw.ms[\"Microstates\"][i], mhw.raw.info, show=True)"
   ],
   "id": "103385b2c329ab46",
   "outputs": [
    {
     "data": {
      "text/plain": [
       "<Figure size 100x100 with 1 Axes>"
      ],
      "image/png": "[encoded data removed]"
     },
     "metadata": {},
     "output_type": "display_data"
    },
    {
     "data": {
      "text/plain": [
       "<Figure size 100x100 with 1 Axes>"
      ],
      "image/png": "[encoded data removed]"
     },
     "metadata": {},
     "output_type": "display_data"
    },
    {
     "data": {
      "text/plain": [
       "<Figure size 100x100 with 1 Axes>"
      ],
      "image/png": "[encoded data removed]"
     },
     "metadata": {},
     "output_type": "display_data"
    },
    {
     "data": {
      "text/plain": [
       "<Figure size 100x100 with 1 Axes>"
      ],
      "image/png": "[encoded data removed]"
     },
     "metadata": {},
     "output_type": "display_data"
    }
   ],
   "execution_count": 6
  }
 ],
 "metadata": {
  "kernelspec": {
   "display_name": "Python 3",
   "language": "python",
   "name": "python3"
  },
  "language_info": {
   "codemirror_mode": {
    "name": "ipython",
    "version": 2
   },
   "file_extension": ".py",
   "mimetype": "text/x-python",
   "name": "python",
   "nbconvert_exporter": "python",
   "pygments_lexer": "ipython2",
   "version": "2.7.6"
  }
 },
 "nbformat": 4,
 "nbformat_minor": 5
}
