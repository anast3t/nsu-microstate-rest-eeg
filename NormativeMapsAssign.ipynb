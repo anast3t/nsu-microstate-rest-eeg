{
 "cells": [
  {
   "metadata": {
    "ExecuteTime": {
     "end_time": "2024-05-08T01:16:52.247552Z",
     "start_time": "2024-05-08T01:16:52.244800Z"
    }
   },
   "cell_type": "code",
   "source": [
    "from helper import *\n",
    "from filenames_and_paths import *"
   ],
   "id": "7e557dfc25edc40a",
   "execution_count": 145,
   "outputs": []
  },
  {
   "cell_type": "code",
   "id": "initial_id",
   "metadata": {
    "collapsed": true,
    "ExecuteTime": {
     "end_time": "2024-05-08T01:16:52.298047Z",
     "start_time": "2024-05-08T01:16:52.292845Z"
    }
   },
   "source": "",
   "execution_count": 146,
   "outputs": []
  },
  {
   "metadata": {},
   "cell_type": "markdown",
   "source": "# Назначение нормативных карт",
   "id": "d1a94e97493f811e"
  },
  {
   "metadata": {
    "ExecuteTime": {
     "end_time": "2024-05-08T01:16:53.768418Z",
     "start_time": "2024-05-08T01:16:52.339103Z"
    }
   },
   "cell_type": "code",
   "source": [
    "filename = filenames014[0]\n",
    "path = path014\n",
    "th_filename = filename+\"_th\"\n",
    "folders.end_folder = path\n",
    "raw = mne.io.read_raw_eeglab(folders.preprocessed_data + folders.end_folder + filenames014[0] + '.set')\n",
    "mhw = MicrostateHelperWrapper(folders, raw, th_filename)\n",
    "mhw = mhw.load()"
   ],
   "id": "35b8cbf7a6c760cf",
   "execution_count": 147,
   "outputs": []
  },
  {
   "metadata": {
    "ExecuteTime": {
     "end_time": "2024-05-08T01:16:53.776072Z",
     "start_time": "2024-05-08T01:16:53.768418Z"
    }
   },
   "cell_type": "code",
   "source": [
    "global_maps = pd.read_csv(folders.save_data + \"global_maps.csv\")\n",
    "global_maps"
   ],
   "id": "7914ffe8e1725930",
   "execution_count": 148,
   "outputs": []
  },
  {
   "metadata": {
    "ExecuteTime": {
     "end_time": "2024-05-08T01:16:53.782087Z",
     "start_time": "2024-05-08T01:16:53.776072Z"
    }
   },
   "cell_type": "code",
   "source": "mhw.calc_normative_labels(global_maps)",
   "id": "668645ca2394889d",
   "execution_count": 149,
   "outputs": []
  },
  {
   "metadata": {
    "ExecuteTime": {
     "end_time": "2024-05-08T01:16:53.784249Z",
     "start_time": "2024-05-08T01:16:53.782087Z"
    }
   },
   "cell_type": "code",
   "source": "",
   "id": "eeaa169f21dced87",
   "execution_count": 149,
   "outputs": []
  },
  {
   "metadata": {
    "ExecuteTime": {
     "end_time": "2024-05-08T01:16:53.787225Z",
     "start_time": "2024-05-08T01:16:53.784249Z"
    }
   },
   "cell_type": "code",
   "source": [
    "ms_clone = mhw.ms.copy()\n",
    "# ms_clone[\"Sequence\"]= list(map((lambda x: remapper[x]), mhw.ms[\"Sequence\"]))\n",
    "# ms_clone"
   ],
   "id": "f71d7b61b4b0e19",
   "execution_count": 150,
   "outputs": []
  },
  {
   "metadata": {
    "ExecuteTime": {
     "end_time": "2024-05-08T01:16:53.795095Z",
     "start_time": "2024-05-08T01:16:53.787225Z"
    }
   },
   "cell_type": "code",
   "source": "mhw.normative_labels",
   "id": "c8f601f598b4428e",
   "execution_count": 151,
   "outputs": []
  },
  {
   "metadata": {
    "ExecuteTime": {
     "end_time": "2024-05-08T01:16:54.115083Z",
     "start_time": "2024-05-08T01:16:53.795095Z"
    }
   },
   "cell_type": "code",
   "source": "nk.microstates_plot(mhw.ms, epoch=(0, 2048*3))",
   "id": "34bae39093a8945c",
   "execution_count": 152,
   "outputs": []
  },
  {
   "metadata": {
    "ExecuteTime": {
     "end_time": "2024-05-08T01:16:54.120068Z",
     "start_time": "2024-05-08T01:16:54.115083Z"
    }
   },
   "cell_type": "code",
   "source": [
    "print(mhw.normative_labels.T[0].label)\n",
    "print(mhw.normative_labels.T[1].label)\n",
    "print(mhw.normative_labels.T[2].label)\n",
    "print(mhw.normative_labels.T[3].label)\n"
   ],
   "id": "e8fe94ce62a4454f",
   "execution_count": 153,
   "outputs": []
  },
  {
   "metadata": {
    "ExecuteTime": {
     "end_time": "2024-05-08T01:16:54.127315Z",
     "start_time": "2024-05-08T01:16:54.120068Z"
    }
   },
   "cell_type": "code",
   "source": [
    "def create_remapper(normative_labels):\n",
    "    label_idx_remapper = {\n",
    "        \"A\": 0,\n",
    "        \"B\": 1,\n",
    "        \"C\": 2,\n",
    "        \"D\": 3\n",
    "    }\n",
    "    idx_idx_remapper = {}\n",
    "    for i in range(4):\n",
    "        idx_idx_remapper[i] = label_idx_remapper[normative_labels[i][\"label\"]]\n",
    "    return idx_idx_remapper\n",
    "remapper = create_remapper(mhw.normative_labels.T)\n",
    "remapper"
   ],
   "id": "ef42829f4d3330cd",
   "execution_count": 154,
   "outputs": []
  },
  {
   "metadata": {
    "ExecuteTime": {
     "end_time": "2024-05-08T01:22:09.923482Z",
     "start_time": "2024-05-08T01:22:09.919944Z"
    }
   },
   "cell_type": "code",
   "source": [
    "def reorder_microstates(ms, remapper, normative_labels):\n",
    "    ms_clone_1 = copy.deepcopy(ms)\n",
    "    for i in range(len(ms[\"Sequence\"])):\n",
    "        ms_clone_1[\"Sequence\"][i] = remapper[ms[\"Sequence\"][i]]\n",
    "    ms_array_clone = ms_clone_1[\"Microstates\"].copy()\n",
    "    for i in range(4):\n",
    "        ms_clone_1[\"Microstates\"][i] = (ms_array_clone[remapper[i]] * (-1 if normative_labels.T[remapper[i]].inv else 1))\n",
    "\n",
    "    return ms_clone_1"
   ],
   "id": "ea0cc88fa8cecc3f",
   "execution_count": 189,
   "outputs": []
  },
  {
   "metadata": {
    "ExecuteTime": {
     "end_time": "2024-05-08T01:22:10.697420Z",
     "start_time": "2024-05-08T01:22:10.549976Z"
    }
   },
   "cell_type": "code",
   "source": [
    "ms_clone_reordered = reorder_microstates(ms_clone, remapper, mhw.normative_labels)\n",
    "# print(ms_clone_reordered[\"Microstates\"])"
   ],
   "id": "269907368d50b218",
   "execution_count": 190,
   "outputs": []
  },
  {
   "metadata": {
    "ExecuteTime": {
     "end_time": "2024-05-08T01:22:10.703423Z",
     "start_time": "2024-05-08T01:22:10.700424Z"
    }
   },
   "cell_type": "code",
   "source": "# print(mhw.ms[\"Microstates\"])",
   "id": "804ee2cc7f7db2c6",
   "execution_count": 191,
   "outputs": []
  },
  {
   "metadata": {
    "ExecuteTime": {
     "end_time": "2024-05-08T01:22:11.021362Z",
     "start_time": "2024-05-08T01:22:11.019215Z"
    }
   },
   "cell_type": "code",
   "source": "# print(mhw.ms[\"Sequence\"][500:1000])",
   "id": "16e359958d058073",
   "execution_count": 192,
   "outputs": []
  },
  {
   "metadata": {
    "ExecuteTime": {
     "end_time": "2024-05-08T01:22:11.370829Z",
     "start_time": "2024-05-08T01:22:11.367472Z"
    }
   },
   "cell_type": "code",
   "source": "# print(ms_clone_reordered[\"Sequence\"][500:1000])",
   "id": "912d538a36f79fc5",
   "execution_count": 193,
   "outputs": []
  },
  {
   "metadata": {
    "ExecuteTime": {
     "end_time": "2024-05-08T01:22:12.045529Z",
     "start_time": "2024-05-08T01:22:11.644236Z"
    }
   },
   "cell_type": "code",
   "source": "nk.microstates_plot(mhw.ms, epoch=(0, 2048*3))",
   "id": "3986b9167226ef3e",
   "execution_count": 194,
   "outputs": []
  },
  {
   "metadata": {
    "ExecuteTime": {
     "end_time": "2024-05-08T01:22:12.539662Z",
     "start_time": "2024-05-08T01:22:12.129101Z"
    }
   },
   "cell_type": "code",
   "source": "nk.microstates_plot(ms_clone_reordered, epoch=(0, 2048*3))",
   "id": "5574b479c845ee6c",
   "execution_count": 195,
   "outputs": []
  },
  {
   "metadata": {
    "ExecuteTime": {
     "end_time": "2024-05-08T01:22:32.084160Z",
     "start_time": "2024-05-08T01:22:31.625719Z"
    }
   },
   "cell_type": "code",
   "source": "nk.microstates_static(ms_clone, show=True)",
   "id": "fa0acb75a3691995",
   "execution_count": 196,
   "outputs": []
  },
  {
   "metadata": {
    "ExecuteTime": {
     "end_time": "2024-05-08T01:22:39.674534Z",
     "start_time": "2024-05-08T01:22:39.184223Z"
    }
   },
   "cell_type": "code",
   "source": "nk.microstates_static(ms_clone_reordered, show=True)",
   "id": "1589823ce0366500",
   "execution_count": 197,
   "outputs": []
  },
  {
   "metadata": {},
   "cell_type": "code",
   "execution_count": null,
   "source": "",
   "id": "7d693039ec36a416",
   "outputs": []
  }
 ],
 "metadata": {
  "kernelspec": {
   "display_name": "Python 3",
   "language": "python",
   "name": "python3"
  },
  "language_info": {
   "codemirror_mode": {
    "name": "ipython",
    "version": 2
   },
   "file_extension": ".py",
   "mimetype": "text/x-python",
   "name": "python",
   "nbconvert_exporter": "python",
   "pygments_lexer": "ipython2",
   "version": "2.7.6"
  }
 },
 "nbformat": 4,
 "nbformat_minor": 5
}
