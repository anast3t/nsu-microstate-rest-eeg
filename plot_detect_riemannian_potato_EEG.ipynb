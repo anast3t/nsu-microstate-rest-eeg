{
 "cells": [
  {
   "cell_type": "markdown",
   "metadata": {},
   "source": [
    "\n# Online Artifact Detection with Riemannian Potato\n\nExample of Riemannian Potato [1]_ applied on EEG time-series to detect\nartifacts in online processing. It is computed only for two channels to display\nintuitive visualizations.\n"
   ]
  },
  {
   "cell_type": "code",
   "metadata": {
    "collapsed": false,
    "ExecuteTime": {
     "end_time": "2024-05-30T00:21:26.017781Z",
     "start_time": "2024-05-30T00:21:25.652288Z"
    }
   },
   "source": [
    "# Authors: Quentin Barthélemy & David Ojeda\n#\n# License: BSD (3-clause)\n\nfrom functools import partial\nimport os\n\nimport numpy as np\nfrom matplotlib import pyplot as plt\nfrom matplotlib.animation import FuncAnimation\n\nfrom mne.datasets import sample\nfrom mne.io import read_raw_fif\nfrom mne import make_fixed_length_epochs\n\nfrom pyriemann.estimation import Covariances\nfrom pyriemann.clustering import Potato\nfrom pyriemann.utils.viz import _add_alpha"
   ],
   "execution_count": 1,
   "outputs": []
  },
  {
   "cell_type": "code",
   "metadata": {
    "collapsed": false,
    "ExecuteTime": {
     "end_time": "2024-05-30T00:21:26.025788Z",
     "start_time": "2024-05-30T00:21:26.018783Z"
    }
   },
   "source": [
    "@partial(np.vectorize, excluded=['potato'])\ndef get_zscores(cov_00, cov_01, cov_11, potato):\n    cov = np.array([[cov_00, cov_01], [cov_01, cov_11]])\n    with np.testing.suppress_warnings() as sup:\n        sup.filter(RuntimeWarning)\n        return potato.transform(cov[np.newaxis, ...])\n\n\ndef plot_potato_2D(ax, cax, X, Y, p_zscores, p_center, covs, p_colors, clabel):\n    qcs = ax.contourf(X, Y, p_zscores, levels=20, vmin=p_zscores.min(),\n                      vmax=p_zscores.max(), cmap='RdYlBu_r', alpha=0.5)\n    ax.contour(X, Y, p_zscores, levels=[z_th], colors='k')\n    sc = ax.scatter(covs[:, 0, 0], covs[:, 1, 1], c=p_colors)\n    ax.scatter(p_center[0, 0], p_center[1, 1], c='k', s=100)\n    if cax:\n        cbar = fig.colorbar(qcs, cax=cax)\n    else:\n        cbar = fig.colorbar(qcs, ax=ax)\n    cbar.ax.set_ylabel(clabel)\n    return sc\n\n\ndef plot_sig(ax, time, sig):\n    ax.axis((time[0], time[-1], -15, 15))\n    pl, = ax.plot(time, sig, lw=0.75)\n    ax.axhspan(\n        -14, 14, edgecolor='k', facecolor='none',\n        xmin=-test_time_start / (test_time_end - test_time_start),\n        xmax=(duration - test_time_start) / (test_time_end - test_time_start))\n    return pl"
   ],
   "execution_count": 2,
   "outputs": []
  },
  {
   "cell_type": "markdown",
   "metadata": {},
   "source": [
    "## Load EEG data\n\n"
   ]
  },
  {
   "cell_type": "code",
   "metadata": {
    "collapsed": false,
    "ExecuteTime": {
     "end_time": "2024-05-30T00:21:27.068840Z",
     "start_time": "2024-05-30T00:21:26.026791Z"
    }
   },
   "source": [
    "from filenames_and_paths import *\n",
    "import mne\n",
    "\n",
    "# raw_fname = os.path.join(sample.data_path(), 'MEG', 'sample',\n",
    "#                          'sample_audvis_filt-0-40_raw.fif')\n",
    "# raw = read_raw_fif(raw_fname, preload=True, verbose=False)\n",
    "\n",
    "raw = mne.io.read_raw_brainvision(folders.raw_data + path014 + filenames014[0] + '.vhdr', preload=True)\n",
    "raw = raw.drop_channels([\"EOG\", \"BIP1\", \"M1\", \"M2\"])\n",
    "\n",
    "sfreq = int(raw.info['sfreq']) "
   ],
   "execution_count": 3,
   "outputs": []
  },
  {
   "cell_type": "markdown",
   "metadata": {},
   "source": [
    "## Offline processing of EEG data\n\n"
   ]
  },
  {
   "cell_type": "code",
   "metadata": {
    "collapsed": false,
    "ExecuteTime": {
     "end_time": "2024-05-30T00:21:30.188915Z",
     "start_time": "2024-05-30T00:21:27.069843Z"
    }
   },
   "source": [
    "# Apply common average reference on EEG channels\n",
    "raw.pick_types(meg=False, eeg=True).apply_proj()\n",
    "\n",
    "# Select two EEG channels for the example, preferably without artifact at the\n",
    "# beginning, to have a reliable calibration\n",
    "\n",
    "ch_names = ['Fp1', 'PO3']\n",
    "# ch_names = ['EEG 001', 'EEG 002']\n",
    "\n",
    "# Apply band-pass filter between 1 and 35 Hz\n",
    "raw.filter(1., 35., method='iir', picks=ch_names)\n",
    "\n",
    "# Epoch time-series with a sliding window\n",
    "duration = 2.5    # duration of epochs\n",
    "interval = 0.2    # interval between successive epochs\n",
    "epochs = make_fixed_length_epochs(\n",
    "    raw, duration=duration, overlap=duration - interval, verbose=False)\n",
    "epochs_data = 5e5 * epochs.get_data(picks=ch_names, copy=False)\n",
    "\n",
    "# Estimate spatial covariance matrices\n",
    "covs = Covariances(estimator='lwf').transform(epochs_data)\n",
    "\n",
    "# %matplotlib qt\n",
    "# raw.pick(ch_names).plot()"
   ],
   "execution_count": 4,
   "outputs": []
  },
  {
   "metadata": {
    "ExecuteTime": {
     "end_time": "2024-05-30T00:21:30.191429Z",
     "start_time": "2024-05-30T00:21:30.188915Z"
    }
   },
   "cell_type": "code",
   "source": "# %matplotlib inline",
   "execution_count": 5,
   "outputs": []
  },
  {
   "cell_type": "markdown",
   "metadata": {},
   "source": [
    "## Offline Calibration of Potato\n\n2D projection of the z-score map of the Riemannian potato, for 2x2 covariance\nmatrices (in blue if clean, in red if artifacted) and their reference matrix\n(in black). The colormap defines the z-score and a chosen isocontour defines\nthe potato. It reproduces Fig 1 of reference [2]_.\n\n"
   ]
  },
  {
   "cell_type": "code",
   "metadata": {
    "collapsed": false,
    "ExecuteTime": {
     "end_time": "2024-05-30T00:21:30.197520Z",
     "start_time": "2024-05-30T00:21:30.191429Z"
    }
   },
   "source": [
    "z_th = 2.0       # z-score threshold\ntrain_covs = 40  # nb of matrices to train the potato"
   ],
   "execution_count": 6,
   "outputs": []
  },
  {
   "cell_type": "code",
   "metadata": {
    "collapsed": false,
    "ExecuteTime": {
     "end_time": "2024-05-30T00:21:30.870703Z",
     "start_time": "2024-05-30T00:21:30.197520Z"
    }
   },
   "source": [
    "# Calibrate potato by unsupervised training on first matrices: compute a\n",
    "# reference matrix, mean and standard deviation of distances to this reference.\n",
    "train_set = range(train_covs)\n",
    "rpotato = Potato(metric='riemann', threshold=z_th).fit(covs[train_set])\n",
    "rp_center = rpotato._mdm.covmeans_[0]\n",
    "epotato = Potato(metric='euclid', threshold=z_th).fit(covs[train_set])\n",
    "ep_center = epotato._mdm.covmeans_[0]\n",
    "\n",
    "rp_labels = rpotato.predict(covs[train_set])\n",
    "rp_colors = ['b' if ll == 1 else 'r' for ll in rp_labels.tolist()]\n",
    "ep_labels = epotato.predict(covs[train_set])\n",
    "ep_colors = ['b' if ll == 1 else 'r' for ll in ep_labels.tolist()]\n",
    "\n",
    "# Zscores in the horizontal 2D plane going through the reference\n",
    "X, Y = np.meshgrid(np.linspace(1, 100, 100), np.linspace(1, 100, 100))\n",
    "rp_zscores = get_zscores(X, np.full_like(X, rp_center[0, 1]), Y,\n",
    "                         potato=rpotato)\n",
    "rp_mzscores = np.ma.masked_where(~np.isfinite(rp_zscores), rp_zscores)\n",
    "ep_zscores = get_zscores(X, np.full_like(X, ep_center[0, 1]), Y,\n",
    "                         potato=epotato)\n",
    "\n",
    "# Plot calibration\n",
    "xlabel = 'Cov({},{})'.format(ch_names[0], ch_names[0])\n",
    "ylabel = 'Cov({},{})'.format(ch_names[1], ch_names[1])\n",
    "\n",
    "fig, axs = plt.subplots(figsize=(12, 5), nrows=1, ncols=2)\n",
    "fig.suptitle('Offline calibration of potatoes', fontsize=16)\n",
    "axs[0].set(xlabel=xlabel, ylabel=ylabel,\n",
    "           title='2D projection of Riemannian potato')\n",
    "plot_potato_2D(axs[0], None, X, Y, rp_mzscores, rp_center, covs[train_set],\n",
    "               rp_colors, 'Z-score of Riemannian distance to reference')\n",
    "axs[1].set(xlabel=xlabel, ylabel=ylabel,\n",
    "           title='2D projection of Euclidean potato')\n",
    "plot_potato_2D(axs[1], None, X, Y, ep_zscores, ep_center, covs[train_set],\n",
    "               ep_colors, 'Z-score of Euclidean distance to reference')\n",
    "plt.show()"
   ],
   "execution_count": 7,
   "outputs": []
  },
  {
   "cell_type": "markdown",
   "metadata": {},
   "source": [
    "## Online Artifact Detection with Potato\n\nDetect artifacts/outliers on test set, with an animation to imitate an online\nacquisition, processing and artifact detection of EEG time-series.\nInitialized with an offline calibration, the online potato can be [2]_:\n\n* static: it is never updated, damaging its efficiency over time;\n* semi-dynamic: it is updated when EEG is not artifacted.\n\n"
   ]
  },
  {
   "cell_type": "code",
   "metadata": {
    "collapsed": false,
    "ExecuteTime": {
     "end_time": "2024-05-30T00:21:30.873173Z",
     "start_time": "2024-05-30T00:21:30.870703Z"
    }
   },
   "source": [
    "is_static = False       # static or semi-dynamic mode"
   ],
   "execution_count": 8,
   "outputs": []
  },
  {
   "cell_type": "code",
   "metadata": {
    "collapsed": false,
    "ExecuteTime": {
     "end_time": "2024-05-30T00:21:31.349828Z",
     "start_time": "2024-05-30T00:21:30.873173Z"
    }
   },
   "source": [
    "# Prepare data for online detection\n",
    "test_covs_max = 300     # nb of matrices to visualize in this example\n",
    "test_covs_visu = 30     # nb of matrices to display simultaneously\n",
    "test_time_start = -2    # start time to display signal\n",
    "test_time_end = 5       # end time to display signal\n",
    "\n",
    "time_start = train_covs * interval + test_time_start\n",
    "time_end = train_covs * interval + test_time_end\n",
    "time = np.linspace(time_start, time_end, int((time_end - time_start) * sfreq),\n",
    "                   endpoint=False)\n",
    "eeg_data = 3e5 * raw.get_data(picks=ch_names)\n",
    "sig = eeg_data[:, int(time_start * sfreq):int(time_end * sfreq)]\n",
    "covs_visu, rp_colors, ep_colors = np.empty([0, 2, 2]), [], []\n",
    "alphas = np.linspace(0, 1, test_covs_visu)\n",
    "\n",
    "fig = plt.figure(figsize=(12, 10), constrained_layout=False)\n",
    "fig.suptitle('Online artifact detection by potatoes', fontsize=16)\n",
    "gs = fig.add_gridspec(nrows=4, ncols=40, top=0.90, hspace=0.3, wspace=1.0)\n",
    "ax_sig0 = fig.add_subplot(gs[0, :], xlabel='Time (s)', ylabel=ch_names[0])\n",
    "pl_sig0 = plot_sig(ax_sig0, time, sig[0])\n",
    "ax_sig1 = fig.add_subplot(gs[1, :], ylabel=ch_names[1])\n",
    "pl_sig1 = plot_sig(ax_sig1, time, sig[1])\n",
    "ax_sig1.set_xticks([])\n",
    "ax_rp = fig.add_subplot(gs[2:4, 0:15], xlabel=xlabel, ylabel=ylabel,\n",
    "                        title='2D projection of Riemannian potato')\n",
    "cax_rp = fig.add_subplot(gs[2:4, 15])\n",
    "p_rp = plot_potato_2D(ax_rp, cax_rp, X, Y, rp_mzscores, rp_center, covs_visu,\n",
    "                      rp_colors, 'Z-score of Riemannian distance to reference')\n",
    "ax_ep = fig.add_subplot(gs[2:4, 21:36], xlabel=xlabel, ylabel=ylabel,\n",
    "                        title='2D projection of Euclidean potato')\n",
    "cax_ep = fig.add_subplot(gs[2:4, 36])\n",
    "p_ep = plot_potato_2D(ax_ep, cax_ep, X, Y, ep_zscores, ep_center, covs_visu,\n",
    "                      ep_colors, 'Z-score of Euclidean distance to reference')"
   ],
   "execution_count": 9,
   "outputs": []
  },
  {
   "cell_type": "code",
   "metadata": {
    "collapsed": false,
    "ExecuteTime": {
     "end_time": "2024-05-30T00:25:27.183317Z",
     "start_time": "2024-05-30T00:25:27.177543Z"
    }
   },
   "source": [
    "# Prepare animation for online detection\n",
    "def online_detect(t):\n",
    "    global time, sig, covs_visu\n",
    "\n",
    "    # Online artifact detection\n",
    "    rp_label = rpotato.predict(covs[np.newaxis, t])[0]\n",
    "    ep_label = epotato.predict(covs[np.newaxis, t])[0]\n",
    "    if not is_static:\n",
    "        if rp_label == 1:\n",
    "            rpotato.partial_fit(covs[np.newaxis, t], alpha=1 / t)\n",
    "        if ep_label == 1:\n",
    "            epotato.partial_fit(covs[np.newaxis, t], alpha=1 / t)\n",
    "\n",
    "    # Update data\n",
    "    time_start = t * interval + test_time_end\n",
    "    time_end = (t + 1) * interval + test_time_end\n",
    "    time_ = np.linspace(time_start, time_end, int(interval * sfreq),\n",
    "                        endpoint=False)\n",
    "    time = np.r_[time[int(interval * sfreq):], time_]\n",
    "    print(time[10:])\n",
    "    print(len(time))\n",
    "    print(sig.shape)\n",
    "    if len(time) != sig.shape[1]:\n",
    "        sig = sig[:, :-1]\n",
    "    sig = np.hstack((sig[:, int(interval*sfreq):],\n",
    "                     eeg_data[:, int(time_start*sfreq):int(time_end*sfreq)]))\n",
    "    covs_visu = np.vstack((covs_visu, covs[np.newaxis, t]))\n",
    "    rp_colors.append('b' if rp_label == 1 else 'r')\n",
    "    ep_colors.append('b' if ep_label == 1 else 'r')\n",
    "    if len(covs_visu) > test_covs_visu:\n",
    "        covs_visu = covs_visu[1:]\n",
    "        rp_colors.pop(0)\n",
    "        ep_colors.pop(0)\n",
    "    rp_colors_ = _add_alpha(rp_colors, alphas)\n",
    "    ep_colors_ = _add_alpha(ep_colors, alphas)\n",
    "\n",
    "    # Update plot\n",
    "    pl_sig0.set_data(time, sig[0])\n",
    "    pl_sig0.axes.set_xlim(time[0], time[-1])\n",
    "    pl_sig1.set_data(time, sig[1])\n",
    "    pl_sig1.axes.set_xlim(time[0], time[-1])\n",
    "    p_rp.set_offsets(np.c_[covs_visu[:, 0, 0], covs_visu[:, 1, 1]])\n",
    "    p_rp.set_color(rp_colors_)\n",
    "    p_ep.set_offsets(np.c_[covs_visu[:, 0, 0], covs_visu[:, 1, 1]])\n",
    "    p_ep.set_color(ep_colors_)\n",
    "    return pl_sig0, pl_sig1, p_rp, p_ep\n",
    "\n",
    "\n",
    "interval_display = 1.0  # can be changed for a slower display\n",
    "\n",
    "potato = FuncAnimation(fig, online_detect,\n",
    "                       frames=range(train_covs, test_covs_max),\n",
    "                       interval=interval_display, blit=False, repeat=False)"
   ],
   "execution_count": 21,
   "outputs": []
  },
  {
   "cell_type": "markdown",
   "metadata": {},
   "source": [
    "## Plot online detection\n\n"
   ]
  },
  {
   "cell_type": "code",
   "metadata": {
    "collapsed": false,
    "ExecuteTime": {
     "end_time": "2024-05-30T00:25:51.869699Z",
     "start_time": "2024-05-30T00:25:27.823759Z"
    }
   },
   "source": [
    "# Plot complete visu: a dynamic display is required\n",
    "plt.show()\n",
    "\n",
    "# Plot only 10s, for animated documentation\n",
    "try:\n",
    "    from IPython.display import HTML\n",
    "except ImportError:\n",
    "    raise ImportError(\"Install IPython to plot animation in documentation\")\n",
    "\n",
    "plt.rcParams[\"animation.embed_limit\"] = 10\n",
    "with open(\"data.html\", \"w\") as file:\n",
    "    file.write(HTML(potato.to_jshtml(fps=5, default_mode='loop')).data)\n"
   ],
   "execution_count": 22,
   "outputs": []
  },
  {
   "metadata": {},
   "cell_type": "code",
   "source": "",
   "execution_count": null,
   "outputs": []
  }
 ],
 "metadata": {
  "kernelspec": {
   "display_name": "Python 3",
   "language": "python",
   "name": "python3"
  },
  "language_info": {
   "codemirror_mode": {
    "name": "ipython",
    "version": 3
   },
   "file_extension": ".py",
   "mimetype": "text/x-python",
   "name": "python",
   "nbconvert_exporter": "python",
   "pygments_lexer": "ipython3",
   "version": "3.8.18"
  }
 },
 "nbformat": 4,
 "nbformat_minor": 0
}
