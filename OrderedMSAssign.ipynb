{
 "cells": [
  {
   "metadata": {},
   "cell_type": "markdown",
   "source": "# Ordered microstate analysis",
   "id": "abe024fd62d3c99"
  },
  {
   "metadata": {
    "ExecuteTime": {
     "end_time": "2024-05-09T09:48:41.982299Z",
     "start_time": "2024-05-09T09:48:41.979490Z"
    }
   },
   "cell_type": "code",
   "source": [
    "import pandas as pd\n",
    "import matplotlib as mpl\n",
    "import matplotlib.pyplot as plt\n",
    "\n",
    "from helper import *\n",
    "from filenames_and_paths import *\n",
    "from typing import *"
   ],
   "id": "625f2f52688ae61c",
   "execution_count": 18,
   "outputs": []
  },
  {
   "cell_type": "code",
   "id": "initial_id",
   "metadata": {
    "collapsed": true,
    "ExecuteTime": {
     "end_time": "2024-05-09T09:48:52.848229Z",
     "start_time": "2024-05-09T09:48:41.982299Z"
    }
   },
   "source": [
    "mhw_objects: List[MicrostateHelperWrapper] = []\n",
    "for i, target_filenames in enumerate(filenames):\n",
    "    folders.end_folder = paths[i]\n",
    "    # folders.end_folder = path045\n",
    "    for filename in target_filenames:\n",
    "        mhw_objects.append(MicrostateHelperWrapper.static_load(folders, filename + \"_th\"))"
   ],
   "execution_count": 19,
   "outputs": []
  },
  {
   "metadata": {
    "ExecuteTime": {
     "end_time": "2024-05-09T09:48:52.854232Z",
     "start_time": "2024-05-09T09:48:52.848229Z"
    }
   },
   "cell_type": "code",
   "source": "normative_maps = pd.read_csv(folders.save_data + \"global_maps.csv\", index_col=0)",
   "id": "d81ab5b62b6e4ef0",
   "execution_count": 20,
   "outputs": []
  },
  {
   "metadata": {
    "ExecuteTime": {
     "end_time": "2024-05-09T09:48:52.859716Z",
     "start_time": "2024-05-09T09:48:52.854734Z"
    }
   },
   "cell_type": "code",
   "source": "t_normative_maps = normative_maps.T",
   "id": "2cb238827ab8c7de",
   "execution_count": 21,
   "outputs": []
  },
  {
   "metadata": {
    "ExecuteTime": {
     "end_time": "2024-05-09T09:48:52.864775Z",
     "start_time": "2024-05-09T09:48:52.859716Z"
    }
   },
   "cell_type": "code",
   "source": [
    "# for i in range(4):\n",
    "#     remap = {\n",
    "#         0: \"A\",\n",
    "#         1: \"B\",\n",
    "#         2: \"C\",\n",
    "#         3: \"D\"\n",
    "#     }\n",
    "#     mne.viz.plot_topomap(t_normative_maps[remap[i]], mhw_objects[0].raw.info)"
   ],
   "id": "8d8d734c05e7e9f1",
   "execution_count": 22,
   "outputs": []
  },
  {
   "metadata": {
    "ExecuteTime": {
     "end_time": "2024-05-09T09:48:55.904755Z",
     "start_time": "2024-05-09T09:48:52.864775Z"
    }
   },
   "cell_type": "code",
   "source": [
    "for i, mhw in enumerate(mhw_objects):\n",
    "    print(i, \"-------------\\n\", mhw.raw_filename)\n",
    "    (mhw\n",
    "     .calc_normative_labels(t_normative_maps)\n",
    "     .apply_normative_labels())"
   ],
   "id": "4c624a205fcca76c",
   "execution_count": 23,
   "outputs": []
  },
  {
   "metadata": {
    "ExecuteTime": {
     "end_time": "2024-05-09T09:49:06.456004Z",
     "start_time": "2024-05-09T09:48:55.904755Z"
    }
   },
   "cell_type": "code",
   "source": [
    "for mhw in mhw_objects:\n",
    "    fig, axes = plt.subplots(2, 4, figsize=(10, 5))\n",
    "    fig.suptitle(mhw.raw_filename)\n",
    "    axes[0][0].set_title(\"Original\")\n",
    "    axes[1][0].set_title(\"Ordered\")\n",
    "    for i in range(4):\n",
    "        mne.viz.plot_topomap(mhw.ms[\"Microstates\"][i], mhw.raw.info, show=False, axes=axes[0][i])\n",
    "        mne.viz.plot_topomap(mhw.ms_ordered[\"Microstates\"][i], mhw.raw.info, show=False, axes=axes[1][i])"
   ],
   "id": "ff29b850634b7ff1",
   "execution_count": 24,
   "outputs": []
  },
  {
   "metadata": {
    "ExecuteTime": {
     "end_time": "2024-05-09T09:56:44.427440Z",
     "start_time": "2024-05-09T09:56:41.287140Z"
    }
   },
   "cell_type": "code",
   "source": [
    "static_statistics = pd.DataFrame()\n",
    "\n",
    "for mhw in mhw_objects:\n",
    "    df = nk.microstates_static(mhw.ms_ordered, sampling_rate=2048)\n",
    "    df[\"filename\"] = mhw.raw_filename\n",
    "    df[\"subject\"] = mhw.folders.end_folder\n",
    "    rest_state = mhw.raw_filename.split(\"_\")[2]\n",
    "    rest_state = rest_state.removeprefix(\"REST\").removeprefix(\"rs\")\n",
    "    if len(rest_state) == 2:\n",
    "        rest_state = rest_state[1]\n",
    "    df[\"rest_state\"] = rest_state\n",
    "    static_statistics = pd.concat([static_statistics, df])"
   ],
   "id": "f234198b47d33814",
   "execution_count": 40,
   "outputs": []
  },
  {
   "metadata": {
    "ExecuteTime": {
     "end_time": "2024-05-09T13:05:09.435660Z",
     "start_time": "2024-05-09T13:05:09.419495Z"
    }
   },
   "cell_type": "code",
   "source": "static_statistics.set_index([\"subject\", \"rest_state\"])",
   "id": "44725f840bbbb1c3",
   "execution_count": 53,
   "outputs": []
  },
  {
   "metadata": {
    "ExecuteTime": {
     "end_time": "2024-05-09T13:07:07.678454Z",
     "start_time": "2024-05-09T13:07:07.668199Z"
    }
   },
   "cell_type": "code",
   "source": [
    "(static_statistics\n",
    " .reset_index(drop=True)\n",
    " .drop([\"subject\", \"filename\"], axis=1)\n",
    " .groupby('rest_state')\n",
    " .mean())"
   ],
   "id": "1df62006d26e562b",
   "execution_count": 56,
   "outputs": []
  },
  {
   "metadata": {
    "ExecuteTime": {
     "end_time": "2024-05-09T13:15:02.588689Z",
     "start_time": "2024-05-09T13:14:45.806502Z"
    }
   },
   "cell_type": "code",
   "source": [
    "for mhw in mhw_objects:\n",
    "    mhw.save()"
   ],
   "id": "8e38ff261b275acb",
   "execution_count": 57,
   "outputs": []
  },
  {
   "metadata": {},
   "cell_type": "code",
   "execution_count": null,
   "source": "",
   "id": "80450ba96681cc78",
   "outputs": []
  }
 ],
 "metadata": {
  "kernelspec": {
   "display_name": "Python 3",
   "language": "python",
   "name": "python3"
  },
  "language_info": {
   "codemirror_mode": {
    "name": "ipython",
    "version": 2
   },
   "file_extension": ".py",
   "mimetype": "text/x-python",
   "name": "python",
   "nbconvert_exporter": "python",
   "pygments_lexer": "ipython2",
   "version": "2.7.6"
  }
 },
 "nbformat": 4,
 "nbformat_minor": 5
}
