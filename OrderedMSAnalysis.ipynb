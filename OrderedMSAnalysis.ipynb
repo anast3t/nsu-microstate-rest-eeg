{
 "cells": [
  {
   "cell_type": "code",
   "id": "initial_id",
   "metadata": {
    "collapsed": true,
    "ExecuteTime": {
     "end_time": "2024-05-11T17:33:26.089969Z",
     "start_time": "2024-05-11T17:33:25.116103Z"
    }
   },
   "source": [
    "import pandas as pd\n",
    "from filenames_and_paths import *\n",
    "\n",
    "from sklearn.preprocessing import StandardScaler\n",
    "from sklearn.linear_model import LogisticRegression\n",
    "from sklearn.model_selection import train_test_split\n",
    "from sklearn.metrics import accuracy_score, confusion_matrix\n",
    "from sklearn.metrics import classification_report\n"
   ],
   "execution_count": 3,
   "outputs": []
  },
  {
   "metadata": {},
   "cell_type": "markdown",
   "source": "# Dynamic",
   "id": "854f029999ee906e"
  },
  {
   "metadata": {
    "ExecuteTime": {
     "end_time": "2024-05-10T18:44:08.177369Z",
     "start_time": "2024-05-10T18:44:08.170961Z"
    }
   },
   "cell_type": "code",
   "source": "dynamic_statistics = pd.read_csv(folders.save_data + folders.statistics + \"dynamic_statistics.csv\")",
   "id": "13cdfb5da65bef49",
   "execution_count": 17,
   "outputs": []
  },
  {
   "metadata": {
    "ExecuteTime": {
     "end_time": "2024-05-10T18:44:08.430067Z",
     "start_time": "2024-05-10T18:44:08.423957Z"
    }
   },
   "cell_type": "code",
   "source": [
    "# for i in range(4):\n",
    "#     # print(f'Microstate_{i}_to_{i}')\n",
    "#     if f'Microstate_{i}_to_{i}' in dynamic_statistics.columns:\n",
    "#         dynamic_statistics.drop(f'Microstate_{i}_to_{i}', axis=1, inplace=True)\n",
    "#     else:\n",
    "#         print(f'Microstate_{i}_to_{i} not found or already dropped')\n",
    "# print(\"Dropped self-to-self transitions\")"
   ],
   "id": "bcac19a91b5c968d",
   "execution_count": 18,
   "outputs": []
  },
  {
   "metadata": {
    "ExecuteTime": {
     "end_time": "2024-05-10T18:44:08.751995Z",
     "start_time": "2024-05-10T18:44:08.742225Z"
    }
   },
   "cell_type": "code",
   "source": "# dynamic_statistics.set_index([\"subject\", \"filename\"]).drop(\"rest_state\", axis=1).plot()",
   "id": "3b8d14f8d35a13cd",
   "execution_count": 19,
   "outputs": []
  },
  {
   "metadata": {
    "ExecuteTime": {
     "end_time": "2024-05-10T18:54:43.055200Z",
     "start_time": "2024-05-10T18:54:43.050132Z"
    }
   },
   "cell_type": "code",
   "source": [
    "from matplotlib import lines\n",
    "# \n",
    "# columns = dynamic_statistics.set_index([\"subject\", \"filename\", \"rest_state\"]).columns\n",
    "# print(f'Columns: {columns}')\n",
    "# for column in columns[0:0]: #!!!!!!!!!!!!!!!!!!!\n",
    "#     dropping = [x for x in columns if (x != column)]\n",
    "#     print(f'Dropping {dropping}')\n",
    "#     for filename in dynamic_statistics[\"subject\"].unique()[0:0]: #!!!!!!!!!!!!!!!!!!!!!\n",
    "#         # for rest_state in dynamic_statistics[\"rest_state\"].unique():\n",
    "#         buf = dynamic_statistics[(dynamic_statistics[\"subject\"] == filename)]\n",
    "#         if buf.shape[0] > 0:\n",
    "#             buf = buf.drop(dropping, axis=1).set_index([\"subject\", \"filename\"])#.set_index([\"subject\", \"filename\", \"rest_state\"])\n",
    "#             buf_nors = buf.drop(\"rest_state\", axis=1)\n",
    "#             # buf.plot()\n",
    "#             plot = buf_nors.plot()\n",
    "#             plot.set_title(f'{filename} {column}')\n",
    "#             plot.set_xlabel('rest_state')\n",
    "#             plot.plot([2.5, 2.5], [0.002, 0.0040], color='black', linestyle='dashed')\n",
    "#             plot.set_xticks(range(len(buf['rest_state'])))\n",
    "#             plot.set_xticklabels(buf['rest_state'], rotation=0)"
   ],
   "id": "5b7055be2999e634",
   "execution_count": 39,
   "outputs": []
  },
  {
   "metadata": {
    "ExecuteTime": {
     "end_time": "2024-05-10T19:00:32.685516Z",
     "start_time": "2024-05-10T19:00:32.680982Z"
    }
   },
   "cell_type": "code",
   "source": [
    "\n",
    "# normalize\n",
    "vals = dynamic_statistics.drop(['subject', 'filename', 'rest_state'], axis=1)\n",
    "scaler = StandardScaler()\n",
    "scaler.fit(vals)\n",
    "normal_vals = scaler.transform(vals)"
   ],
   "id": "4eb8b90cb2b0c8e3",
   "execution_count": 44,
   "outputs": []
  },
  {
   "metadata": {
    "ExecuteTime": {
     "end_time": "2024-05-10T19:03:25.606005Z",
     "start_time": "2024-05-10T19:03:25.602740Z"
    }
   },
   "cell_type": "code",
   "source": [
    "X_vals = normal_vals\n",
    "y_vals = dynamic_statistics['rest_state'].to_numpy()\n",
    "X = X_vals\n",
    "y = y_vals\n",
    "\n",
    "X_train, X_test, y_train, y_test = train_test_split(X, y, test_size=0.1, random_state=42)\n",
    "# print(X_train.shape, X_test.shape, len(y_train), len(y_test))"
   ],
   "id": "236d341126c81237",
   "execution_count": 58,
   "outputs": []
  },
  {
   "metadata": {
    "ExecuteTime": {
     "end_time": "2024-05-10T19:03:26.201924Z",
     "start_time": "2024-05-10T19:03:26.193010Z"
    }
   },
   "cell_type": "code",
   "source": [
    "logreg = LogisticRegression()\n",
    "logreg.fit(X_train, y_train)\n",
    "y_pred = logreg.predict(X_test)\n",
    "print(\"Acc:\", accuracy_score(y_test, y_pred))\n",
    "print(confusion_matrix(y_test, y_pred))\n",
    "test_pred_value_df = pd.DataFrame({'Actual': y_test, 'Predicted': y_pred})\n",
    "print(classification_report(y_test, y_pred, zero_division=0))"
   ],
   "id": "d5c9804462a82b61",
   "execution_count": 59,
   "outputs": []
  },
  {
   "metadata": {
    "ExecuteTime": {
     "end_time": "2024-05-10T19:03:37.903717Z",
     "start_time": "2024-05-10T19:03:37.901140Z"
    }
   },
   "cell_type": "code",
   "source": "print(y_test, y_pred)",
   "id": "5f18902f5293182f",
   "execution_count": 61,
   "outputs": []
  },
  {
   "metadata": {
    "ExecuteTime": {
     "end_time": "2024-05-10T19:05:07.845296Z",
     "start_time": "2024-05-10T19:05:07.834821Z"
    }
   },
   "cell_type": "code",
   "source": "dynamic_statistics",
   "id": "799c75ecd0b85e1f",
   "execution_count": 67,
   "outputs": []
  },
  {
   "metadata": {
    "ExecuteTime": {
     "end_time": "2024-05-10T19:04:01.140953Z",
     "start_time": "2024-05-10T19:04:01.138184Z"
    }
   },
   "cell_type": "code",
   "source": "",
   "id": "939bd4cac06c0e9a",
   "execution_count": 63,
   "outputs": []
  },
  {
   "metadata": {},
   "cell_type": "markdown",
   "source": "# Static",
   "id": "57cccaef6a79b763"
  },
  {
   "metadata": {
    "ExecuteTime": {
     "end_time": "2024-05-11T17:33:30.139443Z",
     "start_time": "2024-05-11T17:33:30.134722Z"
    }
   },
   "cell_type": "code",
   "source": "static_statistics = pd.read_csv(folders.save_data + folders.statistics + \"static_statistics.csv\")",
   "id": "d580691b83f4309d",
   "execution_count": 4,
   "outputs": []
  },
  {
   "metadata": {
    "ExecuteTime": {
     "end_time": "2024-05-11T16:19:13.539149Z",
     "start_time": "2024-05-11T16:19:13.522877Z"
    }
   },
   "cell_type": "code",
   "source": "static_statistics.set_index([\"rest_state\"])",
   "id": "f6fe5a6269e6024d",
   "execution_count": 200,
   "outputs": []
  },
  {
   "metadata": {
    "ExecuteTime": {
     "end_time": "2024-05-11T09:32:03.560772Z",
     "start_time": "2024-05-11T09:32:03.542268Z"
    }
   },
   "cell_type": "code",
   "source": [
    "vals = static_statistics.drop(['subject', 'filename', 'rest_state'], axis=1)\n",
    "scaler = StandardScaler()\n",
    "scaler.fit(vals)\n",
    "normal_vals = scaler.transform(vals)\n",
    "X_vals = normal_vals\n",
    "y_vals = static_statistics['rest_state'].to_numpy()\n",
    "X = X_vals\n",
    "y = y_vals\n",
    "\n",
    "X_train, X_test, y_train, y_test = train_test_split(X, y, test_size=0.2, random_state=42)\n",
    "# print(X_train.shape, X_test.shape, len(y_train), len(y_test))\n",
    "logreg = LogisticRegression()\n",
    "logreg.fit(X_train, y_train)\n",
    "y_pred = logreg.predict(X_test)\n",
    "print(\"Acc:\", accuracy_score(y_test, y_pred))\n",
    "print(confusion_matrix(y_test, y_pred))\n",
    "test_pred_value_df = pd.DataFrame({'Actual': y_test, 'Predicted': y_pred})\n",
    "print(classification_report(y_test, y_pred, zero_division=0))"
   ],
   "id": "6dcb846203655a91",
   "execution_count": 168,
   "outputs": []
  },
  {
   "metadata": {
    "ExecuteTime": {
     "end_time": "2024-05-11T09:34:24.624402Z",
     "start_time": "2024-05-11T09:34:24.620826Z"
    }
   },
   "cell_type": "code",
   "source": [
    "from sklearn.decomposition import PCA\n",
    "\n",
    "pca = PCA(n_components=5)\n",
    "pca.fit(X_vals, y_vals)\n",
    "print(pca.explained_variance_ratio_)\n",
    "X_pca = pca.transform(X_vals)"
   ],
   "id": "b1f5c8a668117cb2",
   "execution_count": 184,
   "outputs": []
  },
  {
   "metadata": {
    "ExecuteTime": {
     "end_time": "2024-05-11T09:34:46.529820Z",
     "start_time": "2024-05-11T09:34:46.526786Z"
    }
   },
   "cell_type": "code",
   "source": "X_pca",
   "id": "fcc0f205780117",
   "execution_count": 187,
   "outputs": []
  },
  {
   "metadata": {
    "ExecuteTime": {
     "end_time": "2024-05-11T09:34:58.471596Z",
     "start_time": "2024-05-11T09:34:58.323639Z"
    }
   },
   "cell_type": "code",
   "source": "plt = pd.DataFrame(X_pca).plot.scatter(x=0, y=1, c=y_vals, colormap='viridis')",
   "id": "a81aeba15e8fa1f4",
   "execution_count": 188,
   "outputs": []
  },
  {
   "metadata": {},
   "cell_type": "markdown",
   "source": "# SVM",
   "id": "e189773708ec9c94"
  },
  {
   "metadata": {
    "ExecuteTime": {
     "end_time": "2024-05-10T19:12:24.370511Z",
     "start_time": "2024-05-10T19:12:24.367589Z"
    }
   },
   "cell_type": "code",
   "source": "from sklearn.svm import SVC",
   "id": "fe0b0344eb2505e9",
   "execution_count": 85,
   "outputs": []
  },
  {
   "metadata": {
    "ExecuteTime": {
     "end_time": "2024-05-10T19:12:25.412412Z",
     "start_time": "2024-05-10T19:12:25.404843Z"
    }
   },
   "cell_type": "code",
   "source": [
    "\n",
    "svc = SVC()\n",
    "svc.fit(X_train, y_train)\n",
    "y_pred = svc.predict(X_test)\n",
    "print(\"Acc:\", accuracy_score(y_test, y_pred))\n",
    "print(confusion_matrix(y_test, y_pred))\n",
    "test_pred_value_df = pd.DataFrame({'Actual': y_test, 'Predicted': y_pred})\n",
    "print(classification_report(y_test, y_pred, zero_division=0))"
   ],
   "id": "474d6a5b2f807daf",
   "execution_count": 86,
   "outputs": []
  },
  {
   "metadata": {},
   "cell_type": "markdown",
   "source": "# Tree",
   "id": "d9019dcde0cd7b01"
  },
  {
   "metadata": {},
   "cell_type": "markdown",
   "source": "",
   "id": "8a55608c4a56b9fd"
  },
  {
   "metadata": {
    "ExecuteTime": {
     "end_time": "2024-05-10T19:12:29.279590Z",
     "start_time": "2024-05-10T19:12:29.276730Z"
    }
   },
   "cell_type": "code",
   "source": "from sklearn.tree import DecisionTreeClassifier",
   "id": "810a8cff313f7103",
   "execution_count": 87,
   "outputs": []
  },
  {
   "metadata": {
    "ExecuteTime": {
     "end_time": "2024-05-10T19:12:29.682934Z",
     "start_time": "2024-05-10T19:12:29.671104Z"
    }
   },
   "cell_type": "code",
   "source": [
    "\n",
    "tree = DecisionTreeClassifier()\n",
    "tree.fit(X_train, y_train)\n",
    "y_pred = tree.predict(X_test)\n",
    "print(\"Acc:\", accuracy_score(y_test, y_pred))\n",
    "print(confusion_matrix(y_test, y_pred))\n",
    "print(classification_report(y_test, y_pred, zero_division=0))\n",
    "tree.feature_importances_"
   ],
   "id": "d279bd7534e1e0c8",
   "execution_count": 88,
   "outputs": []
  },
  {
   "metadata": {
    "ExecuteTime": {
     "end_time": "2024-05-10T19:12:39.781631Z",
     "start_time": "2024-05-10T19:12:39.779057Z"
    }
   },
   "cell_type": "code",
   "source": "y_pred",
   "id": "9a8dd035f5904def",
   "execution_count": 89,
   "outputs": []
  },
  {
   "metadata": {
    "ExecuteTime": {
     "end_time": "2024-05-10T19:12:41.688412Z",
     "start_time": "2024-05-10T19:12:41.685538Z"
    }
   },
   "cell_type": "code",
   "source": "y_test",
   "id": "c69dee9b6bae5299",
   "execution_count": 90,
   "outputs": []
  },
  {
   "metadata": {},
   "cell_type": "markdown",
   "source": "# Filter",
   "id": "6adb7663ff9ef8ed"
  },
  {
   "metadata": {
    "ExecuteTime": {
     "end_time": "2024-05-11T09:43:47.318782Z",
     "start_time": "2024-05-11T09:43:47.312781Z"
    }
   },
   "cell_type": "code",
   "source": [
    "static_statistics_without_2 = static_statistics[static_statistics['rest_state'] != 2]\n",
    "\n",
    "vals_cleared = static_statistics_without_2.drop([x for x in static_statistics.columns if \"Lifetime\" not in x], axis=1)\n",
    "# vals_cleared = static_statistics_without_2.drop(['subject', 'filename', 'rest_state'], axis=1)\n",
    "scaler = StandardScaler()\n",
    "scaler.fit(vals_cleared)\n",
    "normal_vals = scaler.transform(vals_cleared)\n",
    "X_vals = normal_vals\n",
    "y_vals = static_statistics_without_2['rest_state'].to_numpy()\n",
    "X = X_vals\n",
    "y = y_vals\n",
    "X_train, X_test, y_train, y_test = train_test_split(X, y, test_size=0.4)"
   ],
   "id": "68f09c001878a044",
   "execution_count": 189,
   "outputs": []
  },
  {
   "metadata": {
    "ExecuteTime": {
     "end_time": "2024-05-11T09:43:47.500266Z",
     "start_time": "2024-05-11T09:43:47.490592Z"
    }
   },
   "cell_type": "code",
   "source": [
    "svc = SVC()\n",
    "svc.fit(X_train, y_train)\n",
    "y_pred = svc.predict(X_test)\n",
    "print(\"Acc:\", accuracy_score(y_test, y_pred))\n",
    "print(confusion_matrix(y_test, y_pred))\n",
    "test_pred_value_df = pd.DataFrame({'Actual': y_test, 'Predicted': y_pred})\n",
    "print(classification_report(y_test, y_pred, zero_division=0))"
   ],
   "id": "ef7268efc13617d1",
   "execution_count": 190,
   "outputs": []
  },
  {
   "metadata": {
    "ExecuteTime": {
     "end_time": "2024-05-11T09:43:47.894859Z",
     "start_time": "2024-05-11T09:43:47.891469Z"
    }
   },
   "cell_type": "code",
   "source": "X_vals",
   "id": "b8bb22b19e16543d",
   "execution_count": 191,
   "outputs": []
  },
  {
   "metadata": {
    "ExecuteTime": {
     "end_time": "2024-05-11T09:44:14.887957Z",
     "start_time": "2024-05-11T09:44:14.884927Z"
    }
   },
   "cell_type": "code",
   "source": [
    "from sklearn.decomposition import PCA\n",
    "\n",
    "pca = PCA(n_components=4)\n",
    "pca.fit(X_vals, y_vals)\n",
    "print(pca.explained_variance_ratio_)\n",
    "X_pca = pca.transform(X_vals)"
   ],
   "id": "a9944c56e132189e",
   "execution_count": 197,
   "outputs": []
  },
  {
   "metadata": {
    "ExecuteTime": {
     "end_time": "2024-05-11T09:44:15.542620Z",
     "start_time": "2024-05-11T09:44:15.377366Z"
    }
   },
   "cell_type": "code",
   "source": "plt = pd.DataFrame(X_pca).plot.scatter(x=0, y=1, c=y_vals, colormap='viridis')",
   "id": "bea1f41f0f32b97a",
   "execution_count": 198,
   "outputs": []
  },
  {
   "metadata": {},
   "cell_type": "markdown",
   "source": "# Logistic regression ",
   "id": "398e9e923d68edb3"
  },
  {
   "metadata": {
    "ExecuteTime": {
     "end_time": "2024-05-11T17:45:59.861912Z",
     "start_time": "2024-05-11T17:45:59.857077Z"
    }
   },
   "cell_type": "code",
   "source": [
    "static_statistics_without_2 = static_statistics[static_statistics['rest_state'] != 2]\n",
    "\n",
    "vals_cleared = static_statistics_without_2.drop([x for x in static_statistics.columns if \"Lifetime\" not in x], axis=1)\n",
    "# vals_cleared = static_statistics_without_2.drop(['subject', 'filename', 'rest_state'], axis=1)\n",
    "scaler = StandardScaler()\n",
    "scaler.fit(vals_cleared)\n",
    "normal_vals = scaler.transform(vals_cleared)\n",
    "X_vals = normal_vals\n",
    "y_vals = static_statistics_without_2['rest_state'].to_numpy()\n",
    "X = X_vals\n",
    "y = y_vals\n",
    "\n"
   ],
   "id": "f11a81be1497f8f9",
   "execution_count": 84,
   "outputs": []
  },
  {
   "metadata": {
    "ExecuteTime": {
     "end_time": "2024-05-11T17:46:00.153779Z",
     "start_time": "2024-05-11T17:46:00.148729Z"
    }
   },
   "cell_type": "code",
   "source": [
    "from sklearn.decomposition import PCA\n",
    "pca = PCA(n_components=4)\n",
    "pca.fit(X_vals, y_vals)\n",
    "print(pca.explained_variance_ratio_)\n",
    "X_pca = pca.transform(X_vals)\n",
    "\n",
    "X_train, X_test, y_train, y_test = train_test_split(X_pca, y, test_size=0.3)"
   ],
   "id": "94b4ae75f1a23c00",
   "execution_count": 85,
   "outputs": []
  },
  {
   "metadata": {
    "ExecuteTime": {
     "end_time": "2024-05-11T17:46:00.477905Z",
     "start_time": "2024-05-11T17:46:00.473778Z"
    }
   },
   "cell_type": "code",
   "source": [
    "from sklearn.linear_model import BayesianRidge\n",
    "logreg = BayesianRidge()\n",
    "logreg.fit(X_train, y_train)\n",
    "y_pred = logreg.predict(X_test)\n",
    "# print(\"Acc:\", accuracy_score(y_test, y_pred))\n",
    "# print(confusion_matrix(y_test, y_pred))\n",
    "# print(classification_report(y_test, y_pred, zero_division=0))\n"
   ],
   "id": "ea2f89d1a790bd85",
   "execution_count": 86,
   "outputs": []
  },
  {
   "metadata": {
    "ExecuteTime": {
     "end_time": "2024-05-11T17:46:00.852387Z",
     "start_time": "2024-05-11T17:46:00.848621Z"
    }
   },
   "cell_type": "code",
   "source": "y_pred",
   "id": "d94bff2dacc72fe0",
   "execution_count": 87,
   "outputs": []
  },
  {
   "metadata": {
    "ExecuteTime": {
     "end_time": "2024-05-11T17:46:01.886085Z",
     "start_time": "2024-05-11T17:46:01.882085Z"
    }
   },
   "cell_type": "code",
   "source": "y_test",
   "id": "ac13dfe4ba5fc809",
   "execution_count": 88,
   "outputs": []
  },
  {
   "metadata": {},
   "cell_type": "code",
   "execution_count": null,
   "source": "",
   "id": "b9dd66521ca5d612",
   "outputs": []
  }
 ],
 "metadata": {
  "kernelspec": {
   "display_name": "Python 3",
   "language": "python",
   "name": "python3"
  },
  "language_info": {
   "codemirror_mode": {
    "name": "ipython",
    "version": 2
   },
   "file_extension": ".py",
   "mimetype": "text/x-python",
   "name": "python",
   "nbconvert_exporter": "python",
   "pygments_lexer": "ipython2",
   "version": "2.7.6"
  }
 },
 "nbformat": 4,
 "nbformat_minor": 5
}
