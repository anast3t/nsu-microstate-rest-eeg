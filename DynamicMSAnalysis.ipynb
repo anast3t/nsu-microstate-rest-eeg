{
 "cells": [
  {
   "metadata": {},
   "cell_type": "markdown",
   "source": "## Dynamic analysis",
   "id": "20caa41850dda74b"
  },
  {
   "metadata": {},
   "cell_type": "code",
   "execution_count": null,
   "source": [
    "from helper import Folders\n",
    "import pandas as pd\n",
    "import numpy as np\n",
    "import neurokit2 as nk\n",
    "\n",
    "\n",
    "raw_data_folder_path = \"./raw_data/\"\n",
    "preprocessed_data_folder_path = \"./preprocessed_data/\"\n",
    "save_data_folder_path = \"./save_data/\"\n",
    "images_folder_path = \"./images/\"\n",
    "statistics_folder_path = \"statistics/\"\n",
    "mhw_objects_folder_path = \"mhw_objects/\"\n",
    "\n",
    "folders = Folders(\n",
    "    end_folder = \"\",\n",
    "    raw_data = raw_data_folder_path,\n",
    "    preprocessed_data = preprocessed_data_folder_path,\n",
    "    save_data = save_data_folder_path,\n",
    "    images = images_folder_path,\n",
    "    statistics=statistics_folder_path,\n",
    "    mhw_objects=mhw_objects_folder_path\n",
    ")\n",
    "\n",
    "\n",
    "filenames014 = [\n",
    "    \"ACP_INP0014_REST1_1pnt_1vis\",\n",
    "    \"ACP_INP0014_REST2_1pnt_1vis\",\n",
    "    \"ACP_INP0014_REST3_1pnt_1vis\",\n",
    "    \"ACP_INP0014_REST1_1pnt_2vis\",\n",
    "    \"ACP_INP0014_REST2_1pnt_2vis\",\n",
    "    \"ACP_INP0014_REST3_1pnt_2vis\"\n",
    "]\n",
    "path014 = \"rest_14/\"\n",
    "\n",
    "filenames019 = [\n",
    "    \"INP0019_v1.4_REST1_R003_R003_08.11.23\",\n",
    "    \"INP0019_v1.4_REST2_R003_R003_08.11.23\",\n",
    "    \"INP0019_v1.4_REST3_R003_R003_08.11.23\",\n",
    "    \"INP0019_v1.5_REST2_Op005_Op007_08.12.23\",\n",
    "    \"INP0019_v1.5_REST3_Op005_Op007_08.12.23\",\n",
    "]\n",
    "path019 = \"rest_19/\"\n",
    "\n",
    "filenames036 = [\n",
    "    \"INP0036_v1.4_REST1_Op008_Op011_11.12.23\",\n",
    "    \"INP0036_v1.4_REST2_Op008_Op011_11.12.23\",\n",
    "    \"INP0036_v1.4_REST3_Op008_Op011_11.12.23\",\n",
    "    \"INP0036_v1.5_REST1_Op005_Op010_12.12.23\",\n",
    "    \"INP0036_v1.5_REST2_Op005_Op010_12.12.23\",\n",
    "    \"INP0036_v1.5_REST3_Op005_Op010_12.12.23\",\n",
    "]\n",
    "path036 = \"rest_36/\"\n",
    "\n",
    "filenames045 = [\n",
    "    \"INP0045_v1.4_REST1_R003_R003_08.11.23\",\n",
    "    \"INP0045_v1.4_REST2_R003_R003_08.11.23\",\n",
    "    \"INP0045_v1.4_REST3_R003_R003_08.11.23\",\n",
    "    \"INP0045_v1.5_rs11_Op005_Op008_Op011_17.11.23\",\n",
    "    \"INP0045_v1.5_rs22_Op005_Op008_Op011_17.11.23\",\n",
    "    \"INP0045_v1.5_rs23_Op005_Op008_Op011_17.11.23\",\n",
    "]\n",
    "path045 = \"rest_45/\"\n",
    "\n",
    "filenames064 = [\n",
    "    \"INP0064_v1.4_rs11_S008_R003_04.12.23\",\n",
    "    \"INP0064_v1.4_rs12_Op008_R003_04.12.23\",\n",
    "    \"INP0064_v1.4_rs13_Op008_R003_04.12.23\",\n",
    "    \"INP0064_v1.5_rs21_Op005_Op006_Op008_05.12.23\",\n",
    "    \"INP0064_v1.5_rs22_Op009_A002_13.12.23\",\n",
    "    \"INP0064_v1.5_rs23_Op009_A002_13.12.23\",\n",
    "]\n",
    "path064 = \"rest_64/\""
   ],
   "id": "2eec5b7cd0410d48",
   "outputs": []
  },
  {
   "metadata": {},
   "cell_type": "code",
   "execution_count": 5,
   "source": [
    "mean_vals = pd.DataFrame()\n",
    "current_dataset = \"14\"\n",
    "\n",
    "for filen in filenames014:\n",
    "    # filename = 'save_data/ms_event_splited_statistics/dynamic/mean/'+filen+'_th_mean.csv'\n",
    "    # filename = 'save_data/ms_event_splited_statistics/dynamic/'+filen+'_th.csv'\n",
    "    filename = f'{folders.save_data}{folders.statistics}{path014}{filen}_th_split_dynamic_stats.csv'\n",
    "    print(\"Reading file\", filename)\n",
    "    df = pd.read_csv(filename)\n",
    "    if 'Unnamed: 0' in df:\n",
    "        df.drop('Unnamed: 0', axis=1, inplace=True)\n",
    "    df[\"File\"] = filen\n",
    "    mean_vals = pd.concat([mean_vals, df])"
   ],
   "id": "1dad8a75f1385194",
   "outputs": []
  },
  {
   "metadata": {},
   "cell_type": "code",
   "execution_count": 6,
   "source": "mean_vals",
   "id": "4b6a0a6e4bf1053b",
   "outputs": []
  },
  {
   "metadata": {},
   "cell_type": "code",
   "execution_count": 7,
   "source": [
    "def mean_by_event(df):\n",
    "    clone = df.copy()\n",
    "    return clone.groupby('Event').mean()"
   ],
   "id": "206b7803f0636f15",
   "outputs": []
  },
  {
   "metadata": {},
   "cell_type": "code",
   "execution_count": 8,
   "source": [
    "def mean_by_transition_raw_stats(df):\n",
    "    clone = df.copy()\n",
    "    # clone.drop('Event', axis=1, inplace=True)\n",
    "    clone.reset_index(drop=True, inplace=True)\n",
    "    clone.set_index(['File', 'Event', 'Order'], inplace=True)\n",
    "    return clone.T.mean().to_frame()"
   ],
   "id": "b172d8d213984cab",
   "outputs": []
  },
  {
   "metadata": {},
   "cell_type": "code",
   "execution_count": 9,
   "source": [
    "def mean_by_transition(df):\n",
    "    clone = df.copy()\n",
    "    # clone.drop('Event', axis=1, inplace=True)\n",
    "    clone.reset_index(drop=True, inplace=True)\n",
    "    clone.set_index(['File', 'Event'], inplace=True)\n",
    "    return clone.T.mean().to_frame()\n"
   ],
   "id": "8753aea6f9bd7899",
   "outputs": []
  },
  {
   "metadata": {},
   "cell_type": "code",
   "execution_count": 10,
   "source": "mbt = mean_by_transition_raw_stats(mean_vals)",
   "id": "5a051bfbd9b1d0",
   "outputs": []
  },
  {
   "metadata": {},
   "cell_type": "code",
   "execution_count": 11,
   "source": "mbt",
   "id": "2551fe790edd7e12",
   "outputs": []
  },
  {
   "metadata": {},
   "cell_type": "code",
   "execution_count": 12,
   "source": [
    "mbtr = mbt.reset_index()\n",
    "opened = mbtr[mbtr['Event'] == 'Opened'].copy()\n",
    "closed = mbtr[mbtr['Event'] == 'Closed']\n",
    "opened['Opened'] = opened[0]\n",
    "opened.drop(0, axis=1, inplace=True)\n",
    "# opened['Closed'] = closed\n",
    "opened.drop('Event', axis=1, inplace=True)\n",
    "opened.drop('File', axis=1, inplace=True)\n",
    "opened.drop('Order', axis=1, inplace=True)\n",
    "merged = opened.reset_index()\n",
    "merged.drop('index', axis=1, inplace=True)\n",
    "\n",
    "# for i in range(abs(len(merged['Opened'].values) - len(closed[0].values))):\n",
    "#     # merged = merged.sort_index()\n",
    "merged['Closed'] = closed[0].values[:len(merged['Opened'].values)]\n",
    "merged"
   ],
   "id": "33d49db59d57490",
   "outputs": []
  },
  {
   "metadata": {},
   "cell_type": "code",
   "execution_count": 13,
   "source": "# mbtr.to_csv('./save_data/ms_event_splited_statistics/dynamic/mean/by_transition/'+current_dataset+'.csv')",
   "id": "6ed4bd58a936b3d1",
   "outputs": []
  },
  {
   "metadata": {},
   "cell_type": "code",
   "execution_count": 14,
   "source": "merged.plot()",
   "id": "b899c5b15585fb9e",
   "outputs": []
  },
  {
   "metadata": {},
   "cell_type": "code",
   "execution_count": 15,
   "source": "# merged.to_csv('./save_data/ms_event_splited_statistics/dynamic/mean/by_transition/'+current_dataset+'_merge.csv')\n",
   "id": "1c484e73bf93ff89",
   "outputs": []
  },
  {
   "metadata": {},
   "cell_type": "code",
   "execution_count": 15,
   "source": "",
   "id": "ea987fb1ffd1a740",
   "outputs": []
  },
  {
   "metadata": {},
   "cell_type": "code",
   "execution_count": 16,
   "source": "# mean_vals",
   "id": "b572d49414d23f5",
   "outputs": []
  },
  {
   "metadata": {},
   "cell_type": "code",
   "execution_count": 17,
   "source": [
    "# mvi = mean_vals.drop(['Order', 'File'], axis=1)\n",
    "# mvf = mean_vals.drop(['Order', 'Event'], axis=1)\n",
    "# mvi"
   ],
   "id": "f7890a887c29ca0e",
   "outputs": []
  },
  {
   "metadata": {},
   "cell_type": "code",
   "execution_count": 18,
   "source": "# meaned_mean = mean_by_event(mvi)",
   "id": "9b4562665b648558",
   "outputs": []
  },
  {
   "metadata": {},
   "cell_type": "code",
   "execution_count": 19,
   "source": "# meaned_file = mvf.groupby('File').mean()",
   "id": "a0bece3444bac360",
   "outputs": []
  },
  {
   "metadata": {},
   "cell_type": "code",
   "execution_count": 20,
   "source": "# meaned_file.T.mean()",
   "id": "6982c5013f0f6059",
   "outputs": []
  },
  {
   "metadata": {},
   "cell_type": "code",
   "execution_count": 21,
   "source": "# meaned_mean",
   "id": "ab2cecfac9f61924",
   "outputs": []
  },
  {
   "metadata": {},
   "cell_type": "code",
   "execution_count": 22,
   "source": "# meaned_mean.T.mean()",
   "id": "95133e611df01879",
   "outputs": []
  },
  {
   "metadata": {},
   "cell_type": "code",
   "execution_count": 23,
   "source": "# meaned_mean.to_csv('./save_data/ms_event_splited_statistics/dynamic/mean/meaned_mean/'+current_dataset+'.csv')",
   "id": "64826daec102115b",
   "outputs": []
  },
  {
   "metadata": {},
   "cell_type": "markdown",
   "source": "## Logistic regression",
   "id": "f96d089e6fb493b9"
  },
  {
   "metadata": {},
   "cell_type": "code",
   "execution_count": 24,
   "source": [
    "# mean_vals = pd.DataFrame()\n",
    "# \n",
    "# full_filelist = [filenames014, filenames019, filenames036, filenames045, filenames064]\n",
    "# full_dataset = ['14', '19', '36', '45']\n",
    "# \n",
    "# mode = \"file\"\n",
    "# \n",
    "# from sklearn.preprocessing import StandardScaler\n",
    "# \n",
    "# # for filelist in full_filelist:\n",
    "# #     for filen in filelist:\n",
    "# #         filename = 'save_data/ms_event_splited_statistics/dynamic/' + filen + '_th.csv'\n",
    "# #         # print(\"Reading file\", filename)\n",
    "# #         df = pd.read_csv(filename)\n",
    "# #         df[\"File\"] = filen\n",
    "# #         mean_vals = pd.concat([mean_vals, df])\n",
    "# \n",
    "# X_vals = np.array([]).reshape(0, 12)\n",
    "# y_vals = np.array([])\n",
    "# \n",
    "# for filelist in full_filelist:\n",
    "#     for filen in filelist:\n",
    "#         filename = 'save_data/ms_event_splited_statistics/dynamic/' + filen + '_th.csv'\n",
    "#         # print(\"Reading file\", filename)\n",
    "#         df = pd.read_csv(filename)\n",
    "#         vals = df.drop(['Event', 'Order', 'Unnamed: 0'], axis=1)\n",
    "#         vals = drop_self_to_self(4, vals)\n",
    "#         scaler = StandardScaler()\n",
    "#         scaler.fit(vals)\n",
    "#         normal_vals = scaler.transform(vals)\n",
    "#         on_append = np.array(normal_vals)\n",
    "#         X_vals = np.append(X_vals, on_append, axis=0)\n",
    "#         y_vals = np.append(y_vals, np.array(df['Event']), axis=0)\n",
    "# \n",
    "# \n",
    "# \n",
    "# \n",
    "# # for dataset_name in full_dataset:\n",
    "# #     filename = 'save_data/ms_event_splited_statistics/dynamic/mean/by_transition/' + dataset_name + '.csv'\n",
    "# #     df = pd.read_csv(filename)\n",
    "# #     df[\"File\"] = filen\n",
    "# #     mean_vals = pd.concat([mean_vals, df])\n",
    "# \n",
    "# # if 'Unnamed: 0' in mean_vals:\n",
    "# #     mean_vals.drop('Unnamed: 0', axis=1, inplace=True)\n",
    "# # if mode == \"file\":\n",
    "# #     mean_vals = drop_self_to_self(4, mean_vals)\n",
    "# # data = X_vals\n",
    "# # data.drop(['Order', 'File'], axis=1, inplace=True)\n",
    "# \n",
    "# # X_vals = np.ndarray(X_vals).shape\n",
    "# # y_vals = np.array(y_vals).shape\n",
    "# # X_vals = np.array(X_vals)\n",
    "# X_vals.shape, y_vals.shape"
   ],
   "id": "79be4a38937d14a0",
   "outputs": []
  },
  {
   "metadata": {},
   "cell_type": "code",
   "execution_count": 25,
   "source": [
    "# test0 = np.array([]).reshape(0, 4)\n",
    "# test1 = np.array([[1, 2, 3, 4], [5, 6, 7, 8]])\n",
    "# test2 = np.array([[1, 2, 3, 4], [5, 6, 7, 8]])\n",
    "# test0 = np.append(test0, test1, axis=0)\n",
    "# test0 = np.append(test0, test2, axis=0)\n",
    "# test0"
   ],
   "id": "3a6a462a243bbc72",
   "outputs": []
  },
  {
   "metadata": {},
   "cell_type": "code",
   "execution_count": 26,
   "source": [
    "# normalize\n",
    "# mbtr\n",
    "# vals = data.drop(['Event', 'File', 'Order'], axis=1)\n",
    "# scaler = StandardScaler()\n",
    "# scaler.fit(vals)\n",
    "# normal_vals = scaler.transform(vals)"
   ],
   "id": "de8409df48762572",
   "outputs": []
  },
  {
   "metadata": {},
   "cell_type": "code",
   "execution_count": 27,
   "source": [
    "# from sklearn.linear_model import LogisticRegression\n",
    "# from sklearn.model_selection import train_test_split\n",
    "# from sklearn.metrics import accuracy_score, confusion_matrix\n",
    "# \n",
    "# # X = normal_vals\n",
    "# # y = data['Event']\n",
    "# X = X_vals\n",
    "# y = y_vals\n",
    "# \n",
    "# X_train, X_test, y_train, y_test = train_test_split(X, y, test_size=0.2, random_state=42)\n",
    "# # print(X_train.shape, X_test.shape, len(y_train), len(y_test))"
   ],
   "id": "2e6ef39b8a79bbfa",
   "outputs": []
  },
  {
   "metadata": {},
   "cell_type": "code",
   "execution_count": 28,
   "source": [
    "# from sklearn.metrics import classification_report\n",
    "# \n",
    "# logreg = LogisticRegression()\n",
    "# logreg.fit(X_train, y_train)\n",
    "# y_pred = logreg.predict(X_test)\n",
    "# print(\"Acc:\", accuracy_score(y_test, y_pred))\n",
    "# print(confusion_matrix(y_test, y_pred))\n",
    "# test_pred_value_df = pd.DataFrame({'Actual': y_test, 'Predicted': y_pred})\n",
    "# print(classification_report(y_test, y_pred))"
   ],
   "id": "a3805e829bbdf582",
   "outputs": []
  },
  {
   "metadata": {},
   "cell_type": "markdown",
   "source": "## Windowing logreg on realtime data",
   "id": "3aa84285aef20aa4"
  },
  {
   "metadata": {},
   "cell_type": "markdown",
   "source": "### Testing on data that was not used in training",
   "id": "b28041ddba864979"
  },
  {
   "metadata": {},
   "cell_type": "code",
   "execution_count": 29,
   "source": [
    "\n",
    "# all_y_real = np.array([])\n",
    "# all_y_pred = np.array([])\n",
    "# for i in range(5):\n",
    "#     filename = filenames064[i]+'_th'\n",
    "#     dynamic_th = load_or_calc_ms_dynamic_event_splited_ms(\n",
    "#         filename = filename\n",
    "#     )\n",
    "#     y_real = dynamic_th['Event']\n",
    "#     all_y_real = np.append(all_y_real, y_real, axis=0)\n",
    "#     dynamic_th_dropped = drop_self_to_self(4, dynamic_th).drop(['Order', 'Event'], axis=1)\n",
    "#     X = scaler.transform(dynamic_th_dropped)\n",
    "#     y_pred = logreg.predict(X)\n",
    "#     all_y_pred = np.append(all_y_pred, y_pred, axis=0)\n",
    "#     print(f\"----{filename}----\\nAcc:\", accuracy_score(y_real, y_pred))\n",
    "# \n",
    "# print(\"-----------------------TOTAL-----------------------\")\n",
    "# print(\"Acc:\", accuracy_score(all_y_real, all_y_pred))\n",
    "# print(confusion_matrix(all_y_real, all_y_pred))\n",
    "# print(classification_report(all_y_real, all_y_pred))"
   ],
   "id": "44431d34c6381273",
   "outputs": []
  },
  {
   "metadata": {},
   "cell_type": "markdown",
   "source": "### Realtime",
   "id": "bd66f9a7716b16a"
  },
  {
   "metadata": {},
   "cell_type": "code",
   "execution_count": 30,
   "source": [
    "# import time\n",
    "# filepath = path064\n",
    "# filename = filenames064[5]\n",
    "# raw, microstates = load_or_calc_raw_ms(filepath, filename)\n",
    "# ms_thresholded = apply_basic_switch_threshold(microstates, threshold=0.02)"
   ],
   "id": "afffe7e4b2611040",
   "outputs": []
  },
  {
   "metadata": {},
   "cell_type": "code",
   "execution_count": 31,
   "source": "# length = ms_thresholded['Sequence'].shape[0]",
   "id": "59da19d89a43bc99",
   "outputs": []
  },
  {
   "metadata": {},
   "cell_type": "code",
   "execution_count": 32,
   "source": [
    "# preds = []\n",
    "# start = time.time()\n",
    "# for i in range(((sampling_rate*10) + 1), length):\n",
    "#     if(i % 2048 != 0):\n",
    "#         continue\n",
    "#     # print(f\"Checking event: \", i/sampling_rate)\n",
    "#     ms_copy = split_ms_sequence(ms_thresholded, start_sample=i-(sampling_rate*10), end_sample=i+1)\n",
    "#     dynamic_stats = nk.microstates_dynamic(ms_copy, show=False)\n",
    "#     ms_copy_dropped = drop_self_to_self(4, dynamic_stats)\n",
    "#     X = scaler.transform(ms_copy_dropped)\n",
    "#     y_pred = logreg.predict(X)\n",
    "#     preds.append(y_pred[0])\n",
    "#     # print(f\"----{filename}----\\nPrediction:\", y_pred)\n",
    "# \n",
    "# print(\"Time:\", time.time() - start)"
   ],
   "id": "bb13483f884ac015",
   "outputs": []
  },
  {
   "metadata": {},
   "cell_type": "markdown",
   "source": [
    "| Window | Recalc segment | Time |\n",
    "|--------|----------------|------|\n",
    "| 5s     | 200ms          | 82s  |\n",
    "| 5s     | 500ms          | 33s  |\n",
    "| 5s     | 1s             | 17s  |\n",
    "| 10s    | 1s             | 32s  | "
   ],
   "id": "feb18e035a02d3c3"
  }
 ],
 "metadata": {
  "kernelspec": {
   "display_name": "Python 3",
   "language": "python",
   "name": "python3"
  },
  "language_info": {
   "codemirror_mode": {
    "name": "ipython",
    "version": 2
   },
   "file_extension": ".py",
   "mimetype": "text/x-python",
   "name": "python",
   "nbconvert_exporter": "python",
   "pygments_lexer": "ipython2",
   "version": "2.7.6"
  }
 },
 "nbformat": 4,
 "nbformat_minor": 5
}
