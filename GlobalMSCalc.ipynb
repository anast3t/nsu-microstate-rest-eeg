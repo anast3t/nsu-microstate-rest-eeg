{
 "cells": [
  {
   "metadata": {},
   "cell_type": "markdown",
   "source": "# Расчет общих микросостояний на основе всех имеющихся",
   "id": "b824b202c8e2f8d9"
  },
  {
   "cell_type": "code",
   "id": "initial_id",
   "metadata": {
    "collapsed": true,
    "ExecuteTime": {
     "end_time": "2024-05-05T12:00:47.016289Z",
     "start_time": "2024-05-05T12:00:45.264190Z"
    }
   },
   "source": [
    "import pandas as pd\n",
    "\n",
    "from helper import *\n",
    "from neurokit2.stats.cluster import cluster\n",
    "import scipy\n",
    "import numpy as np\n",
    "import sklearn\n"
   ],
   "outputs": [],
   "execution_count": 1
  },
  {
   "metadata": {
    "ExecuteTime": {
     "end_time": "2024-05-05T12:00:47.022545Z",
     "start_time": "2024-05-05T12:00:47.016289Z"
    }
   },
   "cell_type": "code",
   "source": [
    "def _microstates_segment_runsegmentation(data, microstates, gfp, n_microstates):\n",
    "    # Find microstate corresponding to each datapoint\n",
    "    activation = microstates.dot(data)\n",
    "    segmentation = np.argmax(np.abs(activation), axis=0)\n",
    "    polarity = np.sign(np.choose(segmentation, activation))\n",
    "\n",
    "    # Get Global Explained Variance (GEV)\n",
    "    gev, gev_all = _cluster_quality_gev(\n",
    "        data.T, microstates, segmentation, sd=gfp, n_clusters=n_microstates\n",
    "    )\n",
    "    return segmentation, polarity, gev, gev_all\n",
    "\n",
    "def _cluster_quality_gev(data, clusters, clustering, sd=None, n_clusters=4):\n",
    "    \"\"\"Global Variance Explained (GEV)\"\"\"\n",
    "    if sd is None:\n",
    "        sd = np.nanstd(data, axis=1)\n",
    "    map_corr = _correlate_vectors(data.T, clusters[clustering].T)\n",
    "\n",
    "    gev_all = np.zeros(n_clusters)\n",
    "    for state in range(n_clusters):\n",
    "        idx = clustering == state\n",
    "        gev_all[state] = np.nansum((sd[idx] * map_corr[idx]) ** 2) / np.nansum(sd**2)\n",
    "\n",
    "    gev = np.nansum(gev_all)\n",
    "    #    gev = np.sum((sd * map_corr) ** 2) / np.sum(sd**2)\n",
    "    return gev, gev_all\n",
    "\n",
    "\n",
    "def _correlate_vectors(A, B, axis=0):\n",
    "    \"\"\"Compute pairwise correlation of multiple pairs of vectors.\n",
    "    Fast way to compute correlation of multiple pairs of vectors without\n",
    "    computing all pairs as would with corr(A,B). Borrowed from Oli at Stack\n",
    "    overflow.\n",
    "\n",
    "    Note the resulting coefficients vary slightly from the ones\n",
    "    obtained from corr due differences in the order of the calculations.\n",
    "    (Differences are of a magnitude of 1e-9 to 1e-17 depending of the tested\n",
    "    data).\n",
    "\n",
    "    Parameters\n",
    "    ----------\n",
    "    A : array\n",
    "        The first collection of vectors of shape (n, m)\n",
    "    B : array\n",
    "        The second collection of vectors of shape (n, m)\n",
    "    axis : int\n",
    "        The axis that contains the elements of each vector. Defaults to 0.\n",
    "\n",
    "    Returns\n",
    "    -------\n",
    "    corr : array\n",
    "        For each pair of vectors, the correlation between them with shape (m, )\n",
    "\n",
    "    \"\"\"\n",
    "    An = A - np.nanmean(A, axis=axis)\n",
    "    Bn = B - np.nanmean(B, axis=axis)\n",
    "    An /= np.linalg.norm(An, axis=axis)\n",
    "    Bn /= np.linalg.norm(Bn, axis=axis)\n",
    "    return np.nansum(An * Bn, axis=axis)"
   ],
   "id": "b8ee8fd89ea053d0",
   "outputs": [],
   "execution_count": 2
  },
  {
   "metadata": {
    "ExecuteTime": {
     "end_time": "2024-05-05T12:00:47.033468Z",
     "start_time": "2024-05-05T12:00:47.022545Z"
    }
   },
   "cell_type": "code",
   "source": [
    "raw_data_folder_path = \"./raw_data/\"\n",
    "preprocessed_data_folder_path = \"./preprocessed_data/\"\n",
    "save_data_folder_path = \"./save_data/\"\n",
    "images_folder_path = \"./images/\"\n",
    "statistics_folder_path = \"statistics/\"\n",
    "mhw_objects_folder_path = \"mhw_objects/\"\n",
    "\n",
    "folders = Folders(\n",
    "    end_folder = \"\",\n",
    "    raw_data = raw_data_folder_path,\n",
    "    preprocessed_data = preprocessed_data_folder_path,\n",
    "    save_data = save_data_folder_path,\n",
    "    images = images_folder_path,\n",
    "    statistics=statistics_folder_path,\n",
    "    mhw_objects=mhw_objects_folder_path\n",
    ")\n",
    "\n",
    "\n",
    "filenames014 = [\n",
    "    \"ACP_INP0014_REST1_1pnt_1vis\",\n",
    "    \"ACP_INP0014_REST2_1pnt_1vis\",\n",
    "    \"ACP_INP0014_REST3_1pnt_1vis\",\n",
    "    \"ACP_INP0014_REST1_1pnt_2vis\",\n",
    "    \"ACP_INP0014_REST2_1pnt_2vis\",\n",
    "    \"ACP_INP0014_REST3_1pnt_2vis\"\n",
    "]\n",
    "path014 = \"rest_14/\"\n",
    "\n",
    "filenames019 = [\n",
    "    \"INP0019_v1.4_REST1_R003_R003_08.11.23\",\n",
    "    \"INP0019_v1.4_REST2_R003_R003_08.11.23\",\n",
    "    \"INP0019_v1.4_REST3_R003_R003_08.11.23\",\n",
    "    \"INP0019_v1.5_REST2_Op005_Op007_08.12.23\",\n",
    "    \"INP0019_v1.5_REST3_Op005_Op007_08.12.23\",\n",
    "]\n",
    "path019 = \"rest_19/\"\n",
    "\n",
    "filenames036 = [\n",
    "    \"INP0036_v1.4_REST1_Op008_Op011_11.12.23\",\n",
    "    \"INP0036_v1.4_REST2_Op008_Op011_11.12.23\",\n",
    "    \"INP0036_v1.4_REST3_Op008_Op011_11.12.23\",\n",
    "    \"INP0036_v1.5_REST1_Op005_Op010_12.12.23\",\n",
    "    \"INP0036_v1.5_REST2_Op005_Op010_12.12.23\",\n",
    "    \"INP0036_v1.5_REST3_Op005_Op010_12.12.23\",\n",
    "]\n",
    "path036 = \"rest_36/\"\n",
    "\n",
    "filenames045 = [\n",
    "    \"INP0045_v1.4_REST1_R003_R003_08.11.23\",\n",
    "    \"INP0045_v1.4_REST2_R003_R003_08.11.23\",\n",
    "    \"INP0045_v1.4_REST3_R003_R003_08.11.23\",\n",
    "    \"INP0045_v1.5_rs11_Op005_Op008_Op011_17.11.23\",\n",
    "    \"INP0045_v1.5_rs22_Op005_Op008_Op011_17.11.23\",\n",
    "    \"INP0045_v1.5_rs23_Op005_Op008_Op011_17.11.23\",\n",
    "]\n",
    "path045 = \"rest_45/\"\n",
    "\n",
    "filenames064 = [\n",
    "    \"INP0064_v1.4_rs11_S008_R003_04.12.23\",\n",
    "    \"INP0064_v1.4_rs12_Op008_R003_04.12.23\",\n",
    "    \"INP0064_v1.4_rs13_Op008_R003_04.12.23\",\n",
    "    \"INP0064_v1.5_rs21_Op005_Op006_Op008_05.12.23\",\n",
    "    \"INP0064_v1.5_rs22_Op009_A002_13.12.23\",\n",
    "    \"INP0064_v1.5_rs23_Op009_A002_13.12.23\",\n",
    "]\n",
    "path064 = \"rest_64/\"\n",
    "\n",
    "filenames = [filenames014, filenames019, filenames036, filenames045, filenames064]\n",
    "paths = [path014, path019, path036, path045, path064]"
   ],
   "id": "64c541b079577ad8",
   "outputs": [],
   "execution_count": 3
  },
  {
   "metadata": {
    "ExecuteTime": {
     "end_time": "2024-05-05T12:00:47.043049Z",
     "start_time": "2024-05-05T12:00:47.033468Z"
    }
   },
   "cell_type": "code",
   "source": [
    "ms_df = pd.DataFrame()\n",
    "mhw = None"
   ],
   "id": "963307a24dc15e50",
   "outputs": [],
   "execution_count": 4
  },
  {
   "metadata": {
    "ExecuteTime": {
     "end_time": "2024-05-05T12:00:47.056412Z",
     "start_time": "2024-05-05T12:00:47.043049Z"
    }
   },
   "cell_type": "code",
   "source": [
    "# for i in range(len(filenames)):\n",
    "# # for i in range(1):\n",
    "#     for filename in filenames[i]:\n",
    "#         path = paths[i]\n",
    "#         folders.end_folder = path\n",
    "#         th_filename = filename + \"_th\"\n",
    "#         print(f\"Processing {filename}\")\n",
    "#         raw = mne.io.read_raw_eeglab(folders.preprocessed_data + folders.end_folder + filename + '.set')\n",
    "#         mhw = MicrostateHelperWrapper(folders, raw, th_filename)\n",
    "#         mhw = mhw.load()\n",
    "#         ms_df = pd.concat([ms_df, pd.DataFrame.from_records(mhw.ms['Microstates'])])\n",
    "ms_df = pd.read_csv(folders.save_data + \"global_ms_df.csv\")"
   ],
   "id": "4f78edaaeeaf41f3",
   "outputs": [],
   "execution_count": 5
  },
  {
   "metadata": {
    "ExecuteTime": {
     "end_time": "2024-05-05T12:00:47.061218Z",
     "start_time": "2024-05-05T12:00:47.056412Z"
    }
   },
   "cell_type": "code",
   "source": "# ms_df.reset_index(drop=True, inplace=True)",
   "id": "68e41003caaa20e2",
   "outputs": [],
   "execution_count": 6
  },
  {
   "metadata": {
    "ExecuteTime": {
     "end_time": "2024-05-05T12:00:47.070165Z",
     "start_time": "2024-05-05T12:00:47.061218Z"
    }
   },
   "cell_type": "code",
   "source": [
    "# replace NaN with 0\n",
    "# ms_df.fillna(0, inplace=True)"
   ],
   "id": "555622ccfcfdfb0b",
   "outputs": [],
   "execution_count": 7
  },
  {
   "metadata": {
    "ExecuteTime": {
     "end_time": "2024-05-05T12:00:47.079242Z",
     "start_time": "2024-05-05T12:00:47.070165Z"
    }
   },
   "cell_type": "code",
   "source": "# ms_df.to_csv(folders.save_data + \"global_ms_df.csv\", index=False)",
   "id": "447ad7d509b7dcaf",
   "outputs": [],
   "execution_count": 8
  },
  {
   "metadata": {
    "ExecuteTime": {
     "end_time": "2024-05-05T12:00:47.089210Z",
     "start_time": "2024-05-05T12:00:47.079242Z"
    }
   },
   "cell_type": "code",
   "source": "# clustering, clusters, cluster_info = cluster(ms_df, n_clusters=4, method='kmod', verbose=True)",
   "id": "e251c28d1776689e",
   "outputs": [],
   "execution_count": 9
  },
  {
   "metadata": {
    "ExecuteTime": {
     "end_time": "2024-05-05T12:00:47.097718Z",
     "start_time": "2024-05-05T12:00:47.089210Z"
    }
   },
   "cell_type": "code",
   "source": [
    "# for i in range(4):\n",
    "#     mne.viz.plot_topomap(clusters[i], mhw.raw.info, show=True)\n"
   ],
   "id": "42ed44033e7a0d29",
   "outputs": [],
   "execution_count": 10
  },
  {
   "metadata": {
    "ExecuteTime": {
     "end_time": "2024-05-05T12:00:47.106945Z",
     "start_time": "2024-05-05T12:00:47.097718Z"
    }
   },
   "cell_type": "code",
   "source": "# _cluster_quality_gev(ms_df, clusters, clustering[\"Cluster\"])",
   "id": "e67d1347aace641a",
   "outputs": [],
   "execution_count": 11
  },
  {
   "metadata": {
    "ExecuteTime": {
     "end_time": "2024-05-05T12:00:47.109518Z",
     "start_time": "2024-05-05T12:00:47.106945Z"
    }
   },
   "cell_type": "code",
   "source": "",
   "id": "a4ca6e7f62505806",
   "outputs": [],
   "execution_count": 11
  },
  {
   "metadata": {
    "ExecuteTime": {
     "end_time": "2024-05-05T12:00:47.122620Z",
     "start_time": "2024-05-05T12:00:47.109518Z"
    }
   },
   "cell_type": "code",
   "source": [
    "methods = [\n",
    "    \"kmod\",\n",
    "    \"kmeans\",\n",
    "    \"kmedoids\",\n",
    "    \"pca\",\n",
    "    \"ica\",\n",
    "    \"aahc\",\n",
    "    \"hierarchical\",\n",
    "    \"spectral\",\n",
    "    \"mixture\",\n",
    "    \"mixturebayesian\"\n",
    "]\n",
    "# method_df = pd.DataFrame(columns=methods)\n",
    "# for i in range(100):\n",
    "#     print(i)\n",
    "#     val_arr = []\n",
    "#     for method in methods:\n",
    "#         clustering, clusters, cluster_info = cluster(ms_df, n_clusters=4, method=method)\n",
    "#         print(\"===============\" + method + \"===================\")\n",
    "#         # for i in range(4):\n",
    "#         #     mne.viz.plot_topomap(clusters[i], mhw.raw.info, show=True)\n",
    "#         quality = _cluster_quality_gev(ms_df, clusters, clustering[\"Cluster\"])\n",
    "#         print(quality)\n",
    "#         val_arr.append(quality[0])\n",
    "#     method_df = pd.concat([method_df, pd.DataFrame([val_arr], columns=methods)])\n",
    "\n",
    "# cols2 = [\"GEV\", \"GEV1\", \"GEV2\", \"GEV3\", \"GEV4\", \"Method\"]\n",
    "# method_df2 = pd.DataFrame(columns=cols2)\n",
    "# for i in range(100):\n",
    "#     print(i)\n",
    "#     val_arr = []\n",
    "#     for method in methods:\n",
    "#         clustering, clusters, cluster_info = cluster(ms_df, n_clusters=4, method=method)\n",
    "#         print(\"===============\" + method + \"===================\")\n",
    "#         # for i in range(4):\n",
    "#         #     mne.viz.plot_topomap(clusters[i], mhw.raw.info, show=True)\n",
    "#         quality = _cluster_quality_gev(ms_df, clusters, clustering[\"Cluster\"])\n",
    "#         print(quality)\n",
    "#         sorted_quality = np.sort(quality[1])\n",
    "#         val_arr.append([quality[0], *sorted_quality, method])\n",
    "#     method_df2 = pd.concat([method_df2, pd.DataFrame(val_arr, columns=cols2)])\n"
   ],
   "id": "129359ff19e5a0de",
   "outputs": [],
   "execution_count": 12
  },
  {
   "metadata": {
    "ExecuteTime": {
     "end_time": "2024-05-05T12:00:47.131778Z",
     "start_time": "2024-05-05T12:00:47.122620Z"
    }
   },
   "cell_type": "code",
   "source": "# method_df*100",
   "id": "be5a81d4ed6b1cc3",
   "outputs": [],
   "execution_count": 13
  },
  {
   "metadata": {
    "ExecuteTime": {
     "end_time": "2024-05-05T12:00:47.141023Z",
     "start_time": "2024-05-05T12:00:47.131778Z"
    }
   },
   "cell_type": "code",
   "source": "# method_df2.groupby(\"Method\").mean()*100",
   "id": "a9bc5aae9894a3c4",
   "outputs": [],
   "execution_count": 14
  },
  {
   "metadata": {},
   "cell_type": "markdown",
   "source": "## Сравнение методов для исходных данных",
   "id": "a76e39520222ea8c"
  },
  {
   "metadata": {
    "ExecuteTime": {
     "end_time": "2024-05-05T12:00:48.648139Z",
     "start_time": "2024-05-05T12:00:47.141023Z"
    }
   },
   "cell_type": "code",
   "source": [
    "raw = mne.io.read_raw_eeglab(folders.preprocessed_data + path014 + filenames[0][0] + '.set')\n",
    "raw.load_data(verbose=False)"
   ],
   "id": "730893b32704c22d",
   "outputs": [
    {
     "name": "stderr",
     "output_type": "stream",
     "text": [
      "C:\\Users\\bortn\\AppData\\Local\\Temp\\ipykernel_15408\\259043695.py:1: RuntimeWarning: Data will be preloaded. preload=False or a string preload is not supported when the data is stored in the .set file\n",
      "  raw = mne.io.read_raw_eeglab(folders.preprocessed_data + path014 + filenames[0][0] + '.set')\n",
      "C:\\Users\\bortn\\AppData\\Local\\Temp\\ipykernel_15408\\259043695.py:1: RuntimeWarning: The data contains 'boundary' events, indicating data discontinuities. Be cautious of filtering and epoching around these events.\n",
      "  raw = mne.io.read_raw_eeglab(folders.preprocessed_data + path014 + filenames[0][0] + '.set')\n"
     ]
    },
    {
     "data": {
      "text/plain": [
       "<RawEEGLAB | ACP_INP0014_REST1_1pnt_1vis.set, 61 x 1013447 (494.8 s), ~471.7 MB, data loaded>"
      ],
      "text/html": [
       "<details open>\n",
       "    <summary><strong>General</strong></summary>\n",
       "    <table class=\"table table-hover table-striped table-sm table-responsive small\">\n",
       "        <tr>\n",
       "            <th>Measurement date</th>\n",
       "            \n",
       "            <td>Unknown</td>\n",
       "            \n",
       "        </tr>\n",
       "        <tr>\n",
       "            <th>Experimenter</th>\n",
       "            \n",
       "            <td>Unknown</td>\n",
       "            \n",
       "        </tr>\n",
       "        <tr>\n",
       "            <th>Participant</th>\n",
       "            \n",
       "            <td>Unknown</td>\n",
       "            \n",
       "        </tr>\n",
       "    </table>\n",
       "    </details>\n",
       "    <details open>\n",
       "        <summary><strong>Channels</strong></summary>\n",
       "        <table class=\"table table-hover table-striped table-sm table-responsive small\">\n",
       "            <tr>\n",
       "                <th>Digitized points</th>\n",
       "                \n",
       "                <td>64 points</td>\n",
       "                \n",
       "            </tr>\n",
       "            <tr>\n",
       "                <th>Good channels</th>\n",
       "                <td>61 EEG</td>\n",
       "            </tr>\n",
       "            <tr>\n",
       "                <th>Bad channels</th>\n",
       "                <td>None</td>\n",
       "            </tr>\n",
       "            <tr>\n",
       "                <th>EOG channels</th>\n",
       "                <td>Not available</td>\n",
       "            </tr>\n",
       "            <tr>\n",
       "                <th>ECG channels</th>\n",
       "                <td>Not available</td>\n",
       "            </tr>\n",
       "        </table>\n",
       "        </details>\n",
       "        <details open>\n",
       "            <summary><strong>Data</strong></summary>\n",
       "            <table class=\"table table-hover table-striped table-sm table-responsive small\">\n",
       "                \n",
       "                <tr>\n",
       "                    <th>Sampling frequency</th>\n",
       "                    <td>2048.00 Hz</td>\n",
       "                </tr>\n",
       "                \n",
       "                \n",
       "                <tr>\n",
       "                    <th>Highpass</th>\n",
       "                    <td>0.00 Hz</td>\n",
       "                </tr>\n",
       "                \n",
       "                \n",
       "                <tr>\n",
       "                    <th>Lowpass</th>\n",
       "                    <td>1024.00 Hz</td>\n",
       "                </tr>\n",
       "                \n",
       "                \n",
       "                \n",
       "                <tr>\n",
       "                    <th>Filenames</th>\n",
       "                    <td>ACP_INP0014_REST1_1pnt_1vis.set</td>\n",
       "                </tr>\n",
       "                \n",
       "                \n",
       "                <tr>\n",
       "                    <th>Duration</th>\n",
       "                    <td>00:08:15 (HH:MM:SS)</td>\n",
       "                </tr>\n",
       "                \n",
       "            </table>\n",
       "            </details>"
      ]
     },
     "execution_count": 15,
     "metadata": {},
     "output_type": "execute_result"
    }
   ],
   "execution_count": 15
  },
  {
   "metadata": {
    "ExecuteTime": {
     "end_time": "2024-05-05T12:21:47.873030Z",
     "start_time": "2024-05-05T12:21:47.870576Z"
    }
   },
   "cell_type": "code",
   "source": [
    "\n",
    "method_df = pd.DataFrame(columns=methods)"
   ],
   "id": "f26c1a439635c6b1",
   "outputs": [],
   "execution_count": 22
  },
  {
   "metadata": {
    "ExecuteTime": {
     "end_time": "2024-05-05T12:53:01.186461Z",
     "start_time": "2024-05-05T12:34:32.481747Z"
    }
   },
   "cell_type": "code",
   "source": [
    "methods = [\n",
    "    \"kmod\",\n",
    "    \"kmeans\",\n",
    "    # \"kmedoids\",\n",
    "    # \"pca\",\n",
    "    # \"ica\",\n",
    "    \"aahc\",\n",
    "    \"hierarchical\",\n",
    "    \"spectral\",\n",
    "    # \"mixture\",\n",
    "    # \"mixturebayesian\"\n",
    "]\n",
    "# for i in range(100):\n",
    "#     print(i)\n",
    "#     val_arr = []\n",
    "#     for method in methods:\n",
    "#         clustering, clusters, cluster_info = cluster(ms_df, n_clusters=4, method=method)\n",
    "#         print(\"===============\" + method + \"===================\")\n",
    "#         # for i in range(4):\n",
    "#         #     mne.viz.plot_topomap(clusters[i], mhw.raw.info, show=True)\n",
    "#         quality = _cluster_quality_gev(ms_df, clusters, clustering[\"Cluster\"])\n",
    "#         print(quality)\n",
    "#         val_arr.append(quality[0])\n",
    "#     method_df = pd.concat([method_df, pd.DataFrame([val_arr], columns=methods)])\n",
    "\n",
    "\n",
    "\n",
    "# for i in range(10):\n",
    "#     print(i)\n",
    "\n",
    "ms_arr = {\n",
    "    \"kmod\": [],\n",
    "    \"kmeans\": [],\n",
    "    # \"kmedoids\": [],\n",
    "    # \"pca\": [],\n",
    "    # \"ica\": [],\n",
    "    \"aahc\": [],\n",
    "    \"hierarchical\": [],\n",
    "    \"spectral\": [],\n",
    "    # \"mixture\": [],\n",
    "    # \"mixturebayesian\": []\n",
    "}\n",
    "\n",
    "for i in range(5):\n",
    "    print(i)\n",
    "    val_arr = []\n",
    "    for method in methods:\n",
    "        print(\"===============\" + method + \"===================\")\n",
    "        microstates = nk.microstates_segment(raw, n_microstates=4, method=method)\n",
    "        print(microstates[\"GEV\"])\n",
    "        val_arr.append(microstates[\"GEV\"])\n",
    "        ms_arr[method].append(microstates)\n",
    "    method_df = pd.concat([method_df, pd.DataFrame([val_arr], columns=methods)])\n",
    "        "
   ],
   "id": "d65f1dac3684728e",
   "outputs": [
    {
     "name": "stdout",
     "output_type": "stream",
     "text": [
      "0\n",
      "===============kmod===================\n",
      "0.571851200151974\n",
      "===============kmeans===================\n",
      "0.4651734985324701\n",
      "===============aahc===================\n",
      "0.5440460177937156\n",
      "===============hierarchical===================\n",
      "0.5426774585135402\n",
      "===============spectral===================\n",
      "0.5440637719775352\n",
      "1\n",
      "===============kmod===================\n",
      "0.5718204271646933\n",
      "===============kmeans===================\n",
      "0.46517326304043727\n",
      "===============aahc===================\n",
      "0.5478592636471709\n",
      "===============hierarchical===================\n",
      "0.5493552758747735\n",
      "===============spectral===================\n",
      "0.550902699561708\n",
      "2\n",
      "===============kmod===================\n",
      "0.5718540871617479\n",
      "===============kmeans===================\n",
      "0.4651752352963844\n",
      "===============aahc===================\n",
      "0.5455260919336623\n",
      "===============hierarchical===================\n",
      "0.5439933600681984\n",
      "===============spectral===================\n",
      "0.5436798395463109\n",
      "3\n",
      "===============kmod===================\n",
      "0.5718299910762786\n",
      "===============kmeans===================\n",
      "0.4651637519089025\n",
      "===============aahc===================\n",
      "0.5521246630997593\n",
      "===============hierarchical===================\n",
      "0.545953900569224\n",
      "===============spectral===================\n",
      "0.5482237216120895\n",
      "4\n",
      "===============kmod===================\n",
      "0.5718546158240361\n",
      "===============kmeans===================\n",
      "0.465122087112725\n",
      "===============aahc===================\n",
      "0.5487907935032499\n",
      "===============hierarchical===================\n",
      "0.5557541573041658\n",
      "===============spectral===================\n",
      "0.5440169097845067\n"
     ]
    }
   ],
   "execution_count": 24
  },
  {
   "metadata": {
    "ExecuteTime": {
     "end_time": "2024-05-05T15:12:56.791137Z",
     "start_time": "2024-05-05T15:12:56.764596Z"
    }
   },
   "cell_type": "code",
   "source": "method_df",
   "id": "89ecd666c2bc2f40",
   "outputs": [
    {
     "data": {
      "text/plain": [
       "       kmod    kmeans      aahc  hierarchical  spectral\n",
       "0  0.571821  0.465164  0.546402      0.549554  0.544087\n",
       "0  0.571851  0.465173  0.544046      0.542677  0.544064\n",
       "0  0.571820  0.465173  0.547859      0.549355  0.550903\n",
       "0  0.571854  0.465175  0.545526      0.543993  0.543680\n",
       "0  0.571830  0.465164  0.552125      0.545954  0.548224\n",
       "0  0.571855  0.465122  0.548791      0.555754  0.544017"
      ],
      "text/html": [
       "<div>\n",
       "<style scoped>\n",
       "    .dataframe tbody tr th:only-of-type {\n",
       "        vertical-align: middle;\n",
       "    }\n",
       "\n",
       "    .dataframe tbody tr th {\n",
       "        vertical-align: top;\n",
       "    }\n",
       "\n",
       "    .dataframe thead th {\n",
       "        text-align: right;\n",
       "    }\n",
       "</style>\n",
       "<table border=\"1\" class=\"dataframe\">\n",
       "  <thead>\n",
       "    <tr style=\"text-align: right;\">\n",
       "      <th></th>\n",
       "      <th>kmod</th>\n",
       "      <th>kmeans</th>\n",
       "      <th>aahc</th>\n",
       "      <th>hierarchical</th>\n",
       "      <th>spectral</th>\n",
       "    </tr>\n",
       "  </thead>\n",
       "  <tbody>\n",
       "    <tr>\n",
       "      <th>0</th>\n",
       "      <td>0.571821</td>\n",
       "      <td>0.465164</td>\n",
       "      <td>0.546402</td>\n",
       "      <td>0.549554</td>\n",
       "      <td>0.544087</td>\n",
       "    </tr>\n",
       "    <tr>\n",
       "      <th>0</th>\n",
       "      <td>0.571851</td>\n",
       "      <td>0.465173</td>\n",
       "      <td>0.544046</td>\n",
       "      <td>0.542677</td>\n",
       "      <td>0.544064</td>\n",
       "    </tr>\n",
       "    <tr>\n",
       "      <th>0</th>\n",
       "      <td>0.571820</td>\n",
       "      <td>0.465173</td>\n",
       "      <td>0.547859</td>\n",
       "      <td>0.549355</td>\n",
       "      <td>0.550903</td>\n",
       "    </tr>\n",
       "    <tr>\n",
       "      <th>0</th>\n",
       "      <td>0.571854</td>\n",
       "      <td>0.465175</td>\n",
       "      <td>0.545526</td>\n",
       "      <td>0.543993</td>\n",
       "      <td>0.543680</td>\n",
       "    </tr>\n",
       "    <tr>\n",
       "      <th>0</th>\n",
       "      <td>0.571830</td>\n",
       "      <td>0.465164</td>\n",
       "      <td>0.552125</td>\n",
       "      <td>0.545954</td>\n",
       "      <td>0.548224</td>\n",
       "    </tr>\n",
       "    <tr>\n",
       "      <th>0</th>\n",
       "      <td>0.571855</td>\n",
       "      <td>0.465122</td>\n",
       "      <td>0.548791</td>\n",
       "      <td>0.555754</td>\n",
       "      <td>0.544017</td>\n",
       "    </tr>\n",
       "  </tbody>\n",
       "</table>\n",
       "</div>"
      ]
     },
     "execution_count": 25,
     "metadata": {},
     "output_type": "execute_result"
    }
   ],
   "execution_count": 25
  },
  {
   "metadata": {},
   "cell_type": "code",
   "source": [
    "import matplotlib as mpl\n",
    "import matplotlib.pyplot as plt\n",
    "for (key, value) in ms_arr.items():\n",
    "    print(key)\n",
    "    fig, axes = plt.subplots(len(value), 4, figsize=(10, 10))\n",
    "    fig.suptitle(key)\n",
    "    for i in range(len(value)):\n",
    "        for j in range(4):\n",
    "            mne.viz.plot_topomap(value[i][\"Microstates\"][j], value[i][\"Info\"], show=False, axes=axes[i][j])\n",
    "    plt.show()"
   ],
   "id": "763681e54b0c44bd",
   "outputs": [],
   "execution_count": null
  },
  {
   "metadata": {
    "ExecuteTime": {
     "end_time": "2024-05-05T16:54:35.599444Z",
     "start_time": "2024-05-05T16:54:35.589896Z"
    }
   },
   "cell_type": "code",
   "source": [
    "# Gev per microstate into df\n",
    "cols = [\"GEV1\", \"GEV2\", \"GEV3\", \"GEV4\", \"Method\"]\n",
    "gev_per_ms = pd.DataFrame(columns=cols)\n",
    "for (key, value) in ms_arr.items():\n",
    "    for i in range(len(value)):\n",
    "        # row = [*value[i][\"GEV_per_microstate\"], key]\n",
    "        # print(pd.DataFrame.from_records(row))\n",
    "        gev_per_ms = pd.concat([gev_per_ms, pd.DataFrame([[*np.sort(value[i][\"GEV_per_microstate\"]), key]], columns=cols)])"
   ],
   "id": "bbfca3208d4553e5",
   "outputs": [
    {
     "name": "stderr",
     "output_type": "stream",
     "text": [
      "C:\\Users\\bortn\\AppData\\Local\\Temp\\ipykernel_15408\\2880498694.py:8: FutureWarning: The behavior of DataFrame concatenation with empty or all-NA entries is deprecated. In a future version, this will no longer exclude empty or all-NA columns when determining the result dtypes. To retain the old behavior, exclude the relevant entries before the concat operation.\n",
      "  gev_per_ms = pd.concat([gev_per_ms, pd.DataFrame([[*np.sort(value[i][\"GEV_per_microstate\"]), key]], columns=cols)])\n"
     ]
    }
   ],
   "execution_count": 72
  },
  {
   "metadata": {
    "ExecuteTime": {
     "end_time": "2024-05-05T16:55:07.034687Z",
     "start_time": "2024-05-05T16:55:07.021745Z"
    }
   },
   "cell_type": "code",
   "source": "gev_per_ms.groupby(\"Method\").mean()*100",
   "id": "1913c987d73899db",
   "outputs": [
    {
     "data": {
      "text/plain": [
       "                  GEV1       GEV2       GEV3       GEV4\n",
       "Method                                                 \n",
       "aahc          5.102415  10.159927  14.812849  24.691746\n",
       "hierarchical  5.923084  10.734701  13.695496  24.401402\n",
       "kmeans        0.122040   0.928600   6.926416  38.539101\n",
       "kmod          9.282875  12.267936  15.015788  20.617607\n",
       "spectral      4.866677   9.955302  13.314257  26.481503"
      ],
      "text/html": [
       "<div>\n",
       "<style scoped>\n",
       "    .dataframe tbody tr th:only-of-type {\n",
       "        vertical-align: middle;\n",
       "    }\n",
       "\n",
       "    .dataframe tbody tr th {\n",
       "        vertical-align: top;\n",
       "    }\n",
       "\n",
       "    .dataframe thead th {\n",
       "        text-align: right;\n",
       "    }\n",
       "</style>\n",
       "<table border=\"1\" class=\"dataframe\">\n",
       "  <thead>\n",
       "    <tr style=\"text-align: right;\">\n",
       "      <th></th>\n",
       "      <th>GEV1</th>\n",
       "      <th>GEV2</th>\n",
       "      <th>GEV3</th>\n",
       "      <th>GEV4</th>\n",
       "    </tr>\n",
       "    <tr>\n",
       "      <th>Method</th>\n",
       "      <th></th>\n",
       "      <th></th>\n",
       "      <th></th>\n",
       "      <th></th>\n",
       "    </tr>\n",
       "  </thead>\n",
       "  <tbody>\n",
       "    <tr>\n",
       "      <th>aahc</th>\n",
       "      <td>5.102415</td>\n",
       "      <td>10.159927</td>\n",
       "      <td>14.812849</td>\n",
       "      <td>24.691746</td>\n",
       "    </tr>\n",
       "    <tr>\n",
       "      <th>hierarchical</th>\n",
       "      <td>5.923084</td>\n",
       "      <td>10.734701</td>\n",
       "      <td>13.695496</td>\n",
       "      <td>24.401402</td>\n",
       "    </tr>\n",
       "    <tr>\n",
       "      <th>kmeans</th>\n",
       "      <td>0.122040</td>\n",
       "      <td>0.928600</td>\n",
       "      <td>6.926416</td>\n",
       "      <td>38.539101</td>\n",
       "    </tr>\n",
       "    <tr>\n",
       "      <th>kmod</th>\n",
       "      <td>9.282875</td>\n",
       "      <td>12.267936</td>\n",
       "      <td>15.015788</td>\n",
       "      <td>20.617607</td>\n",
       "    </tr>\n",
       "    <tr>\n",
       "      <th>spectral</th>\n",
       "      <td>4.866677</td>\n",
       "      <td>9.955302</td>\n",
       "      <td>13.314257</td>\n",
       "      <td>26.481503</td>\n",
       "    </tr>\n",
       "  </tbody>\n",
       "</table>\n",
       "</div>"
      ]
     },
     "execution_count": 74,
     "metadata": {},
     "output_type": "execute_result"
    }
   ],
   "execution_count": 74
  },
  {
   "metadata": {
    "ExecuteTime": {
     "end_time": "2024-05-05T17:28:12.642167Z",
     "start_time": "2024-05-05T17:25:56.313693Z"
    }
   },
   "cell_type": "code",
   "source": [
    "# ms_arr to pickle \n",
    "import pickle\n",
    "with open(folders.save_data + \"ms_arr.pkl\", \"wb\") as f:\n",
    "    pickle.dump(ms_arr, f)\n"
   ],
   "id": "2f5896c83fd9ee46",
   "outputs": [],
   "execution_count": 77
  },
  {
   "metadata": {
    "ExecuteTime": {
     "end_time": "2024-05-05T11:50:56.946964Z",
     "start_time": "2024-05-05T11:50:56.944314Z"
    }
   },
   "cell_type": "code",
   "source": "# cluster_quality = nk.cluster_quality(ms_df, clustering, clusters, cluster_info)",
   "id": "8e0fb0a1d3fb034d",
   "outputs": [],
   "execution_count": 40
  },
  {
   "metadata": {
    "ExecuteTime": {
     "end_time": "2024-05-05T11:50:57.095616Z",
     "start_time": "2024-05-05T11:50:57.093636Z"
    }
   },
   "cell_type": "code",
   "source": [
    "# scipy.spatial.distance.cdist(mhw.ms[\"Microstates\"], clusters, 'correlation')\n",
    "# 2 0 3 2"
   ],
   "id": "900bf24d23b61046",
   "outputs": [],
   "execution_count": 41
  },
  {
   "metadata": {
    "ExecuteTime": {
     "end_time": "2024-05-05T11:50:57.228970Z",
     "start_time": "2024-05-05T11:50:57.227067Z"
    }
   },
   "cell_type": "code",
   "source": [
    "# scipy.spatial.distance.cdist(mhw.ms[\"Microstates\"], clusters, 'euclidean')\n",
    "# 2 1 3 3"
   ],
   "id": "1ef04d38a1c86caf",
   "outputs": [],
   "execution_count": 42
  },
  {
   "metadata": {
    "ExecuteTime": {
     "end_time": "2024-05-05T11:50:57.823962Z",
     "start_time": "2024-05-05T11:50:57.817528Z"
    }
   },
   "cell_type": "code",
   "source": [
    "import functools\n",
    "from neurokit2.stats.cluster_quality import _cluster_quality_distance\n",
    "from neurokit2.stats.cluster import _cluster_getclusters\n",
    "import warnings\n",
    "from neurokit2 import check_random_state\n",
    "\n",
    "\n",
    "def _cluster_kmod(\n",
    "        data,\n",
    "        n_clusters=4,\n",
    "        max_iterations=1000,\n",
    "        threshold=1e-6,\n",
    "        random_state=None,\n",
    "        optimize=False,\n",
    "        **kwargs\n",
    "):\n",
    "\n",
    "    n_samples, n_channels = data.shape\n",
    "\n",
    "    # Cache this value for later to compute residual\n",
    "    data_sum_sq = np.sum(data**2)\n",
    "\n",
    "    # Select random timepoints for our initial topographic maps\n",
    "    rng = check_random_state(random_state)\n",
    "    init_times = rng.choice(n_samples, size=n_clusters, replace=False)\n",
    "\n",
    "    # Initialize random cluster centroids\n",
    "    clusters = data[init_times, :]\n",
    "\n",
    "    # Normalize row-wise (across EEG channels)\n",
    "    clusters /= np.linalg.norm(clusters, axis=1, keepdims=True)  # Normalize the maps\n",
    "\n",
    "    # Initialize iteration\n",
    "    prev_residual = 0\n",
    "    for i in range(max_iterations):\n",
    "\n",
    "        # Step 3: Assign each sample to the best matching microstate\n",
    "        activation = clusters.dot(data.T)\n",
    "        segmentation = np.argmax(np.abs(activation), axis=0)\n",
    "        # print(activation[:4],segmentation[:4])\n",
    "        # Step 4: Recompute the topographic maps of the microstates, based on the\n",
    "        # samples that were assigned to each state.\n",
    "        for state in np.arange(n_clusters):\n",
    "\n",
    "            # Get data fro specific state\n",
    "            idx = segmentation == state\n",
    "            data_state = data[idx, :]\n",
    "\n",
    "            # Sanity check\n",
    "            if np.sum(idx) == 0:\n",
    "                clusters[state] = 0\n",
    "                continue\n",
    "\n",
    "            # Retrieve map values\n",
    "\n",
    "            if optimize:\n",
    "                # Method 2 - optimized segmentation\n",
    "                state_vals = data_state.T.dot(activation[state, idx])\n",
    "            else:\n",
    "                # Method 1 - eighen value\n",
    "                # step 4a\n",
    "                Sk = np.dot(data_state.T, data_state)\n",
    "                # step 4b\n",
    "                eigen_vals, eigen_vectors = scipy.linalg.eigh(Sk)\n",
    "                state_vals = eigen_vectors[:, np.argmax(np.abs(eigen_vals))]\n",
    "\n",
    "            state_vals /= np.linalg.norm(state_vals)  # Normalize Map\n",
    "            clusters[state, :] = state_vals  # Store map\n",
    "\n",
    "        # Estimate residual noise (step 5)\n",
    "        act_sum_sq = np.sum(np.sum(clusters[segmentation, :] * data, axis=1) ** 2)\n",
    "        residual = np.abs(data_sum_sq - act_sum_sq)\n",
    "        residual = residual / float(n_samples * (n_channels - 1))\n",
    "\n",
    "        # Have we converged? Convergence criterion: variance estimate (step 6)\n",
    "        if np.abs(prev_residual - residual) < (threshold * residual):\n",
    "            break\n",
    "\n",
    "        # Next iteration\n",
    "        prev_residual = residual.copy()\n",
    "\n",
    "    if i == max_iterations:\n",
    "        warnings.warn(\n",
    "            \"Modified K-means algorithm failed to converge after \" + str(i) + \"\",\n",
    "            \"iterations. Consider increasing 'max_iterations'.\",\n",
    "        )\n",
    "\n",
    "    # De-normalize\n",
    "    clusters_unnormalized = _cluster_getclusters(data, segmentation)\n",
    "    prediction = _cluster_quality_distance(data, clusters_unnormalized, to_dataframe=True)\n",
    "    prediction[\"Cluster\"] = segmentation\n",
    "\n",
    "    # Copy function with given parameters\n",
    "    clustering_function = functools.partial(\n",
    "        _cluster_kmod,\n",
    "        n_clusters=n_clusters,\n",
    "        max_iterations=max_iterations,\n",
    "        threshold=threshold,\n",
    "        random_state=random_state,\n",
    "        **kwargs\n",
    "    )\n",
    "\n",
    "    # Info dump\n",
    "    info = {\n",
    "        \"n_clusters\": n_clusters,\n",
    "        \"clustering_function\": clustering_function,\n",
    "        \"random_state\": random_state,\n",
    "        \"clusters_normalized\": clusters,\n",
    "        \"residual\": residual,\n",
    "    }\n",
    "\n",
    "    return prediction, clusters_unnormalized, info"
   ],
   "id": "f4638671eb622e4f",
   "outputs": [],
   "execution_count": 43
  },
  {
   "metadata": {
    "ExecuteTime": {
     "end_time": "2024-05-05T11:51:00.105943Z",
     "start_time": "2024-05-05T11:51:00.103875Z"
    }
   },
   "cell_type": "code",
   "source": "# clustering1, clusters1, cluster_info1 = _cluster_kmod(ms_df.values, n_clusters=4, method='kmod', verbose=True)",
   "id": "e24191cc2772a412",
   "outputs": [],
   "execution_count": 44
  },
  {
   "metadata": {
    "ExecuteTime": {
     "end_time": "2024-05-05T11:51:00.954763Z",
     "start_time": "2024-05-05T11:51:00.952061Z"
    }
   },
   "cell_type": "code",
   "source": "# np.bincount(clustering1['Cluster'])",
   "id": "d9895134dc86d0f0",
   "outputs": [],
   "execution_count": 45
  },
  {
   "metadata": {
    "ExecuteTime": {
     "end_time": "2024-05-05T11:51:02.151283Z",
     "start_time": "2024-05-05T11:51:02.148279Z"
    }
   },
   "cell_type": "code",
   "source": [
    "# for i in range(4):\n",
    "#     mne.viz.plot_topomap(clusters1[i], mhw.raw.info, show=True)"
   ],
   "id": "4881bc9bd20fad00",
   "outputs": [],
   "execution_count": 46
  },
  {
   "metadata": {
    "ExecuteTime": {
     "end_time": "2024-05-05T11:51:03.311082Z",
     "start_time": "2024-05-05T11:51:03.308579Z"
    }
   },
   "cell_type": "code",
   "source": "# clustering2, clusters2, cluster_info2 = cluster(ms_df.values, n_clusters=4, method='kmean', verbose=True)",
   "id": "75fe2b80f1c0975e",
   "outputs": [],
   "execution_count": 47
  },
  {
   "metadata": {
    "ExecuteTime": {
     "end_time": "2024-05-05T11:51:04.063920Z",
     "start_time": "2024-05-05T11:51:04.061695Z"
    }
   },
   "cell_type": "code",
   "source": "# clustering2",
   "id": "c2bda3286094c9d9",
   "outputs": [],
   "execution_count": 48
  },
  {
   "metadata": {
    "ExecuteTime": {
     "end_time": "2024-05-05T11:51:05.969134Z",
     "start_time": "2024-05-05T11:51:05.967082Z"
    }
   },
   "cell_type": "code",
   "source": "# kmeans = sklearn.cluster.KMeans(n_clusters=4, max_iter=100000, tol=1e-9).fit(ms_df.values)",
   "id": "aa92507c9d7cf5ce",
   "outputs": [],
   "execution_count": 49
  },
  {
   "metadata": {
    "ExecuteTime": {
     "end_time": "2024-05-05T11:51:06.616575Z",
     "start_time": "2024-05-05T11:51:06.614460Z"
    }
   },
   "cell_type": "code",
   "source": "# np.bincount(kmeans.labels_)",
   "id": "943755c64d7e954c",
   "outputs": [],
   "execution_count": 50
  },
  {
   "metadata": {
    "ExecuteTime": {
     "end_time": "2024-05-05T11:51:07.882193Z",
     "start_time": "2024-05-05T11:51:07.874607Z"
    }
   },
   "cell_type": "code",
   "source": [
    "# for i in range(4):\n",
    "#     mne.viz.plot_topomap(kmeans.cluster_centers_[i], mhw.raw.info, show=True)"
   ],
   "id": "6bb4ef323476d945",
   "outputs": [],
   "execution_count": 51
  },
  {
   "metadata": {
    "ExecuteTime": {
     "end_time": "2024-05-05T11:51:09.043640Z",
     "start_time": "2024-05-05T11:51:09.041659Z"
    }
   },
   "cell_type": "code",
   "source": "# kmeans2 = sklearn.cluster.BisectingKMeans(n_clusters=4, init='k-means++').fit(ms_df.values)",
   "id": "7989dacba3efe1ac",
   "outputs": [],
   "execution_count": 52
  },
  {
   "metadata": {
    "ExecuteTime": {
     "end_time": "2024-05-05T11:51:10.201579Z",
     "start_time": "2024-05-05T11:51:10.198574Z"
    }
   },
   "cell_type": "code",
   "source": [
    "# pd.DataFrame.from_records([kmeans2.labels_]).T\n",
    "# np.bincount(kmeans2.labels_)"
   ],
   "id": "5d81c4ab8db88b42",
   "outputs": [],
   "execution_count": 53
  },
  {
   "metadata": {
    "ExecuteTime": {
     "end_time": "2024-05-05T11:51:11.239315Z",
     "start_time": "2024-05-05T11:51:11.237020Z"
    }
   },
   "cell_type": "code",
   "source": [
    "# for i in range(4):\n",
    "#     mne.viz.plot_topomap(kmeans2.cluster_centers_[i], mhw.raw.info, show=True)"
   ],
   "id": "ef1e46a1f133bd72",
   "outputs": [],
   "execution_count": 54
  },
  {
   "metadata": {
    "ExecuteTime": {
     "end_time": "2024-05-05T11:51:12.114837Z",
     "start_time": "2024-05-05T11:51:12.112799Z"
    }
   },
   "cell_type": "code",
   "source": "# centroid, label = scipy.cluster.vq.kmeans2(ms_df.values, 4, minit='++', iter=1000)",
   "id": "8032c63f3353021f",
   "outputs": [],
   "execution_count": 55
  },
  {
   "metadata": {},
   "cell_type": "code",
   "outputs": [],
   "execution_count": null,
   "source": "",
   "id": "c497a95fd36e6a6c"
  }
 ],
 "metadata": {
  "kernelspec": {
   "display_name": "Python 3",
   "language": "python",
   "name": "python3"
  },
  "language_info": {
   "codemirror_mode": {
    "name": "ipython",
    "version": 2
   },
   "file_extension": ".py",
   "mimetype": "text/x-python",
   "name": "python",
   "nbconvert_exporter": "python",
   "pygments_lexer": "ipython2",
   "version": "2.7.6"
  }
 },
 "nbformat": 4,
 "nbformat_minor": 5
}
