{
 "cells": [
  {
   "metadata": {},
   "cell_type": "markdown",
   "source": "# Расчет общих микросостояний на основе всех имеющихся",
   "id": "b824b202c8e2f8d9"
  },
  {
   "cell_type": "code",
   "id": "initial_id",
   "metadata": {
    "collapsed": true,
    "ExecuteTime": {
     "end_time": "2024-05-07T18:37:10.399275Z",
     "start_time": "2024-05-07T18:37:09.315550Z"
    }
   },
   "source": [
    "import pandas as pd\n",
    "\n",
    "from helper import *\n",
    "from neurokit2.stats.cluster import cluster\n",
    "import scipy\n",
    "import numpy as np\n",
    "import sklearn\n"
   ],
   "outputs": [],
   "execution_count": 1
  },
  {
   "metadata": {
    "ExecuteTime": {
     "end_time": "2024-05-07T18:37:10.408959Z",
     "start_time": "2024-05-07T18:37:10.401793Z"
    }
   },
   "cell_type": "code",
   "source": [
    "def _microstates_segment_runsegmentation(data, microstates, gfp, n_microstates):\n",
    "    # Find microstate corresponding to each datapoint\n",
    "    activation = microstates.dot(data)\n",
    "    segmentation = np.argmax(np.abs(activation), axis=0)\n",
    "    polarity = np.sign(np.choose(segmentation, activation))\n",
    "\n",
    "    # Get Global Explained Variance (GEV)\n",
    "    gev, gev_all = _cluster_quality_gev(\n",
    "        data.T, microstates, segmentation, sd=gfp, n_clusters=n_microstates\n",
    "    )\n",
    "    return segmentation, polarity, gev, gev_all\n",
    "\n",
    "def _cluster_quality_gev(data, clusters, clustering, sd=None, n_clusters=4):\n",
    "    \"\"\"Global Variance Explained (GEV)\"\"\"\n",
    "    if sd is None:\n",
    "        sd = np.nanstd(data, axis=1)\n",
    "    map_corr = _correlate_vectors(data.T, clusters[clustering].T)\n",
    "\n",
    "    gev_all = np.zeros(n_clusters)\n",
    "    for state in range(n_clusters):\n",
    "        idx = clustering == state\n",
    "        gev_all[state] = np.nansum((sd[idx] * map_corr[idx]) ** 2) / np.nansum(sd**2)\n",
    "\n",
    "    gev = np.nansum(gev_all)\n",
    "    #    gev = np.sum((sd * map_corr) ** 2) / np.sum(sd**2)\n",
    "    return gev, gev_all\n",
    "\n",
    "\n",
    "def _correlate_vectors(A, B, axis=0):\n",
    "    \"\"\"Compute pairwise correlation of multiple pairs of vectors.\n",
    "    Fast way to compute correlation of multiple pairs of vectors without\n",
    "    computing all pairs as would with corr(A,B). Borrowed from Oli at Stack\n",
    "    overflow.\n",
    "\n",
    "    Note the resulting coefficients vary slightly from the ones\n",
    "    obtained from corr due differences in the order of the calculations.\n",
    "    (Differences are of a magnitude of 1e-9 to 1e-17 depending of the tested\n",
    "    data).\n",
    "\n",
    "    Parameters\n",
    "    ----------\n",
    "    A : array\n",
    "        The first collection of vectors of shape (n, m)\n",
    "    B : array\n",
    "        The second collection of vectors of shape (n, m)\n",
    "    axis : int\n",
    "        The axis that contains the elements of each vector. Defaults to 0.\n",
    "\n",
    "    Returns\n",
    "    -------\n",
    "    corr : array\n",
    "        For each pair of vectors, the correlation between them with shape (m, )\n",
    "\n",
    "    \"\"\"\n",
    "    An = A - np.nanmean(A, axis=axis)\n",
    "    Bn = B - np.nanmean(B, axis=axis)\n",
    "    An /= np.linalg.norm(An, axis=axis)\n",
    "    Bn /= np.linalg.norm(Bn, axis=axis)\n",
    "    return np.nansum(An * Bn, axis=axis)"
   ],
   "id": "b8ee8fd89ea053d0",
   "outputs": [],
   "execution_count": 2
  },
  {
   "metadata": {
    "ExecuteTime": {
     "end_time": "2024-05-07T18:37:10.415906Z",
     "start_time": "2024-05-07T18:37:10.408959Z"
    }
   },
   "cell_type": "code",
   "source": [
    "raw_data_folder_path = \"./raw_data/\"\n",
    "preprocessed_data_folder_path = \"./preprocessed_data/\"\n",
    "save_data_folder_path = \"./save_data/\"\n",
    "images_folder_path = \"./images/\"\n",
    "statistics_folder_path = \"statistics/\"\n",
    "mhw_objects_folder_path = \"mhw_objects/\"\n",
    "\n",
    "folders = Folders(\n",
    "    end_folder = \"\",\n",
    "    raw_data = raw_data_folder_path,\n",
    "    preprocessed_data = preprocessed_data_folder_path,\n",
    "    save_data = save_data_folder_path,\n",
    "    images = images_folder_path,\n",
    "    statistics=statistics_folder_path,\n",
    "    mhw_objects=mhw_objects_folder_path\n",
    ")\n",
    "\n",
    "\n",
    "filenames014 = [\n",
    "    \"ACP_INP0014_REST1_1pnt_1vis\",\n",
    "    \"ACP_INP0014_REST2_1pnt_1vis\",\n",
    "    \"ACP_INP0014_REST3_1pnt_1vis\",\n",
    "    \"ACP_INP0014_REST1_1pnt_2vis\",\n",
    "    \"ACP_INP0014_REST2_1pnt_2vis\",\n",
    "    \"ACP_INP0014_REST3_1pnt_2vis\"\n",
    "]\n",
    "path014 = \"rest_14/\"\n",
    "\n",
    "filenames019 = [\n",
    "    \"INP0019_v1.4_REST1_R003_R003_08.11.23\",\n",
    "    \"INP0019_v1.4_REST2_R003_R003_08.11.23\",\n",
    "    \"INP0019_v1.4_REST3_R003_R003_08.11.23\",\n",
    "    \"INP0019_v1.5_REST2_Op005_Op007_08.12.23\",\n",
    "    \"INP0019_v1.5_REST3_Op005_Op007_08.12.23\",\n",
    "]\n",
    "path019 = \"rest_19/\"\n",
    "\n",
    "filenames036 = [\n",
    "    \"INP0036_v1.4_REST1_Op008_Op011_11.12.23\",\n",
    "    \"INP0036_v1.4_REST2_Op008_Op011_11.12.23\",\n",
    "    \"INP0036_v1.4_REST3_Op008_Op011_11.12.23\",\n",
    "    \"INP0036_v1.5_REST1_Op005_Op010_12.12.23\",\n",
    "    \"INP0036_v1.5_REST2_Op005_Op010_12.12.23\",\n",
    "    \"INP0036_v1.5_REST3_Op005_Op010_12.12.23\",\n",
    "]\n",
    "path036 = \"rest_36/\"\n",
    "\n",
    "filenames045 = [\n",
    "    \"INP0045_v1.4_REST1_R003_R003_08.11.23\",\n",
    "    \"INP0045_v1.4_REST2_R003_R003_08.11.23\",\n",
    "    \"INP0045_v1.4_REST3_R003_R003_08.11.23\",\n",
    "    \"INP0045_v1.5_rs11_Op005_Op008_Op011_17.11.23\",\n",
    "    \"INP0045_v1.5_rs22_Op005_Op008_Op011_17.11.23\",\n",
    "    \"INP0045_v1.5_rs23_Op005_Op008_Op011_17.11.23\",\n",
    "]\n",
    "path045 = \"rest_45/\"\n",
    "\n",
    "filenames064 = [\n",
    "    \"INP0064_v1.4_rs11_S008_R003_04.12.23\",\n",
    "    \"INP0064_v1.4_rs12_Op008_R003_04.12.23\",\n",
    "    \"INP0064_v1.4_rs13_Op008_R003_04.12.23\",\n",
    "    \"INP0064_v1.5_rs21_Op005_Op006_Op008_05.12.23\",\n",
    "    \"INP0064_v1.5_rs22_Op009_A002_13.12.23\",\n",
    "    \"INP0064_v1.5_rs23_Op009_A002_13.12.23\",\n",
    "]\n",
    "path064 = \"rest_64/\"\n",
    "\n",
    "filenames = [filenames014, filenames019, filenames036, filenames045, filenames064]\n",
    "paths = [path014, path019, path036, path045, path064]"
   ],
   "id": "64c541b079577ad8",
   "outputs": [],
   "execution_count": 3
  },
  {
   "metadata": {
    "ExecuteTime": {
     "end_time": "2024-05-07T18:37:10.421833Z",
     "start_time": "2024-05-07T18:37:10.416850Z"
    }
   },
   "cell_type": "code",
   "source": [
    "ms_df = pd.DataFrame()\n",
    "mhw = None"
   ],
   "id": "963307a24dc15e50",
   "outputs": [],
   "execution_count": 4
  },
  {
   "metadata": {
    "ExecuteTime": {
     "end_time": "2024-05-07T19:02:33.856759Z",
     "start_time": "2024-05-07T19:02:33.844717Z"
    }
   },
   "cell_type": "code",
   "source": [
    "# for i in range(len(filenames)):\n",
    "# # for i in range(1):\n",
    "#     for filename in filenames[i]:\n",
    "#         path = paths[i]\n",
    "#         folders.end_folder = path\n",
    "#         th_filename = filename + \"_th\"\n",
    "#         print(f\"Processing {filename}\")\n",
    "#         raw = mne.io.read_raw_eeglab(folders.preprocessed_data + folders.end_folder + filename + '.set')\n",
    "#         mhw = MicrostateHelperWrapper(folders, raw, th_filename)\n",
    "#         mhw = mhw.load()\n",
    "#         ms_df = pd.concat([ms_df, pd.DataFrame.from_records(mhw.ms['Microstates'])])\n",
    "ms_df = pd.read_csv(folders.save_data + \"global_ms_df.csv\")\n",
    "# ms_df = ms_df.drop([0, 1, 2, 3], axis=0)\n",
    "ms_df"
   ],
   "id": "4f78edaaeeaf41f3",
   "outputs": [
    {
     "data": {
      "text/plain": [
       "            0         1         2         3         4         5         6  \\\n",
       "0   -0.006644 -0.003786  0.022780 -0.068057 -0.081319 -0.030526  0.055561   \n",
       "1    0.021876  0.048966  0.070001 -0.019175  0.136481  0.171533  0.150368   \n",
       "2   -0.213811 -0.192938 -0.213446 -0.232989 -0.100649 -0.076194 -0.162760   \n",
       "3   -0.113604 -0.116495 -0.111264 -0.148609 -0.183457 -0.158422 -0.113120   \n",
       "4    0.029540  0.044059  0.073312 -0.010055 -0.081723 -0.011189  0.085289   \n",
       "..        ...       ...       ...       ...       ...       ...       ...   \n",
       "111 -0.094045 -0.118175 -0.117622 -0.094882 -0.129595 -0.150054 -0.145548   \n",
       "112  0.043820  0.059471  0.077218  0.031127  0.018499  0.048242  0.076433   \n",
       "113  0.014016 -0.002980 -0.008221  0.022732 -0.019237 -0.068309 -0.081448   \n",
       "114 -0.100901 -0.120616 -0.122456 -0.119953 -0.125936 -0.151894 -0.140157   \n",
       "115 -0.077140 -0.082318 -0.066859 -0.105168 -0.125242 -0.123145 -0.077136   \n",
       "\n",
       "            7         8         9  ...        51        52        53  \\\n",
       "0    0.071593 -0.152735 -0.076263  ... -0.142599  0.176369  0.180417   \n",
       "1    0.121862  0.032098  0.167533  ... -0.210857 -0.074103 -0.076333   \n",
       "2   -0.196140 -0.102457  0.015701  ...  0.154828  0.099369  0.096591   \n",
       "3   -0.095769 -0.170398 -0.140985  ...  0.089592  0.199675  0.203052   \n",
       "4    0.133414 -0.119304 -0.085157  ... -0.167927  0.140290  0.144683   \n",
       "..        ...       ...       ...  ...       ...       ...       ...   \n",
       "111 -0.133417 -0.096139 -0.095004  ...  0.194572  0.169763  0.202436   \n",
       "112  0.101807 -0.018667 -0.010711  ... -0.246129  0.020769  0.187321   \n",
       "113 -0.032045  0.018353 -0.075454  ...  0.163363 -0.063382  0.111490   \n",
       "114 -0.137790 -0.100920 -0.094870  ...  0.208645  0.183710  0.177915   \n",
       "115 -0.061312 -0.127273 -0.115224  ...  0.034713  0.211974  0.323137   \n",
       "\n",
       "           54        55        56        57        58        59        60  \n",
       "0   -0.091794  0.157969 -0.170030  0.220369 -0.141234  0.180800  0.019553  \n",
       "1   -0.059039  0.069086 -0.203614 -0.065339 -0.218939 -0.077312 -0.133737  \n",
       "2   -0.152494 -0.195536  0.095497  0.027825  0.156344  0.096402  0.191746  \n",
       "3   -0.097345  0.003660  0.046037  0.202745  0.095897  0.203716  0.159175  \n",
       "4   -0.053889  0.206962 -0.167010  0.227166 -0.166413  0.145498 -0.032965  \n",
       "..        ...       ...       ...       ...       ...       ...       ...  \n",
       "111 -0.096087 -0.101074 -0.022374  0.008625  0.208433  0.239808  0.271659  \n",
       "112  0.008580  0.103238 -0.080169  0.220632 -0.242235  0.310792 -0.088594  \n",
       "113  0.011675 -0.028194  0.133553  0.065460  0.265336  0.259502  0.206967  \n",
       "114 -0.122163 -0.113627 -0.033999 -0.018068  0.215734  0.167760  0.249818  \n",
       "115 -0.116870 -0.033995 -0.094521  0.142218  0.046362  0.401070  0.196684  \n",
       "\n",
       "[116 rows x 61 columns]"
      ],
      "text/html": [
       "<div>\n",
       "<style scoped>\n",
       "    .dataframe tbody tr th:only-of-type {\n",
       "        vertical-align: middle;\n",
       "    }\n",
       "\n",
       "    .dataframe tbody tr th {\n",
       "        vertical-align: top;\n",
       "    }\n",
       "\n",
       "    .dataframe thead th {\n",
       "        text-align: right;\n",
       "    }\n",
       "</style>\n",
       "<table border=\"1\" class=\"dataframe\">\n",
       "  <thead>\n",
       "    <tr style=\"text-align: right;\">\n",
       "      <th></th>\n",
       "      <th>0</th>\n",
       "      <th>1</th>\n",
       "      <th>2</th>\n",
       "      <th>3</th>\n",
       "      <th>4</th>\n",
       "      <th>5</th>\n",
       "      <th>6</th>\n",
       "      <th>7</th>\n",
       "      <th>8</th>\n",
       "      <th>9</th>\n",
       "      <th>...</th>\n",
       "      <th>51</th>\n",
       "      <th>52</th>\n",
       "      <th>53</th>\n",
       "      <th>54</th>\n",
       "      <th>55</th>\n",
       "      <th>56</th>\n",
       "      <th>57</th>\n",
       "      <th>58</th>\n",
       "      <th>59</th>\n",
       "      <th>60</th>\n",
       "    </tr>\n",
       "  </thead>\n",
       "  <tbody>\n",
       "    <tr>\n",
       "      <th>0</th>\n",
       "      <td>-0.006644</td>\n",
       "      <td>-0.003786</td>\n",
       "      <td>0.022780</td>\n",
       "      <td>-0.068057</td>\n",
       "      <td>-0.081319</td>\n",
       "      <td>-0.030526</td>\n",
       "      <td>0.055561</td>\n",
       "      <td>0.071593</td>\n",
       "      <td>-0.152735</td>\n",
       "      <td>-0.076263</td>\n",
       "      <td>...</td>\n",
       "      <td>-0.142599</td>\n",
       "      <td>0.176369</td>\n",
       "      <td>0.180417</td>\n",
       "      <td>-0.091794</td>\n",
       "      <td>0.157969</td>\n",
       "      <td>-0.170030</td>\n",
       "      <td>0.220369</td>\n",
       "      <td>-0.141234</td>\n",
       "      <td>0.180800</td>\n",
       "      <td>0.019553</td>\n",
       "    </tr>\n",
       "    <tr>\n",
       "      <th>1</th>\n",
       "      <td>0.021876</td>\n",
       "      <td>0.048966</td>\n",
       "      <td>0.070001</td>\n",
       "      <td>-0.019175</td>\n",
       "      <td>0.136481</td>\n",
       "      <td>0.171533</td>\n",
       "      <td>0.150368</td>\n",
       "      <td>0.121862</td>\n",
       "      <td>0.032098</td>\n",
       "      <td>0.167533</td>\n",
       "      <td>...</td>\n",
       "      <td>-0.210857</td>\n",
       "      <td>-0.074103</td>\n",
       "      <td>-0.076333</td>\n",
       "      <td>-0.059039</td>\n",
       "      <td>0.069086</td>\n",
       "      <td>-0.203614</td>\n",
       "      <td>-0.065339</td>\n",
       "      <td>-0.218939</td>\n",
       "      <td>-0.077312</td>\n",
       "      <td>-0.133737</td>\n",
       "    </tr>\n",
       "    <tr>\n",
       "      <th>2</th>\n",
       "      <td>-0.213811</td>\n",
       "      <td>-0.192938</td>\n",
       "      <td>-0.213446</td>\n",
       "      <td>-0.232989</td>\n",
       "      <td>-0.100649</td>\n",
       "      <td>-0.076194</td>\n",
       "      <td>-0.162760</td>\n",
       "      <td>-0.196140</td>\n",
       "      <td>-0.102457</td>\n",
       "      <td>0.015701</td>\n",
       "      <td>...</td>\n",
       "      <td>0.154828</td>\n",
       "      <td>0.099369</td>\n",
       "      <td>0.096591</td>\n",
       "      <td>-0.152494</td>\n",
       "      <td>-0.195536</td>\n",
       "      <td>0.095497</td>\n",
       "      <td>0.027825</td>\n",
       "      <td>0.156344</td>\n",
       "      <td>0.096402</td>\n",
       "      <td>0.191746</td>\n",
       "    </tr>\n",
       "    <tr>\n",
       "      <th>3</th>\n",
       "      <td>-0.113604</td>\n",
       "      <td>-0.116495</td>\n",
       "      <td>-0.111264</td>\n",
       "      <td>-0.148609</td>\n",
       "      <td>-0.183457</td>\n",
       "      <td>-0.158422</td>\n",
       "      <td>-0.113120</td>\n",
       "      <td>-0.095769</td>\n",
       "      <td>-0.170398</td>\n",
       "      <td>-0.140985</td>\n",
       "      <td>...</td>\n",
       "      <td>0.089592</td>\n",
       "      <td>0.199675</td>\n",
       "      <td>0.203052</td>\n",
       "      <td>-0.097345</td>\n",
       "      <td>0.003660</td>\n",
       "      <td>0.046037</td>\n",
       "      <td>0.202745</td>\n",
       "      <td>0.095897</td>\n",
       "      <td>0.203716</td>\n",
       "      <td>0.159175</td>\n",
       "    </tr>\n",
       "    <tr>\n",
       "      <th>4</th>\n",
       "      <td>0.029540</td>\n",
       "      <td>0.044059</td>\n",
       "      <td>0.073312</td>\n",
       "      <td>-0.010055</td>\n",
       "      <td>-0.081723</td>\n",
       "      <td>-0.011189</td>\n",
       "      <td>0.085289</td>\n",
       "      <td>0.133414</td>\n",
       "      <td>-0.119304</td>\n",
       "      <td>-0.085157</td>\n",
       "      <td>...</td>\n",
       "      <td>-0.167927</td>\n",
       "      <td>0.140290</td>\n",
       "      <td>0.144683</td>\n",
       "      <td>-0.053889</td>\n",
       "      <td>0.206962</td>\n",
       "      <td>-0.167010</td>\n",
       "      <td>0.227166</td>\n",
       "      <td>-0.166413</td>\n",
       "      <td>0.145498</td>\n",
       "      <td>-0.032965</td>\n",
       "    </tr>\n",
       "    <tr>\n",
       "      <th>...</th>\n",
       "      <td>...</td>\n",
       "      <td>...</td>\n",
       "      <td>...</td>\n",
       "      <td>...</td>\n",
       "      <td>...</td>\n",
       "      <td>...</td>\n",
       "      <td>...</td>\n",
       "      <td>...</td>\n",
       "      <td>...</td>\n",
       "      <td>...</td>\n",
       "      <td>...</td>\n",
       "      <td>...</td>\n",
       "      <td>...</td>\n",
       "      <td>...</td>\n",
       "      <td>...</td>\n",
       "      <td>...</td>\n",
       "      <td>...</td>\n",
       "      <td>...</td>\n",
       "      <td>...</td>\n",
       "      <td>...</td>\n",
       "      <td>...</td>\n",
       "    </tr>\n",
       "    <tr>\n",
       "      <th>111</th>\n",
       "      <td>-0.094045</td>\n",
       "      <td>-0.118175</td>\n",
       "      <td>-0.117622</td>\n",
       "      <td>-0.094882</td>\n",
       "      <td>-0.129595</td>\n",
       "      <td>-0.150054</td>\n",
       "      <td>-0.145548</td>\n",
       "      <td>-0.133417</td>\n",
       "      <td>-0.096139</td>\n",
       "      <td>-0.095004</td>\n",
       "      <td>...</td>\n",
       "      <td>0.194572</td>\n",
       "      <td>0.169763</td>\n",
       "      <td>0.202436</td>\n",
       "      <td>-0.096087</td>\n",
       "      <td>-0.101074</td>\n",
       "      <td>-0.022374</td>\n",
       "      <td>0.008625</td>\n",
       "      <td>0.208433</td>\n",
       "      <td>0.239808</td>\n",
       "      <td>0.271659</td>\n",
       "    </tr>\n",
       "    <tr>\n",
       "      <th>112</th>\n",
       "      <td>0.043820</td>\n",
       "      <td>0.059471</td>\n",
       "      <td>0.077218</td>\n",
       "      <td>0.031127</td>\n",
       "      <td>0.018499</td>\n",
       "      <td>0.048242</td>\n",
       "      <td>0.076433</td>\n",
       "      <td>0.101807</td>\n",
       "      <td>-0.018667</td>\n",
       "      <td>-0.010711</td>\n",
       "      <td>...</td>\n",
       "      <td>-0.246129</td>\n",
       "      <td>0.020769</td>\n",
       "      <td>0.187321</td>\n",
       "      <td>0.008580</td>\n",
       "      <td>0.103238</td>\n",
       "      <td>-0.080169</td>\n",
       "      <td>0.220632</td>\n",
       "      <td>-0.242235</td>\n",
       "      <td>0.310792</td>\n",
       "      <td>-0.088594</td>\n",
       "    </tr>\n",
       "    <tr>\n",
       "      <th>113</th>\n",
       "      <td>0.014016</td>\n",
       "      <td>-0.002980</td>\n",
       "      <td>-0.008221</td>\n",
       "      <td>0.022732</td>\n",
       "      <td>-0.019237</td>\n",
       "      <td>-0.068309</td>\n",
       "      <td>-0.081448</td>\n",
       "      <td>-0.032045</td>\n",
       "      <td>0.018353</td>\n",
       "      <td>-0.075454</td>\n",
       "      <td>...</td>\n",
       "      <td>0.163363</td>\n",
       "      <td>-0.063382</td>\n",
       "      <td>0.111490</td>\n",
       "      <td>0.011675</td>\n",
       "      <td>-0.028194</td>\n",
       "      <td>0.133553</td>\n",
       "      <td>0.065460</td>\n",
       "      <td>0.265336</td>\n",
       "      <td>0.259502</td>\n",
       "      <td>0.206967</td>\n",
       "    </tr>\n",
       "    <tr>\n",
       "      <th>114</th>\n",
       "      <td>-0.100901</td>\n",
       "      <td>-0.120616</td>\n",
       "      <td>-0.122456</td>\n",
       "      <td>-0.119953</td>\n",
       "      <td>-0.125936</td>\n",
       "      <td>-0.151894</td>\n",
       "      <td>-0.140157</td>\n",
       "      <td>-0.137790</td>\n",
       "      <td>-0.100920</td>\n",
       "      <td>-0.094870</td>\n",
       "      <td>...</td>\n",
       "      <td>0.208645</td>\n",
       "      <td>0.183710</td>\n",
       "      <td>0.177915</td>\n",
       "      <td>-0.122163</td>\n",
       "      <td>-0.113627</td>\n",
       "      <td>-0.033999</td>\n",
       "      <td>-0.018068</td>\n",
       "      <td>0.215734</td>\n",
       "      <td>0.167760</td>\n",
       "      <td>0.249818</td>\n",
       "    </tr>\n",
       "    <tr>\n",
       "      <th>115</th>\n",
       "      <td>-0.077140</td>\n",
       "      <td>-0.082318</td>\n",
       "      <td>-0.066859</td>\n",
       "      <td>-0.105168</td>\n",
       "      <td>-0.125242</td>\n",
       "      <td>-0.123145</td>\n",
       "      <td>-0.077136</td>\n",
       "      <td>-0.061312</td>\n",
       "      <td>-0.127273</td>\n",
       "      <td>-0.115224</td>\n",
       "      <td>...</td>\n",
       "      <td>0.034713</td>\n",
       "      <td>0.211974</td>\n",
       "      <td>0.323137</td>\n",
       "      <td>-0.116870</td>\n",
       "      <td>-0.033995</td>\n",
       "      <td>-0.094521</td>\n",
       "      <td>0.142218</td>\n",
       "      <td>0.046362</td>\n",
       "      <td>0.401070</td>\n",
       "      <td>0.196684</td>\n",
       "    </tr>\n",
       "  </tbody>\n",
       "</table>\n",
       "<p>116 rows × 61 columns</p>\n",
       "</div>"
      ]
     },
     "execution_count": 89,
     "metadata": {},
     "output_type": "execute_result"
    }
   ],
   "execution_count": 89
  },
  {
   "metadata": {
    "ExecuteTime": {
     "end_time": "2024-05-07T18:37:10.434337Z",
     "start_time": "2024-05-07T18:37:10.431744Z"
    }
   },
   "cell_type": "code",
   "source": "# ms_df.reset_index(drop=True, inplace=True)",
   "id": "68e41003caaa20e2",
   "outputs": [],
   "execution_count": 6
  },
  {
   "metadata": {
    "ExecuteTime": {
     "end_time": "2024-05-07T18:37:10.440039Z",
     "start_time": "2024-05-07T18:37:10.435376Z"
    }
   },
   "cell_type": "code",
   "source": [
    "# replace NaN with 0\n",
    "# ms_df.fillna(0, inplace=True)"
   ],
   "id": "555622ccfcfdfb0b",
   "outputs": [],
   "execution_count": 7
  },
  {
   "metadata": {
    "ExecuteTime": {
     "end_time": "2024-05-07T18:37:10.445175Z",
     "start_time": "2024-05-07T18:37:10.440553Z"
    }
   },
   "cell_type": "code",
   "source": "# ms_df.to_csv(folders.save_data + \"global_ms_df.csv\", index=False)",
   "id": "447ad7d509b7dcaf",
   "outputs": [],
   "execution_count": 8
  },
  {
   "metadata": {
    "ExecuteTime": {
     "end_time": "2024-05-07T18:37:10.450682Z",
     "start_time": "2024-05-07T18:37:10.445175Z"
    }
   },
   "cell_type": "code",
   "source": "# clustering, clusters, cluster_info = cluster(ms_df, n_clusters=4, method='kmod', verbose=True)",
   "id": "e251c28d1776689e",
   "outputs": [],
   "execution_count": 9
  },
  {
   "metadata": {
    "ExecuteTime": {
     "end_time": "2024-05-07T18:37:10.455642Z",
     "start_time": "2024-05-07T18:37:10.451687Z"
    }
   },
   "cell_type": "code",
   "source": [
    "# for i in range(4):\n",
    "#     mne.viz.plot_topomap(clusters[i], mhw.raw.info, show=True)\n"
   ],
   "id": "42ed44033e7a0d29",
   "outputs": [],
   "execution_count": 10
  },
  {
   "metadata": {
    "ExecuteTime": {
     "end_time": "2024-05-07T18:37:10.461724Z",
     "start_time": "2024-05-07T18:37:10.455642Z"
    }
   },
   "cell_type": "code",
   "source": "# _cluster_quality_gev(ms_df, clusters, clustering[\"Cluster\"])",
   "id": "e67d1347aace641a",
   "outputs": [],
   "execution_count": 11
  },
  {
   "metadata": {
    "ExecuteTime": {
     "end_time": "2024-05-07T18:37:10.464592Z",
     "start_time": "2024-05-07T18:37:10.461724Z"
    }
   },
   "cell_type": "code",
   "source": "",
   "id": "a4ca6e7f62505806",
   "outputs": [],
   "execution_count": 11
  },
  {
   "metadata": {
    "ExecuteTime": {
     "end_time": "2024-05-07T18:37:10.468739Z",
     "start_time": "2024-05-07T18:37:10.465108Z"
    }
   },
   "cell_type": "code",
   "source": [
    "methods = [\n",
    "    \"kmod\",\n",
    "    \"kmeans\",\n",
    "    \"kmedoids\",\n",
    "    \"pca\",\n",
    "    \"ica\",\n",
    "    \"aahc\",\n",
    "    \"hierarchical\",\n",
    "    \"spectral\",\n",
    "    \"mixture\",\n",
    "    \"mixturebayesian\"\n",
    "]\n",
    "# method_df = pd.DataFrame(columns=methods)\n",
    "# for i in range(100):\n",
    "#     print(i)\n",
    "#     val_arr = []\n",
    "#     for method in methods:\n",
    "#         clustering, clusters, cluster_info = cluster(ms_df, n_clusters=4, method=method)\n",
    "#         print(\"===============\" + method + \"===================\")\n",
    "#         # for i in range(4):\n",
    "#         #     mne.viz.plot_topomap(clusters[i], mhw.raw.info, show=True)\n",
    "#         quality = _cluster_quality_gev(ms_df, clusters, clustering[\"Cluster\"])\n",
    "#         print(quality)\n",
    "#         val_arr.append(quality[0])\n",
    "#     method_df = pd.concat([method_df, pd.DataFrame([val_arr], columns=methods)])\n",
    "\n",
    "# cols2 = [\"GEV\", \"GEV1\", \"GEV2\", \"GEV3\", \"GEV4\", \"Method\"]\n",
    "# method_df2 = pd.DataFrame(columns=cols2)\n",
    "# for i in range(100):\n",
    "#     print(i)\n",
    "#     val_arr = []\n",
    "#     for method in methods:\n",
    "#         clustering, clusters, cluster_info = cluster(ms_df, n_clusters=4, method=method)\n",
    "#         print(\"===============\" + method + \"===================\")\n",
    "#         # for i in range(4):\n",
    "#         #     mne.viz.plot_topomap(clusters[i], mhw.raw.info, show=True)\n",
    "#         quality = _cluster_quality_gev(ms_df, clusters, clustering[\"Cluster\"])\n",
    "#         print(quality)\n",
    "#         sorted_quality = np.sort(quality[1])\n",
    "#         val_arr.append([quality[0], *sorted_quality, method])\n",
    "#     method_df2 = pd.concat([method_df2, pd.DataFrame(val_arr, columns=cols2)])\n"
   ],
   "id": "129359ff19e5a0de",
   "outputs": [],
   "execution_count": 12
  },
  {
   "metadata": {
    "ExecuteTime": {
     "end_time": "2024-05-07T18:37:10.474438Z",
     "start_time": "2024-05-07T18:37:10.469254Z"
    }
   },
   "cell_type": "code",
   "source": "# method_df*100",
   "id": "be5a81d4ed6b1cc3",
   "outputs": [],
   "execution_count": 13
  },
  {
   "metadata": {
    "ExecuteTime": {
     "end_time": "2024-05-07T18:37:10.481003Z",
     "start_time": "2024-05-07T18:37:10.474977Z"
    }
   },
   "cell_type": "code",
   "source": "# method_df2.groupby(\"Method\").mean()*100",
   "id": "a9bc5aae9894a3c4",
   "outputs": [],
   "execution_count": 14
  },
  {
   "metadata": {},
   "cell_type": "markdown",
   "source": "## Сравнение методов для исходных данных",
   "id": "a76e39520222ea8c"
  },
  {
   "metadata": {
    "ExecuteTime": {
     "end_time": "2024-05-07T18:37:12.107692Z",
     "start_time": "2024-05-07T18:37:10.482007Z"
    }
   },
   "cell_type": "code",
   "source": [
    "raw = mne.io.read_raw_eeglab(folders.preprocessed_data + path014 + filenames[0][0] + '.set')\n",
    "raw.load_data(verbose=False)"
   ],
   "id": "730893b32704c22d",
   "outputs": [
    {
     "name": "stderr",
     "output_type": "stream",
     "text": [
      "C:\\Users\\bortn\\AppData\\Local\\Temp\\ipykernel_15804\\259043695.py:1: RuntimeWarning: Data will be preloaded. preload=False or a string preload is not supported when the data is stored in the .set file\n",
      "  raw = mne.io.read_raw_eeglab(folders.preprocessed_data + path014 + filenames[0][0] + '.set')\n",
      "C:\\Users\\bortn\\AppData\\Local\\Temp\\ipykernel_15804\\259043695.py:1: RuntimeWarning: The data contains 'boundary' events, indicating data discontinuities. Be cautious of filtering and epoching around these events.\n",
      "  raw = mne.io.read_raw_eeglab(folders.preprocessed_data + path014 + filenames[0][0] + '.set')\n"
     ]
    },
    {
     "data": {
      "text/plain": [
       "<RawEEGLAB | ACP_INP0014_REST1_1pnt_1vis.set, 61 x 1013447 (494.8 s), ~471.7 MB, data loaded>"
      ],
      "text/html": [
       "<details open>\n",
       "    <summary><strong>General</strong></summary>\n",
       "    <table class=\"table table-hover table-striped table-sm table-responsive small\">\n",
       "        <tr>\n",
       "            <th>Measurement date</th>\n",
       "            \n",
       "            <td>Unknown</td>\n",
       "            \n",
       "        </tr>\n",
       "        <tr>\n",
       "            <th>Experimenter</th>\n",
       "            \n",
       "            <td>Unknown</td>\n",
       "            \n",
       "        </tr>\n",
       "        <tr>\n",
       "            <th>Participant</th>\n",
       "            \n",
       "            <td>Unknown</td>\n",
       "            \n",
       "        </tr>\n",
       "    </table>\n",
       "    </details>\n",
       "    <details open>\n",
       "        <summary><strong>Channels</strong></summary>\n",
       "        <table class=\"table table-hover table-striped table-sm table-responsive small\">\n",
       "            <tr>\n",
       "                <th>Digitized points</th>\n",
       "                \n",
       "                <td>64 points</td>\n",
       "                \n",
       "            </tr>\n",
       "            <tr>\n",
       "                <th>Good channels</th>\n",
       "                <td>61 EEG</td>\n",
       "            </tr>\n",
       "            <tr>\n",
       "                <th>Bad channels</th>\n",
       "                <td>None</td>\n",
       "            </tr>\n",
       "            <tr>\n",
       "                <th>EOG channels</th>\n",
       "                <td>Not available</td>\n",
       "            </tr>\n",
       "            <tr>\n",
       "                <th>ECG channels</th>\n",
       "                <td>Not available</td>\n",
       "            </tr>\n",
       "        </table>\n",
       "        </details>\n",
       "        <details open>\n",
       "            <summary><strong>Data</strong></summary>\n",
       "            <table class=\"table table-hover table-striped table-sm table-responsive small\">\n",
       "                \n",
       "                <tr>\n",
       "                    <th>Sampling frequency</th>\n",
       "                    <td>2048.00 Hz</td>\n",
       "                </tr>\n",
       "                \n",
       "                \n",
       "                <tr>\n",
       "                    <th>Highpass</th>\n",
       "                    <td>0.00 Hz</td>\n",
       "                </tr>\n",
       "                \n",
       "                \n",
       "                <tr>\n",
       "                    <th>Lowpass</th>\n",
       "                    <td>1024.00 Hz</td>\n",
       "                </tr>\n",
       "                \n",
       "                \n",
       "                \n",
       "                <tr>\n",
       "                    <th>Filenames</th>\n",
       "                    <td>ACP_INP0014_REST1_1pnt_1vis.set</td>\n",
       "                </tr>\n",
       "                \n",
       "                \n",
       "                <tr>\n",
       "                    <th>Duration</th>\n",
       "                    <td>00:08:15 (HH:MM:SS)</td>\n",
       "                </tr>\n",
       "                \n",
       "            </table>\n",
       "            </details>"
      ]
     },
     "execution_count": 15,
     "metadata": {},
     "output_type": "execute_result"
    }
   ],
   "execution_count": 15
  },
  {
   "metadata": {
    "ExecuteTime": {
     "end_time": "2024-05-07T18:37:12.110748Z",
     "start_time": "2024-05-07T18:37:12.107692Z"
    }
   },
   "cell_type": "code",
   "source": [
    "\n",
    "# method_df = pd.DataFrame(columns=methods)"
   ],
   "id": "f26c1a439635c6b1",
   "outputs": [],
   "execution_count": 16
  },
  {
   "metadata": {
    "ExecuteTime": {
     "end_time": "2024-05-07T18:37:12.117321Z",
     "start_time": "2024-05-07T18:37:12.111527Z"
    }
   },
   "cell_type": "code",
   "source": [
    "# methods = [\n",
    "#     \"kmod\",\n",
    "#     \"kmeans\",\n",
    "#     # \"kmedoids\",\n",
    "#     # \"pca\",\n",
    "#     # \"ica\",\n",
    "#     \"aahc\",\n",
    "#     \"hierarchical\",\n",
    "#     \"spectral\",\n",
    "#     # \"mixture\",\n",
    "#     # \"mixturebayesian\"\n",
    "# ]\n",
    "# for i in range(100):\n",
    "#     print(i)\n",
    "#     val_arr = []\n",
    "#     for method in methods:\n",
    "#         clustering, clusters, cluster_info = cluster(ms_df, n_clusters=4, method=method)\n",
    "#         print(\"===============\" + method + \"===================\")\n",
    "#         # for i in range(4):\n",
    "#         #     mne.viz.plot_topomap(clusters[i], mhw.raw.info, show=True)\n",
    "#         quality = _cluster_quality_gev(ms_df, clusters, clustering[\"Cluster\"])\n",
    "#         print(quality)\n",
    "#         val_arr.append(quality[0])\n",
    "#     method_df = pd.concat([method_df, pd.DataFrame([val_arr], columns=methods)])\n",
    "\n",
    "\n",
    "\n",
    "# for i in range(10):\n",
    "#     print(i)\n",
    "\n",
    "# ms_arr = {\n",
    "#     \"kmod\": [],\n",
    "#     \"kmeans\": [],\n",
    "#     # \"kmedoids\": [],\n",
    "#     # \"pca\": [],\n",
    "#     # \"ica\": [],\n",
    "#     \"aahc\": [],\n",
    "#     \"hierarchical\": [],\n",
    "#     \"spectral\": [],\n",
    "#     # \"mixture\": [],\n",
    "#     # \"mixturebayesian\": []\n",
    "# }\n",
    "\n",
    "# for i in range(5):\n",
    "#     print(i)\n",
    "#     val_arr = []\n",
    "#     for method in methods:\n",
    "#         print(\"===============\" + method + \"===================\")\n",
    "#         microstates = nk.microstates_segment(raw, n_microstates=4, method=method)\n",
    "#         print(microstates[\"GEV\"])\n",
    "#         val_arr.append(microstates[\"GEV\"])\n",
    "#         ms_arr[method].append(microstates)\n",
    "#     method_df = pd.concat([method_df, pd.DataFrame([val_arr], columns=methods)])\n",
    "        "
   ],
   "id": "d65f1dac3684728e",
   "outputs": [],
   "execution_count": 17
  },
  {
   "metadata": {
    "ExecuteTime": {
     "end_time": "2024-05-07T18:37:12.123912Z",
     "start_time": "2024-05-07T18:37:12.118374Z"
    }
   },
   "cell_type": "code",
   "source": "# method_df",
   "id": "89ecd666c2bc2f40",
   "outputs": [],
   "execution_count": 18
  },
  {
   "metadata": {
    "ExecuteTime": {
     "end_time": "2024-05-07T18:37:12.129364Z",
     "start_time": "2024-05-07T18:37:12.124915Z"
    }
   },
   "cell_type": "code",
   "source": [
    "# import matplotlib as mpl\n",
    "# import matplotlib.pyplot as plt\n",
    "# for (key, value) in ms_arr.items():\n",
    "#     print(key)\n",
    "#     fig, axes = plt.subplots(len(value), 4, figsize=(10, 10))\n",
    "#     fig.suptitle(key)\n",
    "#     for i in range(len(value)):\n",
    "#         for j in range(4):\n",
    "#             mne.viz.plot_topomap(value[i][\"Microstates\"][j], value[i][\"Info\"], show=False, axes=axes[i][j])\n",
    "#     plt.show()"
   ],
   "id": "763681e54b0c44bd",
   "outputs": [],
   "execution_count": 19
  },
  {
   "metadata": {
    "ExecuteTime": {
     "end_time": "2024-05-07T18:37:12.135958Z",
     "start_time": "2024-05-07T18:37:12.130367Z"
    }
   },
   "cell_type": "code",
   "source": [
    "# # Gev per microstate into df\n",
    "# cols = [\"GEV1\", \"GEV2\", \"GEV3\", \"GEV4\", \"Method\"]\n",
    "# gev_per_ms = pd.DataFrame(columns=cols)\n",
    "# for (key, value) in ms_arr.items():\n",
    "#     for i in range(len(value)):\n",
    "#         # row = [*value[i][\"GEV_per_microstate\"], key]\n",
    "#         # print(pd.DataFrame.from_records(row))\n",
    "#         gev_per_ms = pd.concat([gev_per_ms, pd.DataFrame([[*np.sort(value[i][\"GEV_per_microstate\"]), key]], columns=cols)])"
   ],
   "id": "bbfca3208d4553e5",
   "outputs": [],
   "execution_count": 20
  },
  {
   "metadata": {
    "ExecuteTime": {
     "end_time": "2024-05-07T18:37:12.142423Z",
     "start_time": "2024-05-07T18:37:12.136961Z"
    }
   },
   "cell_type": "code",
   "source": "# gev_per_ms.groupby(\"Method\").mean()*100",
   "id": "1913c987d73899db",
   "outputs": [],
   "execution_count": 21
  },
  {
   "metadata": {
    "ExecuteTime": {
     "end_time": "2024-05-07T18:37:12.148708Z",
     "start_time": "2024-05-07T18:37:12.143487Z"
    }
   },
   "cell_type": "code",
   "source": [
    "# ms_arr to pickle \n",
    "# import pickle\n",
    "# with open(folders.save_data + \"ms_arr.pkl\", \"wb\") as f:\n",
    "#     pickle.dump(ms_arr, f)\n"
   ],
   "id": "2f5896c83fd9ee46",
   "outputs": [],
   "execution_count": 22
  },
  {
   "metadata": {
    "ExecuteTime": {
     "end_time": "2024-05-07T18:37:12.154559Z",
     "start_time": "2024-05-07T18:37:12.149770Z"
    }
   },
   "cell_type": "code",
   "source": "# cluster_quality = nk.cluster_quality(ms_df, clustering, clusters, cluster_info)",
   "id": "8e0fb0a1d3fb034d",
   "outputs": [],
   "execution_count": 23
  },
  {
   "metadata": {
    "ExecuteTime": {
     "end_time": "2024-05-07T18:37:12.160066Z",
     "start_time": "2024-05-07T18:37:12.155563Z"
    }
   },
   "cell_type": "code",
   "source": [
    "# scipy.spatial.distance.cdist(mhw.ms[\"Microstates\"], clusters, 'correlation')\n",
    "# 2 0 3 2"
   ],
   "id": "900bf24d23b61046",
   "outputs": [],
   "execution_count": 24
  },
  {
   "metadata": {
    "ExecuteTime": {
     "end_time": "2024-05-07T18:37:12.165541Z",
     "start_time": "2024-05-07T18:37:12.160577Z"
    }
   },
   "cell_type": "code",
   "source": [
    "# scipy.spatial.distance.cdist(mhw.ms[\"Microstates\"], clusters, 'euclidean')\n",
    "# 2 1 3 3"
   ],
   "id": "1ef04d38a1c86caf",
   "outputs": [],
   "execution_count": 25
  },
  {
   "metadata": {
    "ExecuteTime": {
     "end_time": "2024-05-07T18:37:12.172898Z",
     "start_time": "2024-05-07T18:37:12.166545Z"
    }
   },
   "cell_type": "code",
   "source": [
    "import functools\n",
    "from neurokit2.stats.cluster_quality import _cluster_quality_distance\n",
    "from neurokit2.stats.cluster import _cluster_getclusters\n",
    "import warnings\n",
    "from neurokit2 import check_random_state\n",
    "\n",
    "\n",
    "def _cluster_kmod(\n",
    "        data,\n",
    "        n_clusters=4,\n",
    "        max_iterations=1000,\n",
    "        threshold=1e-6,\n",
    "        random_state=None,\n",
    "        optimize=False,\n",
    "        **kwargs\n",
    "):\n",
    "\n",
    "    n_samples, n_channels = data.shape\n",
    "\n",
    "    # Cache this value for later to compute residual\n",
    "    data_sum_sq = np.sum(data**2)\n",
    "\n",
    "    # Select random timepoints for our initial topographic maps\n",
    "    rng = check_random_state(random_state)\n",
    "    init_times = rng.choice(n_samples, size=n_clusters, replace=False)\n",
    "\n",
    "    # Initialize random cluster centroids\n",
    "    clusters = data[init_times, :]\n",
    "\n",
    "    # Normalize row-wise (across EEG channels)\n",
    "    clusters /= np.linalg.norm(clusters, axis=1, keepdims=True)  # Normalize the maps\n",
    "\n",
    "    # Initialize iteration\n",
    "    prev_residual = 0\n",
    "    for i in range(max_iterations):\n",
    "\n",
    "        # Step 3: Assign each sample to the best matching microstate\n",
    "        activation = clusters.dot(data.T)\n",
    "        segmentation = np.argmax(np.abs(activation), axis=0)\n",
    "        # print(activation[:4],segmentation[:4])\n",
    "        # Step 4: Recompute the topographic maps of the microstates, based on the\n",
    "        # samples that were assigned to each state.\n",
    "        for state in np.arange(n_clusters):\n",
    "\n",
    "            # Get data fro specific state\n",
    "            idx = segmentation == state\n",
    "            data_state = data[idx, :]\n",
    "\n",
    "            # Sanity check\n",
    "            if np.sum(idx) == 0:\n",
    "                clusters[state] = 0\n",
    "                continue\n",
    "\n",
    "            # Retrieve map values\n",
    "\n",
    "            if optimize:\n",
    "                # Method 2 - optimized segmentation\n",
    "                state_vals = data_state.T.dot(activation[state, idx])\n",
    "            else:\n",
    "                # Method 1 - eighen value\n",
    "                # step 4a\n",
    "                Sk = np.dot(data_state.T, data_state)\n",
    "                # step 4b\n",
    "                eigen_vals, eigen_vectors = scipy.linalg.eigh(Sk)\n",
    "                state_vals = eigen_vectors[:, np.argmax(np.abs(eigen_vals))]\n",
    "\n",
    "            state_vals /= np.linalg.norm(state_vals)  # Normalize Map\n",
    "            clusters[state, :] = state_vals  # Store map\n",
    "\n",
    "        # Estimate residual noise (step 5)\n",
    "        act_sum_sq = np.sum(np.sum(clusters[segmentation, :] * data, axis=1) ** 2)\n",
    "        residual = np.abs(data_sum_sq - act_sum_sq)\n",
    "        residual = residual / float(n_samples * (n_channels - 1))\n",
    "\n",
    "        # Have we converged? Convergence criterion: variance estimate (step 6)\n",
    "        if np.abs(prev_residual - residual) < (threshold * residual):\n",
    "            break\n",
    "\n",
    "        # Next iteration\n",
    "        prev_residual = residual.copy()\n",
    "\n",
    "    if i == max_iterations:\n",
    "        warnings.warn(\n",
    "            \"Modified K-means algorithm failed to converge after \" + str(i) + \"\",\n",
    "            \"iterations. Consider increasing 'max_iterations'.\",\n",
    "        )\n",
    "\n",
    "    # De-normalize\n",
    "    clusters_unnormalized = _cluster_getclusters(data, segmentation)\n",
    "    prediction = _cluster_quality_distance(data, clusters_unnormalized, to_dataframe=True)\n",
    "    prediction[\"Cluster\"] = segmentation\n",
    "\n",
    "    # Copy function with given parameters\n",
    "    clustering_function = functools.partial(\n",
    "        _cluster_kmod,\n",
    "        n_clusters=n_clusters,\n",
    "        max_iterations=max_iterations,\n",
    "        threshold=threshold,\n",
    "        random_state=random_state,\n",
    "        **kwargs\n",
    "    )\n",
    "\n",
    "    # Info dump\n",
    "    info = {\n",
    "        \"n_clusters\": n_clusters,\n",
    "        \"clustering_function\": clustering_function,\n",
    "        \"random_state\": random_state,\n",
    "        \"clusters_normalized\": clusters,\n",
    "        \"residual\": residual,\n",
    "    }\n",
    "\n",
    "    return prediction, clusters_unnormalized, info"
   ],
   "id": "f4638671eb622e4f",
   "outputs": [],
   "execution_count": 26
  },
  {
   "metadata": {
    "ExecuteTime": {
     "end_time": "2024-05-07T18:37:12.178426Z",
     "start_time": "2024-05-07T18:37:12.174902Z"
    }
   },
   "cell_type": "code",
   "source": "# clustering1, clusters1, cluster_info1 = _cluster_kmod(ms_df.values, n_clusters=4, method='kmod', verbose=True)",
   "id": "e24191cc2772a412",
   "outputs": [],
   "execution_count": 27
  },
  {
   "metadata": {
    "ExecuteTime": {
     "end_time": "2024-05-07T18:37:12.184374Z",
     "start_time": "2024-05-07T18:37:12.178426Z"
    }
   },
   "cell_type": "code",
   "source": "# np.bincount(clustering1['Cluster'])",
   "id": "d9895134dc86d0f0",
   "outputs": [],
   "execution_count": 28
  },
  {
   "metadata": {
    "ExecuteTime": {
     "end_time": "2024-05-07T18:37:12.189882Z",
     "start_time": "2024-05-07T18:37:12.185380Z"
    }
   },
   "cell_type": "code",
   "source": [
    "# for i in range(4):\n",
    "#     mne.viz.plot_topomap(clusters1[i], mhw.raw.info, show=True)"
   ],
   "id": "4881bc9bd20fad00",
   "outputs": [],
   "execution_count": 29
  },
  {
   "metadata": {
    "ExecuteTime": {
     "end_time": "2024-05-07T18:37:12.610855Z",
     "start_time": "2024-05-07T18:37:12.190392Z"
    }
   },
   "cell_type": "code",
   "source": "clustering2, clusters2, cluster_info2 = cluster(ms_df.values, n_clusters=4, method='aahc', verbose=True)",
   "id": "75fe2b80f1c0975e",
   "outputs": [
    {
     "name": "stdout",
     "output_type": "stream",
     "text": [
      "Computing label assignment using kmeans\n",
      "Initialization complete\n",
      "Iteration 0, inertia 0.03314516922637559.\n",
      "Iteration 1, inertia 0.019973425493551532.\n",
      "Iteration 2, inertia 0.019902151101931935.\n",
      "Converged at iteration 2: strict convergence.\n",
      "Initialization complete\n",
      "Iteration 0, inertia 0.04785128736617575.\n",
      "Iteration 1, inertia 0.02193306887917855.\n",
      "Iteration 2, inertia 0.02037822414979598.\n",
      "Iteration 3, inertia 0.019902151101931935.\n",
      "Converged at iteration 3: strict convergence.\n",
      "Initialization complete\n",
      "Iteration 0, inertia 0.032508983827069814.\n",
      "Iteration 1, inertia 0.02109951605298494.\n",
      "Iteration 2, inertia 0.02000498476006949.\n",
      "Iteration 3, inertia 0.019902151101931935.\n",
      "Converged at iteration 3: strict convergence.\n",
      "Initialization complete\n",
      "Iteration 0, inertia 0.03510746186225038.\n",
      "Iteration 1, inertia 0.021705236766663777.\n",
      "Iteration 2, inertia 0.020333700599613327.\n",
      "Iteration 3, inertia 0.019902151101931935.\n",
      "Converged at iteration 3: strict convergence.\n",
      "Initialization complete\n",
      "Iteration 0, inertia 0.034767517762056596.\n",
      "Iteration 1, inertia 0.02065484021511978.\n",
      "Iteration 2, inertia 0.01993611963813144.\n",
      "Iteration 3, inertia 0.019902151101931935.\n",
      "Converged at iteration 3: strict convergence.\n",
      "Initialization complete\n",
      "Iteration 0, inertia 0.035372962175067045.\n",
      "Iteration 1, inertia 0.020103816255128325.\n",
      "Iteration 2, inertia 0.019902151101931935.\n",
      "Converged at iteration 2: strict convergence.\n",
      "Initialization complete\n",
      "Iteration 0, inertia 0.031215817699988373.\n",
      "Iteration 1, inertia 0.020944555519644917.\n",
      "Iteration 2, inertia 0.019902151101931935.\n",
      "Converged at iteration 2: strict convergence.\n",
      "Initialization complete\n",
      "Iteration 0, inertia 0.04259628904168336.\n",
      "Iteration 1, inertia 0.034974197015458924.\n",
      "Iteration 2, inertia 0.028265542705618728.\n",
      "Iteration 3, inertia 0.023228594997779864.\n",
      "Iteration 4, inertia 0.020433319419287468.\n",
      "Iteration 5, inertia 0.019948596717702115.\n",
      "Iteration 6, inertia 0.019902151101931935.\n",
      "Converged at iteration 6: strict convergence.\n",
      "Initialization complete\n",
      "Iteration 0, inertia 0.04645326733090269.\n",
      "Iteration 1, inertia 0.024992557677499735.\n",
      "Iteration 2, inertia 0.020733952164762075.\n",
      "Iteration 3, inertia 0.019948596717702115.\n",
      "Iteration 4, inertia 0.019902151101931935.\n",
      "Converged at iteration 4: strict convergence.\n",
      "Initialization complete\n",
      "Iteration 0, inertia 0.024122459489474044.\n",
      "Iteration 1, inertia 0.020095240412319363.\n",
      "Iteration 2, inertia 0.01993611963813144.\n",
      "Iteration 3, inertia 0.019902151101931935.\n",
      "Converged at iteration 3: strict convergence.\n"
     ]
    }
   ],
   "execution_count": 30
  },
  {
   "metadata": {
    "ExecuteTime": {
     "end_time": "2024-05-07T18:37:12.620369Z",
     "start_time": "2024-05-07T18:37:12.611860Z"
    }
   },
   "cell_type": "code",
   "source": "clustering2",
   "id": "c2bda3286094c9d9",
   "outputs": [
    {
     "data": {
      "text/plain": [
       "     Distance_0  Distance_1  Distance_2  Distance_3  Cluster\n",
       "0      1.163525    1.397206    0.282814    1.794075        2\n",
       "1      1.716836    0.491136    1.060286    1.613011        1\n",
       "2      0.582613    1.738869    1.433835    1.140570        0\n",
       "3      0.413958    1.807804    1.023941    1.435764        0\n",
       "4      1.291355    1.289279    0.278172    1.792044        2\n",
       "..          ...         ...         ...         ...      ...\n",
       "111    0.280809    1.831800    1.323569    1.154591        0\n",
       "112    1.430753    1.130508    0.491710    1.744710        2\n",
       "113    0.937853    1.638946    1.405636    0.923392        0\n",
       "114    0.299680    1.825739    1.349341    1.149868        0\n",
       "115    0.554257    1.751162    0.852058    1.531493        0\n",
       "\n",
       "[116 rows x 5 columns]"
      ],
      "text/html": [
       "<div>\n",
       "<style scoped>\n",
       "    .dataframe tbody tr th:only-of-type {\n",
       "        vertical-align: middle;\n",
       "    }\n",
       "\n",
       "    .dataframe tbody tr th {\n",
       "        vertical-align: top;\n",
       "    }\n",
       "\n",
       "    .dataframe thead th {\n",
       "        text-align: right;\n",
       "    }\n",
       "</style>\n",
       "<table border=\"1\" class=\"dataframe\">\n",
       "  <thead>\n",
       "    <tr style=\"text-align: right;\">\n",
       "      <th></th>\n",
       "      <th>Distance_0</th>\n",
       "      <th>Distance_1</th>\n",
       "      <th>Distance_2</th>\n",
       "      <th>Distance_3</th>\n",
       "      <th>Cluster</th>\n",
       "    </tr>\n",
       "  </thead>\n",
       "  <tbody>\n",
       "    <tr>\n",
       "      <th>0</th>\n",
       "      <td>1.163525</td>\n",
       "      <td>1.397206</td>\n",
       "      <td>0.282814</td>\n",
       "      <td>1.794075</td>\n",
       "      <td>2</td>\n",
       "    </tr>\n",
       "    <tr>\n",
       "      <th>1</th>\n",
       "      <td>1.716836</td>\n",
       "      <td>0.491136</td>\n",
       "      <td>1.060286</td>\n",
       "      <td>1.613011</td>\n",
       "      <td>1</td>\n",
       "    </tr>\n",
       "    <tr>\n",
       "      <th>2</th>\n",
       "      <td>0.582613</td>\n",
       "      <td>1.738869</td>\n",
       "      <td>1.433835</td>\n",
       "      <td>1.140570</td>\n",
       "      <td>0</td>\n",
       "    </tr>\n",
       "    <tr>\n",
       "      <th>3</th>\n",
       "      <td>0.413958</td>\n",
       "      <td>1.807804</td>\n",
       "      <td>1.023941</td>\n",
       "      <td>1.435764</td>\n",
       "      <td>0</td>\n",
       "    </tr>\n",
       "    <tr>\n",
       "      <th>4</th>\n",
       "      <td>1.291355</td>\n",
       "      <td>1.289279</td>\n",
       "      <td>0.278172</td>\n",
       "      <td>1.792044</td>\n",
       "      <td>2</td>\n",
       "    </tr>\n",
       "    <tr>\n",
       "      <th>...</th>\n",
       "      <td>...</td>\n",
       "      <td>...</td>\n",
       "      <td>...</td>\n",
       "      <td>...</td>\n",
       "      <td>...</td>\n",
       "    </tr>\n",
       "    <tr>\n",
       "      <th>111</th>\n",
       "      <td>0.280809</td>\n",
       "      <td>1.831800</td>\n",
       "      <td>1.323569</td>\n",
       "      <td>1.154591</td>\n",
       "      <td>0</td>\n",
       "    </tr>\n",
       "    <tr>\n",
       "      <th>112</th>\n",
       "      <td>1.430753</td>\n",
       "      <td>1.130508</td>\n",
       "      <td>0.491710</td>\n",
       "      <td>1.744710</td>\n",
       "      <td>2</td>\n",
       "    </tr>\n",
       "    <tr>\n",
       "      <th>113</th>\n",
       "      <td>0.937853</td>\n",
       "      <td>1.638946</td>\n",
       "      <td>1.405636</td>\n",
       "      <td>0.923392</td>\n",
       "      <td>0</td>\n",
       "    </tr>\n",
       "    <tr>\n",
       "      <th>114</th>\n",
       "      <td>0.299680</td>\n",
       "      <td>1.825739</td>\n",
       "      <td>1.349341</td>\n",
       "      <td>1.149868</td>\n",
       "      <td>0</td>\n",
       "    </tr>\n",
       "    <tr>\n",
       "      <th>115</th>\n",
       "      <td>0.554257</td>\n",
       "      <td>1.751162</td>\n",
       "      <td>0.852058</td>\n",
       "      <td>1.531493</td>\n",
       "      <td>0</td>\n",
       "    </tr>\n",
       "  </tbody>\n",
       "</table>\n",
       "<p>116 rows × 5 columns</p>\n",
       "</div>"
      ]
     },
     "execution_count": 31,
     "metadata": {},
     "output_type": "execute_result"
    }
   ],
   "execution_count": 31
  },
  {
   "metadata": {
    "ExecuteTime": {
     "end_time": "2024-05-07T18:37:12.623138Z",
     "start_time": "2024-05-07T18:37:12.621373Z"
    }
   },
   "cell_type": "code",
   "source": "",
   "id": "44eb8132fe6e2ec",
   "outputs": [],
   "execution_count": 31
  },
  {
   "metadata": {
    "ExecuteTime": {
     "end_time": "2024-05-07T18:37:12.851044Z",
     "start_time": "2024-05-07T18:37:12.628144Z"
    }
   },
   "cell_type": "code",
   "source": [
    "for i in range(4):\n",
    "    mne.viz.plot_topomap(clusters2[i], raw.info, show=True)"
   ],
   "id": "1ef00ad9c7b725fa",
   "outputs": [
    {
     "data": {
      "text/plain": [
       "<Figure size 100x100 with 1 Axes>"
      ],
      "image/png": "[encoded data removed]"
     },
     "metadata": {},
     "output_type": "display_data"
    },
    {
     "data": {
      "text/plain": [
       "<Figure size 100x100 with 1 Axes>"
      ],
      "image/png": "[encoded data removed]"
     },
     "metadata": {},
     "output_type": "display_data"
    },
    {
     "data": {
      "text/plain": [
       "<Figure size 100x100 with 1 Axes>"
      ],
      "image/png": "[encoded data removed]"
     },
     "metadata": {},
     "output_type": "display_data"
    },
    {
     "data": {
      "text/plain": [
       "<Figure size 100x100 with 1 Axes>"
      ],
      "image/png": "[encoded data removed]"
     },
     "metadata": {},
     "output_type": "display_data"
    }
   ],
   "execution_count": 32
  },
  {
   "metadata": {
    "ExecuteTime": {
     "end_time": "2024-05-07T18:42:38.665003Z",
     "start_time": "2024-05-07T18:42:38.558085Z"
    }
   },
   "cell_type": "code",
   "source": [
    "import seaborn as sns\n",
    "\n",
    "sns.heatmap(clustering2.drop(columns=[\"Cluster\"])[4*3:].head(12))"
   ],
   "id": "39390c0c898ae5e5",
   "outputs": [
    {
     "data": {
      "text/plain": [
       "<Axes: >"
      ]
     },
     "execution_count": 49,
     "metadata": {},
     "output_type": "execute_result"
    },
    {
     "data": {
      "text/plain": [
       "<Figure size 640x480 with 2 Axes>"
      ],
      "image/png": "[encoded data removed]"
     },
     "metadata": {},
     "output_type": "display_data"
    }
   ],
   "execution_count": 49
  },
  {
   "metadata": {
    "ExecuteTime": {
     "end_time": "2024-05-07T18:58:13.196424Z",
     "start_time": "2024-05-07T18:58:13.001476Z"
    }
   },
   "cell_type": "code",
   "source": [
    "global_maps = pd.DataFrame(clusters2.T, columns=[\"C\", \"D\", \"B\", \"A\"])\n",
    "global_maps = global_maps.reindex([\"A\", \"B\", \"C\", \"D\"], axis=1)\n",
    "# global_maps\n",
    "for i in range(4):\n",
    "    mne.viz.plot_topomap(global_maps.T.to_numpy()[i], raw.info, show=True)"
   ],
   "id": "6039b81b8a2e0893",
   "outputs": [
    {
     "data": {
      "text/plain": [
       "<Figure size 100x100 with 1 Axes>"
      ],
      "image/png": "[encoded data removed]"
     },
     "metadata": {},
     "output_type": "display_data"
    },
    {
     "data": {
      "text/plain": [
       "<Figure size 100x100 with 1 Axes>"
      ],
      "image/png": "[encoded data removed]"
     },
     "metadata": {},
     "output_type": "display_data"
    },
    {
     "data": {
      "text/plain": [
       "<Figure size 100x100 with 1 Axes>"
      ],
      "image/png": "[encoded data removed]"
     },
     "metadata": {},
     "output_type": "display_data"
    },
    {
     "data": {
      "text/plain": [
       "<Figure size 100x100 with 1 Axes>"
      ],
      "image/png": "[encoded data removed]"
     },
     "metadata": {},
     "output_type": "display_data"
    }
   ],
   "execution_count": 78
  },
  {
   "metadata": {
    "ExecuteTime": {
     "end_time": "2024-05-07T22:15:34.544736Z",
     "start_time": "2024-05-07T22:15:34.534994Z"
    }
   },
   "cell_type": "code",
   "source": "global_maps.to_csv(folders.save_data + \"global_maps.csv\", index=False)",
   "id": "d2debfb2878925ac",
   "outputs": [],
   "execution_count": 280
  },
  {
   "metadata": {
    "ExecuteTime": {
     "end_time": "2024-05-07T19:13:39.642452Z",
     "start_time": "2024-05-07T19:13:39.632441Z"
    }
   },
   "cell_type": "code",
   "source": "clustering_user, clusters_user, cluster_info_user = cluster(ms_df[:12].values, n_clusters=4, method='kmean', verbose=True)",
   "id": "daaf94ca7f0351a1",
   "outputs": [
    {
     "name": "stdout",
     "output_type": "stream",
     "text": [
      "Initialization complete\n",
      "Iteration 0, inertia 2.3567471833882316.\n",
      "Iteration 1, inertia 0.9540075980355647.\n",
      "Converged at iteration 1: strict convergence.\n"
     ]
    }
   ],
   "execution_count": 124
  },
  {
   "metadata": {
    "ExecuteTime": {
     "end_time": "2024-05-07T19:13:39.946419Z",
     "start_time": "2024-05-07T19:13:39.941662Z"
    }
   },
   "cell_type": "code",
   "source": "clustering_user",
   "id": "4ec1667085d2fdaf",
   "outputs": [
    {
     "data": {
      "text/plain": [
       "    Distance_0  Distance_1  Distance_2  Distance_3  Cluster\n",
       "0     0.916091    1.475086    0.251408    1.476402        2\n",
       "1     1.651791    0.414059    1.118258    1.863247        1\n",
       "2     0.694083    1.712405    1.622539    0.274042        3\n",
       "3     0.316319    1.871162    1.154472    0.677195        0\n",
       "4     1.106581    1.402041    0.040116    1.611208        2\n",
       "5     1.864196    0.349269    1.614731    1.806757        1\n",
       "6     0.397279    1.640190    1.316430    0.651264        0\n",
       "7     0.836123    1.865585    1.652606    0.284921        3\n",
       "8     1.297426    1.326413    0.260228    1.729276        2\n",
       "9     1.743584    0.186498    1.496259    1.774469        1\n",
       "10    0.255107    1.745569    0.933650    0.901146        0\n",
       "11    0.601058    1.820477    1.562103    0.118372        3"
      ],
      "text/html": [
       "<div>\n",
       "<style scoped>\n",
       "    .dataframe tbody tr th:only-of-type {\n",
       "        vertical-align: middle;\n",
       "    }\n",
       "\n",
       "    .dataframe tbody tr th {\n",
       "        vertical-align: top;\n",
       "    }\n",
       "\n",
       "    .dataframe thead th {\n",
       "        text-align: right;\n",
       "    }\n",
       "</style>\n",
       "<table border=\"1\" class=\"dataframe\">\n",
       "  <thead>\n",
       "    <tr style=\"text-align: right;\">\n",
       "      <th></th>\n",
       "      <th>Distance_0</th>\n",
       "      <th>Distance_1</th>\n",
       "      <th>Distance_2</th>\n",
       "      <th>Distance_3</th>\n",
       "      <th>Cluster</th>\n",
       "    </tr>\n",
       "  </thead>\n",
       "  <tbody>\n",
       "    <tr>\n",
       "      <th>0</th>\n",
       "      <td>0.916091</td>\n",
       "      <td>1.475086</td>\n",
       "      <td>0.251408</td>\n",
       "      <td>1.476402</td>\n",
       "      <td>2</td>\n",
       "    </tr>\n",
       "    <tr>\n",
       "      <th>1</th>\n",
       "      <td>1.651791</td>\n",
       "      <td>0.414059</td>\n",
       "      <td>1.118258</td>\n",
       "      <td>1.863247</td>\n",
       "      <td>1</td>\n",
       "    </tr>\n",
       "    <tr>\n",
       "      <th>2</th>\n",
       "      <td>0.694083</td>\n",
       "      <td>1.712405</td>\n",
       "      <td>1.622539</td>\n",
       "      <td>0.274042</td>\n",
       "      <td>3</td>\n",
       "    </tr>\n",
       "    <tr>\n",
       "      <th>3</th>\n",
       "      <td>0.316319</td>\n",
       "      <td>1.871162</td>\n",
       "      <td>1.154472</td>\n",
       "      <td>0.677195</td>\n",
       "      <td>0</td>\n",
       "    </tr>\n",
       "    <tr>\n",
       "      <th>4</th>\n",
       "      <td>1.106581</td>\n",
       "      <td>1.402041</td>\n",
       "      <td>0.040116</td>\n",
       "      <td>1.611208</td>\n",
       "      <td>2</td>\n",
       "    </tr>\n",
       "    <tr>\n",
       "      <th>5</th>\n",
       "      <td>1.864196</td>\n",
       "      <td>0.349269</td>\n",
       "      <td>1.614731</td>\n",
       "      <td>1.806757</td>\n",
       "      <td>1</td>\n",
       "    </tr>\n",
       "    <tr>\n",
       "      <th>6</th>\n",
       "      <td>0.397279</td>\n",
       "      <td>1.640190</td>\n",
       "      <td>1.316430</td>\n",
       "      <td>0.651264</td>\n",
       "      <td>0</td>\n",
       "    </tr>\n",
       "    <tr>\n",
       "      <th>7</th>\n",
       "      <td>0.836123</td>\n",
       "      <td>1.865585</td>\n",
       "      <td>1.652606</td>\n",
       "      <td>0.284921</td>\n",
       "      <td>3</td>\n",
       "    </tr>\n",
       "    <tr>\n",
       "      <th>8</th>\n",
       "      <td>1.297426</td>\n",
       "      <td>1.326413</td>\n",
       "      <td>0.260228</td>\n",
       "      <td>1.729276</td>\n",
       "      <td>2</td>\n",
       "    </tr>\n",
       "    <tr>\n",
       "      <th>9</th>\n",
       "      <td>1.743584</td>\n",
       "      <td>0.186498</td>\n",
       "      <td>1.496259</td>\n",
       "      <td>1.774469</td>\n",
       "      <td>1</td>\n",
       "    </tr>\n",
       "    <tr>\n",
       "      <th>10</th>\n",
       "      <td>0.255107</td>\n",
       "      <td>1.745569</td>\n",
       "      <td>0.933650</td>\n",
       "      <td>0.901146</td>\n",
       "      <td>0</td>\n",
       "    </tr>\n",
       "    <tr>\n",
       "      <th>11</th>\n",
       "      <td>0.601058</td>\n",
       "      <td>1.820477</td>\n",
       "      <td>1.562103</td>\n",
       "      <td>0.118372</td>\n",
       "      <td>3</td>\n",
       "    </tr>\n",
       "  </tbody>\n",
       "</table>\n",
       "</div>"
      ]
     },
     "execution_count": 125,
     "metadata": {},
     "output_type": "execute_result"
    }
   ],
   "execution_count": 125
  },
  {
   "metadata": {
    "ExecuteTime": {
     "end_time": "2024-05-07T19:13:40.736317Z",
     "start_time": "2024-05-07T19:13:40.566577Z"
    }
   },
   "cell_type": "code",
   "source": [
    "for i in range(4):\n",
    "    mne.viz.plot_topomap(clusters_user[i], raw.info, show=True)"
   ],
   "id": "5981f7c1fa1b32b6",
   "outputs": [
    {
     "data": {
      "text/plain": [
       "<Figure size 100x100 with 1 Axes>"
      ],
      "image/png": "[encoded data removed]"
     },
     "metadata": {},
     "output_type": "display_data"
    },
    {
     "data": {
      "text/plain": [
       "<Figure size 100x100 with 1 Axes>"
      ],
      "image/png": "[encoded data removed]"
     },
     "metadata": {},
     "output_type": "display_data"
    },
    {
     "data": {
      "text/plain": [
       "<Figure size 100x100 with 1 Axes>"
      ],
      "image/png": "[encoded data removed]"
     },
     "metadata": {},
     "output_type": "display_data"
    },
    {
     "data": {
      "text/plain": [
       "<Figure size 100x100 with 1 Axes>"
      ],
      "image/png": "[encoded data removed]"
     },
     "metadata": {},
     "output_type": "display_data"
    }
   ],
   "execution_count": 126
  },
  {
   "metadata": {
    "ExecuteTime": {
     "end_time": "2024-05-07T19:23:27.106804Z",
     "start_time": "2024-05-07T19:23:27.103505Z"
    }
   },
   "cell_type": "code",
   "source": [
    "# print(np.argmin(scipy.spatial.distance.cdist(clusters_user, global_maps.T), axis=1))\n",
    "arr = scipy.spatial.distance.cdist(clusters_user, global_maps.T)\n",
    "arr"
   ],
   "id": "4602ff0577a48677",
   "outputs": [
    {
     "data": {
      "text/plain": [
       "array([[1.46818092, 0.94127511, 0.47770597, 1.70500695],\n",
       "       [1.36711743, 1.29198113, 1.70327537, 0.31876249],\n",
       "       [1.76943971, 0.25642848, 1.27500083, 1.27221783],\n",
       "       [1.06022558, 1.41292317, 0.41157132, 1.77364598]])"
      ]
     },
     "execution_count": 146,
     "metadata": {},
     "output_type": "execute_result"
    }
   ],
   "execution_count": 146
  },
  {
   "metadata": {
    "ExecuteTime": {
     "end_time": "2024-05-07T20:26:16.210210Z",
     "start_time": "2024-05-07T20:26:16.203750Z"
    }
   },
   "cell_type": "code",
   "source": [
    "arr = scipy.spatial.distance.cdist(clusters_user, global_maps.T)\n",
    "arr_buf = arr.copy()\n",
    "# arr.min()\n",
    "remap_df = pd.DataFrame(columns=[\"Distance_A\", \"Distance_B\", \"Distance_C\", \"Distance_D\", \"label\"])\n",
    "\n",
    "labels = {\n",
    "    0: \"A\",\n",
    "    1: \"B\",\n",
    "    2: \"C\",\n",
    "    3: \"D\"\n",
    "}\n",
    "\n",
    "for i in range(4):\n",
    "    index = np.argwhere(arr_buf == np.min(arr_buf))\n",
    "    data_index = index[0][0]\n",
    "    label_index = index[0][1]\n",
    "    remap_df = pd.concat([remap_df, pd.DataFrame(\n",
    "        [[arr[data_index, 0], arr[data_index, 1], arr[data_index, 2], arr[data_index, 3], labels[label_index]]],\n",
    "        columns=[\"Distance_A\", \"Distance_B\", \"Distance_C\", \"Distance_D\", \"label\"],\n",
    "        index=[data_index]\n",
    "    )])\n",
    "    arr_buf[data_index, :] = np.inf\n",
    "    arr_buf[:, label_index] = np.inf\n",
    "    \n",
    "remap_df.sort_index(inplace=True)"
   ],
   "id": "84517023642acc3f",
   "outputs": [
    {
     "name": "stderr",
     "output_type": "stream",
     "text": [
      "C:\\Users\\bortn\\AppData\\Local\\Temp\\ipykernel_15804\\2667449652.py:17: FutureWarning: The behavior of DataFrame concatenation with empty or all-NA entries is deprecated. In a future version, this will no longer exclude empty or all-NA columns when determining the result dtypes. To retain the old behavior, exclude the relevant entries before the concat operation.\n",
      "  remap_df = pd.concat([remap_df, pd.DataFrame(\n"
     ]
    }
   ],
   "execution_count": 232
  },
  {
   "metadata": {
    "ExecuteTime": {
     "end_time": "2024-05-07T20:18:42.911598Z",
     "start_time": "2024-05-07T20:18:42.906496Z"
    }
   },
   "cell_type": "code",
   "source": "remap_df",
   "id": "192613308d81cc44",
   "outputs": [
    {
     "data": {
      "text/plain": [
       "   Distance_A  Distance_B  Distance_C  Distance_D label\n",
       "0    1.468181    0.941275    0.477706    1.705007     A\n",
       "1    1.367117    1.291981    1.703275    0.318762     D\n",
       "2    1.769440    0.256428    1.275001    1.272218     B\n",
       "3    1.060226    1.412923    0.411571    1.773646     C"
      ],
      "text/html": [
       "<div>\n",
       "<style scoped>\n",
       "    .dataframe tbody tr th:only-of-type {\n",
       "        vertical-align: middle;\n",
       "    }\n",
       "\n",
       "    .dataframe tbody tr th {\n",
       "        vertical-align: top;\n",
       "    }\n",
       "\n",
       "    .dataframe thead th {\n",
       "        text-align: right;\n",
       "    }\n",
       "</style>\n",
       "<table border=\"1\" class=\"dataframe\">\n",
       "  <thead>\n",
       "    <tr style=\"text-align: right;\">\n",
       "      <th></th>\n",
       "      <th>Distance_A</th>\n",
       "      <th>Distance_B</th>\n",
       "      <th>Distance_C</th>\n",
       "      <th>Distance_D</th>\n",
       "      <th>label</th>\n",
       "    </tr>\n",
       "  </thead>\n",
       "  <tbody>\n",
       "    <tr>\n",
       "      <th>0</th>\n",
       "      <td>1.468181</td>\n",
       "      <td>0.941275</td>\n",
       "      <td>0.477706</td>\n",
       "      <td>1.705007</td>\n",
       "      <td>A</td>\n",
       "    </tr>\n",
       "    <tr>\n",
       "      <th>1</th>\n",
       "      <td>1.367117</td>\n",
       "      <td>1.291981</td>\n",
       "      <td>1.703275</td>\n",
       "      <td>0.318762</td>\n",
       "      <td>D</td>\n",
       "    </tr>\n",
       "    <tr>\n",
       "      <th>2</th>\n",
       "      <td>1.769440</td>\n",
       "      <td>0.256428</td>\n",
       "      <td>1.275001</td>\n",
       "      <td>1.272218</td>\n",
       "      <td>B</td>\n",
       "    </tr>\n",
       "    <tr>\n",
       "      <th>3</th>\n",
       "      <td>1.060226</td>\n",
       "      <td>1.412923</td>\n",
       "      <td>0.411571</td>\n",
       "      <td>1.773646</td>\n",
       "      <td>C</td>\n",
       "    </tr>\n",
       "  </tbody>\n",
       "</table>\n",
       "</div>"
      ]
     },
     "execution_count": 218,
     "metadata": {},
     "output_type": "execute_result"
    }
   ],
   "execution_count": 218
  },
  {
   "metadata": {
    "ExecuteTime": {
     "end_time": "2024-05-07T20:36:32.866030Z",
     "start_time": "2024-05-07T20:36:32.861598Z"
    }
   },
   "cell_type": "code",
   "source": [
    "arr = scipy.spatial.distance.cdist(clusters_user, global_maps.T)\n",
    "arr_buf = arr.copy()\n",
    "# arr.min()\n",
    "remap_df = pd.DataFrame(columns=[\"Distance_A\", \"Distance_B\", \"Distance_C\", \"Distance_D\", \"label\"])\n",
    "labels = {\n",
    "    0: \"A\",\n",
    "    1: \"B\",\n",
    "    2: \"C\",\n",
    "    3: \"D\"\n",
    "}\n",
    "\n",
    "remapper = {\n",
    "}\n",
    "\n",
    "for i in range(4):\n",
    "    index = np.argwhere(arr_buf.T[i] == np.min(arr_buf.T[i]))[0][0]\n",
    "    if index in remapper:\n",
    "        assigned_label = remapper[index]\n",
    "        next_nearest_curr_ms_val = arr_buf[index].take([i, assigned_label])\n",
    "        next_nearest_conflicting_ms_val = arr_buf[remapper[index]].take([i, assigned_label])\n",
    "        print(next_nearest_curr_ms_val, next_nearest_conflicting_ms_val)\n",
    "    remapper[index] = i\n",
    "\n",
    "\n",
    "\n",
    "    # prev = arr_buf[index][remapper[index]]\n",
    "    # curr = arr_buf[index][i]   \n",
    "    #     if(curr < prev):\n",
    "    #         conflicting_val = remap_df.loc[remap_df[\"label\"] == labels[remapper[index]]]\n",
    "    #         print(conflicting_val)\n",
    "    #         arr_buf[index][remapper[index]] = np.inf\n",
    "    #         index = np.argwhere(arr_buf.T[i] == np.min(arr_buf.T[i]))[0][0]\n",
    "    #     arr_buf.T[i][index] = np.inf\n",
    "    #     index = np.argwhere(arr_buf.T[i] == np.min(arr_buf.T[i]))[0][0]\n",
    "    # remap_df = pd.concat([remap_df, pd.DataFrame([[arr[index, 0], arr[index, 1], arr[index, 2], arr[index, 3], labels[i]]], columns=[\"Distance_A\", \"Distance_B\", \"Distance_C\", \"Distance_D\", \"label\"], index=[index])])"
   ],
   "id": "5c56a9dcd8a7ace2",
   "outputs": [
    {
     "name": "stdout",
     "output_type": "stream",
     "text": [
      "[0.41157132 1.06022558] [0.47770597 1.46818092]\n"
     ]
    }
   ],
   "execution_count": 268
  },
  {
   "metadata": {},
   "cell_type": "markdown",
   "source": "# ПЕРЕСТАНОВКАМИ",
   "id": "bdcb10ca0f647e00"
  },
  {
   "metadata": {
    "ExecuteTime": {
     "end_time": "2024-05-07T22:36:01.832179Z",
     "start_time": "2024-05-07T22:36:01.823941Z"
    }
   },
   "cell_type": "code",
   "source": [
    "remap_df = pd.DataFrame(columns=[\"Distance_A\", \"Distance_B\", \"Distance_C\", \"Distance_D\", \"label\"])\n",
    "labels = {\n",
    "    0: \"A\",\n",
    "    1: \"B\",\n",
    "    2: \"C\",\n",
    "    3: \"D\"\n",
    "}\n",
    "unique_regroup_variants = {}\n",
    "for i in range(4):\n",
    "    for j in range(4):\n",
    "        if i == j:\n",
    "            continue\n",
    "        for k in range(4):\n",
    "            if i == k or j == k:\n",
    "                continue\n",
    "            for l in range(4):\n",
    "                if i == l or j == l or k == l:\n",
    "                    continue\n",
    "                unique_regroup_variants[i, j, k, l] = 0\n",
    "                \n",
    "distances = scipy.spatial.distance.cdist(clusters_user, global_maps.T)\n",
    "\n",
    "for variant in unique_regroup_variants:\n",
    "    for i in range(4):\n",
    "        unique_regroup_variants[variant] += distances[i, variant[i]]\n",
    "\n",
    "minimal = min(unique_regroup_variants, key=unique_regroup_variants.get)\n",
    "\n",
    "for i in range(4):\n",
    "    remap_df = pd.concat([remap_df, pd.DataFrame([[distances[i, 0], distances[i, 1], distances[i, 2], distances[i, 3], labels[minimal[i]]]], columns=[\"Distance_A\", \"Distance_B\", \"Distance_C\", \"Distance_D\", \"label\"], index=[i])])"
   ],
   "id": "2369bd4055c05c63",
   "outputs": [
    {
     "name": "stderr",
     "output_type": "stream",
     "text": [
      "C:\\Users\\bortn\\AppData\\Local\\Temp\\ipykernel_15804\\537303652.py:30: FutureWarning: The behavior of DataFrame concatenation with empty or all-NA entries is deprecated. In a future version, this will no longer exclude empty or all-NA columns when determining the result dtypes. To retain the old behavior, exclude the relevant entries before the concat operation.\n",
      "  remap_df = pd.concat([remap_df, pd.DataFrame([[distances[i, 0], distances[i, 1], distances[i, 2], distances[i, 3], labels[minimal[i]]]], columns=[\"Distance_A\", \"Distance_B\", \"Distance_C\", \"Distance_D\", \"label\"], index=[i])])\n"
     ]
    }
   ],
   "execution_count": 281
  },
  {
   "metadata": {
    "ExecuteTime": {
     "end_time": "2024-05-07T22:36:02.267872Z",
     "start_time": "2024-05-07T22:36:02.262368Z"
    }
   },
   "cell_type": "code",
   "source": [
    "remap_df.sort_index(inplace=True)\n",
    "remap_df"
   ],
   "id": "560d6e77bfc64bfd",
   "outputs": [
    {
     "data": {
      "text/plain": [
       "   Distance_A  Distance_B  Distance_C  Distance_D label\n",
       "0    1.468181    0.941275    0.477706    1.705007     C\n",
       "1    1.367117    1.291981    1.703275    0.318762     D\n",
       "2    1.769440    0.256428    1.275001    1.272218     B\n",
       "3    1.060226    1.412923    0.411571    1.773646     A"
      ],
      "text/html": [
       "<div>\n",
       "<style scoped>\n",
       "    .dataframe tbody tr th:only-of-type {\n",
       "        vertical-align: middle;\n",
       "    }\n",
       "\n",
       "    .dataframe tbody tr th {\n",
       "        vertical-align: top;\n",
       "    }\n",
       "\n",
       "    .dataframe thead th {\n",
       "        text-align: right;\n",
       "    }\n",
       "</style>\n",
       "<table border=\"1\" class=\"dataframe\">\n",
       "  <thead>\n",
       "    <tr style=\"text-align: right;\">\n",
       "      <th></th>\n",
       "      <th>Distance_A</th>\n",
       "      <th>Distance_B</th>\n",
       "      <th>Distance_C</th>\n",
       "      <th>Distance_D</th>\n",
       "      <th>label</th>\n",
       "    </tr>\n",
       "  </thead>\n",
       "  <tbody>\n",
       "    <tr>\n",
       "      <th>0</th>\n",
       "      <td>1.468181</td>\n",
       "      <td>0.941275</td>\n",
       "      <td>0.477706</td>\n",
       "      <td>1.705007</td>\n",
       "      <td>C</td>\n",
       "    </tr>\n",
       "    <tr>\n",
       "      <th>1</th>\n",
       "      <td>1.367117</td>\n",
       "      <td>1.291981</td>\n",
       "      <td>1.703275</td>\n",
       "      <td>0.318762</td>\n",
       "      <td>D</td>\n",
       "    </tr>\n",
       "    <tr>\n",
       "      <th>2</th>\n",
       "      <td>1.769440</td>\n",
       "      <td>0.256428</td>\n",
       "      <td>1.275001</td>\n",
       "      <td>1.272218</td>\n",
       "      <td>B</td>\n",
       "    </tr>\n",
       "    <tr>\n",
       "      <th>3</th>\n",
       "      <td>1.060226</td>\n",
       "      <td>1.412923</td>\n",
       "      <td>0.411571</td>\n",
       "      <td>1.773646</td>\n",
       "      <td>A</td>\n",
       "    </tr>\n",
       "  </tbody>\n",
       "</table>\n",
       "</div>"
      ]
     },
     "execution_count": 282,
     "metadata": {},
     "output_type": "execute_result"
    }
   ],
   "execution_count": 282
  },
  {
   "metadata": {
    "ExecuteTime": {
     "end_time": "2024-05-07T22:36:03.455640Z",
     "start_time": "2024-05-07T22:36:03.344812Z"
    }
   },
   "cell_type": "code",
   "source": "sns.heatmap(scipy.spatial.distance.cdist(clusters_user, global_maps.T, 'correlation'))",
   "id": "5f58427ccb084ea0",
   "outputs": [
    {
     "data": {
      "text/plain": [
       "<Axes: >"
      ]
     },
     "execution_count": 283,
     "metadata": {},
     "output_type": "execute_result"
    },
    {
     "data": {
      "text/plain": [
       "<Figure size 640x480 with 2 Axes>"
      ],
      "image/png": "[encoded data removed]"
     },
     "metadata": {},
     "output_type": "display_data"
    }
   ],
   "execution_count": 283
  },
  {
   "metadata": {
    "ExecuteTime": {
     "end_time": "2024-05-07T22:36:18.491478Z",
     "start_time": "2024-05-07T22:36:18.251393Z"
    }
   },
   "cell_type": "code",
   "source": [
    "for i in range(4):\n",
    "    mne.viz.plot_topomap(clusters_user[i], raw.info, show=True)"
   ],
   "id": "7efc753a7e1ec4ad",
   "outputs": [
    {
     "data": {
      "text/plain": [
       "<Figure size 100x100 with 1 Axes>"
      ],
      "image/png": "[encoded data removed]"
     },
     "metadata": {},
     "output_type": "display_data"
    },
    {
     "data": {
      "text/plain": [
       "<Figure size 100x100 with 1 Axes>"
      ],
      "image/png": "[encoded data removed]"
     },
     "metadata": {},
     "output_type": "display_data"
    },
    {
     "data": {
      "text/plain": [
       "<Figure size 100x100 with 1 Axes>"
      ],
      "image/png": "[encoded data removed]"
     },
     "metadata": {},
     "output_type": "display_data"
    },
    {
     "data": {
      "text/plain": [
       "<Figure size 100x100 with 1 Axes>"
      ],
      "image/png": "[encoded data removed]"
     },
     "metadata": {},
     "output_type": "display_data"
    }
   ],
   "execution_count": 284
  },
  {
   "metadata": {
    "ExecuteTime": {
     "end_time": "2024-05-07T18:51:30.258498Z",
     "start_time": "2024-05-07T18:51:30.169568Z"
    }
   },
   "cell_type": "code",
   "source": "sns.heatmap(scipy.spatial.distance.cdist(ms_df[:4], clusters2, 'correlation'))",
   "id": "e872d73d1d5e07e2",
   "outputs": [
    {
     "data": {
      "text/plain": [
       "<Axes: >"
      ]
     },
     "execution_count": 60,
     "metadata": {},
     "output_type": "execute_result"
    },
    {
     "data": {
      "text/plain": [
       "<Figure size 640x480 with 2 Axes>"
      ],
      "image/png": "[encoded data removed]"
     },
     "metadata": {},
     "output_type": "display_data"
    }
   ],
   "execution_count": 60
  },
  {
   "metadata": {
    "ExecuteTime": {
     "end_time": "2024-05-07T18:37:12.862328Z",
     "start_time": "2024-05-07T18:37:12.858320Z"
    }
   },
   "cell_type": "code",
   "source": "# kmeans = sklearn.cluster.KMeans(n_clusters=4, max_iter=100000, tol=1e-9).fit(ms_df.values)",
   "id": "aa92507c9d7cf5ce",
   "outputs": [],
   "execution_count": 34
  },
  {
   "metadata": {
    "ExecuteTime": {
     "end_time": "2024-05-07T18:37:12.867396Z",
     "start_time": "2024-05-07T18:37:12.863332Z"
    }
   },
   "cell_type": "code",
   "source": "# np.bincount(kmeans.labels_)",
   "id": "943755c64d7e954c",
   "outputs": [],
   "execution_count": 35
  },
  {
   "metadata": {
    "ExecuteTime": {
     "end_time": "2024-05-07T18:37:12.872781Z",
     "start_time": "2024-05-07T18:37:12.868400Z"
    }
   },
   "cell_type": "code",
   "source": [
    "# for i in range(4):\n",
    "#     mne.viz.plot_topomap(kmeans.cluster_centers_[i], mhw.raw.info, show=True)"
   ],
   "id": "6bb4ef323476d945",
   "outputs": [],
   "execution_count": 36
  },
  {
   "metadata": {
    "ExecuteTime": {
     "end_time": "2024-05-07T18:37:12.878531Z",
     "start_time": "2024-05-07T18:37:12.873786Z"
    }
   },
   "cell_type": "code",
   "source": "# kmeans2 = sklearn.cluster.BisectingKMeans(n_clusters=4, init='k-means++').fit(ms_df.values)",
   "id": "7989dacba3efe1ac",
   "outputs": [],
   "execution_count": 37
  },
  {
   "metadata": {
    "ExecuteTime": {
     "end_time": "2024-05-07T18:37:12.884145Z",
     "start_time": "2024-05-07T18:37:12.878531Z"
    }
   },
   "cell_type": "code",
   "source": [
    "# pd.DataFrame.from_records([kmeans2.labels_]).T\n",
    "# np.bincount(kmeans2.labels_)"
   ],
   "id": "5d81c4ab8db88b42",
   "outputs": [],
   "execution_count": 38
  },
  {
   "metadata": {
    "ExecuteTime": {
     "end_time": "2024-05-07T18:37:12.888844Z",
     "start_time": "2024-05-07T18:37:12.884673Z"
    }
   },
   "cell_type": "code",
   "source": [
    "# for i in range(4):\n",
    "#     mne.viz.plot_topomap(kmeans2.cluster_centers_[i], mhw.raw.info, show=True)"
   ],
   "id": "ef1e46a1f133bd72",
   "outputs": [],
   "execution_count": 39
  },
  {
   "metadata": {
    "ExecuteTime": {
     "end_time": "2024-05-07T18:37:12.893885Z",
     "start_time": "2024-05-07T18:37:12.889367Z"
    }
   },
   "cell_type": "code",
   "source": "# centroid, label = scipy.cluster.vq.kmeans2(ms_df.values, 4, minit='++', iter=1000)",
   "id": "8032c63f3353021f",
   "outputs": [],
   "execution_count": 40
  },
  {
   "metadata": {
    "ExecuteTime": {
     "end_time": "2024-05-07T18:37:12.896163Z",
     "start_time": "2024-05-07T18:37:12.893885Z"
    }
   },
   "cell_type": "code",
   "source": "",
   "id": "c497a95fd36e6a6c",
   "outputs": [],
   "execution_count": 40
  }
 ],
 "metadata": {
  "kernelspec": {
   "display_name": "Python 3",
   "language": "python",
   "name": "python3"
  },
  "language_info": {
   "codemirror_mode": {
    "name": "ipython",
    "version": 2
   },
   "file_extension": ".py",
   "mimetype": "text/x-python",
   "name": "python",
   "nbconvert_exporter": "python",
   "pygments_lexer": "ipython2",
   "version": "2.7.6"
  }
 },
 "nbformat": 4,
 "nbformat_minor": 5
}
