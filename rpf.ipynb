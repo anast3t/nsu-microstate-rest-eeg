{
 "cells": [
  {
   "cell_type": "code",
   "id": "initial_id",
   "metadata": {
    "collapsed": true,
    "ExecuteTime": {
     "end_time": "2024-05-29T22:53:33.733976Z",
     "start_time": "2024-05-29T22:53:33.730472Z"
    }
   },
   "source": [
    "import pyriemann\n",
    "from filenames_and_paths import *\n",
    "from sklearn.model_selection import cross_val_score\n",
    "import numpy as np\n",
    "import mne\n",
    "import matplotlib.pyplot as plt\n",
    "from scipy.linalg import eigh\n"
   ],
   "execution_count": 66,
   "outputs": []
  },
  {
   "metadata": {
    "ExecuteTime": {
     "end_time": "2024-05-29T22:53:35.143160Z",
     "start_time": "2024-05-29T22:53:34.254826Z"
    }
   },
   "cell_type": "code",
   "source": [
    "raw = mne.io.read_raw_brainvision(folders.raw_data + path014 + filenames014[0] + '.vhdr', preload=True)\n",
    "raw = raw.drop_channels([\"EOG\", \"BIP1\", \"M1\", \"M2\"])"
   ],
   "id": "8abf865832fc8aed",
   "execution_count": 67,
   "outputs": []
  },
  {
   "metadata": {
    "ExecuteTime": {
     "end_time": "2024-05-29T22:59:05.646963Z",
     "start_time": "2024-05-29T22:59:05.474293Z"
    }
   },
   "cell_type": "code",
   "source": [
    "# Параметры данных\n",
    "sfreq = 2048  # Частота дискретизации\n",
    "time = 20\n",
    "times = np.arange(0, time, 1/sfreq)  # 180 секунд\n",
    "n_channels = len(raw.ch_names)  # Количество каналов\n",
    "n_samples = len(times)\n",
    "eeg_data = raw.get_data().T[:sfreq*time].T\n",
    "raw = mne.io.RawArray(eeg_data, raw.info)\n",
    "raw.filter(1, 40)\n",
    "print(raw.get_data().shape)"
   ],
   "id": "ac5bc35f19c1ab5e",
   "execution_count": 98,
   "outputs": []
  },
  {
   "metadata": {},
   "cell_type": "markdown",
   "source": "## Чистые данные",
   "id": "92d2f4506ed7afa0"
  },
  {
   "metadata": {
    "ExecuteTime": {
     "end_time": "2024-05-29T22:59:09.879032Z",
     "start_time": "2024-05-29T22:59:08.991247Z"
    }
   },
   "cell_type": "code",
   "source": "raw_clean = mne.io.read_raw_eeglab(folders.preprocessed_data + path014 + filenames014[1] + '.set', preload=True)",
   "id": "43d404196192d91d",
   "execution_count": 99,
   "outputs": []
  },
  {
   "metadata": {},
   "cell_type": "markdown",
   "source": "# Шаг 2: Разделение данных на эпохи",
   "id": "64e946766f196fde"
  },
  {
   "metadata": {
    "ExecuteTime": {
     "end_time": "2024-05-29T22:59:12.127288Z",
     "start_time": "2024-05-29T22:59:11.951263Z"
    }
   },
   "cell_type": "code",
   "source": [
    "events = mne.make_fixed_length_events(raw, id=1, duration=2.0)\n",
    "epochs = mne.Epochs(raw, events, event_id=1, tmin=0, tmax=2.0, baseline=None, preload=True)\n",
    "\n",
    "events_clean = mne.make_fixed_length_events(raw_clean, id=1, duration=2.0)\n",
    "epochs_clean = mne.Epochs(raw_clean, events_clean, event_id=1, tmin=0, tmax=2.0, baseline=None, preload=True)"
   ],
   "id": "a42d1ac30ac138fe",
   "execution_count": 100,
   "outputs": []
  },
  {
   "metadata": {},
   "cell_type": "markdown",
   "source": "# Шаг 3: Вычисление ковариационных матриц",
   "id": "ea5f8df5a7950862"
  },
  {
   "metadata": {
    "ExecuteTime": {
     "end_time": "2024-05-29T22:59:13.331967Z",
     "start_time": "2024-05-29T22:59:13.154514Z"
    }
   },
   "cell_type": "code",
   "source": [
    "def calculate_covariances(epochs):\n",
    "    n_epochs, n_channels, n_samples = epochs.shape\n",
    "    covariances = np.zeros((n_epochs, n_channels, n_channels))\n",
    "    for i in range(n_epochs):\n",
    "        covariances[i] = np.cov(epochs[i])\n",
    "    return covariances\n",
    "\n",
    "covariances = calculate_covariances(epochs.get_data())\n",
    "covariances_clean = calculate_covariances(epochs_clean.get_data())"
   ],
   "id": "f2c7357ab60970a8",
   "execution_count": 101,
   "outputs": []
  },
  {
   "metadata": {},
   "cell_type": "markdown",
   "source": "# Шаг 4: Обучение Riemannian Potato",
   "id": "c847ccf618125267"
  },
  {
   "metadata": {
    "ExecuteTime": {
     "end_time": "2024-05-29T22:59:14.689738Z",
     "start_time": "2024-05-29T22:59:14.685927Z"
    }
   },
   "cell_type": "code",
   "source": "covariances.shape",
   "id": "e6297a1703bc8261",
   "execution_count": 102,
   "outputs": []
  },
  {
   "metadata": {
    "ExecuteTime": {
     "end_time": "2024-05-29T23:11:41.186645Z",
     "start_time": "2024-05-29T23:11:41.179881Z"
    }
   },
   "cell_type": "code",
   "source": [
    "# from scipy.linalg import eigvalsh, solve\n",
    "# \n",
    "# def _check_inputs(A, B):\n",
    "#     if not isinstance(A, np.ndarray) or not isinstance(B, np.ndarray):\n",
    "#         raise ValueError(\"Inputs must be ndarrays\")\n",
    "#     if not A.shape == B.shape:\n",
    "#         raise ValueError(\"Inputs must have equal dimensions\")\n",
    "#     if A.ndim < 2:\n",
    "#         raise ValueError(\"Inputs must be at least a 2D ndarray\")\n",
    "# \n",
    "# \n",
    "# def _recursive(fun, A, B, *args, **kwargs):\n",
    "#     \"\"\"Recursive function with two inputs.\"\"\"\n",
    "#     if A.ndim == 2:\n",
    "#         return fun(A, B, *args, **kwargs)\n",
    "#     else:\n",
    "#         return np.asarray(\n",
    "#             [_recursive(fun, a, b, *args, **kwargs) for a, b in zip(A, B)]\n",
    "#         )\n",
    "#     \n",
    "# def distance_riemann(A, B, squared=False):\n",
    "#     _check_inputs(A, B)\n",
    "#     d2 = (np.log(_recursive(eigvalsh, A, B))**2).sum(axis=-1)\n",
    "#     return d2 if squared else np.sqrt(d2)"
   ],
   "id": "7f92e49c33d9de4a",
   "execution_count": 122,
   "outputs": []
  },
  {
   "metadata": {
    "ExecuteTime": {
     "end_time": "2024-05-29T23:14:38.370885Z",
     "start_time": "2024-05-29T23:14:38.332925Z"
    }
   },
   "cell_type": "code",
   "source": [
    "# Функция для вычисления риманова расстояния\n",
    "def riemannian_distance(C1, C2):\n",
    "    eigvals = eigh(C1, C2, eigvals_only=True)\n",
    "    return np.sqrt(np.sum(np.log(eigvals ** 2)))\n",
    "\n",
    "def train_potato(covariances, n_train=20):\n",
    "    mean_cov = np.mean(covariances[:n_train], axis=0)\n",
    "    distances = np.array([riemannian_distance(mean_cov, cov) for cov in covariances[:n_train]])\n",
    "    threshold = np.percentile(distances, 95)  # Установим порог на уровне 95-го перцентиля\n",
    "    return mean_cov, threshold\n",
    "\n",
    "mean_cov, threshold = train_potato(covariances_clean, n_train=200)"
   ],
   "id": "31926f17ee846f61",
   "execution_count": 129,
   "outputs": []
  },
  {
   "metadata": {
    "ExecuteTime": {
     "end_time": "2024-05-29T23:11:43.225763Z",
     "start_time": "2024-05-29T23:11:43.221755Z"
    }
   },
   "cell_type": "code",
   "source": "covariances_clean",
   "id": "8efe572fe99c4320",
   "execution_count": 124,
   "outputs": []
  },
  {
   "metadata": {},
   "cell_type": "markdown",
   "source": "# Шаг 5: Оценка качества новых данных",
   "id": "421b467d4dc941d1"
  },
  {
   "metadata": {
    "ExecuteTime": {
     "end_time": "2024-05-29T23:11:50.141234Z",
     "start_time": "2024-05-29T23:11:50.136434Z"
    }
   },
   "cell_type": "code",
   "source": [
    "def evaluate_potato(covariances, mean_cov, threshold):\n",
    "    distances = np.array([riemannian_distance(mean_cov, cov) for cov in covariances])\n",
    "    predictions = distances < threshold\n",
    "    return predictions, distances\n",
    "\n",
    "predictions, distances = evaluate_potato(covariances, mean_cov, threshold)"
   ],
   "id": "72c952fcc83ca1fd",
   "execution_count": 125,
   "outputs": []
  },
  {
   "metadata": {
    "ExecuteTime": {
     "end_time": "2024-05-29T23:14:09.940674Z",
     "start_time": "2024-05-29T23:14:09.930915Z"
    }
   },
   "cell_type": "code",
   "source": "np.log([-1, 1, 0] ** 2)",
   "id": "8d4a2e7d45b2f398",
   "execution_count": 128,
   "outputs": []
  },
  {
   "metadata": {
    "ExecuteTime": {
     "end_time": "2024-05-29T23:11:59.483341Z",
     "start_time": "2024-05-29T23:11:59.478363Z"
    }
   },
   "cell_type": "code",
   "source": "distances",
   "id": "9f4ee4ea2bdb19e3",
   "execution_count": 126,
   "outputs": []
  },
  {
   "metadata": {},
   "cell_type": "markdown",
   "source": "# Шаг 6: Визуализация результатов",
   "id": "f660236c47c9eebd"
  },
  {
   "metadata": {
    "ExecuteTime": {
     "end_time": "2024-05-29T22:56:41.885575Z",
     "start_time": "2024-05-29T22:56:41.632984Z"
    }
   },
   "cell_type": "code",
   "source": [
    "plt.figure(figsize=(10, 5))\n",
    "plt.plot(distances, 'o')\n",
    "plt.axhline(y=threshold, color='r', linestyle='--', label='Threshold')\n",
    "plt.xlabel('Сегмент')\n",
    "plt.ylabel('Расстояние')\n",
    "plt.title('Оценка качества данных ЭЭГ с использованием Riemannian Potato')\n",
    "plt.legend()\n",
    "plt.show()\n",
    "\n",
    "plt.figure(figsize=(12, 6))\n",
    "for i in range(3):\n",
    "    plt.plot(times, eeg_data[i]*10000 + i, label=f'EEG{i+1}')\n",
    "plt.xlabel('Время (с)')\n",
    "plt.ylabel('Амплитуда (смешано)')\n",
    "# plt.legend(loc='upper right')\n",
    "plt.show()"
   ],
   "id": "1bead7c55eac4d7d",
   "execution_count": 88,
   "outputs": []
  },
  {
   "metadata": {},
   "cell_type": "code",
   "execution_count": null,
   "source": "",
   "id": "fa22d08de4ab7791",
   "outputs": []
  }
 ],
 "metadata": {
  "kernelspec": {
   "display_name": "Python 3",
   "language": "python",
   "name": "python3"
  },
  "language_info": {
   "codemirror_mode": {
    "name": "ipython",
    "version": 2
   },
   "file_extension": ".py",
   "mimetype": "text/x-python",
   "name": "python",
   "nbconvert_exporter": "python",
   "pygments_lexer": "ipython2",
   "version": "2.7.6"
  }
 },
 "nbformat": 4,
 "nbformat_minor": 5
}
