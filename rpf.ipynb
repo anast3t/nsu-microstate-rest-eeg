{
 "cells": [
  {
   "cell_type": "code",
   "id": "initial_id",
   "metadata": {
    "collapsed": true,
    "ExecuteTime": {
     "end_time": "2024-05-29T22:53:33.733976Z",
     "start_time": "2024-05-29T22:53:33.730472Z"
    }
   },
   "source": [
    "import pyriemann\n",
    "from filenames_and_paths import *\n",
    "from sklearn.model_selection import cross_val_score\n",
    "import numpy as np\n",
    "import mne\n",
    "import matplotlib.pyplot as plt\n",
    "from scipy.linalg import eigh\n"
   ],
   "outputs": [],
   "execution_count": 66
  },
  {
   "metadata": {
    "ExecuteTime": {
     "end_time": "2024-05-29T22:53:35.143160Z",
     "start_time": "2024-05-29T22:53:34.254826Z"
    }
   },
   "cell_type": "code",
   "source": [
    "raw = mne.io.read_raw_brainvision(folders.raw_data + path014 + filenames014[0] + '.vhdr', preload=True)\n",
    "raw = raw.drop_channels([\"EOG\", \"BIP1\", \"M1\", \"M2\"])"
   ],
   "id": "8abf865832fc8aed",
   "outputs": [
    {
     "name": "stdout",
     "output_type": "stream",
     "text": [
      "Extracting parameters from ./raw_data/rest_14/ACP_INP0014_REST1_1pnt_1vis.vhdr...\n",
      "Setting channel info structure...\n",
      "Reading 0 ... 1013446  =      0.000 ...   494.847 secs...\n"
     ]
    }
   ],
   "execution_count": 67
  },
  {
   "metadata": {
    "ExecuteTime": {
     "end_time": "2024-05-29T22:59:05.646963Z",
     "start_time": "2024-05-29T22:59:05.474293Z"
    }
   },
   "cell_type": "code",
   "source": [
    "# Параметры данных\n",
    "sfreq = 2048  # Частота дискретизации\n",
    "time = 20\n",
    "times = np.arange(0, time, 1/sfreq)  # 180 секунд\n",
    "n_channels = len(raw.ch_names)  # Количество каналов\n",
    "n_samples = len(times)\n",
    "eeg_data = raw.get_data().T[:sfreq*time].T\n",
    "raw = mne.io.RawArray(eeg_data, raw.info)\n",
    "raw.filter(1, 40)\n",
    "print(raw.get_data().shape)"
   ],
   "id": "ac5bc35f19c1ab5e",
   "outputs": [
    {
     "name": "stdout",
     "output_type": "stream",
     "text": [
      "Creating RawArray with float64 data, n_channels=61, n_times=40960\n",
      "    Range : 0 ... 40959 =      0.000 ...    20.000 secs\n",
      "Ready.\n",
      "Filtering raw data in 1 contiguous segment\n",
      "Setting up band-pass filter from 1 - 40 Hz\n",
      "\n",
      "FIR filter parameters\n",
      "---------------------\n",
      "Designing a one-pass, zero-phase, non-causal bandpass filter:\n",
      "- Windowed time-domain design (firwin) method\n",
      "- Hamming window with 0.0194 passband ripple and 53 dB stopband attenuation\n",
      "- Lower passband edge: 1.00\n",
      "- Lower transition bandwidth: 1.00 Hz (-6 dB cutoff frequency: 0.50 Hz)\n",
      "- Upper passband edge: 40.00 Hz\n",
      "- Upper transition bandwidth: 10.00 Hz (-6 dB cutoff frequency: 45.00 Hz)\n",
      "- Filter length: 6759 samples (3.300 s)\n",
      "\n",
      "(61, 40960)\n"
     ]
    },
    {
     "name": "stderr",
     "output_type": "stream",
     "text": [
      "[Parallel(n_jobs=1)]: Done  17 tasks      | elapsed:    0.0s\n"
     ]
    }
   ],
   "execution_count": 98
  },
  {
   "metadata": {},
   "cell_type": "markdown",
   "source": "## Чистые данные",
   "id": "92d2f4506ed7afa0"
  },
  {
   "metadata": {
    "ExecuteTime": {
     "end_time": "2024-05-29T22:59:09.879032Z",
     "start_time": "2024-05-29T22:59:08.991247Z"
    }
   },
   "cell_type": "code",
   "source": "raw_clean = mne.io.read_raw_eeglab(folders.preprocessed_data + path014 + filenames014[1] + '.set', preload=True)",
   "id": "43d404196192d91d",
   "outputs": [
    {
     "name": "stderr",
     "output_type": "stream",
     "text": [
      "C:\\Users\\bortn\\AppData\\Local\\Temp\\ipykernel_37284\\4202072351.py:1: RuntimeWarning: The data contains 'boundary' events, indicating data discontinuities. Be cautious of filtering and epoching around these events.\n",
      "  raw_clean = mne.io.read_raw_eeglab(folders.preprocessed_data + path014 + filenames014[1] + '.set', preload=True)\n"
     ]
    }
   ],
   "execution_count": 99
  },
  {
   "metadata": {},
   "cell_type": "markdown",
   "source": "# Шаг 2: Разделение данных на эпохи",
   "id": "64e946766f196fde"
  },
  {
   "metadata": {
    "ExecuteTime": {
     "end_time": "2024-05-29T22:59:12.127288Z",
     "start_time": "2024-05-29T22:59:11.951263Z"
    }
   },
   "cell_type": "code",
   "source": [
    "events = mne.make_fixed_length_events(raw, id=1, duration=2.0)\n",
    "epochs = mne.Epochs(raw, events, event_id=1, tmin=0, tmax=2.0, baseline=None, preload=True)\n",
    "\n",
    "events_clean = mne.make_fixed_length_events(raw_clean, id=1, duration=2.0)\n",
    "epochs_clean = mne.Epochs(raw_clean, events_clean, event_id=1, tmin=0, tmax=2.0, baseline=None, preload=True)"
   ],
   "id": "a42d1ac30ac138fe",
   "outputs": [
    {
     "name": "stdout",
     "output_type": "stream",
     "text": [
      "Not setting metadata\n",
      "10 matching events found\n",
      "No baseline correction applied\n",
      "0 projection items activated\n",
      "Using data from preloaded Raw for 10 events and 4097 original time points ...\n",
      "1 bad epochs dropped\n",
      "Not setting metadata\n",
      "213 matching events found\n",
      "No baseline correction applied\n",
      "0 projection items activated\n",
      "Using data from preloaded Raw for 213 events and 4097 original time points ...\n",
      "0 bad epochs dropped\n"
     ]
    }
   ],
   "execution_count": 100
  },
  {
   "metadata": {},
   "cell_type": "markdown",
   "source": "# Шаг 3: Вычисление ковариационных матриц",
   "id": "ea5f8df5a7950862"
  },
  {
   "metadata": {
    "ExecuteTime": {
     "end_time": "2024-05-29T22:59:13.331967Z",
     "start_time": "2024-05-29T22:59:13.154514Z"
    }
   },
   "cell_type": "code",
   "source": [
    "def calculate_covariances(epochs):\n",
    "    n_epochs, n_channels, n_samples = epochs.shape\n",
    "    covariances = np.zeros((n_epochs, n_channels, n_channels))\n",
    "    for i in range(n_epochs):\n",
    "        covariances[i] = np.cov(epochs[i])\n",
    "    return covariances\n",
    "\n",
    "covariances = calculate_covariances(epochs.get_data())\n",
    "covariances_clean = calculate_covariances(epochs_clean.get_data())"
   ],
   "id": "f2c7357ab60970a8",
   "outputs": [
    {
     "name": "stderr",
     "output_type": "stream",
     "text": [
      "C:\\Users\\bortn\\AppData\\Local\\Temp\\ipykernel_37284\\1883718237.py:8: FutureWarning: The current default of copy=False will change to copy=True in 1.7. Set the value of copy explicitly to avoid this warning\n",
      "  covariances = calculate_covariances(epochs.get_data())\n",
      "C:\\Users\\bortn\\AppData\\Local\\Temp\\ipykernel_37284\\1883718237.py:9: FutureWarning: The current default of copy=False will change to copy=True in 1.7. Set the value of copy explicitly to avoid this warning\n",
      "  covariances_clean = calculate_covariances(epochs_clean.get_data())\n"
     ]
    }
   ],
   "execution_count": 101
  },
  {
   "metadata": {},
   "cell_type": "markdown",
   "source": "# Шаг 4: Обучение Riemannian Potato",
   "id": "c847ccf618125267"
  },
  {
   "metadata": {
    "ExecuteTime": {
     "end_time": "2024-05-29T22:59:14.689738Z",
     "start_time": "2024-05-29T22:59:14.685927Z"
    }
   },
   "cell_type": "code",
   "source": "covariances.shape",
   "id": "e6297a1703bc8261",
   "outputs": [
    {
     "data": {
      "text/plain": [
       "(9, 61, 61)"
      ]
     },
     "execution_count": 102,
     "metadata": {},
     "output_type": "execute_result"
    }
   ],
   "execution_count": 102
  },
  {
   "metadata": {
    "ExecuteTime": {
     "end_time": "2024-05-29T23:11:41.186645Z",
     "start_time": "2024-05-29T23:11:41.179881Z"
    }
   },
   "cell_type": "code",
   "source": [
    "# from scipy.linalg import eigvalsh, solve\n",
    "# \n",
    "# def _check_inputs(A, B):\n",
    "#     if not isinstance(A, np.ndarray) or not isinstance(B, np.ndarray):\n",
    "#         raise ValueError(\"Inputs must be ndarrays\")\n",
    "#     if not A.shape == B.shape:\n",
    "#         raise ValueError(\"Inputs must have equal dimensions\")\n",
    "#     if A.ndim < 2:\n",
    "#         raise ValueError(\"Inputs must be at least a 2D ndarray\")\n",
    "# \n",
    "# \n",
    "# def _recursive(fun, A, B, *args, **kwargs):\n",
    "#     \"\"\"Recursive function with two inputs.\"\"\"\n",
    "#     if A.ndim == 2:\n",
    "#         return fun(A, B, *args, **kwargs)\n",
    "#     else:\n",
    "#         return np.asarray(\n",
    "#             [_recursive(fun, a, b, *args, **kwargs) for a, b in zip(A, B)]\n",
    "#         )\n",
    "#     \n",
    "# def distance_riemann(A, B, squared=False):\n",
    "#     _check_inputs(A, B)\n",
    "#     d2 = (np.log(_recursive(eigvalsh, A, B))**2).sum(axis=-1)\n",
    "#     return d2 if squared else np.sqrt(d2)"
   ],
   "id": "7f92e49c33d9de4a",
   "outputs": [],
   "execution_count": 122
  },
  {
   "metadata": {
    "ExecuteTime": {
     "end_time": "2024-05-29T23:14:38.370885Z",
     "start_time": "2024-05-29T23:14:38.332925Z"
    }
   },
   "cell_type": "code",
   "source": [
    "# Функция для вычисления риманова расстояния\n",
    "def riemannian_distance(C1, C2):\n",
    "    eigvals = eigh(C1, C2, eigvals_only=True)\n",
    "    return np.sqrt(np.sum(np.log(eigvals ** 2)))\n",
    "\n",
    "def train_potato(covariances, n_train=20):\n",
    "    mean_cov = np.mean(covariances[:n_train], axis=0)\n",
    "    distances = np.array([riemannian_distance(mean_cov, cov) for cov in covariances[:n_train]])\n",
    "    threshold = np.percentile(distances, 95)  # Установим порог на уровне 95-го перцентиля\n",
    "    return mean_cov, threshold\n",
    "\n",
    "mean_cov, threshold = train_potato(covariances_clean, n_train=200)"
   ],
   "id": "31926f17ee846f61",
   "outputs": [
    {
     "name": "stderr",
     "output_type": "stream",
     "text": [
      "C:\\Users\\bortn\\AppData\\Local\\Temp\\ipykernel_37284\\3055890164.py:4: RuntimeWarning: invalid value encountered in sqrt\n",
      "  return np.sqrt(np.sum(np.log(eigvals ** 2)))\n"
     ]
    }
   ],
   "execution_count": 129
  },
  {
   "metadata": {
    "ExecuteTime": {
     "end_time": "2024-05-29T23:11:43.225763Z",
     "start_time": "2024-05-29T23:11:43.221755Z"
    }
   },
   "cell_type": "code",
   "source": "covariances_clean",
   "id": "8efe572fe99c4320",
   "outputs": [
    {
     "data": {
      "text/plain": [
       "array([[[ 1.39521919e-10,  9.77371496e-11,  4.84537931e-11, ...,\n",
       "         -3.32515528e-11, -5.51859912e-11, -4.22024451e-11],\n",
       "        [ 9.77371496e-11,  7.85867637e-11,  4.84030360e-11, ...,\n",
       "         -2.55188247e-11, -4.21971044e-11, -4.64415241e-11],\n",
       "        [ 4.84537931e-11,  4.84030360e-11,  6.67417495e-11, ...,\n",
       "         -2.96426498e-11, -2.96835439e-11, -3.79944138e-11],\n",
       "        ...,\n",
       "        [-3.32515528e-11, -2.55188247e-11, -2.96426498e-11, ...,\n",
       "          9.17863617e-11,  4.09198324e-11,  8.25400423e-11],\n",
       "        [-5.51859912e-11, -4.21971044e-11, -2.96835439e-11, ...,\n",
       "          4.09198324e-11,  1.12293852e-10,  9.83616714e-11],\n",
       "        [-4.22024451e-11, -4.64415241e-11, -3.79944138e-11, ...,\n",
       "          8.25400423e-11,  9.83616714e-11,  2.30240446e-10]],\n",
       "\n",
       "       [[ 1.34250020e-10,  1.13196302e-10,  8.87569401e-11, ...,\n",
       "         -2.77985956e-11, -5.60461181e-11, -6.77667955e-11],\n",
       "        [ 1.13196302e-10,  1.30493459e-10,  1.17636980e-10, ...,\n",
       "         -2.81732638e-11, -4.57160478e-11, -1.11741262e-10],\n",
       "        [ 8.87569401e-11,  1.17636980e-10,  1.89527780e-10, ...,\n",
       "         -5.18941820e-11, -3.66343792e-11, -1.14437762e-10],\n",
       "        ...,\n",
       "        [-2.77985956e-11, -2.81732638e-11, -5.18941820e-11, ...,\n",
       "          1.51146457e-10,  4.15113422e-11,  1.11204246e-10],\n",
       "        [-5.60461181e-11, -4.57160478e-11, -3.66343792e-11, ...,\n",
       "          4.15113422e-11,  1.11219953e-10,  8.53336650e-11],\n",
       "        [-6.77667955e-11, -1.11741262e-10, -1.14437762e-10, ...,\n",
       "          1.11204246e-10,  8.53336650e-11,  3.57027524e-10]],\n",
       "\n",
       "       [[ 2.41382973e-10,  2.92601555e-10,  2.74193753e-10, ...,\n",
       "         -1.92881118e-11, -6.08848511e-11, -5.21646519e-11],\n",
       "        [ 2.92601555e-10,  3.96290265e-10,  3.69676043e-10, ...,\n",
       "         -4.45604000e-12, -5.08663137e-11, -4.44030444e-11],\n",
       "        [ 2.74193753e-10,  3.69676043e-10,  4.68312125e-10, ...,\n",
       "         -4.08372233e-11, -7.42053258e-11, -6.33643208e-11],\n",
       "        ...,\n",
       "        [-1.92881118e-11, -4.45604000e-12, -4.08372233e-11, ...,\n",
       "          9.65491087e-11,  3.58189150e-11,  5.66155857e-11],\n",
       "        [-6.08848511e-11, -5.08663137e-11, -7.42053258e-11, ...,\n",
       "          3.58189150e-11,  1.63720651e-10,  9.62183444e-11],\n",
       "        [-5.21646519e-11, -4.44030444e-11, -6.33643208e-11, ...,\n",
       "          5.66155857e-11,  9.62183444e-11,  1.43620103e-10]],\n",
       "\n",
       "       ...,\n",
       "\n",
       "       [[ 2.09257114e-10,  2.09728098e-10,  1.81683827e-10, ...,\n",
       "         -7.82612481e-11, -1.06183343e-10, -1.73693279e-10],\n",
       "        [ 2.09728098e-10,  2.45475000e-10,  2.54273396e-10, ...,\n",
       "         -6.84753043e-11, -9.65076578e-11, -1.73097290e-10],\n",
       "        [ 1.81683827e-10,  2.54273396e-10,  4.46944430e-10, ...,\n",
       "         -4.06589151e-11, -5.10377918e-11, -1.17925940e-10],\n",
       "        ...,\n",
       "        [-7.82612481e-11, -6.84753043e-11, -4.06589151e-11, ...,\n",
       "          1.06245829e-10,  6.82388193e-11,  1.29988676e-10],\n",
       "        [-1.06183343e-10, -9.65076578e-11, -5.10377918e-11, ...,\n",
       "          6.82388193e-11,  1.62687233e-10,  1.86913013e-10],\n",
       "        [-1.73693279e-10, -1.73097290e-10, -1.17925940e-10, ...,\n",
       "          1.29988676e-10,  1.86913013e-10,  3.67572757e-10]],\n",
       "\n",
       "       [[ 7.42239416e-11,  6.17348371e-11,  6.75790867e-11, ...,\n",
       "         -5.23687493e-11, -5.21869695e-11, -6.45500223e-11],\n",
       "        [ 6.17348371e-11,  6.55764589e-11,  8.18156593e-11, ...,\n",
       "         -4.57225779e-11, -4.76225465e-11, -5.43192887e-11],\n",
       "        [ 6.75790867e-11,  8.18156593e-11,  1.36344440e-10, ...,\n",
       "         -4.66829973e-11, -5.27745527e-11, -6.57759415e-11],\n",
       "        ...,\n",
       "        [-5.23687493e-11, -4.57225779e-11, -4.66829973e-11, ...,\n",
       "          9.75854584e-11,  5.01196597e-11,  8.22033918e-11],\n",
       "        [-5.21869695e-11, -4.76225465e-11, -5.27745527e-11, ...,\n",
       "          5.01196597e-11,  1.02746407e-10,  8.71544653e-11],\n",
       "        [-6.45500223e-11, -5.43192887e-11, -6.57759415e-11, ...,\n",
       "          8.22033918e-11,  8.71544653e-11,  1.49402472e-10]],\n",
       "\n",
       "       [[ 7.39504110e-11,  6.82321231e-11,  5.67543540e-11, ...,\n",
       "         -3.59321949e-11, -1.84675052e-11, -4.45893358e-11],\n",
       "        [ 6.82321231e-11,  7.09980793e-11,  6.54808256e-11, ...,\n",
       "         -3.51068477e-11, -1.49320705e-11, -4.63637212e-11],\n",
       "        [ 5.67543540e-11,  6.54808256e-11,  8.54903636e-11, ...,\n",
       "         -3.18919558e-11, -1.36312460e-11, -5.78334722e-11],\n",
       "        ...,\n",
       "        [-3.59321949e-11, -3.51068477e-11, -3.18919558e-11, ...,\n",
       "          6.67224880e-11, -2.70617069e-12,  4.20672483e-11],\n",
       "        [-1.84675052e-11, -1.49320705e-11, -1.36312460e-11, ...,\n",
       "         -2.70617069e-12,  5.84083660e-11,  2.46181973e-11],\n",
       "        [-4.45893358e-11, -4.63637212e-11, -5.78334722e-11, ...,\n",
       "          4.20672483e-11,  2.46181973e-11,  1.25824357e-10]]])"
      ]
     },
     "execution_count": 124,
     "metadata": {},
     "output_type": "execute_result"
    }
   ],
   "execution_count": 124
  },
  {
   "metadata": {},
   "cell_type": "markdown",
   "source": "# Шаг 5: Оценка качества новых данных",
   "id": "421b467d4dc941d1"
  },
  {
   "metadata": {
    "ExecuteTime": {
     "end_time": "2024-05-29T23:11:50.141234Z",
     "start_time": "2024-05-29T23:11:50.136434Z"
    }
   },
   "cell_type": "code",
   "source": [
    "def evaluate_potato(covariances, mean_cov, threshold):\n",
    "    distances = np.array([riemannian_distance(mean_cov, cov) for cov in covariances])\n",
    "    predictions = distances < threshold\n",
    "    return predictions, distances\n",
    "\n",
    "predictions, distances = evaluate_potato(covariances, mean_cov, threshold)"
   ],
   "id": "72c952fcc83ca1fd",
   "outputs": [
    {
     "name": "stderr",
     "output_type": "stream",
     "text": [
      "C:\\Users\\bortn\\AppData\\Local\\Temp\\ipykernel_37284\\1177699350.py:23: RuntimeWarning: invalid value encountered in log\n",
      "  d2 = (np.log(_recursive(eigvalsh, A, B))**2).sum(axis=-1)\n"
     ]
    }
   ],
   "execution_count": 125
  },
  {
   "metadata": {
    "ExecuteTime": {
     "end_time": "2024-05-29T23:14:09.940674Z",
     "start_time": "2024-05-29T23:14:09.930915Z"
    }
   },
   "cell_type": "code",
   "source": "np.log([-1, 1, 0] ** 2)",
   "id": "8d4a2e7d45b2f398",
   "outputs": [
    {
     "ename": "TypeError",
     "evalue": "unsupported operand type(s) for ** or pow(): 'list' and 'int'",
     "output_type": "error",
     "traceback": [
      "\u001B[1;31m---------------------------------------------------------------------------\u001B[0m",
      "\u001B[1;31mTypeError\u001B[0m                                 Traceback (most recent call last)",
      "Cell \u001B[1;32mIn[128], line 1\u001B[0m\n\u001B[1;32m----> 1\u001B[0m np\u001B[38;5;241m.\u001B[39mlog(\u001B[43m[\u001B[49m\u001B[38;5;241;43m-\u001B[39;49m\u001B[38;5;241;43m1\u001B[39;49m\u001B[43m,\u001B[49m\u001B[43m \u001B[49m\u001B[38;5;241;43m1\u001B[39;49m\u001B[43m,\u001B[49m\u001B[43m \u001B[49m\u001B[38;5;241;43m0\u001B[39;49m\u001B[43m]\u001B[49m\u001B[43m \u001B[49m\u001B[38;5;241;43m*\u001B[39;49m\u001B[38;5;241;43m*\u001B[39;49m\u001B[43m \u001B[49m\u001B[38;5;241;43m2\u001B[39;49m)\n",
      "\u001B[1;31mTypeError\u001B[0m: unsupported operand type(s) for ** or pow(): 'list' and 'int'"
     ]
    }
   ],
   "execution_count": 128
  },
  {
   "metadata": {
    "ExecuteTime": {
     "end_time": "2024-05-29T23:11:59.483341Z",
     "start_time": "2024-05-29T23:11:59.478363Z"
    }
   },
   "cell_type": "code",
   "source": "distances",
   "id": "9f4ee4ea2bdb19e3",
   "outputs": [
    {
     "data": {
      "text/plain": [
       "array([79.76731588, 80.92103609, 79.79555695,         nan,         nan,\n",
       "               nan, 79.48061717,         nan, 79.36168099])"
      ]
     },
     "execution_count": 126,
     "metadata": {},
     "output_type": "execute_result"
    }
   ],
   "execution_count": 126
  },
  {
   "metadata": {},
   "cell_type": "markdown",
   "source": "# Шаг 6: Визуализация результатов",
   "id": "f660236c47c9eebd"
  },
  {
   "metadata": {
    "ExecuteTime": {
     "end_time": "2024-05-29T22:56:41.885575Z",
     "start_time": "2024-05-29T22:56:41.632984Z"
    }
   },
   "cell_type": "code",
   "source": [
    "plt.figure(figsize=(10, 5))\n",
    "plt.plot(distances, 'o')\n",
    "plt.axhline(y=threshold, color='r', linestyle='--', label='Threshold')\n",
    "plt.xlabel('Сегмент')\n",
    "plt.ylabel('Расстояние')\n",
    "plt.title('Оценка качества данных ЭЭГ с использованием Riemannian Potato')\n",
    "plt.legend()\n",
    "plt.show()\n",
    "\n",
    "plt.figure(figsize=(12, 6))\n",
    "for i in range(3):\n",
    "    plt.plot(times, eeg_data[i]*10000 + i, label=f'EEG{i+1}')\n",
    "plt.xlabel('Время (с)')\n",
    "plt.ylabel('Амплитуда (смешано)')\n",
    "# plt.legend(loc='upper right')\n",
    "plt.show()"
   ],
   "id": "1bead7c55eac4d7d",
   "outputs": [
    {
     "data": {
      "text/plain": [
       "<Figure size 1000x500 with 1 Axes>"
      ],
      "image/png": "[encoded data removed]"
     },
     "metadata": {},
     "output_type": "display_data"
    },
    {
     "data": {
      "text/plain": [
       "<Figure size 1200x600 with 1 Axes>"
      ],
      "image/png": "[encoded data removed]"
     },
     "metadata": {},
     "output_type": "display_data"
    }
   ],
   "execution_count": 88
  },
  {
   "metadata": {},
   "cell_type": "code",
   "outputs": [],
   "execution_count": null,
   "source": "",
   "id": "fa22d08de4ab7791"
  }
 ],
 "metadata": {
  "kernelspec": {
   "display_name": "Python 3",
   "language": "python",
   "name": "python3"
  },
  "language_info": {
   "codemirror_mode": {
    "name": "ipython",
    "version": 2
   },
   "file_extension": ".py",
   "mimetype": "text/x-python",
   "name": "python",
   "nbconvert_exporter": "python",
   "pygments_lexer": "ipython2",
   "version": "2.7.6"
  }
 },
 "nbformat": 4,
 "nbformat_minor": 5
}
