{
 "cells": [
  {
   "cell_type": "code",
   "id": "initial_id",
   "metadata": {
    "collapsed": true,
    "ExecuteTime": {
     "end_time": "2024-05-18T11:32:07.238785Z",
     "start_time": "2024-05-18T11:32:06.142354Z"
    }
   },
   "source": [
    "import mne.io.eeglab.eeglab\n",
    "import numpy as np\n",
    "import pandas as pd\n",
    "import functools\n",
    "from neurokit2.stats.cluster_quality import _cluster_quality_distance\n",
    "from filenames_and_paths import *\n",
    "from helper import *"
   ],
   "outputs": [],
   "execution_count": 1
  },
  {
   "metadata": {
    "ExecuteTime": {
     "end_time": "2024-05-18T11:32:07.247941Z",
     "start_time": "2024-05-18T11:32:07.239791Z"
    }
   },
   "cell_type": "code",
   "source": [
    "def cluster_taahc(\n",
    "    data,\n",
    "    n_clusters=2,\n",
    "    gfp=None,\n",
    "    gfp_peaks=None,\n",
    "    gfp_sum_sq=None,\n",
    "    random_state=None,\n",
    "    use_peaks=False,\n",
    "    **kwargs\n",
    "):\n",
    "    \"\"\"Atomize and Agglomerative Hierarchical Clustering Algorithm, AAHC (Murray et al., Brain Topography, 2008),\n",
    "    implemented by https://github.com/Frederic-vW/eeg_microstates/blob/master/eeg_microstates.py#L518\n",
    "\n",
    "    Preprocessing steps of GFP computation are necessary for the algorithm to run. If gfp arguments are specified,\n",
    "    data is assumed to have been filtered out based on gfp peaks (e.g., data[:, indices]), if not specified,\n",
    "    gfp indices will be calculated in the algorithm and data is assumed to be the full un-preprocessed input.\n",
    "    \"\"\"\n",
    "\n",
    "    # Internal functions for aahc\n",
    "    def extract_row(A, k):\n",
    "        v = A[k, :]\n",
    "        A_ = np.vstack((A[:k, :], A[k + 1 :, :]))\n",
    "        return A_, v\n",
    "\n",
    "    def extract_item(A, k):\n",
    "        a = A[k]\n",
    "        A_ = A[:k] + A[k + 1 :]\n",
    "        return A_, a\n",
    "\n",
    "    def locmax(x):\n",
    "        \"\"\"Get local maxima of 1D-array\n",
    "        Args:\n",
    "            x: numeric sequence\n",
    "        Returns:\n",
    "            m: list, 1D-indices of local maxima\n",
    "        \"\"\"\n",
    "        dx = np.diff(x)  # discrete 1st derivative\n",
    "        zc = np.diff(np.sign(dx))  # zero-crossings of dx\n",
    "        m = 1 + np.where(zc == -2)[0]  # indices of local max.  \n",
    "        return m\n",
    "\n",
    "    # Sanitize\n",
    "    if isinstance(data, pd.DataFrame):\n",
    "        data = np.array(data)\n",
    "    _, nch = data.shape\n",
    "\n",
    "    # If preprocessing is not Done already\n",
    "    if gfp is None and gfp_peaks is None and gfp_sum_sq is None:\n",
    "        gfp = data.std(axis=1)\n",
    "        gfp_peaks = locmax(gfp)\n",
    "        gfp_sum_sq = np.sum(gfp**2)  # normalizing constant in GEV\n",
    "        if use_peaks:\n",
    "            maps = data[gfp_peaks, :]  # initialize clusters\n",
    "            cluster_data = data[gfp_peaks, :]  # store original gfp peak indices\n",
    "        else:\n",
    "            maps = data.copy()\n",
    "            cluster_data = data.copy()\n",
    "    else:\n",
    "        maps = data.copy()\n",
    "        cluster_data = data.copy()\n",
    "\n",
    "    n_maps = maps.shape[0]\n",
    "\n",
    "    # cluster indices w.r.t. original size, normalized GFP peak data\n",
    "    Ci = [[k] for k in range(n_maps)]\n",
    "\n",
    "    # Main loop: atomize + agglomerate\n",
    "    while n_maps > n_clusters:\n",
    "\n",
    "        # correlations of the data sequence with each cluster\n",
    "        m_x, s_x = data.mean(axis=1, keepdims=True), data.std(axis=1)\n",
    "        m_y, s_y = maps.mean(axis=1, keepdims=True), maps.std(axis=1)\n",
    "        s_xy = 1.0 * nch * np.outer(s_x, s_y)\n",
    "        C = np.dot(data - m_x, np.transpose(maps - m_y)) / s_xy\n",
    "\n",
    "        # microstate sequence, ignore polarity\n",
    "        L = np.argmax(C**2, axis=1)\n",
    "\n",
    "        # GEV (global explained variance) of cluster k\n",
    "        gev = np.zeros(n_maps)\n",
    "        for k in range(n_maps):\n",
    "            r = L == k\n",
    "            gev[k] = np.sum(gfp[r] ** 2 * C[r, k] ** 2) / gfp_sum_sq\n",
    "\n",
    "        # merge cluster with the minimum GEV\n",
    "        imin = np.argmin(gev)\n",
    "\n",
    "        # N => N-1\n",
    "        maps, _ = extract_row(maps, imin)\n",
    "        Ci, reC = extract_item(Ci, imin)\n",
    "        re_cluster = []  # indices of updated clusters\n",
    "        for k in reC:  # map index to re-assign\n",
    "            c = cluster_data[k, :]\n",
    "            m_x, s_x = maps.mean(axis=1, keepdims=True), maps.std(axis=1)\n",
    "            m_y, s_y = c.mean(), c.std()\n",
    "            s_xy = 1.0 * nch * s_x * s_y\n",
    "            C = np.dot(maps - m_x, c - m_y) / s_xy\n",
    "            inew = np.argmax(C**2)  # ignore polarity\n",
    "            re_cluster.append(inew)\n",
    "            Ci[inew].append(k)\n",
    "        n_maps = len(Ci)\n",
    "\n",
    "        # Update clusters\n",
    "        re_cluster = list(set(re_cluster))  # unique list of updated clusters\n",
    "\n",
    "        # re-clustering by eigenvector method\n",
    "        for i in re_cluster:\n",
    "            idx = Ci[i]\n",
    "            Vt = cluster_data[idx, :]\n",
    "            Sk = np.dot(Vt.T, Vt)\n",
    "            evals, evecs = np.linalg.eig(Sk)\n",
    "            c = evecs[:, np.argmax(np.abs(evals))]\n",
    "            c = np.real(c)\n",
    "            maps[i] = c / np.sqrt(np.sum(c**2))\n",
    "\n",
    "    # Get distance\n",
    "    prediction = _cluster_quality_distance(cluster_data, maps, to_dataframe=True)\n",
    "    prediction[\"Cluster\"] = prediction.abs().idxmax(axis=1).values\n",
    "    prediction[\"Cluster\"] = [\n",
    "        np.where(prediction.columns == state)[0][0] for state in prediction[\"Cluster\"]\n",
    "    ]\n",
    "\n",
    "    # Function\n",
    "    clustering_function = functools.partial(\n",
    "        cluster_taahc, n_clusters=n_clusters, random_state=random_state, **kwargs\n",
    "    )\n",
    "\n",
    "    # Info dump\n",
    "    info = {\n",
    "        \"n_clusters\": n_clusters,\n",
    "        \"clustering_function\": clustering_function,\n",
    "        \"random_state\": random_state,\n",
    "    }\n",
    "\n",
    "    return prediction, maps, info"
   ],
   "id": "719f2aa6abd42335",
   "outputs": [],
   "execution_count": 2
  },
  {
   "metadata": {
    "ExecuteTime": {
     "end_time": "2024-05-18T11:32:07.449654Z",
     "start_time": "2024-05-18T11:32:07.248949Z"
    }
   },
   "cell_type": "code",
   "source": [
    "folders.end_folder = path014\n",
    "mhw: MicrostateHelperWrapper = MicrostateHelperWrapper.static_load(folders=folders, raw_filename=filenames014[0]+\"_th\")"
   ],
   "id": "a570a9368e9d54b8",
   "outputs": [
    {
     "name": "stdout",
     "output_type": "stream",
     "text": [
      "Loading MHW object ACP_INP0014_REST1_1pnt_1vis_th\n"
     ]
    }
   ],
   "execution_count": 3
  },
  {
   "metadata": {
    "ExecuteTime": {
     "end_time": "2024-05-18T11:32:07.452655Z",
     "start_time": "2024-05-18T11:32:07.449654Z"
    }
   },
   "cell_type": "code",
   "source": "raw: mne.io.eeglab.eeglab.RawEEGLAB = mhw.raw",
   "id": "beb6645e354a6e0b",
   "outputs": [],
   "execution_count": 4
  },
  {
   "metadata": {
    "ExecuteTime": {
     "end_time": "2024-05-18T11:49:06.467605Z",
     "start_time": "2024-05-18T11:49:06.285936Z"
    }
   },
   "cell_type": "code",
   "source": [
    "eeg = raw.get_data()\n",
    "data_df = pd.DataFrame(eeg)"
   ],
   "id": "9642440a994451bd",
   "outputs": [],
   "execution_count": 22
  },
  {
   "metadata": {
    "ExecuteTime": {
     "end_time": "2024-05-18T11:49:07.958898Z",
     "start_time": "2024-05-18T11:49:06.963971Z"
    }
   },
   "cell_type": "code",
   "source": [
    "from neurokit2 import microstates_clean\n",
    "\n",
    "data, indices, gfp, info_mne = microstates_clean(\n",
    "    eeg,\n",
    "    train='gfp',\n",
    "    sampling_rate=2048,\n",
    "    standardize_eeg=False,\n",
    "    gfp_method='l1'\n",
    ")"
   ],
   "id": "59dc5e0c35865870",
   "outputs": [],
   "execution_count": 23
  },
  {
   "metadata": {
    "ExecuteTime": {
     "end_time": "2024-05-18T11:49:09.180475Z",
     "start_time": "2024-05-18T11:49:09.163466Z"
    }
   },
   "cell_type": "code",
   "source": "",
   "id": "747f5995bbfbdcaf",
   "outputs": [
    {
     "data": {
      "text/plain": [
       "array([[ 1.41895771e-05,  1.47679081e-05,  1.31899948e-05, ...,\n",
       "        -3.18051529e-06, -4.59211636e-06, -1.54073524e-05],\n",
       "       [ 2.09563160e-05,  1.99793587e-05,  1.20101690e-05, ...,\n",
       "        -1.07384453e-05,  1.33070278e-06, -8.84633923e-06],\n",
       "       [ 1.59974420e-06,  8.43425560e-06,  1.96164112e-05, ...,\n",
       "        -2.41871147e-05, -5.17581320e-06, -2.27316036e-05],\n",
       "       ...,\n",
       "       [-8.42091370e-06, -6.77572966e-06, -5.80944586e-06, ...,\n",
       "         1.67502327e-05, -3.84942150e-06,  1.84001064e-05],\n",
       "       [-6.90112925e-06, -7.47818470e-06, -5.12855387e-06, ...,\n",
       "         1.03668213e-05,  6.81083584e-06,  1.61063118e-05],\n",
       "       [-8.07153225e-06, -7.70825267e-07,  5.23290396e-06, ...,\n",
       "        -4.84503126e-06, -2.92906451e-06, -3.50755787e-06]])"
      ]
     },
     "execution_count": 24,
     "metadata": {},
     "output_type": "execute_result"
    }
   ],
   "execution_count": 24
  },
  {
   "metadata": {
    "ExecuteTime": {
     "end_time": "2024-05-18T11:54:51.525540Z",
     "start_time": "2024-05-18T11:51:21.397994Z"
    }
   },
   "cell_type": "code",
   "source": "cluster_taahc(data[:, indices].T)",
   "id": "8f3456dc8ee962ba",
   "outputs": [
    {
     "ename": "KeyboardInterrupt",
     "evalue": "",
     "output_type": "error",
     "traceback": [
      "\u001B[1;31m---------------------------------------------------------------------------\u001B[0m",
      "\u001B[1;31mKeyboardInterrupt\u001B[0m                         Traceback (most recent call last)",
      "Cell \u001B[1;32mIn[25], line 1\u001B[0m\n\u001B[1;32m----> 1\u001B[0m \u001B[43mcluster_taahc\u001B[49m\u001B[43m(\u001B[49m\u001B[43mdata\u001B[49m\u001B[43m[\u001B[49m\u001B[43m:\u001B[49m\u001B[43m,\u001B[49m\u001B[43m \u001B[49m\u001B[43mindices\u001B[49m\u001B[43m]\u001B[49m\u001B[38;5;241;43m.\u001B[39;49m\u001B[43mT\u001B[49m\u001B[43m)\u001B[49m\n",
      "Cell \u001B[1;32mIn[2], line 77\u001B[0m, in \u001B[0;36mcluster_taahc\u001B[1;34m(data, n_clusters, gfp, gfp_peaks, gfp_sum_sq, random_state, use_peaks, **kwargs)\u001B[0m\n\u001B[0;32m     74\u001B[0m C \u001B[38;5;241m=\u001B[39m np\u001B[38;5;241m.\u001B[39mdot(data \u001B[38;5;241m-\u001B[39m m_x, np\u001B[38;5;241m.\u001B[39mtranspose(maps \u001B[38;5;241m-\u001B[39m m_y)) \u001B[38;5;241m/\u001B[39m s_xy\n\u001B[0;32m     76\u001B[0m \u001B[38;5;66;03m# microstate sequence, ignore polarity\u001B[39;00m\n\u001B[1;32m---> 77\u001B[0m L \u001B[38;5;241m=\u001B[39m \u001B[43mnp\u001B[49m\u001B[38;5;241;43m.\u001B[39;49m\u001B[43margmax\u001B[49m\u001B[43m(\u001B[49m\u001B[43mC\u001B[49m\u001B[38;5;241;43m*\u001B[39;49m\u001B[38;5;241;43m*\u001B[39;49m\u001B[38;5;241;43m2\u001B[39;49m\u001B[43m,\u001B[49m\u001B[43m \u001B[49m\u001B[43maxis\u001B[49m\u001B[38;5;241;43m=\u001B[39;49m\u001B[38;5;241;43m1\u001B[39;49m\u001B[43m)\u001B[49m\n\u001B[0;32m     79\u001B[0m \u001B[38;5;66;03m# GEV (global explained variance) of cluster k\u001B[39;00m\n\u001B[0;32m     80\u001B[0m gev \u001B[38;5;241m=\u001B[39m np\u001B[38;5;241m.\u001B[39mzeros(n_maps)\n",
      "File \u001B[1;32mD:\\nsu-microstate-rest-eeg\\virtualenv\\Lib\\site-packages\\numpy\\core\\fromnumeric.py:1136\u001B[0m, in \u001B[0;36m_argmax_dispatcher\u001B[1;34m(a, axis, out, keepdims)\u001B[0m\n\u001B[0;32m   1027\u001B[0m \u001B[38;5;250m    \u001B[39m\u001B[38;5;124;03m\"\"\"\u001B[39;00m\n\u001B[0;32m   1028\u001B[0m \u001B[38;5;124;03m    Returns the indices that would sort an array.\u001B[39;00m\n\u001B[0;32m   1029\u001B[0m \n\u001B[1;32m   (...)\u001B[0m\n\u001B[0;32m   1131\u001B[0m \n\u001B[0;32m   1132\u001B[0m \u001B[38;5;124;03m    \"\"\"\u001B[39;00m\n\u001B[0;32m   1133\u001B[0m     \u001B[38;5;28;01mreturn\u001B[39;00m _wrapfunc(a, \u001B[38;5;124m'\u001B[39m\u001B[38;5;124margsort\u001B[39m\u001B[38;5;124m'\u001B[39m, axis\u001B[38;5;241m=\u001B[39maxis, kind\u001B[38;5;241m=\u001B[39mkind, order\u001B[38;5;241m=\u001B[39morder)\n\u001B[1;32m-> 1136\u001B[0m \u001B[38;5;28;01mdef\u001B[39;00m \u001B[38;5;21m_argmax_dispatcher\u001B[39m(a, axis\u001B[38;5;241m=\u001B[39m\u001B[38;5;28;01mNone\u001B[39;00m, out\u001B[38;5;241m=\u001B[39m\u001B[38;5;28;01mNone\u001B[39;00m, \u001B[38;5;241m*\u001B[39m, keepdims\u001B[38;5;241m=\u001B[39mnp\u001B[38;5;241m.\u001B[39m_NoValue):\n\u001B[0;32m   1137\u001B[0m     \u001B[38;5;28;01mreturn\u001B[39;00m (a, out)\n\u001B[0;32m   1140\u001B[0m \u001B[38;5;129m@array_function_dispatch\u001B[39m(_argmax_dispatcher)\n\u001B[0;32m   1141\u001B[0m \u001B[38;5;28;01mdef\u001B[39;00m \u001B[38;5;21margmax\u001B[39m(a, axis\u001B[38;5;241m=\u001B[39m\u001B[38;5;28;01mNone\u001B[39;00m, out\u001B[38;5;241m=\u001B[39m\u001B[38;5;28;01mNone\u001B[39;00m, \u001B[38;5;241m*\u001B[39m, keepdims\u001B[38;5;241m=\u001B[39mnp\u001B[38;5;241m.\u001B[39m_NoValue):\n",
      "\u001B[1;31mKeyboardInterrupt\u001B[0m: "
     ]
    }
   ],
   "execution_count": 25
  },
  {
   "metadata": {
    "ExecuteTime": {
     "end_time": "2024-05-18T11:46:22.255834Z",
     "start_time": "2024-05-18T11:45:55.317140Z"
    }
   },
   "cell_type": "code",
   "source": "nk.microstates_segment(raw, 4, method=\"aahc\")",
   "id": "c04017d78adb4192",
   "outputs": [
    {
     "data": {
      "text/plain": [
       "{'Microstates': array([[ 5.49325516e-06,  6.09980506e-06,  7.46148731e-06,\n",
       "          4.22756705e-06,  4.95822544e-06,  6.27991790e-06,\n",
       "          8.84467965e-06,  9.08036237e-06,  9.92061111e-07,\n",
       "          3.21764185e-06,  4.25011295e-06,  8.55842387e-06,\n",
       "         -3.73392241e-06, -3.01713902e-06,  2.63394367e-06,\n",
       "          5.27455415e-06,  6.10772989e-06, -9.66563611e-06,\n",
       "         -4.29985090e-06,  1.31196159e-06,  2.35864530e-06,\n",
       "         -1.08981310e-05, -1.11216304e-05, -7.81334124e-06,\n",
       "         -1.45672889e-06, -6.00542742e-08, -7.93352851e-06,\n",
       "         -1.25131581e-05, -3.43219351e-06,  4.70816269e-06,\n",
       "          4.97552062e-06,  8.87985615e-06,  8.69532523e-06,\n",
       "          3.54824375e-06,  5.17282168e-06,  8.59569852e-06,\n",
       "          8.90302413e-06,  6.32918139e-07,  3.29678196e-06,\n",
       "          6.33983899e-06, -4.31829911e-06, -7.79885922e-07,\n",
       "          2.22155691e-06,  6.75055268e-06, -7.36403212e-06,\n",
       "          1.49972839e-06, -1.11082572e-05, -1.11938961e-05,\n",
       "         -1.42333672e-06, -2.47233124e-07, -1.20866415e-05,\n",
       "         -1.19260794e-05, -1.51595120e-06, -1.44444687e-06,\n",
       "          7.20926053e-07,  8.66759990e-06, -1.07560848e-05,\n",
       "          1.04873625e-06, -1.21634549e-05, -1.47710214e-06,\n",
       "         -8.05765620e-06],\n",
       "        [ 5.56863264e-06,  5.18100796e-06,  4.11917329e-06,\n",
       "          8.93152160e-06,  7.12750959e-06,  4.49921185e-06,\n",
       "          2.01309539e-06,  1.64314361e-06,  9.95528109e-06,\n",
       "          4.21152146e-06, -2.18394320e-06, -3.36150463e-06,\n",
       "          8.17618286e-06,  5.95553971e-06,  2.02963330e-06,\n",
       "         -5.31047005e-06, -8.33128847e-06,  6.55456485e-06,\n",
       "          1.60557077e-06, -4.28044701e-06, -1.17422817e-05,\n",
       "          4.67049246e-06,  3.15075291e-06, -5.68885452e-06,\n",
       "         -1.08501315e-05, -1.22601863e-05, -5.79039046e-06,\n",
       "          1.31941102e-06, -1.09495474e-05,  7.16469973e-06,\n",
       "          7.21537828e-06,  2.14598250e-06,  2.40569644e-06,\n",
       "          9.09518709e-06,  6.60607392e-06,  2.23156127e-06,\n",
       "          1.98618309e-06,  7.70327130e-06,  3.06018778e-06,\n",
       "         -2.52807996e-06,  7.48676182e-06,  3.72043648e-06,\n",
       "         -3.51778239e-06, -7.80610422e-06,  4.28825387e-06,\n",
       "         -4.60101215e-06,  3.77898366e-06,  2.77800239e-06,\n",
       "         -1.05454158e-05, -1.21848654e-05,  2.00540203e-06,\n",
       "          2.10729935e-06, -1.12366084e-05, -1.14101600e-05,\n",
       "          7.73592869e-06, -3.17983705e-06,  4.78652275e-06,\n",
       "         -1.19807119e-05,  1.96619296e-06, -1.14274124e-05,\n",
       "         -5.81320066e-06],\n",
       "        [-1.13740773e-05, -9.84291272e-06, -1.01318645e-05,\n",
       "         -1.39827293e-05, -2.48254178e-06, -5.70599951e-07,\n",
       "         -5.49437724e-06, -7.94430023e-06, -4.90186985e-06,\n",
       "          4.67468297e-06,  5.26640715e-06, -2.77060195e-06,\n",
       "         -8.20250176e-06,  3.61170827e-06,  6.52456968e-06,\n",
       "          4.03536517e-06, -4.77798551e-06,  1.56643368e-06,\n",
       "          7.52737048e-06,  6.57023851e-06,  1.35546578e-06,\n",
       "          8.43562557e-07,  3.17423146e-06,  7.47620056e-06,\n",
       "          4.13243731e-06,  1.69225880e-06,  7.39243052e-06,\n",
       "          3.44243324e-06,  3.28082441e-06, -1.23308801e-05,\n",
       "         -3.54159616e-06, -5.68159717e-06, -8.05430053e-06,\n",
       "         -6.59260915e-06, -1.39076499e-06, -3.83715974e-06,\n",
       "         -6.63321118e-06,  1.67521044e-06,  5.51177826e-06,\n",
       "          3.34082951e-06, -1.23580877e-06,  6.59541307e-06,\n",
       "          6.33659487e-06,  5.49029099e-08,  5.27555203e-06,\n",
       "          6.46274387e-06,  2.49730969e-06,  3.51173213e-06,\n",
       "          4.34975587e-06,  1.99678715e-06,  3.65040972e-06,\n",
       "          3.69565938e-06,  3.84916438e-06,  3.64674380e-06,\n",
       "         -1.02836485e-05, -8.49392970e-06,  6.13434886e-07,\n",
       "          4.18979327e-07,  3.57912998e-06,  3.64604096e-06,\n",
       "          7.27704940e-06],\n",
       "        [-8.62834984e-07, -2.39407746e-06, -2.38123538e-06,\n",
       "         -2.29800170e-07, -9.77121354e-06, -1.02299284e-05,\n",
       "         -6.05456385e-06, -3.81416575e-06, -6.16420699e-06,\n",
       "         -1.15030634e-05, -6.91057909e-06, -3.00684986e-06,\n",
       "          3.32049169e-06, -5.79732358e-06, -1.04413381e-05,\n",
       "         -3.70358415e-06,  6.04854047e-06,  2.23304138e-06,\n",
       "         -3.88566525e-06, -3.07449841e-06,  7.77318854e-06,\n",
       "          5.95217608e-06,  5.51601052e-06,  6.52673242e-06,\n",
       "          8.14359846e-06,  1.02930032e-05,  6.81291788e-06,\n",
       "          8.40404013e-06,  1.09495869e-05, -6.22668575e-07,\n",
       "         -8.92434018e-06, -6.06254967e-06, -3.97345114e-06,\n",
       "         -6.52618300e-06, -1.04912909e-05, -7.46195013e-06,\n",
       "         -5.07769046e-06, -9.57285505e-06, -1.11969677e-05,\n",
       "         -6.94959033e-06, -1.58553998e-06, -8.62315142e-06,\n",
       "         -4.49005291e-06,  7.35888377e-07, -1.37903650e-06,\n",
       "         -2.83328424e-06,  5.53226562e-06,  5.63139787e-06,\n",
       "          7.62572129e-06,  1.01381356e-05,  7.17479443e-06,\n",
       "          6.83522483e-06,  8.82763091e-06,  9.10216003e-06,\n",
       "          1.08184636e-06,  1.81217954e-06,  5.92388565e-06,\n",
       "          1.00383168e-05,  7.32855408e-06,  9.15672868e-06,\n",
       "          7.07748690e-06]]),\n",
       " 'Sequence': array([3, 3, 3, ..., 0, 0, 0], dtype=int64),\n",
       " 'GEV': 0.5526411133236682,\n",
       " 'GEV_per_microstate': array([0.18600499, 0.13318663, 0.16429089, 0.0691586 ]),\n",
       " 'GFP': array([0.19698345, 0.19809285, 0.1992476 , ..., 0.13234924, 0.13593003,\n",
       "        0.13916866]),\n",
       " 'Polarity': array([1., 1., 1., ..., 1., 1., 1.]),\n",
       " 'Info_algorithm': {'n_clusters': 4,\n",
       "  'clustering_function': functools.partial(<function _cluster_sklearn at 0x000002B9C166F100>, n_clusters=4),\n",
       "  'sklearn_model': SpectralClustering(n_clusters=4)},\n",
       " 'Info': <Info | 8 non-empty values\n",
       "  bads: []\n",
       "  ch_names: Fp1, Fpz, Fp2, F7, F3, Fz, F4, F8, FC5, FC1, FC2, FC6, T7, C3, ...\n",
       "  chs: 61 EEG\n",
       "  custom_ref_applied: False\n",
       "  dig: 64 items (3 Cardinal, 61 EEG)\n",
       "  highpass: 0.0 Hz\n",
       "  lowpass: 1024.0 Hz\n",
       "  meas_date: unspecified\n",
       "  nchan: 61\n",
       "  projs: []\n",
       "  sfreq: 2048.0 Hz\n",
       " >}"
      ]
     },
     "execution_count": 20,
     "metadata": {},
     "output_type": "execute_result"
    }
   ],
   "execution_count": 20
  },
  {
   "metadata": {},
   "cell_type": "code",
   "outputs": [],
   "execution_count": null,
   "source": "",
   "id": "456450f8b6c364e7"
  }
 ],
 "metadata": {
  "kernelspec": {
   "display_name": "Python 3",
   "language": "python",
   "name": "python3"
  },
  "language_info": {
   "codemirror_mode": {
    "name": "ipython",
    "version": 2
   },
   "file_extension": ".py",
   "mimetype": "text/x-python",
   "name": "python",
   "nbconvert_exporter": "python",
   "pygments_lexer": "ipython2",
   "version": "2.7.6"
  }
 },
 "nbformat": 4,
 "nbformat_minor": 5
}
