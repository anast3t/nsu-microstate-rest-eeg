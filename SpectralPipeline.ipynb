{
 "cells": [
  {
   "cell_type": "code",
   "execution_count": 1,
   "metadata": {
    "pycharm": {
     "name": "#%%\n"
    },
    "ExecuteTime": {
     "end_time": "2024-04-14T09:16:41.003331Z",
     "start_time": "2024-04-14T09:16:38.524528Z"
    }
   },
   "source": [
    "import mne\n",
    "from mne.preprocessing import ICA\n",
    "# raw_bv = mne.io.read_raw_brainvision('rest\\INP0064_v1.4_rs11_S008_R003_04.12.23.vhdr')\n",
    "raw_bv = mne.io.read_raw_brainvision('rest1_94/INP0094_v1.4_REST1_Op008_A002_S002_18.12.23.vhdr')\n",
    "raw_bv.load_data()"
   ],
   "outputs": []
  },
  {
   "cell_type": "code",
   "execution_count": 2,
   "metadata": {
    "pycharm": {
     "name": "#%%\n"
    },
    "ExecuteTime": {
     "end_time": "2024-04-14T09:16:41.006510Z",
     "start_time": "2024-04-14T09:16:40.996003Z"
    }
   },
   "source": [
    "# print(mne.get_config())"
   ],
   "outputs": []
  },
  {
   "cell_type": "code",
   "execution_count": 3,
   "metadata": {
    "pycharm": {
     "name": "#%%\n"
    },
    "ExecuteTime": {
     "end_time": "2024-04-14T09:16:41.007937Z",
     "start_time": "2024-04-14T09:16:40.997045Z"
    }
   },
   "source": [
    "# print(raw_bv.info)\n",
    "# print(raw_bv.ch_names)"
   ],
   "outputs": []
  },
  {
   "cell_type": "code",
   "execution_count": 4,
   "metadata": {
    "pycharm": {
     "name": "#%%\n"
    },
    "ExecuteTime": {
     "end_time": "2024-04-14T09:16:41.023190Z",
     "start_time": "2024-04-14T09:16:40.998496Z"
    }
   },
   "source": [
    "# raw_bv.describe()"
   ],
   "outputs": []
  },
  {
   "cell_type": "code",
   "execution_count": 5,
   "metadata": {
    "pycharm": {
     "name": "#%%\n"
    },
    "ExecuteTime": {
     "end_time": "2024-04-14T09:16:41.248930Z",
     "start_time": "2024-04-14T09:16:41.003565Z"
    }
   },
   "source": [
    "raw_bv_dropped = raw_bv.copy()\n",
    "\n",
    "raw_bv_dropped.drop_channels([\"EOG\", \"BIP1\", \"M1\", \"M2\", \"PO5\", \"PO6\"])\n",
    "# raw_bv_dropped.drop_channels([\"BIP1\"])\n",
    "\n",
    "# raw_bv_dropped.rename_channels()"
   ],
   "outputs": []
  },
  {
   "cell_type": "code",
   "execution_count": 6,
   "source": [
    "# %matplotlib qt\n",
    "\n",
    "# raw_bv_dropped.plot()"
   ],
   "metadata": {
    "collapsed": false,
    "pycharm": {
     "name": "#%%\n"
    },
    "ExecuteTime": {
     "end_time": "2024-04-14T09:16:41.262061Z",
     "start_time": "2024-04-14T09:16:41.250521Z"
    }
   },
   "outputs": []
  },
  {
   "cell_type": "code",
   "execution_count": 7,
   "source": [
    "# raw_bv.compute_psd(fmax=50).plot(picks=\"data\", exclude=\"bads\", amplitude=False)\n",
    "# raw_bv.plot(duration=5, n_channels=30)\n",
    "raw_bd_filtered = raw_bv_dropped.copy()\n",
    "raw_bd_filtered = raw_bd_filtered.filter(l_freq=1, h_freq=40)"
   ],
   "metadata": {
    "collapsed": false,
    "pycharm": {
     "name": "#%%\n"
    },
    "ExecuteTime": {
     "end_time": "2024-04-14T09:16:42.336742Z",
     "start_time": "2024-04-14T09:16:41.254206Z"
    }
   },
   "outputs": []
  },
  {
   "cell_type": "code",
   "execution_count": 8,
   "source": [
    "%matplotlib qt\n",
    "# fig = raw.plot(start=2, duration=6)"
   ],
   "metadata": {
    "collapsed": false,
    "pycharm": {
     "name": "#%%\n"
    },
    "ExecuteTime": {
     "end_time": "2024-04-14T09:16:42.966676Z",
     "start_time": "2024-04-14T09:16:42.336483Z"
    }
   },
   "outputs": []
  },
  {
   "cell_type": "code",
   "execution_count": 9,
   "source": [
    "# raw_bv.compute_psd(fmax=50).plot(picks=\"data\", exclude=\"bads\", amplitude=False)"
   ],
   "metadata": {
    "collapsed": false,
    "pycharm": {
     "name": "#%%\n"
    },
    "ExecuteTime": {
     "end_time": "2024-04-14T09:16:42.969697Z",
     "start_time": "2024-04-14T09:16:42.966795Z"
    }
   },
   "outputs": []
  },
  {
   "cell_type": "code",
   "execution_count": 10,
   "source": [
    "biosemi64 = mne.channels.make_standard_montage(\"biosemi64\")\n",
    "# customMontage  = mne.channels.read_custom_montage(\"rest1_94\\\\reworkedElc.elc\")"
   ],
   "metadata": {
    "collapsed": false,
    "pycharm": {
     "name": "#%%\n"
    },
    "ExecuteTime": {
     "end_time": "2024-04-14T09:16:42.982697Z",
     "start_time": "2024-04-14T09:16:42.971341Z"
    }
   },
   "outputs": []
  },
  {
   "cell_type": "code",
   "execution_count": 11,
   "source": [
    "# biosemi64.plot()  #\n",
    "\n",
    "# fig = biosemi64.plot(kind=\"3d\", show=False)  # 3D\n",
    "# fig = fig.gca().view_init(azim=70, elev=15)  # set view angle for tutorial\n",
    "# customMontage.plot()"
   ],
   "metadata": {
    "collapsed": false,
    "pycharm": {
     "name": "#%%\n"
    },
    "ExecuteTime": {
     "end_time": "2024-04-14T09:16:42.984190Z",
     "start_time": "2024-04-14T09:16:42.974812Z"
    }
   },
   "outputs": []
  },
  {
   "cell_type": "code",
   "execution_count": 12,
   "source": [
    "raw_bd_filtered.set_montage(biosemi64)"
   ],
   "metadata": {
    "collapsed": false,
    "pycharm": {
     "name": "#%%\n"
    },
    "ExecuteTime": {
     "end_time": "2024-04-14T09:16:42.988481Z",
     "start_time": "2024-04-14T09:16:42.978265Z"
    }
   },
   "outputs": []
  },
  {
   "cell_type": "code",
   "execution_count": 13,
   "source": [
    "raw_bdf_reref_obj = mne.set_eeg_reference(raw_bd_filtered)\n",
    "raw_bdf_reref = raw_bdf_reref_obj[0]\n",
    "# raw_bdf_reref.plot(title=\"reref\")\n",
    "# raw_bv_dropped.plot(title=\"original\")"
   ],
   "metadata": {
    "collapsed": false,
    "pycharm": {
     "name": "#%%\n"
    },
    "ExecuteTime": {
     "end_time": "2024-04-14T09:16:43.611288Z",
     "start_time": "2024-04-14T09:16:42.985276Z"
    }
   },
   "outputs": []
  },
  {
   "cell_type": "code",
   "execution_count": 14,
   "source": [
    "ica = ICA(n_components=20, random_state=42, max_iter='auto')\n",
    "ica.fit(raw_bdf_reref)\n"
   ],
   "metadata": {
    "collapsed": false,
    "pycharm": {
     "name": "#%%\n"
    },
    "ExecuteTime": {
     "end_time": "2024-04-14T09:17:12.910505Z",
     "start_time": "2024-04-14T09:16:43.605014Z"
    }
   },
   "outputs": []
  },
  {
   "cell_type": "code",
   "execution_count": 15,
   "source": [
    "# expl_var = ica.get_explained_variance_ratio(raw_reref)\n",
    "# for channel_type, ratio in expl_var.items():\n",
    "#     print(\n",
    "#         f\"Fraction of {channel_type} variance explained by all components: \" f\"{ratio}\"\n",
    "#     )"
   ],
   "metadata": {
    "collapsed": false,
    "pycharm": {
     "name": "#%%\n"
    },
    "ExecuteTime": {
     "end_time": "2024-04-14T09:17:12.912347Z",
     "start_time": "2024-04-14T09:17:12.904146Z"
    }
   },
   "outputs": []
  },
  {
   "cell_type": "code",
   "execution_count": 16,
   "source": [
    "# ica.plot_sources(raw_reref, start=2)\n",
    "# raw_reref.plot(start=0, duration=20)"
   ],
   "metadata": {
    "collapsed": false,
    "pycharm": {
     "name": "#%%\n"
    },
    "ExecuteTime": {
     "end_time": "2024-04-14T09:17:12.916114Z",
     "start_time": "2024-04-14T09:17:12.908185Z"
    }
   },
   "outputs": []
  },
  {
   "cell_type": "code",
   "execution_count": 17,
   "source": [
    "#ica.plot_components()"
   ],
   "metadata": {
    "collapsed": false,
    "pycharm": {
     "name": "#%%\n"
    },
    "ExecuteTime": {
     "end_time": "2024-04-14T09:17:12.936098Z",
     "start_time": "2024-04-14T09:17:12.913072Z"
    }
   },
   "outputs": []
  },
  {
   "cell_type": "code",
   "execution_count": 18,
   "source": [
    "# ica.plot_properties(raw_reref, picks=range(0, 9))"
   ],
   "metadata": {
    "collapsed": false,
    "pycharm": {
     "name": "#%%\n"
    },
    "ExecuteTime": {
     "end_time": "2024-04-14T09:17:13.040737Z",
     "start_time": "2024-04-14T09:17:12.917283Z"
    }
   },
   "outputs": []
  },
  {
   "cell_type": "code",
   "execution_count": 19,
   "source": [
    "# ica.exclude = [0, 1, 7, 14, 16, 17] # 30 components\n",
    "# ica.exclude = [0, 3, 5, 14, 13, 56] \n",
    "ica.exclude = [0, 1, 4, 7, 11, 13, 15, 19]\n",
    "raw_bdfr_reconst = raw_bdf_reref.copy()\n",
    "ica.apply(raw_bdfr_reconst)"
   ],
   "metadata": {
    "collapsed": false,
    "pycharm": {
     "name": "#%%\n"
    },
    "ExecuteTime": {
     "end_time": "2024-04-14T09:17:13.503248Z",
     "start_time": "2024-04-14T09:17:12.921578Z"
    }
   },
   "outputs": []
  },
  {
   "cell_type": "code",
   "execution_count": 20,
   "source": [
    "# raw_bdfr_reconst.plot(title=\"ica\")\n",
    "# raw_bv_dropped.plot(title=\"original\")\n",
    "# raw2 = raw_bv.copy()\n",
    "# raw2.filter(l_freq=1, h_freq=30)\n",
    "# raw2.plot(title=\"1-30\")"
   ],
   "metadata": {
    "collapsed": false,
    "pycharm": {
     "name": "#%%\n"
    },
    "ExecuteTime": {
     "end_time": "2024-04-14T09:17:13.602208Z",
     "start_time": "2024-04-14T09:17:13.529592Z"
    }
   },
   "outputs": []
  },
  {
   "cell_type": "code",
   "execution_count": 21,
   "source": [
    "# %matplotlib inline\n",
    "raw_bv_reconst_reref = raw_bdfr_reconst.copy()\n",
    "raw_bv_reconst_reref.set_montage(biosemi64)\n",
    "# for i in range(0, 50):\n",
    "#     tmin=(0.1*i)\n",
    "#     tmax=(1+(0.1*i))\n",
    "#     print(f'tmin = {tmin}; tmax = {tmax}')\n",
    "#     spectrum = raw_bv_reconst_reref.compute_psd(fmin=1, fmax=40, tmin=tmin, tmax=tmax)\n",
    "#     spectrum.plot_topomap(bands={'Theta (4-8 Hz)': (4, 8)})\n",
    "#     spectrum.plot_topomap(bands={'Delta (0-4 Hz)': (0, 4), 'Theta (4-8 Hz)': (4, 8),\n",
    "#          'Alpha (8-12 Hz)': (8, 12), 'Beta (12-30 Hz)': (12, 30),\n",
    "#          'Gamma (30-45 Hz)': (30, 45)})\n",
    "    # spectrum.plot()\n",
    "\n",
    "    #построить поочередные картинки\n"
   ],
   "metadata": {
    "collapsed": false,
    "pycharm": {
     "name": "#%%\n"
    },
    "ExecuteTime": {
     "end_time": "2024-04-14T09:17:13.606977Z",
     "start_time": "2024-04-14T09:17:13.578740Z"
    }
   },
   "outputs": []
  },
  {
   "cell_type": "code",
   "execution_count": 22,
   "source": [
    "def raw_compute_psd(raw, tmin, tmax):\n",
    "    return raw.compute_psd(\n",
    "        fmin=1,\n",
    "        fmax=40,\n",
    "        tmin=tmin,\n",
    "        tmax=tmax,\n",
    "        method='welch',\n",
    "        n_fft=2048,\n",
    "        window='hann',\n",
    "        n_per_seg=2048,\n",
    "        n_overlap = 0,\n",
    "    )"
   ],
   "metadata": {
    "collapsed": false,
    "pycharm": {
     "name": "#%%\n"
    },
    "ExecuteTime": {
     "end_time": "2024-04-14T09:17:13.712751Z",
     "start_time": "2024-04-14T09:17:13.585505Z"
    }
   },
   "outputs": []
  },
  {
   "cell_type": "code",
   "execution_count": 23,
   "source": [
    "import pandas as pd\n",
    "\n",
    "def calc_one_second_spectrum(raw, time_start, time_end):\n",
    "    spectrum = raw_compute_psd(\n",
    "        raw=raw,\n",
    "        tmin=time_start,\n",
    "        tmax=time_start + 1\n",
    "    )\n",
    "    aggregate_df = spectrum.to_data_frame()\n",
    "    aggregate_df[\"tmin\"] = time_start\n",
    "    aggregate_df[\"tmax\"] = time_start + 1\n",
    "    for i in range(time_start+1, (time_end*2)-1):\n",
    "        tmin = i/2\n",
    "        tmax = tmin+1\n",
    "        print(f\"tmin: {tmin} | tmax: {tmax}\")\n",
    "        spectrum = raw_compute_psd(\n",
    "            raw=raw_bv_reconst_reref,\n",
    "            tmin=tmin,\n",
    "            tmax=tmax\n",
    "        )\n",
    "        df = spectrum.to_data_frame()\n",
    "        df[\"tmin\"] = tmin\n",
    "        df[\"tmax\"] = tmax\n",
    "        aggregate_df = pd.concat([aggregate_df, df], ignore_index=True, axis=0)\n",
    "    return aggregate_df\n"
   ],
   "metadata": {
    "collapsed": false,
    "pycharm": {
     "name": "#%%\n"
    },
    "ExecuteTime": {
     "end_time": "2024-04-14T09:17:14.537152Z",
     "start_time": "2024-04-14T09:17:13.590172Z"
    }
   },
   "outputs": []
  },
  {
   "cell_type": "code",
   "execution_count": 24,
   "source": [
    "aggregate_df = calc_one_second_spectrum(\n",
    "    raw = raw_bv_reconst_reref,\n",
    "    time_start=0,\n",
    "    time_end=30\n",
    ")"
   ],
   "metadata": {
    "collapsed": false,
    "pycharm": {
     "name": "#%%\n"
    },
    "ExecuteTime": {
     "end_time": "2024-04-14T09:17:15.145223Z",
     "start_time": "2024-04-14T09:17:14.516694Z"
    }
   },
   "outputs": []
  },
  {
   "cell_type": "code",
   "execution_count": 25,
   "source": [
    "# jupyter-pavel@192.168.88.244\n",
    "# jira, nextcloud, confluence\n",
    "# d 1-4\n",
    "# t 4-8 4-6 6-8\n",
    "# a 8-13 8-11 11-13\n",
    "# b 13-30 13-20 20-25 25-30\n",
    "# g 30-45\n",
    "# TODO: проверить пересечения сегментов!!!\n",
    "freq_dict = [\n",
    "    ('delta', [1, 4]),\n",
    "\n",
    "    ('theta-a', [4, 8]),\n",
    "    ('theta-1', [4, 6]),\n",
    "    ('theta-2', [6, 8]),\n",
    "\n",
    "    ('alpha-a', [8, 13]),\n",
    "    ('alpha-1', [8, 11]),\n",
    "    ('alpha-2', [11, 13]),\n",
    "\n",
    "    ('beta-a', [13, 30]),\n",
    "    ('beta-1', [13, 20]),\n",
    "    ('beta-2', [20, 25]),\n",
    "    ('beta-3', [25, 30]),\n",
    "\n",
    "    ('gamma', [30, 45])\n",
    "]\n",
    "\n",
    "# aggregate_df"
   ],
   "metadata": {
    "collapsed": false,
    "pycharm": {
     "name": "#%%\n"
    },
    "ExecuteTime": {
     "end_time": "2024-04-14T09:17:15.146633Z",
     "start_time": "2024-04-14T09:17:15.123357Z"
    }
   },
   "outputs": []
  },
  {
   "cell_type": "code",
   "execution_count": 26,
   "source": [
    "def calc_mean_one_band(spectrum_df, freq_name, bandwidth_start, bandwidth_end, tmin):\n",
    "    mean_df = spectrum_df \\\n",
    "        .loc[spectrum_df['freq'].isin(range(bandwidth_start, bandwidth_end + 1))] \\\n",
    "        .loc[spectrum_df['tmin'] == tmin] \\\n",
    "        .mean(axis=0)\\\n",
    "        .to_frame().T\n",
    "\n",
    "    mean_df = mean_df.drop('freq', axis=1)\n",
    "\n",
    "    mean_df['bandwidth_start'] = bandwidth_start\n",
    "    mean_df['bandwidth_end'] = bandwidth_end\n",
    "    mean_df['bandwidth_name'] = freq_name\n",
    "    return mean_df"
   ],
   "metadata": {
    "collapsed": false,
    "pycharm": {
     "name": "#%%\n"
    },
    "ExecuteTime": {
     "end_time": "2024-04-14T09:17:15.158253Z",
     "start_time": "2024-04-14T09:17:15.126585Z"
    }
   },
   "outputs": []
  },
  {
   "cell_type": "code",
   "execution_count": 27,
   "source": [
    "def calc_mean_for_bands(spectrum_df, freq_dict, time_start, time_end):\n",
    "    mean_agr_df = pd.DataFrame()\n",
    "    for freq_tup in freq_dict:\n",
    "        freq_name = freq_tup[0]\n",
    "        freqs = freq_tup[1]\n",
    "        bandwidth_start = freqs[0]\n",
    "        bandwidth_end = freqs[1]\n",
    "        for i in range(time_start, (time_end*2)-1):\n",
    "            tmin = i/2\n",
    "            df = calc_mean_one_band(\n",
    "                spectrum_df=spectrum_df,\n",
    "                freq_name=freq_name,\n",
    "                bandwidth_start=bandwidth_start,\n",
    "                bandwidth_end=bandwidth_end,\n",
    "                tmin=tmin\n",
    "            )\n",
    "            mean_agr_df = pd.concat([mean_agr_df, df], ignore_index=True, axis=0)\n",
    "    return mean_agr_df"
   ],
   "metadata": {
    "collapsed": false,
    "pycharm": {
     "name": "#%%\n"
    },
    "ExecuteTime": {
     "end_time": "2024-04-14T09:17:15.160780Z",
     "start_time": "2024-04-14T09:17:15.130192Z"
    }
   },
   "outputs": []
  },
  {
   "cell_type": "code",
   "execution_count": 28,
   "source": [
    "def calc_one_second_spectrum_and_freq_mean(raw, freq_dict, time_start, time_end):\n",
    "    spectrum_df = calc_one_second_spectrum(\n",
    "        raw=raw,\n",
    "        time_start=time_start,\n",
    "        time_end=time_end\n",
    "    )\n",
    "    return calc_mean_for_bands(\n",
    "        spectrum_df=spectrum_df,\n",
    "        freq_dict=freq_dict,\n",
    "        time_start=time_start,\n",
    "        time_end=time_end\n",
    "    )"
   ],
   "metadata": {
    "collapsed": false,
    "pycharm": {
     "name": "#%%\n"
    },
    "ExecuteTime": {
     "end_time": "2024-04-14T09:17:15.162288Z",
     "start_time": "2024-04-14T09:17:15.137358Z"
    }
   },
   "outputs": []
  },
  {
   "cell_type": "code",
   "execution_count": 29,
   "source": [
    "mean_agr_df = calc_one_second_spectrum_and_freq_mean(raw_bv_reconst_reref, freq_dict, 0, 60)\n",
    "\n",
    "mean_agr_df.set_index(['tmin', 'bandwidth_name'])"
   ],
   "metadata": {
    "collapsed": false,
    "pycharm": {
     "name": "#%%\n"
    },
    "ExecuteTime": {
     "end_time": "2024-04-14T09:17:17.893489Z",
     "start_time": "2024-04-14T09:17:15.139566Z"
    }
   },
   "outputs": []
  },
  {
   "cell_type": "code",
   "execution_count": 30,
   "source": [
    "mne.events_from_annotations(raw_bv_reconst_reref)[1]"
   ],
   "metadata": {
    "collapsed": false,
    "pycharm": {
     "name": "#%%\n"
    },
    "ExecuteTime": {
     "end_time": "2024-04-14T09:17:17.906346Z",
     "start_time": "2024-04-14T09:17:17.892597Z"
    }
   },
   "outputs": []
  },
  {
   "cell_type": "code",
   "execution_count": 31,
   "source": [
    "mne.events_from_annotations(raw_bv_reconst_reref)[0]"
   ],
   "metadata": {
    "collapsed": false,
    "pycharm": {
     "name": "#%%\n"
    },
    "ExecuteTime": {
     "end_time": "2024-04-14T09:17:17.907992Z",
     "start_time": "2024-04-14T09:17:17.899144Z"
    }
   },
   "outputs": []
  },
  {
   "cell_type": "markdown",
   "source": [
    "# Calculated EDF"
   ],
   "metadata": {
    "collapsed": false,
    "pycharm": {
     "name": "#%% md\n"
    }
   }
  },
  {
   "cell_type": "code",
   "execution_count": 32,
   "source": [
    "edf = mne.io.read_raw_edf('./rest1_94/Test_01.EDF')"
   ],
   "metadata": {
    "collapsed": false,
    "pycharm": {
     "name": "#%%\n"
    },
    "ExecuteTime": {
     "end_time": "2024-04-14T09:17:17.924461Z",
     "start_time": "2024-04-14T09:17:17.904456Z"
    }
   },
   "outputs": []
  },
  {
   "cell_type": "code",
   "execution_count": 33,
   "source": [
    "spectrum_edf = edf.compute_psd(\n",
    "    fmin=1, \n",
    "    fmax=40, \n",
    "    tmin=0, \n",
    "    tmax=11, \n",
    "    method='welch',\n",
    "    n_fft=2048,\n",
    "    window='hann',\n",
    "    n_per_seg=2048,\n",
    "    n_overlap = 1024,\n",
    ")"
   ],
   "metadata": {
    "collapsed": false,
    "pycharm": {
     "name": "#%%\n"
    },
    "ExecuteTime": {
     "end_time": "2024-04-14T09:17:18.017407Z",
     "start_time": "2024-04-14T09:17:17.912922Z"
    }
   },
   "outputs": []
  },
  {
   "cell_type": "code",
   "execution_count": 34,
   "source": [
    "df = spectrum_edf.to_data_frame()\n",
    "mean = df.mean(axis=0)\n",
    "df2 = pd.concat([df.loc[:], mean.to_frame().T], ignore_index=True)\n",
    "# df.append()\n",
    "# df2\n",
    "mean_frame = mean.to_frame().T\n",
    "mean_frame_val = mean_frame.loc[:, mean_frame.columns!='freq']\n",
    "mean_frame_val\n",
    "\n",
    "# mean_frame_val.plot()"
   ],
   "metadata": {
    "collapsed": false,
    "pycharm": {
     "name": "#%%\n"
    },
    "ExecuteTime": {
     "end_time": "2024-04-14T09:17:18.019909Z",
     "start_time": "2024-04-14T09:17:17.958019Z"
    }
   },
   "outputs": []
  },
  {
   "cell_type": "code",
   "execution_count": 35,
   "source": [
    "df"
   ],
   "metadata": {
    "collapsed": false,
    "pycharm": {
     "name": "#%%\n"
    },
    "ExecuteTime": {
     "end_time": "2024-04-14T09:17:18.176862Z",
     "start_time": "2024-04-14T09:17:17.961860Z"
    }
   },
   "outputs": []
  },
  {
   "cell_type": "code",
   "execution_count": 36,
   "source": [
    "import math\n",
    "import numpy as np\n",
    "\n",
    "%matplotlib inline\n",
    "\n",
    "#INFO: Проверка того как данные вообще хранятся\n",
    "\n",
    "df_map = df.map(lambda x: (pow(10, x))-1)\n",
    "\n",
    "# df_map = df.map(lambda x: np.float_power(np.float64(10), x))\n",
    "df_val = df_map.loc[4:, df.columns!='freq']\n",
    "# df_val.plot(legend=False, figsize=(12,4), linewidth=0.5)\n",
    "spectrum_edf.plot(dB=False, amplitude=False)\n",
    "spectrum_edf.plot(dB=True, amplitude=False)\n",
    "# df_val2 = df.loc[:, df.columns!='freq']\n",
    "# df_map2 = df.apply(lambda x: x.map(lambda y: (y if y >= 1 else math.sqrt(y * x['freq']))), axis=1)\n",
    "# df_map3 = df_map2.apply(lambda x: x.map(lambda y: (y if y >= 1 else (y / x['freq']))), axis=1)\n",
    "# df_val2 = df_map2.loc[3:, df.columns!='freq']\n",
    "# df_val3 = df_map3.loc[1:, df.columns!='freq']\n",
    "\n",
    "\n",
    "# df_val2.plot(legend=False, figsize=(12,4), linewidth=0.5)\n",
    "df_val4 = df.loc[3:, df.columns!='freq']\n",
    "df_val4.plot(legend=False, figsize=(12,4), linewidth=0.5)"
   ],
   "metadata": {
    "collapsed": false,
    "pycharm": {
     "name": "#%%\n"
    },
    "ExecuteTime": {
     "end_time": "2024-04-14T09:17:18.741147Z",
     "start_time": "2024-04-14T09:17:17.996699Z"
    }
   },
   "outputs": []
  },
  {
   "cell_type": "code",
   "execution_count": 36,
   "source": [],
   "metadata": {
    "collapsed": false,
    "pycharm": {
     "name": "#%%\n"
    },
    "ExecuteTime": {
     "end_time": "2024-04-14T09:17:18.742456Z",
     "start_time": "2024-04-14T09:17:18.526714Z"
    }
   },
   "outputs": []
  },
  {
   "cell_type": "code",
   "execution_count": 36,
   "metadata": {
    "pycharm": {
     "name": "#%%\n"
    },
    "ExecuteTime": {
     "end_time": "2024-04-14T09:17:18.771800Z",
     "start_time": "2024-04-14T09:17:18.528653Z"
    }
   },
   "source": [],
   "outputs": []
  }
 ],
 "metadata": {
  "kernelspec": {
   "display_name": "Python 3 (ipykernel)",
   "language": "python",
   "name": "python3"
  },
  "language_info": {
   "codemirror_mode": {
    "name": "ipython",
    "version": 3
   },
   "file_extension": ".py",
   "mimetype": "text/x-python",
   "name": "python",
   "nbconvert_exporter": "python",
   "pygments_lexer": "ipython3",
   "version": "3.11.8"
  }
 },
 "nbformat": 4,
 "nbformat_minor": 2
}
