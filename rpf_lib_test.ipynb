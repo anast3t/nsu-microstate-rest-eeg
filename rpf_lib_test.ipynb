{
 "cells": [
  {
   "cell_type": "code",
   "id": "initial_id",
   "metadata": {
    "collapsed": true,
    "ExecuteTime": {
     "end_time": "2024-05-30T10:38:40.592438Z",
     "start_time": "2024-05-30T10:38:40.580096Z"
    }
   },
   "source": [
    "from functools import partial\n",
    "import os\n",
    "\n",
    "import numpy as np\n",
    "from matplotlib import pyplot as plt\n",
    "from matplotlib.animation import FuncAnimation\n",
    "\n",
    "from mne.datasets import sample\n",
    "from mne.io import read_raw_fif\n",
    "from mne import make_fixed_length_epochs\n",
    "\n",
    "from pyriemann.estimation import Covariances\n",
    "from pyriemann.clustering import Potato\n",
    "from pyriemann.utils.viz import _add_alpha\n",
    "from pyriemann.utils.covariance import normalize"
   ],
   "outputs": [],
   "execution_count": 200
  },
  {
   "metadata": {
    "ExecuteTime": {
     "end_time": "2024-05-30T11:01:11.423902Z",
     "start_time": "2024-05-30T11:01:08.997091Z"
    }
   },
   "cell_type": "code",
   "source": [
    "from filenames_and_paths import *\n",
    "import mne\n",
    "\n",
    "# raw_fname = os.path.join(sample.data_path(), 'MEG', 'sample',\n",
    "#                          'sample_audvis_filt-0-40_raw.fif')\n",
    "# raw = read_raw_fif(raw_fname, preload=True, verbose=False)\n",
    "\n",
    "raw = mne.io.read_raw_brainvision(folders.raw_data + path014 + filenames014[0] + '.vhdr', preload=True)\n",
    "raw = raw.drop_channels([\"EOG\", \"BIP1\", \"M1\", \"M2\", \"PO5\", \"PO6\"])\n",
    "raw.set_montage(mne.channels.make_standard_montage(\"biosemi64\"))\n",
    "\n",
    "raw_clean = mne.io.read_raw_eeglab(folders.preprocessed_data + path014 + filenames014[0] + '.set', preload=True)\n",
    "raw_clean = raw_clean.drop_channels([\"PO5\", \"PO6\"])\n",
    "\n",
    "\n",
    "sfreq = int(raw.info['sfreq']) "
   ],
   "id": "906dfb07d0256a57",
   "outputs": [
    {
     "name": "stdout",
     "output_type": "stream",
     "text": [
      "Extracting parameters from ./raw_data/rest_14/ACP_INP0014_REST1_1pnt_1vis.vhdr...\n",
      "Setting channel info structure...\n",
      "Reading 0 ... 1013446  =      0.000 ...   494.847 secs...\n"
     ]
    },
    {
     "name": "stderr",
     "output_type": "stream",
     "text": [
      "/var/folders/tt/nr_wg20d5q13z6kxlpj2xsyc0000gn/T/ipykernel_99057/711503744.py:12: RuntimeWarning: The data contains 'boundary' events, indicating data discontinuities. Be cautious of filtering and epoching around these events.\n",
      "  raw_clean = mne.io.read_raw_eeglab(folders.preprocessed_data + path014 + filenames014[0] + '.set', preload=True)\n"
     ]
    }
   ],
   "execution_count": 255
  },
  {
   "metadata": {
    "ExecuteTime": {
     "end_time": "2024-05-30T11:01:43.127492Z",
     "start_time": "2024-05-30T11:01:13.702182Z"
    }
   },
   "cell_type": "code",
   "source": [
    "ch_names = \"Fp1\"\n",
    "\n",
    "# Apply band-pass filter between 1 and 35 Hz\n",
    "raw.filter(1, 40, n_jobs=-1)\n",
    "raw.set_eeg_reference(ref_channels='average', projection=True)\n",
    "# raw_clean.filter(1, 20)\n",
    "# Epoch time-series with a sliding window\n",
    "duration = 2.5    # duration of epochs\n",
    "interval = 0.2    # interval between successive epochs\n",
    "\n",
    "epochs = make_fixed_length_epochs(\n",
    "    raw, duration=duration, overlap=duration - interval, verbose=False)\n",
    "epochs_data = 5e5 * epochs.get_data(copy=False)\n",
    "\n",
    "clean_epochs = make_fixed_length_epochs(\n",
    "    raw_clean, duration=duration, overlap=duration - interval, verbose=False)\n",
    "clean_epochs_data = 5e5 * clean_epochs.get_data(copy=False)"
   ],
   "id": "9336901737e02c17",
   "outputs": [
    {
     "name": "stdout",
     "output_type": "stream",
     "text": [
      "Filtering raw data in 1 contiguous segment\n",
      "Setting up band-pass filter from 1 - 40 Hz\n",
      "\n",
      "FIR filter parameters\n",
      "---------------------\n",
      "Designing a one-pass, zero-phase, non-causal bandpass filter:\n",
      "- Windowed time-domain design (firwin) method\n",
      "- Hamming window with 0.0194 passband ripple and 53 dB stopband attenuation\n",
      "- Lower passband edge: 1.00\n",
      "- Lower transition bandwidth: 1.00 Hz (-6 dB cutoff frequency: 0.50 Hz)\n",
      "- Upper passband edge: 40.00 Hz\n",
      "- Upper transition bandwidth: 10.00 Hz (-6 dB cutoff frequency: 45.00 Hz)\n",
      "- Filter length: 6759 samples (3.300 s)\n",
      "\n"
     ]
    },
    {
     "name": "stderr",
     "output_type": "stream",
     "text": [
      "[Parallel(n_jobs=-1)]: Using backend LokyBackend with 8 concurrent workers.\n",
      "[Parallel(n_jobs=-1)]: Done  10 tasks      | elapsed:    1.9s\n"
     ]
    },
    {
     "name": "stdout",
     "output_type": "stream",
     "text": [
      "EEG channel type selected for re-referencing\n",
      "Adding average EEG reference projection.\n",
      "1 projection items deactivated\n",
      "Average reference projection was added, but has not been applied yet. Use the apply_proj method to apply it.\n",
      "Using data from preloaded Raw for 2462 events and 5120 original time points ...\n"
     ]
    },
    {
     "name": "stderr",
     "output_type": "stream",
     "text": [
      "[Parallel(n_jobs=-1)]: Done  59 out of  59 | elapsed:    3.5s finished\n"
     ]
    },
    {
     "name": "stdout",
     "output_type": "stream",
     "text": [
      "0 bad epochs dropped\n",
      "Using data from preloaded Raw for 2462 events and 5120 original time points ...\n",
      "0 bad epochs dropped\n"
     ]
    }
   ],
   "execution_count": 256
  },
  {
   "metadata": {
    "ExecuteTime": {
     "end_time": "2024-05-30T11:02:21.916644Z",
     "start_time": "2024-05-30T11:01:48.642861Z"
    }
   },
   "cell_type": "code",
   "source": [
    "# Estimate spatial covariance matrices\n",
    "covs = Covariances(estimator='lwf').transform(epochs_data)\n",
    "# covs = normalize(Covariances(estimator='lwf').transform(epochs_data), 'trace')\n",
    "# clean_covs = normalize(Covariances(estimator='lwf').transform(clean_epochs_data), 'trace')"
   ],
   "id": "7fb5505a671ccf1",
   "outputs": [],
   "execution_count": 257
  },
  {
   "metadata": {
    "ExecuteTime": {
     "end_time": "2024-05-30T11:02:28.900701Z",
     "start_time": "2024-05-30T11:02:28.791839Z"
    }
   },
   "cell_type": "code",
   "source": [
    "%matplotlib qt\n",
    "# raw.plot()\n",
    "# raw_clean.plot()\n",
    "%matplotlib inline"
   ],
   "id": "20a50f8ebb5cc25b",
   "outputs": [],
   "execution_count": 258
  },
  {
   "metadata": {
    "ExecuteTime": {
     "end_time": "2024-05-30T11:02:29.260349Z",
     "start_time": "2024-05-30T11:02:29.252503Z"
    }
   },
   "cell_type": "code",
   "source": "print(covs.shape, clean_covs.shape)",
   "id": "b6c38a375e7c283b",
   "outputs": [
    {
     "name": "stdout",
     "output_type": "stream",
     "text": [
      "(2462, 59, 59) (2462, 59, 59)\n"
     ]
    }
   ],
   "execution_count": 259
  },
  {
   "metadata": {
    "ExecuteTime": {
     "end_time": "2024-05-30T11:17:01.309472Z",
     "start_time": "2024-05-30T11:17:01.307653Z"
    }
   },
   "cell_type": "code",
   "source": [
    "z_th = 1.6 #4.65      # z-score threshold\n",
    "train_covs = 500  # nb of matrices to train the potato"
   ],
   "id": "b50fc4471b2f7d52",
   "outputs": [],
   "execution_count": 339
  },
  {
   "metadata": {
    "ExecuteTime": {
     "end_time": "2024-05-30T11:17:21.482156Z",
     "start_time": "2024-05-30T11:17:01.534577Z"
    }
   },
   "cell_type": "code",
   "source": [
    "# Calibrate potato by unsupervised training on first matrices: compute a\n",
    "# reference matrix, mean and standard deviation of distances to this reference.\n",
    "train_set = range(train_covs)\n",
    "rpotato = Potato(metric='riemann', threshold=z_th).fit(covs[train_set])\n",
    "# epotato = Potato(metric='euclid', threshold=z_th).fit(clean_covs[train_set])\n"
   ],
   "id": "d16748d13201c4df",
   "outputs": [],
   "execution_count": 340
  },
  {
   "metadata": {
    "ExecuteTime": {
     "end_time": "2024-05-30T11:17:21.486904Z",
     "start_time": "2024-05-30T11:17:21.484176Z"
    }
   },
   "cell_type": "code",
   "source": "# rpotato.fit_transform(covs[train_set])",
   "id": "65fdf2350dc19a45",
   "outputs": [],
   "execution_count": 341
  },
  {
   "metadata": {
    "ExecuteTime": {
     "end_time": "2024-05-30T11:17:21.494006Z",
     "start_time": "2024-05-30T11:17:21.488480Z"
    }
   },
   "cell_type": "code",
   "source": [
    "# rp_labels = rpotato.predict(clean_covs[train_set])\n",
    "# rp_proba = rpotato.predict_proba(clean_covs[train_set])\n",
    "# ep_labels = epotato.predict(clean_covs[train_set])"
   ],
   "id": "a044e99b6b86d0b7",
   "outputs": [],
   "execution_count": 342
  },
  {
   "metadata": {
    "ExecuteTime": {
     "end_time": "2024-05-30T11:17:21.499051Z",
     "start_time": "2024-05-30T11:17:21.496400Z"
    }
   },
   "cell_type": "code",
   "source": [
    "# print(np.unique(rp_labels, return_counts=True))\n",
    "# rp_proba"
   ],
   "id": "2c8d8599ec9cf651",
   "outputs": [],
   "execution_count": 343
  },
  {
   "metadata": {
    "ExecuteTime": {
     "end_time": "2024-05-30T11:55:15.229595Z",
     "start_time": "2024-05-30T11:55:15.156537Z"
    }
   },
   "cell_type": "code",
   "source": [
    "test_set = range(100)\n",
    "rp_labels_test = rpotato.predict(covs[test_set])\n",
    "rp_proba_test = rpotato.predict_proba(covs[test_set])\n",
    "\n",
    "# ep_labels_test = epotato.predict(covs[test_set])"
   ],
   "id": "ac416a2a71f17393",
   "outputs": [],
   "execution_count": 419
  },
  {
   "metadata": {
    "ExecuteTime": {
     "end_time": "2024-05-30T11:55:15.371017Z",
     "start_time": "2024-05-30T11:55:15.368365Z"
    }
   },
   "cell_type": "code",
   "source": [
    "print(np.unique(rp_labels_test, return_counts=True))\n",
    "rp_proba_test"
   ],
   "id": "19c9f4c4a7307ec3",
   "outputs": [
    {
     "name": "stdout",
     "output_type": "stream",
     "text": [
      "(array([1.]), array([100]))\n"
     ]
    },
    {
     "data": {
      "text/plain": [
       "array([0.13163933, 0.13331061, 0.13538423, 0.18816349, 0.22687204,\n",
       "       0.24424685, 0.27337975, 0.36016257, 0.40959508, 0.42790471,\n",
       "       0.42753176, 0.46883461, 0.45174303, 0.4221895 , 0.44717054,\n",
       "       0.44315376, 0.51026105, 0.51213188, 0.53244872, 0.58022634,\n",
       "       0.61849863, 0.53812081, 0.50102482, 0.41335582, 0.4374357 ,\n",
       "       0.42738321, 0.41561168, 0.40282528, 0.39507365, 0.37215193,\n",
       "       0.36947989, 0.38232983, 0.36162416, 0.41703667, 0.4794463 ,\n",
       "       0.46634348, 0.47923913, 0.43300346, 0.42125256, 0.4324643 ,\n",
       "       0.39123842, 0.41191222, 0.42233026, 0.39740195, 0.46995781,\n",
       "       0.43698008, 0.39582371, 0.41610163, 0.39576744, 0.46003196,\n",
       "       0.48605462, 0.46970034, 0.56490375, 0.5315095 , 0.53116788,\n",
       "       0.49966197, 0.47641444, 0.49889858, 0.4968817 , 0.45049697,\n",
       "       0.4379508 , 0.44214104, 0.49116375, 0.49722241, 0.44956245,\n",
       "       0.30080866, 0.24868993, 0.23346187, 0.23433764, 0.22624611,\n",
       "       0.22749987, 0.23265568, 0.35781258, 0.46575105, 0.50300308,\n",
       "       0.49416496, 0.39516771, 0.33116739, 0.28065749, 0.29741098,\n",
       "       0.2978791 , 0.2813747 , 0.30961265, 0.31133858, 0.31074213,\n",
       "       0.35120815, 0.42322158, 0.39718414, 0.41667924, 0.44876346,\n",
       "       0.49988157, 0.29757124, 0.33223457, 0.3355126 , 0.32641277,\n",
       "       0.31054806, 0.31496711, 0.31760321, 0.34725599, 0.34762603])"
      ]
     },
     "execution_count": 420,
     "metadata": {},
     "output_type": "execute_result"
    }
   ],
   "execution_count": 420
  },
  {
   "metadata": {
    "ExecuteTime": {
     "end_time": "2024-05-30T11:55:15.935636Z",
     "start_time": "2024-05-30T11:55:15.456896Z"
    }
   },
   "cell_type": "code",
   "source": [
    "%matplotlib inline\n",
    "def plot_sig(ax, time, sig):\n",
    "    ax.axis((time[0], time[-1], -25, 25))\n",
    "    pl, = ax.plot(time, sig, lw=0.75)\n",
    "    ax.axhspan(\n",
    "        -14, 14, edgecolor='k', facecolor='none',\n",
    "        xmin=xmin,\n",
    "        xmax=xmax)\n",
    "    return pl\n",
    "\n",
    "\n",
    "# Prepare data for online detection\n",
    "test_covs_max = 600    # nb of matrices to visualize in this example\n",
    "test_time_start = -2    # start time to display signal\n",
    "test_time_end = 5       # end time to display signal\n",
    "\n",
    "time_start = train_covs * interval + test_time_start\n",
    "time_end = train_covs * interval + test_time_end\n",
    "\n",
    "xmin = -test_time_start / (test_time_end - test_time_start)\n",
    "xmax = (duration - test_time_start) / (test_time_end - test_time_start)\n",
    "\n",
    "# time_start = test_time_start + 1\n",
    "# time_end = test_time_end + 1 \n",
    "time = np.linspace(time_start, time_end, int((time_end - time_start) * sfreq),\n",
    "                   endpoint=False)\n",
    "\n",
    "eeg_data = 3e5 * raw.get_data(picks=ch_names)\n",
    "sig = eeg_data[:, int(time_start * sfreq):int(time_end * sfreq)]\n",
    "\n",
    "\n",
    "\n",
    "fig = plt.figure(figsize=(12, 10), constrained_layout=False)\n",
    "# fig.suptitle('Online artifact detection by potatoes', fontsize=16)\n",
    "gs = fig.add_gridspec(nrows=4, ncols=40, top=0.90, hspace=0.3, wspace=1.0)\n",
    "ax_sig0 = fig.add_subplot(gs[0, :], xlabel='Time (s)', ylabel=ch_names[0])\n",
    "pl_sig0 = plot_sig(ax_sig0, time, sig[0])\n",
    "text = fig.text(0.5, 0.95, '', ha='center', va='center', fontsize=16)\n",
    "ax_topo = fig.add_axes([0.2, 0.55, 0.15, 0.15])\n",
    "\n",
    "full_eeg_data = raw.get_data()\n",
    "mean_eeg_in_axhspan = full_eeg_data[:, int(xmin * sfreq):int(xmax * sfreq)]\n",
    "mne.viz.plot_topomap(mean_eeg_in_axhspan.T.mean(axis=0), raw.info, axes=ax_topo, show=False)"
   ],
   "id": "84d58b1309ff9abd",
   "outputs": [
    {
     "data": {
      "text/plain": [
       "(<matplotlib.image.AxesImage at 0x2ad1e8750>,\n",
       " <matplotlib.contour.QuadContourSet at 0x2ad0e11d0>)"
      ]
     },
     "execution_count": 421,
     "metadata": {},
     "output_type": "execute_result"
    },
    {
     "data": {
      "text/plain": [
       "<Figure size 1200x1000 with 2 Axes>"
      ],
      "image/png": "[encoded data removed]"
     },
     "metadata": {},
     "output_type": "display_data"
    }
   ],
   "execution_count": 421
  },
  {
   "metadata": {
    "ExecuteTime": {
     "end_time": "2024-05-30T11:55:16.043417Z",
     "start_time": "2024-05-30T11:55:15.937069Z"
    }
   },
   "cell_type": "code",
   "source": [
    "\n",
    "raw.get_data().shape"
   ],
   "id": "a626713af5dc08e4",
   "outputs": [
    {
     "data": {
      "text/plain": [
       "(59, 1013447)"
      ]
     },
     "execution_count": 422,
     "metadata": {},
     "output_type": "execute_result"
    }
   ],
   "execution_count": 422
  },
  {
   "metadata": {
    "ExecuteTime": {
     "end_time": "2024-05-30T11:55:16.051821Z",
     "start_time": "2024-05-30T11:55:16.045689Z"
    }
   },
   "cell_type": "code",
   "source": [
    "\n",
    "def online_detect(t):\n",
    "    global time, sig, covs_visu\n",
    "\n",
    "    # Online artifact detection\n",
    "    t_window = int(t-(np.ceil(duration/interval)))\n",
    "    # print(t, t_window)\n",
    "    rp_label = rpotato.predict(covs[np.newaxis, t_window])[0]\n",
    "    rp_proba = rpotato.predict_proba(covs[np.newaxis, t_window])[0]\n",
    "    # if rp_label == 1:\n",
    "    # rpotato.partial_fit(covs[np.newaxis, t_window], alpha=1 / (t_window))\n",
    "    time_start = t * interval + test_time_end\n",
    "    time_end = (t + 1) * interval + test_time_end\n",
    "    time_ = np.linspace(time_start, time_end, int(interval * sfreq),\n",
    "                        endpoint=False)\n",
    "    time = np.r_[time[int(interval * sfreq):], time_]\n",
    "    \n",
    "    sig = np.hstack((sig[:, int(interval*sfreq):],\n",
    "                     eeg_data[:, int(time_start*sfreq):int(time_end*sfreq)]))\n",
    "\n",
    "    ax_topo.clear()\n",
    "    mean_eeg_in_axhspan = full_eeg_data[:, int((time_start-4.5) * sfreq):int((time_start-2.5) * sfreq)]\n",
    "    mne.viz.plot_topomap(mean_eeg_in_axhspan.T.mean(axis=0).T, raw.info, axes=ax_topo, show=False)\n",
    "    \n",
    "    if len(time) != sig.shape[1]:\n",
    "        sig = sig[:, :-1]\n",
    "        # print(\"FIXED\")\n",
    "        # print(time[10:])\n",
    "        # print(len(time))\n",
    "        # print(sig.shape)\n",
    "    pl_sig0.set_data(time, sig[0])\n",
    "    print(rp_label, rp_proba)\n",
    "    text.set_text(f'Potato label: {rp_label} - proba: {rp_proba},\\n topos - {(time_start-5.5)}\\n topoe - {(time_start-2.5)} \\n t_actual {t} - {t * interval + test_time_end} \\n t_predict {t_window} - {(t_window * interval) + test_time_end}')\n",
    "    #map proba to different colors\n",
    "    \n",
    "    ax_sig0.patches[0].set_edgecolor('k' if rp_label == 1 else 'r')\n",
    "    pl_sig0.axes.set_xlim(time[0], time[-1])\n",
    "    return pl_sig0\n",
    "\n",
    "potato = FuncAnimation(fig, online_detect,\n",
    "                       frames=range(train_covs, test_covs_max),\n",
    "                       interval=1, blit=False, repeat=False)"
   ],
   "id": "a52659635f961c0a",
   "outputs": [],
   "execution_count": 423
  },
  {
   "metadata": {
    "ExecuteTime": {
     "end_time": "2024-05-30T11:55:16.065344Z",
     "start_time": "2024-05-30T11:55:16.060353Z"
    }
   },
   "cell_type": "code",
   "source": "print(range(1, test_covs_max))",
   "id": "c14c0bc0963c0628",
   "outputs": [
    {
     "name": "stdout",
     "output_type": "stream",
     "text": [
      "range(1, 600)\n"
     ]
    }
   ],
   "execution_count": 424
  },
  {
   "metadata": {
    "ExecuteTime": {
     "end_time": "2024-05-30T11:55:27.140687Z",
     "start_time": "2024-05-30T11:55:16.108300Z"
    }
   },
   "cell_type": "code",
   "source": [
    "# Plot complete visu: a dynamic display is required\n",
    "%matplotlib inline\n",
    "plt.show()\n",
    "\n",
    "# Plot only 10s, for animated documentation\n",
    "try:\n",
    "    from IPython.display import HTML\n",
    "except ImportError:\n",
    "    raise ImportError(\"Install IPython to plot animation in documentation\")\n",
    "\n",
    "plt.rcParams[\"animation.embed_limit\"] = 100\n",
    "with open(\"data3.html\", \"w\") as file:\n",
    "    file.write(HTML(potato.to_jshtml(fps=5, default_mode='loop')).data)"
   ],
   "id": "d4240a73e5145de2",
   "outputs": [
    {
     "name": "stdout",
     "output_type": "stream",
     "text": [
      "1.0 0.8479513691104063\n",
      "1.0 0.8479513691104063\n",
      "1.0 0.8370068489702234\n",
      "1.0 0.8469836812139053\n",
      "1.0 0.8192220787480631\n",
      "1.0 0.8164216075773987\n",
      "1.0 0.8476042859518276\n",
      "1.0 0.8355736234502147\n",
      "1.0 0.8356955034206732\n",
      "1.0 0.8404954019315074\n",
      "1.0 0.8289694151165238\n",
      "1.0 0.8142924963128526\n",
      "1.0 0.7407802594866189\n",
      "1.0 0.7189668666273752\n",
      "1.0 0.6946009540572922\n",
      "1.0 0.6881935802955097\n",
      "1.0 0.723843167401902\n",
      "1.0 0.6425139475647259\n",
      "1.0 0.6631284927092371\n",
      "1.0 0.6401923401054151\n",
      "1.0 0.7249100991010293\n",
      "1.0 0.7625624317435551\n",
      "1.0 0.7991227167376086\n",
      "1.0 0.8334880258943091\n",
      "1.0 0.8376659026144511\n",
      "1.0 0.8370171458963693\n",
      "1.0 0.8174067993472145\n",
      "1.0 0.8262416248143505\n",
      "1.0 0.8215266386634443\n",
      "1.0 0.8068898450024502\n",
      "1.0 0.7905146614437515\n",
      "1.0 0.6762178571165788\n",
      "1.0 0.6921738001595436\n",
      "1.0 0.8385723763700144\n",
      "1.0 0.882470218027296\n",
      "1.0 0.8812748188806759\n",
      "1.0 0.8750345298118429\n",
      "1.0 0.831237128845504\n",
      "1.0 0.82393477369629\n",
      "1.0 0.803822953116256\n",
      "1.0 0.8036328650590125\n",
      "1.0 0.7862189544577434\n",
      "1.0 0.7711024630749445\n",
      "1.0 0.7042866526312559\n",
      "1.0 0.6782717964031696\n",
      "1.0 0.70950073276108\n",
      "1.0 0.6813118868931817\n",
      "1.0 0.7017052501327332\n",
      "1.0 0.6246561585275223\n",
      "1.0 0.5627890252037275\n",
      "1.0 0.6165265985880617\n",
      "1.0 0.6100819797940801\n",
      "1.0 0.60899582915294\n",
      "1.0 0.5800759457444088\n",
      "1.0 0.6437850052066459\n",
      "1.0 0.7059724824727182\n",
      "1.0 0.6164508616063836\n",
      "1.0 0.5627310445675087\n",
      "1.0 0.5602087150769872\n",
      "1.0 0.48299609591330817\n",
      "1.0 0.3851577965241756\n",
      "1.0 0.21842428152033766\n",
      "1.0 0.09371856226106179\n",
      "0.0 0.043402420304688216\n",
      "0.0 0.023163892570668643\n",
      "0.0 0.016653286626281183\n",
      "0.0 0.01456006654025721\n",
      "0.0 0.010578604580655737\n",
      "0.0 0.009897284615179136\n",
      "0.0 0.00986286080791876\n",
      "0.0 0.012206272719161193\n",
      "0.0 0.010840502733008295\n",
      "0.0 0.013234996514029596\n",
      "0.0 0.018367578737396806\n",
      "0.0 0.035709623159839166\n",
      "1.0 0.06451213688947521\n",
      "1.0 0.12547221199338132\n",
      "1.0 0.23160588457963427\n",
      "1.0 0.3605807304237383\n",
      "1.0 0.40394951261665124\n",
      "1.0 0.419117468951273\n",
      "1.0 0.3682794504167498\n",
      "1.0 0.38063400370215916\n",
      "1.0 0.4066537801567358\n",
      "1.0 0.42691757946446973\n",
      "1.0 0.4197474478891864\n",
      "1.0 0.45628734343562205\n",
      "1.0 0.4923886373530102\n",
      "1.0 0.5265556392827228\n",
      "1.0 0.5360364074610892\n",
      "1.0 0.6111474580538953\n",
      "1.0 0.6327783448802038\n",
      "1.0 0.6477224358398579\n",
      "1.0 0.5729504165669219\n",
      "1.0 0.5419860379229485\n",
      "1.0 0.4751678964890623\n",
      "1.0 0.4642602038356418\n",
      "1.0 0.33926453550115476\n",
      "1.0 0.3536201510587005\n",
      "1.0 0.3469565338250967\n",
      "1.0 0.3411204053234471\n"
     ]
    }
   ],
   "execution_count": 425
  },
  {
   "metadata": {
    "ExecuteTime": {
     "end_time": "2024-05-30T11:55:27.157663Z",
     "start_time": "2024-05-30T11:55:27.156455Z"
    }
   },
   "cell_type": "code",
   "source": "",
   "id": "c071680631060dce",
   "outputs": [],
   "execution_count": 425
  },
  {
   "metadata": {
    "ExecuteTime": {
     "end_time": "2024-05-30T11:55:27.160205Z",
     "start_time": "2024-05-30T11:55:27.158870Z"
    }
   },
   "cell_type": "code",
   "source": "",
   "id": "c48f564edfc59985",
   "outputs": [],
   "execution_count": 425
  },
  {
   "metadata": {},
   "cell_type": "code",
   "outputs": [],
   "execution_count": null,
   "source": "",
   "id": "4f9c334bfac430ce"
  }
 ],
 "metadata": {
  "kernelspec": {
   "display_name": "Python 3",
   "language": "python",
   "name": "python3"
  },
  "language_info": {
   "codemirror_mode": {
    "name": "ipython",
    "version": 2
   },
   "file_extension": ".py",
   "mimetype": "text/x-python",
   "name": "python",
   "nbconvert_exporter": "python",
   "pygments_lexer": "ipython2",
   "version": "2.7.6"
  }
 },
 "nbformat": 4,
 "nbformat_minor": 5
}
