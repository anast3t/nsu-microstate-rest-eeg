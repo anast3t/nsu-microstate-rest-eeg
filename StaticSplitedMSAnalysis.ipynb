{
 "cells": [
  {
   "cell_type": "code",
   "id": "initial_id",
   "metadata": {
    "collapsed": true,
    "ExecuteTime": {
     "end_time": "2024-04-25T21:41:28.462177Z",
     "start_time": "2024-04-25T21:41:28.451042Z"
    }
   },
   "source": [
    "from helper import Folders\n",
    "from filenames_and_paths import *\n",
    "\n",
    "import pandas as pd\n",
    "import numpy as np\n",
    "import neurokit2 as nk\n",
    "\n"
   ],
   "execution_count": 97,
   "outputs": []
  },
  {
   "metadata": {},
   "cell_type": "markdown",
   "source": "# Static analysis",
   "id": "a7ac8d9ac918bfb6"
  },
  {
   "metadata": {
    "ExecuteTime": {
     "end_time": "2024-04-25T21:44:15.999365Z",
     "start_time": "2024-04-25T21:44:15.920324Z"
    }
   },
   "cell_type": "code",
   "source": [
    "static_df = pd.DataFrame()\n",
    "\n",
    "for filenames, filepath in zip(filenames, paths):\n",
    "    for filename in filenames:\n",
    "        static = pd.read_csv(folders.save_data + folders.statistics + filepath + filename + '_th_split_static_stats.csv')\n",
    "        static['File'] = filename\n",
    "        if 'Unnamed: 0' in static:\n",
    "            static.drop('Unnamed: 0', axis=1, inplace=True)\n",
    "        static_df = pd.concat([static_df, static])\n",
    "\n",
    "# for filename in filenames:\n",
    "#     static = pd.read_csv(folders.save_data + folders.statistics + filepath + filename + '_th_split_static_stats.csv')\n",
    "#     static['File'] = filename\n",
    "#     if 'Unnamed: 0' in static:\n",
    "#         static.drop('Unnamed: 0', axis=1, inplace=True)\n",
    "#     static_df = pd.concat([static_df, static])  \n",
    "\n",
    "static_df.reset_index(drop=True, inplace=True)"
   ],
   "id": "dc230d1d217558bb",
   "execution_count": 109,
   "outputs": []
  },
  {
   "metadata": {
    "ExecuteTime": {
     "end_time": "2024-04-25T21:44:16.130318Z",
     "start_time": "2024-04-25T21:44:16.125870Z"
    }
   },
   "cell_type": "code",
   "source": [
    "closed = static_df.loc[static_df['Event'] == 'Closed']\n",
    "closed_data = closed.drop(['Event', 'Order'], axis=1)\n",
    "# closed_mean = closed_data.groupby('File').mean()"
   ],
   "id": "3f3e5c9aed68524d",
   "execution_count": 110,
   "outputs": []
  },
  {
   "metadata": {
    "ExecuteTime": {
     "end_time": "2024-04-25T21:44:16.449009Z",
     "start_time": "2024-04-25T21:44:16.446584Z"
    }
   },
   "cell_type": "code",
   "source": "# closed_mean",
   "id": "249b4948ede2c922",
   "execution_count": 111,
   "outputs": []
  },
  {
   "metadata": {
    "ExecuteTime": {
     "end_time": "2024-04-25T21:44:16.710069Z",
     "start_time": "2024-04-25T21:44:16.706664Z"
    }
   },
   "cell_type": "code",
   "source": "# closed_mean[filter(lambda x: '_LifetimeDistribution' in x, closed_mean.columns)]",
   "id": "27a53ee533c2c896",
   "execution_count": 112,
   "outputs": []
  },
  {
   "metadata": {
    "ExecuteTime": {
     "end_time": "2024-04-25T21:46:33.225148Z",
     "start_time": "2024-04-25T21:46:33.217134Z"
    }
   },
   "cell_type": "code",
   "source": [
    "# closed_ld_mean = closed_mean[filter(lambda x: '_LifetimeDistribution' in x, closed_mean.columns)].mean(axis=1)\n",
    "closed_ld_mean = closed_data[filter(lambda x: '_LifetimeDistribution' in x, closed_data.columns)].mean(axis=1)\n",
    "closed_ld_mean.reset_index(drop=True, inplace=True)\n",
    "closed_ld_mean\n",
    "# closed_ld_mean"
   ],
   "id": "56f9e9a7cef1f5ea",
   "execution_count": 124,
   "outputs": []
  },
  {
   "metadata": {
    "ExecuteTime": {
     "end_time": "2024-04-25T21:46:33.584776Z",
     "start_time": "2024-04-25T21:46:33.580565Z"
    }
   },
   "cell_type": "code",
   "source": [
    "opened = static_df.loc[static_df['Event'] == 'Opened']\n",
    "opened_data = opened.drop(['Event', 'Order'], axis=1)\n",
    "# opened_mean = opened_data.groupby('File').mean()"
   ],
   "id": "b1c16cd7d7ac341d",
   "execution_count": 125,
   "outputs": []
  },
  {
   "metadata": {
    "ExecuteTime": {
     "end_time": "2024-04-25T21:46:33.914160Z",
     "start_time": "2024-04-25T21:46:33.908632Z"
    }
   },
   "cell_type": "code",
   "source": [
    "# opened_ld_mean = opened_mean[filter(lambda x: '_LifetimeDistribution' in x, opened_mean.columns)].mean(axis=1)\n",
    "opened_ld_mean = opened_data[filter(lambda x: '_LifetimeDistribution' in x, opened_data.columns)].mean(axis=1)\n",
    "opened_ld_mean.reset_index(drop=True, inplace=True)\n",
    "opened_ld_mean"
   ],
   "id": "71bf21e0405dec58",
   "execution_count": 126,
   "outputs": []
  },
  {
   "metadata": {
    "ExecuteTime": {
     "end_time": "2024-04-25T21:46:34.874032Z",
     "start_time": "2024-04-25T21:46:34.864571Z"
    }
   },
   "cell_type": "code",
   "source": [
    "ld_mean_df = pd.DataFrame({\n",
    "    'Closed': closed_ld_mean,\n",
    "    'Opened': opened_ld_mean\n",
    "})\n",
    "ld_mean_df"
   ],
   "id": "8412610c2007af41",
   "execution_count": 127,
   "outputs": []
  },
  {
   "metadata": {
    "ExecuteTime": {
     "end_time": "2024-04-25T21:46:38.245555Z",
     "start_time": "2024-04-25T21:46:38.243158Z"
    }
   },
   "cell_type": "code",
   "source": "",
   "id": "9f27ebb17d721db2",
   "execution_count": 127,
   "outputs": []
  },
  {
   "metadata": {
    "ExecuteTime": {
     "end_time": "2024-04-25T21:46:39.037073Z",
     "start_time": "2024-04-25T21:46:38.836492Z"
    }
   },
   "cell_type": "code",
   "source": [
    "# ld_mean_df_no_idx = ld_mean_df.reset_index(inplace=False)\n",
    "\n",
    "# plot = ld_mean_df_no_idx.plot()\n",
    "plot = ld_mean_df.plot()\n",
    "# plot.set_xlabel('File')\n",
    "# plot.set_ylabel('Lifetime Distribution Mean')\n",
    "# #rotate x labels\n",
    "# plot.set_xticks(range(len(ld_mean_df_no_idx['File'])))\n",
    "# # plot.set_xticklabels(, rotation=45)\n",
    "# plot.set_xticklabels(ld_mean_df_no_idx['File'], rotation=90)"
   ],
   "id": "52e7acb2480bd5aa",
   "execution_count": 128,
   "outputs": []
  },
  {
   "metadata": {
    "ExecuteTime": {
     "end_time": "2024-04-25T21:41:29.129199Z",
     "start_time": "2024-04-25T21:41:29.126661Z"
    }
   },
   "cell_type": "code",
   "source": "",
   "id": "12379dfd56211f9e",
   "execution_count": 106,
   "outputs": []
  }
 ],
 "metadata": {
  "kernelspec": {
   "display_name": "Python 3",
   "language": "python",
   "name": "python3"
  },
  "language_info": {
   "codemirror_mode": {
    "name": "ipython",
    "version": 2
   },
   "file_extension": ".py",
   "mimetype": "text/x-python",
   "name": "python",
   "nbconvert_exporter": "python",
   "pygments_lexer": "ipython2",
   "version": "2.7.6"
  }
 },
 "nbformat": 4,
 "nbformat_minor": 5
}
