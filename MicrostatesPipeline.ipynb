{
 "cells": [
  {
   "cell_type": "code",
   "id": "initial_id",
   "metadata": {
    "collapsed": true,
    "ExecuteTime": {
     "end_time": "2024-05-12T17:59:47.173221Z",
     "start_time": "2024-05-12T17:59:46.169866Z"
    }
   },
   "source": [
    "import time\n",
    "\n",
    "import matplotlib.pyplot as plt\n",
    "import mne\n",
    "import numpy as np\n",
    "from mne.preprocessing import ICA\n",
    "import neurokit2 as nk"
   ],
   "execution_count": 1,
   "outputs": []
  },
  {
   "cell_type": "code",
   "source": [
    "raw_bv = mne.io.read_raw_brainvision('rest1_94/INP0094_v1.4_REST1_Op008_A002_S002_18.12.23.vhdr')\n",
    "raw_bv.load_data()\n",
    "sampling_rate = raw_bv.info[\"sfreq\"]"
   ],
   "metadata": {
    "collapsed": false,
    "ExecuteTime": {
     "end_time": "2024-05-12T17:59:48.706508Z",
     "start_time": "2024-05-12T17:59:48.181963Z"
    }
   },
   "id": "f19161fbcecacf1e",
   "execution_count": 2,
   "outputs": []
  },
  {
   "cell_type": "code",
   "source": [
    "raw_bv_dropped = raw_bv.copy()\n",
    "raw_bv_dropped.drop_channels([\"EOG\", \"BIP1\", \"M1\", \"M2\", \"PO5\", \"PO6\"])"
   ],
   "metadata": {
    "collapsed": false,
    "ExecuteTime": {
     "end_time": "2024-04-20T00:34:04.320433Z",
     "start_time": "2024-04-20T00:34:03.867314Z"
    }
   },
   "id": "20d5c969905ba3c6",
   "execution_count": 13,
   "outputs": []
  },
  {
   "metadata": {
    "ExecuteTime": {
     "end_time": "2024-04-20T00:41:18.992433Z",
     "start_time": "2024-04-20T00:41:18.531569Z"
    }
   },
   "cell_type": "code",
   "source": [
    "raw_bv_dropped.plot()"
   ],
   "id": "5524d6270a9e13c6",
   "execution_count": 19,
   "outputs": []
  },
  {
   "cell_type": "code",
   "source": [
    "raw_bd_filtered = raw_bv_dropped.copy()\n",
    "raw_bd_filtered = raw_bd_filtered.filter(l_freq=1, h_freq=40)"
   ],
   "metadata": {
    "collapsed": false,
    "ExecuteTime": {
     "end_time": "2024-04-20T00:34:10.168084Z",
     "start_time": "2024-04-20T00:34:08.587495Z"
    }
   },
   "id": "93f0880518f6572f",
   "execution_count": 14,
   "outputs": []
  },
  {
   "cell_type": "code",
   "source": [
    "biosemi64 = mne.channels.make_standard_montage(\"biosemi64\")\n",
    "raw_bd_filtered.set_montage(biosemi64)"
   ],
   "metadata": {
    "collapsed": false,
    "ExecuteTime": {
     "end_time": "2024-04-20T00:34:11.444784Z",
     "start_time": "2024-04-20T00:34:11.434051Z"
    }
   },
   "id": "14fb047617f40cd0",
   "execution_count": 15,
   "outputs": []
  },
  {
   "cell_type": "code",
   "source": [
    "raw_bdf_reref_obj = mne.set_eeg_reference(raw_bd_filtered)\n",
    "raw_bdf_reref = raw_bdf_reref_obj[0]"
   ],
   "metadata": {
    "collapsed": false,
    "ExecuteTime": {
     "end_time": "2024-04-20T00:34:16.306626Z",
     "start_time": "2024-04-20T00:34:15.088172Z"
    }
   },
   "id": "901eec9b4b563b24",
   "execution_count": 16,
   "outputs": []
  },
  {
   "cell_type": "code",
   "source": [
    "ica = ICA(n_components=20, random_state=42, max_iter='auto')\n",
    "ica.fit(raw_bdf_reref)"
   ],
   "metadata": {
    "collapsed": false,
    "ExecuteTime": {
     "end_time": "2024-04-20T00:34:46.648104Z",
     "start_time": "2024-04-20T00:34:26.491151Z"
    }
   },
   "id": "a0121b4354d2c28d",
   "execution_count": 17,
   "outputs": []
  },
  {
   "metadata": {
    "ExecuteTime": {
     "end_time": "2024-04-20T00:38:05.490079Z",
     "start_time": "2024-04-20T00:38:04.244082Z"
    }
   },
   "cell_type": "code",
   "source": [
    "ica.plot_components()\n"
   ],
   "id": "21a82fb95192ae8e",
   "execution_count": 18,
   "outputs": []
  },
  {
   "cell_type": "code",
   "source": [
    "ica.exclude = [0, 1, 4, 7, 11, 13, 15, 19]\n",
    "raw_bdfr_reconst = raw_bdf_reref.copy()\n",
    "ica.apply(raw_bdfr_reconst)"
   ],
   "metadata": {
    "collapsed": false,
    "ExecuteTime": {
     "end_time": "2024-04-20T00:41:55.767171Z",
     "start_time": "2024-04-20T00:41:54.985096Z"
    }
   },
   "id": "5f278fa1e0f53a5a",
   "execution_count": 20,
   "outputs": []
  },
  {
   "cell_type": "code",
   "source": [
    "raw_bv_reconst_reref = raw_bdfr_reconst.copy()\n",
    "raw_bv_reconst_reref.set_montage(biosemi64)"
   ],
   "metadata": {
    "collapsed": false,
    "ExecuteTime": {
     "end_time": "2024-04-20T00:42:00.768026Z",
     "start_time": "2024-04-20T00:42:00.671432Z"
    }
   },
   "id": "ed030f5dd53e524b",
   "execution_count": 21,
   "outputs": []
  },
  {
   "metadata": {
    "ExecuteTime": {
     "end_time": "2024-04-20T00:42:18.433533Z",
     "start_time": "2024-04-20T00:42:17.991594Z"
    }
   },
   "cell_type": "code",
   "source": [
    "raw_bv_reconst_reref.plot()"
   ],
   "id": "f104c5d824dec634",
   "execution_count": 22,
   "outputs": []
  },
  {
   "cell_type": "code",
   "source": [
    "# raw_resample = raw_bv_reconst_reref.copy()#.resample(sfreq=2048)"
   ],
   "metadata": {
    "collapsed": false,
    "jupyter": {
     "is_executing": true
    }
   },
   "id": "f1e4cdac3bc0be65",
   "execution_count": null,
   "outputs": []
  },
  {
   "cell_type": "code",
   "source": [
    "# n_optimal, scores = nk.microstates_findnumber(raw_resample.copy().crop(tmin=0, tmax=10), n_max=7, show=True, method='kmod')  \n",
    "# print(\"Optimal number of microstates: \", n_optimal)"
   ],
   "metadata": {
    "collapsed": false,
    "jupyter": {
     "is_executing": true
    }
   },
   "id": "76d26fb374f20573",
   "execution_count": null,
   "outputs": []
  },
  {
   "metadata": {},
   "cell_type": "markdown",
   "source": [
    "# MICROSTATES"
   ],
   "id": "2553818001a8d01c"
  },
  {
   "metadata": {
    "ExecuteTime": {
     "end_time": "2024-04-20T00:04:41.173381Z",
     "start_time": "2024-04-20T00:04:38.727018Z"
    }
   },
   "cell_type": "code",
   "source": [
    "import mne\n",
    "\n",
    "raw: mne.io.Raw = mne.io.read_raw_eeglab('rest_14/ACP_INP0014_REST1_1pnt_1vis.set')\n",
    "# raw: mne.io.Raw = mne.io.read_raw_eeglab('rest_14/ACP_INP0014_REST2_1pnt_1vis.set')\n",
    "# raw: mne.io.Raw = mne.io.read_raw_eeglab('rest_14/ACP_INP0014_REST3_1pnt_1vis.set')\n",
    "# raw: mne.io.Raw = mne.io.read_raw_eeglab('rest_14/ACP_INP0014_REST1_1pnt_2vis.set')\n",
    "# raw: mne.io.Raw = mne.io.read_raw_eeglab('rest_14/ACP_INP0014_REST2_1pnt_2vis.set')\n",
    "# raw: mne.io.Raw = mne.io.read_raw_eeglab('rest_14/ACP_INP0014_REST3_1pnt_2vis.set')"
   ],
   "id": "278f0f80e8858da6",
   "execution_count": 2,
   "outputs": []
  },
  {
   "metadata": {
    "ExecuteTime": {
     "end_time": "2024-04-20T00:07:32.995140Z",
     "start_time": "2024-04-20T00:07:32.846819Z"
    }
   },
   "cell_type": "code",
   "source": [
    "%matplotlib inline\n",
    "raw.get_montage().plot(kind='3d')"
   ],
   "id": "1f44b9730ec0f297",
   "execution_count": 8,
   "outputs": []
  },
  {
   "metadata": {
    "ExecuteTime": {
     "end_time": "2024-04-20T00:09:52.521092Z",
     "start_time": "2024-04-20T00:09:51.085788Z"
    }
   },
   "cell_type": "code",
   "source": [
    "raw.plot()"
   ],
   "id": "4884c68e60d41568",
   "execution_count": 10,
   "outputs": []
  },
  {
   "metadata": {
    "jupyter": {
     "is_executing": true
    }
   },
   "cell_type": "code",
   "source": [
    "raw_resample = raw.copy().resample(sfreq=2048)"
   ],
   "id": "a3d46cad7756f886",
   "execution_count": null,
   "outputs": []
  },
  {
   "metadata": {
    "jupyter": {
     "is_executing": true
    }
   },
   "cell_type": "code",
   "source": [
    "# raw_resample = raw_bv_reconst_reref.copy()\n",
    "microstates = nk.microstates_segment(raw_resample, n_microstates=4, method='kmod', random_state=42, optimize=True)"
   ],
   "id": "a0d84b34cf0f35df",
   "execution_count": null,
   "outputs": []
  },
  {
   "metadata": {
    "jupyter": {
     "is_executing": true
    }
   },
   "cell_type": "code",
   "source": [
    "microstates['GEV']"
   ],
   "id": "e829b1cacd392868",
   "execution_count": null,
   "outputs": []
  },
  {
   "metadata": {
    "jupyter": {
     "is_executing": true
    }
   },
   "cell_type": "code",
   "source": [
    "def split_ms_sequence(ms, start_sample = 0, end_sample = 0, sampling_rate=2048, start_time=0, time_end=0):\n",
    "    ms_copy = ms.copy()\n",
    "\n",
    "    if time_end != 0 and end_sample != 0:\n",
    "        raise ValueError(\"Only one of time_end or end_sample should be set\")\n",
    "\n",
    "    if time_end != 0:\n",
    "        end_sample = int(time_end * sampling_rate)\n",
    "    if start_time != 0:\n",
    "        start_sample = int(start_time * sampling_rate)\n",
    "\n",
    "    ms_copy['Sequence'] = ms_copy['Sequence'][start_sample:end_sample]\n",
    "    ms_copy['GFP'] = ms_copy['GFP'][start_sample:end_sample]\n",
    "    return ms_copy"
   ],
   "id": "7b6fde9aa0d43268",
   "execution_count": null,
   "outputs": []
  },
  {
   "metadata": {
    "jupyter": {
     "is_executing": true
    }
   },
   "cell_type": "code",
   "source": [
    "ms_test = split_ms_sequence(microstates, start_time=0, time_end=1)"
   ],
   "id": "cacebf914d6279c7",
   "execution_count": null,
   "outputs": []
  },
  {
   "metadata": {
    "jupyter": {
     "is_executing": true
    }
   },
   "cell_type": "code",
   "source": [
    "def apply_basic_switch_threshold(ms, threshold=0.05, sampling_rate=2048):\n",
    "    ms_clone = ms.copy()\n",
    "    sequence = ms_clone['Sequence'].copy()\n",
    "    gfp = ms_clone['GFP']\n",
    "    threshold_samples = threshold * sampling_rate\n",
    "    print(\"Threshold samples\", threshold_samples)\n",
    "    while True:\n",
    "        while True:\n",
    "            intervals = []\n",
    "            candidates = []\n",
    "            for i in range(len(sequence)-1):\n",
    "                if sequence[i] != sequence[i+1]:\n",
    "                    intervals.append((i, (i - intervals[-1][0] if len(intervals) > 0 else i), sequence[i-1]))\n",
    "            intervals.append((len(sequence)-1, len(sequence)-1 - intervals[-1][0], sequence[-1], (len(sequence)-1)/2048))\n",
    "            # print(np.array(intervals))\n",
    "            i = 1\n",
    "            while i < len(intervals)-1:\n",
    "                if (intervals[i][1] < threshold_samples) and (intervals[i-1][2] == intervals[i+1][2]):\n",
    "                    # length = intervals[i][1] + intervals[i-1][1] + intervals[i+1][1]\n",
    "                    candidates.append((intervals[i-1], intervals[i], intervals[i+1]))\n",
    "                    i += 2\n",
    "                i += 1\n",
    "            if len(candidates) == 0:\n",
    "                break\n",
    "            for candidate in candidates:\n",
    "                start = candidate[0][0]\n",
    "                end = candidate[1][0] + 1\n",
    "                state = candidate[0][2]\n",
    "                # print(\"Filling candidate\", start, end, state)\n",
    "                # nk.microstates_plot(ms_clone, epoch = (start-50, end+50))\n",
    "                sequence[start:end] = state\n",
    "                # ms_clone['Sequence'] = sequence\n",
    "                # nk.microstates_plot(ms_clone, epoch = (start-50, end+50))\n",
    "            # time.sleep(500)\n",
    "        # ms_clone['Sequence'] = sequence\n",
    "        # nk.microstates_plot(ms_clone, epoch = (0, int(2048)))\n",
    "        print(\"Second stage candidates\")\n",
    "        \n",
    "        # while True:\n",
    "        intervals = []\n",
    "        candidates = []\n",
    "        local_gfp_mean = 0\n",
    "        for i in range(len(sequence)-1):\n",
    "            local_gfp_mean += gfp[i]\n",
    "            if sequence[i] != sequence[i+1]:\n",
    "                # print(\"Adding sequence\", i, \"State\", sequence[i], \"State\", sequence[i+1])\n",
    "                length = (i - intervals[-1][0] if len(intervals) > 0 else i)\n",
    "                state = sequence[i-1]\n",
    "                local_gfp_mean /= length\n",
    "                intervals.append((i, length, state, local_gfp_mean))\n",
    "                local_gfp_mean = 0\n",
    "        intervals.append((len(sequence)-1, len(sequence)-1 - intervals[-1][0], sequence[-1], 0))\n",
    "        # print(intervals)\n",
    "        i = 1\n",
    "        while i < len(intervals)-1:\n",
    "            # print(\"Checking interval\", intervals[i], threshold_samples)\n",
    "            if intervals[i][1] < threshold_samples:\n",
    "                # gfp_diff_l = intervals[i][3] - intervals[i-1][3]\n",
    "                # gfp_diff_r = intervals[i][3] - intervals[i+1][3]\n",
    "                # print(\"GFP diff\", gfp_diff_l, gfp_diff_r)\n",
    "                ln_diff_l = (intervals[i][1] - intervals[i-1][1])\n",
    "                ln_diff_r = intervals[i][1] - intervals[i+1][1]\n",
    "                if ln_diff_l > 0 and ln_diff_r > 0:\n",
    "                    i += 1\n",
    "                    continue\n",
    "\n",
    "                # gfp_diff_l = intervals[i][3] - intervals[i-1][3]\n",
    "                # gfp_diff_r = intervals[i][3] - intervals[i+1][3]\n",
    "    \n",
    "                # print(\"LN diff\", ln_diff_l, ln_diff_r, intervals[i][1])\n",
    "    \n",
    "                # if gfp_diff_l > gfp_diff_r:\n",
    "                if ln_diff_l < ln_diff_r:\n",
    "                    candidates.append((intervals[i-1], intervals[i], intervals[i-1][2]))\n",
    "                else:\n",
    "                    candidates.append((intervals[i-1], intervals[i], intervals[i+1][2]))\n",
    "                i += 2\n",
    "            i += 1\n",
    "        if len(candidates) == 0:\n",
    "            break\n",
    "        # start_min = 10000000\n",
    "        # end_max = 0\n",
    "        for candidate in candidates:\n",
    "            start = candidate[0][0]\n",
    "            # if start < start_min:\n",
    "            #     start_min = start\n",
    "            end = candidate[1][0]+1\n",
    "            # if end > end_max:\n",
    "            #     end_max = end\n",
    "            state = candidate[2]\n",
    "            # print(\"Filling candidate\", start, end, state)\n",
    "            # nk.microstates_plot(ms_clone, epoch = (start-40, end+40))\n",
    "            sequence[start:end] = state\n",
    "            # ms_clone['Sequence'] = sequence\n",
    "            # nk.microstates_plot(ms_clone, epoch = (start-40, end+40))\n",
    "            # print('------')\n",
    "    # print(sequence[:100])\n",
    "    ms_clone['Sequence'] = sequence\n",
    "    return ms_clone"
   ],
   "id": "dac217b89882af72",
   "execution_count": null,
   "outputs": []
  },
  {
   "metadata": {
    "jupyter": {
     "is_executing": true
    }
   },
   "cell_type": "code",
   "source": [
    "%matplotlib qt\n",
    "\n",
    "# nk.microstates_plot(microstates, epoch = (0, int(2048)))\n",
    "\n",
    "test01 = apply_basic_switch_threshold(ms_test, threshold=0.01)\n",
    "test02 = apply_basic_switch_threshold(ms_test, threshold=0.02)\n",
    "test04 = apply_basic_switch_threshold(ms_test, threshold=0.04)\n",
    "test08 = apply_basic_switch_threshold(ms_test, threshold=0.08)\n",
    "test16 = apply_basic_switch_threshold(ms_test, threshold=0.16)\n",
    "test32 = apply_basic_switch_threshold(ms_test, threshold=0.32)\n",
    "# test   \n",
    "nk.microstates_plot(test01, epoch = (0, int(2048)))\n",
    "nk.microstates_plot(test02, epoch = (0, int(2048)))\n",
    "nk.microstates_plot(test04, epoch = (0, int(2048)))\n",
    "nk.microstates_plot(test08, epoch = (0, int(2048)))\n",
    "nk.microstates_plot(test16, epoch = (0, int(2048)))\n",
    "nk.microstates_plot(microstates, epoch = (0, int(2048)))\n"
   ],
   "id": "458bd8e60bd6e1d5",
   "execution_count": null,
   "outputs": []
  },
  {
   "metadata": {
    "ExecuteTime": {
     "end_time": "2024-04-18T03:42:41.368971Z",
     "start_time": "2024-04-18T03:42:40.562560Z"
    }
   },
   "cell_type": "code",
   "source": [
    "%matplotlib qt\n",
    "# nk.microstates_plot(test, epoch = (0, int(2048)))"
   ],
   "id": "146cce50c02b138c",
   "execution_count": 652,
   "outputs": []
  },
  {
   "metadata": {
    "ExecuteTime": {
     "end_time": "2024-04-18T02:31:55.775981Z",
     "start_time": "2024-04-18T02:31:54.674753Z"
    }
   },
   "cell_type": "code",
   "source": [
    "nk.microstates_plot(microstates, epoch = (0, 2048*5))\n",
    "nk.microstates_static(microstates, sampling_rate=sampling_rate, show=True)"
   ],
   "id": "162a1740953820e3",
   "execution_count": 537,
   "outputs": []
  },
  {
   "cell_type": "code",
   "source": [
    "def check_event_name(pair, key_names):\n",
    "    print(pair)\n",
    "    key, value = pair\n",
    "    for key_name in key_names:\n",
    "        if key_name in key:\n",
    "            return True\n",
    "    return False\n",
    "\n",
    "def get_event_bounds_by_event_transitions(raw, _key_names, _key_namings, _transitions, time_threshold = 20, sampling_rate=2048):\n",
    "    raw_events = mne.events_from_annotations(raw)\n",
    "    event_sequence = list(map(lambda x: [x[0], x[2]] ,raw_events[0]))\n",
    "    event_namemap = dict(filter(lambda x: check_event_name(x, _key_names), raw_events[1].items()))\n",
    "    event_numbers = list(event_namemap.values())\n",
    "    threshold_samples = time_threshold * sampling_rate\n",
    "\n",
    "    def get_event_number(event_name, _ev_namemap):\n",
    "        return list(filter(lambda val: event_name in val[0], _ev_namemap.items()))[0]\n",
    "    \n",
    "    def remap_transitions_to_numbers(trans, ev_namemap):\n",
    "        remapped_transitions = []\n",
    "        for transition in trans:\n",
    "            remapped_transitions.append(\n",
    "                [get_event_number(transition[0], ev_namemap)[1], list(map(lambda x: get_event_number(x, ev_namemap)[1], transition[1]))]\n",
    "            )   \n",
    "        return remapped_transitions\n",
    "    \n",
    "    transition_numbers = remap_transitions_to_numbers(transitions, event_namemap)\n",
    "    filtered_sequence = list(filter(lambda x: x[1] in event_numbers, event_sequence))\n",
    "    timestamps = []\n",
    "    events = []\n",
    "    for idx in range(len(filtered_sequence)):\n",
    "        event = filtered_sequence[idx]\n",
    "        next_event = filtered_sequence[idx+1] if idx+1 < len(filtered_sequence) else None\n",
    "        # print(\"Idx\", idx, \"Event\", event, \"Next event\", next_event)\n",
    "        if next_event is None:\n",
    "            break\n",
    "        for transition in transition_numbers:\n",
    "            if (event[1] == transition[0]) and (next_event[1] in transition[1]):\n",
    "                if threshold_samples > next_event[0] - event[0]:\n",
    "                    print(\"Event too short, skipping\", next_event[0] - event[0], event, next_event)\n",
    "                    break\n",
    "                timestamps.append([event[0], next_event[0]])\n",
    "                events.append(event[1])\n",
    "                break\n",
    "    event_names = dict(map(lambda x: (get_event_number(x[0], event_namemap)[1], x[1]), _key_namings.items()))\n",
    "    return timestamps, events, event_names"
   ],
   "metadata": {
    "collapsed": false,
    "ExecuteTime": {
     "end_time": "2024-04-17T23:59:35.090233Z",
     "start_time": "2024-04-17T23:59:35.083105Z"
    }
   },
   "id": "87ed760873820768",
   "execution_count": 280,
   "outputs": []
  },
  {
   "metadata": {
    "ExecuteTime": {
     "end_time": "2024-04-18T00:00:25.159619Z",
     "start_time": "2024-04-18T00:00:25.151469Z"
    }
   },
   "cell_type": "code",
   "source": [
    "import numpy as np\n",
    "\n",
    "raw_events = mne.events_from_annotations(raw)\n",
    "# raw_events[0]\n",
    "# type(raw_events[0]\n",
    "ls = list(filter(lambda x: x[2] != 2, raw_events[0]))\n",
    "np.array(ls)\n",
    "\n",
    "\n"
   ],
   "id": "dff0f34520c1a4f6",
   "execution_count": 285,
   "outputs": []
  },
  {
   "metadata": {
    "ExecuteTime": {
     "end_time": "2024-04-17T23:59:43.765084Z",
     "start_time": "2024-04-17T23:59:43.760465Z"
    }
   },
   "cell_type": "code",
   "source": [
    "raw_events[1]"
   ],
   "id": "fb09cca42a4f06e5",
   "execution_count": 282,
   "outputs": []
  },
  {
   "metadata": {
    "ExecuteTime": {
     "end_time": "2024-04-18T00:02:10.887452Z",
     "start_time": "2024-04-18T00:02:10.879993Z"
    }
   },
   "cell_type": "code",
   "source": [
    "transitions = [['s11', ['s2', 's3', 's4']], ['s4', ['s2', 's3']]]\n",
    "# transitions = [['s11', ['s2', 's3']], ['s12', ['s2', 's3']]] # 14 - d1\n",
    "# transitions = [['s11', ['s2', 's3']], ['s4', ['s2', 's3']]] # 14 - d2\n",
    "\n",
    "key_names = ['s11', 's2', 's3', 's4']\n",
    "# key_names = ['s11', 's12', 's2', 's3'] # 14 - d1\n",
    "# key_names = ['s11', 's4', 's2', 's3'] # 14 - d2\n",
    "\n",
    "key_namings = {'s11': \"Closed\", 's4': \"Opened\"}\n",
    "# key_namings = {'s11': \"Closed\", 's12': \"Opened\"} # 14 - d1\n",
    "# key_namings = {'s11': \"Closed\", 's4': \"Opened\"} # 14 - d2\n",
    "\n",
    "# 6 - 4 6 - 5 | S(4 - 2 4 - 3)\n",
    "# 3 - 4 3 - 5 | S(11 - 2 11 - 3)\n",
    "\n",
    "# 7 - 5 7 - 6 | S(4-2 4-3)\n",
    "# 4 - 5 4 - 6 | S(11-3 11-2)\n",
    "\n",
    "# 4 - 7 4 - 6  | S(11-3 11-2)\n",
    "# 8 - 7 8 - 6  | S(4-3 4-2)\n",
    " \n",
    "# 4-6 4-7 4-5 ЗАКРЫТЫЕ S(11-3 11-4 11-2) \n",
    "# 7-6 7-5 ОТКРЫТЫЕ S(4-3 4-2)\n",
    "\n",
    "\n",
    "# \n",
    "# Checking event:  51.1650390625 6\n",
    "# Checking event:  51.17724609375 6\n",
    "# Checking event:  109.24658203125 6\n",
    "# Checking event:  158.2109375 7\n",
    "# Checking event:  159.22900390625 6\n",
    "\n",
    "#-4 Checking event:  161.248046875 4\n",
    "#-6 Checking event:  191.26025390625 6\n",
    "\n",
    "#-7 Checking event:  193.27880859375 7\n",
    "#-6 Checking event:  223.291015625 6\n",
    "\n",
    "#?4 Checking event:  225.31005859375 4\n",
    "#?6\n",
    "\n",
    "#-7 Checking event:  257.3408203125 7\n",
    "#-6 Checking event:  287.353515625 6\n",
    "\n",
    "#-4 Checking event:  289.37255859375 4\n",
    "#-6 Checking event:  319.384765625 6\n",
    "\n",
    "#-7 Checking event:  321.4033203125 7\n",
    "#-6 Checking event:  351.416015625 6\n",
    "\n",
    "#?4 Checking event:  353.43505859375 4\n",
    "#?6\n",
    "\n",
    "#-7 Checking event:  385.4658203125 7\n",
    "#-6 Checking event:  415.478515625 6\n",
    "\n",
    "#-4 Checking event:  417.49755859375 4\n",
    "#?6\n",
    "\n",
    "#-7 Checking event:  449.5283203125 7\n",
    "#-5 Checking event:  479.541015625 5\n",
    "\n",
    "print(get_event_bounds_by_event_transitions(raw_resample, key_names, key_namings, transitions))"
   ],
   "id": "1b97c6332f3bf620",
   "execution_count": 286,
   "outputs": []
  },
  {
   "cell_type": "code",
   "source": [],
   "metadata": {
    "collapsed": false,
    "ExecuteTime": {
     "end_time": "2024-04-18T00:02:14.081027Z",
     "start_time": "2024-04-18T00:02:14.077861Z"
    }
   },
   "id": "60b9dcf657baba46",
   "execution_count": 287,
   "outputs": []
  },
  {
   "metadata": {
    "ExecuteTime": {
     "end_time": "2024-04-18T00:02:14.891315Z",
     "start_time": "2024-04-18T00:02:14.888482Z"
    }
   },
   "cell_type": "code",
   "source": [
    "def split_ms_sequence_by_events(ms, raw, key_names, key_namings, transitions):\n",
    "    timestamps, events, event_names = get_event_bounds_by_event_transitions(raw, key_names, key_namings, transitions)\n",
    "    sequences = []\n",
    "    for i in range(len(timestamps)):\n",
    "        ms_copy = split_ms_sequence(ms, start_sample=timestamps[i][0], end_sample=timestamps[i][1])\n",
    "        sequences.append(ms_copy)\n",
    "    return sequences, events, event_names, timestamps"
   ],
   "id": "ef6bfc6255c5e3c5",
   "execution_count": 288,
   "outputs": []
  },
  {
   "metadata": {
    "ExecuteTime": {
     "end_time": "2024-04-18T00:02:15.523714Z",
     "start_time": "2024-04-18T00:02:15.512929Z"
    }
   },
   "cell_type": "code",
   "source": [
    "ms_sequences, events, event_names, timestamps = split_ms_sequence_by_events(microstates, raw_resample, key_names, key_namings, transitions)\n",
    "event_names"
   ],
   "id": "de0e61986d6da824",
   "execution_count": 289,
   "outputs": []
  },
  {
   "cell_type": "code",
   "source": [
    "import pandas as pd\n",
    "\n",
    "dynamic = pd.DataFrame()\n",
    "\n",
    "for i in range(len(ms_sequences)):\n",
    "    print(\"Event: \", event_names[events[i]])\n",
    "    duration = (timestamps[i][1] - timestamps[i][0])\n",
    "    # nk.microstates_plot(ms_sequences[i], epoch = (0, duration))\n",
    "    # nk.microstates_static(ms_sequences[i], sampling_rate=sampling_rate, show=True)\n",
    "    ms_dynamic = nk.microstates_dynamic(ms_sequences[i], show=False)\n",
    "    ms_dynamic['Event'] = event_names[events[i]]\n",
    "    ms_dynamic['Order'] = i\n",
    "    dynamic = pd.concat([dynamic, ms_dynamic])\n",
    "    # nk.microstates_dynamic(ms_sequences[i], show=True)"
   ],
   "metadata": {
    "collapsed": false,
    "ExecuteTime": {
     "end_time": "2024-04-18T00:02:20.619810Z",
     "start_time": "2024-04-18T00:02:17.470829Z"
    }
   },
   "id": "a9e042d0bdd2511c",
   "execution_count": 290,
   "outputs": []
  },
  {
   "metadata": {
    "ExecuteTime": {
     "end_time": "2024-04-18T00:02:21.439776Z",
     "start_time": "2024-04-18T00:02:21.437057Z"
    }
   },
   "cell_type": "code",
   "source": [
    "def drop_self_to_self(_microstates, df):\n",
    "    clone = df.copy()\n",
    "    for i in range (len(_microstates['Microstates'])):\n",
    "        print(f'Microstate_{i}_to_{i}')\n",
    "        clone.drop(f'Microstate_{i}_to_{i}', axis=1, inplace=True)\n",
    "    return clone\n"
   ],
   "id": "2011e823de22a4c0",
   "execution_count": 291,
   "outputs": []
  },
  {
   "metadata": {
    "ExecuteTime": {
     "end_time": "2024-04-18T00:02:21.850869Z",
     "start_time": "2024-04-18T00:02:21.847733Z"
    }
   },
   "cell_type": "code",
   "source": [
    "dyn_dropped = drop_self_to_self(microstates, dynamic)"
   ],
   "id": "29e600495ced5301",
   "execution_count": 292,
   "outputs": []
  },
  {
   "metadata": {
    "ExecuteTime": {
     "end_time": "2024-04-18T00:02:22.268724Z",
     "start_time": "2024-04-18T00:02:22.266552Z"
    }
   },
   "cell_type": "code",
   "source": [
    "def mean_by_event(df):\n",
    "    clone = df.copy()\n",
    "    clone.drop('Order', axis=1, inplace=True)\n",
    "    return clone.groupby('Event').mean()"
   ],
   "id": "499b66de77e5661f",
   "execution_count": 293,
   "outputs": []
  },
  {
   "metadata": {
    "ExecuteTime": {
     "end_time": "2024-04-18T00:02:22.615450Z",
     "start_time": "2024-04-18T00:02:22.612253Z"
    }
   },
   "cell_type": "code",
   "source": [
    "mean = mean_by_event(dyn_dropped)"
   ],
   "id": "af9423278d4312eb",
   "execution_count": 294,
   "outputs": []
  },
  {
   "metadata": {
    "ExecuteTime": {
     "end_time": "2024-04-18T00:02:23.249230Z",
     "start_time": "2024-04-18T00:02:23.134465Z"
    }
   },
   "cell_type": "code",
   "source": [
    "mean.T.plot()"
   ],
   "id": "e54764ff70035b1a",
   "execution_count": 295,
   "outputs": []
  },
  {
   "cell_type": "code",
   "source": [
    "%matplotlib inline\n",
    "# ms.plot_maps(maps, raw_bv_reconst_reref.info)\n",
    "nk.microstates_plot(microstates, epoch = (0, 2048*10))"
   ],
   "metadata": {
    "collapsed": false,
    "ExecuteTime": {
     "end_time": "2024-04-17T16:39:46.530476Z",
     "start_time": "2024-04-17T16:39:46.257509Z"
    }
   },
   "id": "622be39c19960320",
   "execution_count": 19,
   "outputs": []
  },
  {
   "cell_type": "code",
   "source": [
    "# ms.plot_segmentation(segmentation[:2048], raw_bv_reconst_reref.get_data()[:, :2048], raw_bv_reconst_reref.times[:2048])\n",
    "nk.microstates_static(microstates, sampling_rate=sampling_rate, show=True)"
   ],
   "metadata": {
    "collapsed": false,
    "ExecuteTime": {
     "end_time": "2024-04-11T14:50:50.231756Z",
     "start_time": "2024-04-11T14:50:49.931438Z"
    }
   },
   "id": "d3ab1b92eb08a4d2",
   "execution_count": 109,
   "outputs": []
  },
  {
   "cell_type": "code",
   "source": [
    "nk.microstates_dynamic(microstates, show=True)"
   ],
   "metadata": {
    "collapsed": false,
    "ExecuteTime": {
     "end_time": "2024-04-11T14:46:36.749566Z",
     "start_time": "2024-04-11T14:46:33.252218Z"
    }
   },
   "id": "b1437129bd3147a7",
   "execution_count": 100,
   "outputs": []
  },
  {
   "cell_type": "code",
   "source": [
    "gfp = nk.eeg_gfp(raw_resample)\n",
    "\n",
    "peaks = nk.microstates_peaks(raw_resample, gfp=gfp)\n",
    "\n",
    "# Plot the peaks in the first 200 data points\n",
    "nk.events_plot(events = peaks[peaks < int(2048/2)], signal = gfp[0:int(2048/2)])"
   ],
   "metadata": {
    "collapsed": false,
    "ExecuteTime": {
     "end_time": "2024-04-11T14:46:37.424214Z",
     "start_time": "2024-04-11T14:46:36.931832Z"
    }
   },
   "id": "427c1dd14039149e",
   "execution_count": 101,
   "outputs": []
  },
  {
   "cell_type": "code",
   "source": [],
   "metadata": {
    "collapsed": false
   },
   "id": "f771a71fa2abd3bf",
   "execution_count": null,
   "outputs": []
  }
 ],
 "metadata": {
  "kernelspec": {
   "display_name": "Python 3",
   "language": "python",
   "name": "python3"
  },
  "language_info": {
   "codemirror_mode": {
    "name": "ipython",
    "version": 2
   },
   "file_extension": ".py",
   "mimetype": "text/x-python",
   "name": "python",
   "nbconvert_exporter": "python",
   "pygments_lexer": "ipython2",
   "version": "2.7.6"
  }
 },
 "nbformat": 4,
 "nbformat_minor": 5
}
