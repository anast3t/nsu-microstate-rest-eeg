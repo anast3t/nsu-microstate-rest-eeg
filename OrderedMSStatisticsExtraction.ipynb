{
 "cells": [
  {
   "metadata": {
    "ExecuteTime": {
     "end_time": "2024-05-10T18:12:32.708163Z",
     "start_time": "2024-05-10T18:12:32.704992Z"
    }
   },
   "cell_type": "code",
   "source": [
    "import copy\n",
    "\n",
    "import pandas as pd\n",
    "from helper import *\n",
    "from filenames_and_paths import * \n",
    "from typing import *\n",
    "import multiprocessing as mp\n",
    "import dask\n",
    "import joblib"
   ],
   "id": "63fa8f4c5d10d307",
   "execution_count": 43,
   "outputs": []
  },
  {
   "metadata": {
    "ExecuteTime": {
     "start_time": "2024-05-10T18:12:32.709166Z"
    }
   },
   "cell_type": "code",
   "source": [
    "worker_paths = []\n",
    "mhw_objects: List[MicrostateHelperWrapper] = []\n",
    "for i, target_filenames in enumerate(filenames):\n",
    "    folders.end_folder = paths[i]\n",
    "    # folders.end_folder = path045\n",
    "    for filename in target_filenames:\n",
    "        mhw_objects.append(MicrostateHelperWrapper.static_load(folders, filename + \"_th\"))\n",
    "        # worker_paths.append((copy.deepcopy(folders), filename + \"_th\"))\n"
   ],
   "id": "1fa035f6790cf469",
   "execution_count": null,
   "outputs": []
  },
  {
   "metadata": {},
   "cell_type": "code",
   "source": [
    "# pool = mp.Pool(processes=8)\n",
    "# mhw_objects: List[MicrostateHelperWrapper] = pool.map(worker_load_mhw, worker_paths)\n",
    "# pool.close()"
   ],
   "id": "3882934d6e26ff65",
   "execution_count": null,
   "outputs": []
  },
  {
   "metadata": {},
   "cell_type": "code",
   "source": "len(mhw_objects)",
   "id": "bb1994e335c7cf59",
   "execution_count": null,
   "outputs": []
  },
  {
   "metadata": {},
   "cell_type": "code",
   "source": [
    "def worker(mhw: MicrostateHelperWrapper):\n",
    "    print(\"--- Processing: \", mhw.raw_filename)\n",
    "    \n",
    "    static_df = nk.microstates_static(mhw.ms_ordered, sampling_rate=2048)\n",
    "    dynamic_df = nk.microstates_dynamic(mhw.ms_ordered)\n",
    "    \n",
    "    static_df[\"filename\"] = mhw.raw_filename\n",
    "    static_df[\"subject\"] = mhw.folders.end_folder\n",
    "    \n",
    "    dynamic_df[\"filename\"] = mhw.raw_filename\n",
    "    dynamic_df[\"subject\"] = mhw.folders.end_folder\n",
    "    \n",
    "    rest_state = mhw.raw_filename.split(\"_\")[2]\n",
    "    rest_state = rest_state.removeprefix(\"REST\").removeprefix(\"rs\")\n",
    "    if len(rest_state) == 2:\n",
    "        rest_state = rest_state[1]\n",
    "    \n",
    "    static_df[\"rest_state\"] = rest_state\n",
    "    dynamic_df[\"rest_state\"] = rest_state\n",
    "    \n",
    "    return static_df, dynamic_df"
   ],
   "id": "4ef72989bf3a7986",
   "execution_count": null,
   "outputs": []
  },
  {
   "metadata": {},
   "cell_type": "code",
   "source": "stat_dyn_arr_joblib = joblib.Parallel(n_jobs=-1, verbose=1)(joblib.delayed(worker)(mhw) for mhw in mhw_objects)",
   "id": "4fbd1e31dec9f448",
   "execution_count": null,
   "outputs": []
  },
  {
   "metadata": {},
   "cell_type": "code",
   "source": [
    "static_statistics = pd.DataFrame()\n",
    "dynamic_statistics = pd.DataFrame()\n",
    "\n",
    "for stat, dyn in stat_dyn_arr_joblib:\n",
    "    static_statistics = pd.concat([static_statistics, stat])\n",
    "    dynamic_statistics = pd.concat([dynamic_statistics, dyn])\n",
    "\n",
    "static_statistics.reset_index(drop=True, inplace=True)\n",
    "dynamic_statistics.reset_index(drop=True, inplace=True)"
   ],
   "id": "e5a7e199bd7adb54",
   "execution_count": null,
   "outputs": []
  },
  {
   "metadata": {},
   "cell_type": "code",
   "source": [
    "static_statistics.to_csv(folders.save_data + folders.statistics + \"static_statistics.csv\", index=False)\n",
    "dynamic_statistics.to_csv(folders.save_data + folders.statistics + \"dynamic_statistics.csv\", index=False)"
   ],
   "id": "513cbeca500ffc1e",
   "execution_count": null,
   "outputs": []
  },
  {
   "metadata": {},
   "cell_type": "code",
   "source": "",
   "id": "8d1ee6af501eb424",
   "execution_count": null,
   "outputs": []
  }
 ],
 "metadata": {
  "kernelspec": {
   "display_name": "Python 3",
   "language": "python",
   "name": "python3"
  },
  "language_info": {
   "codemirror_mode": {
    "name": "ipython",
    "version": 2
   },
   "file_extension": ".py",
   "mimetype": "text/x-python",
   "name": "python",
   "nbconvert_exporter": "python",
   "pygments_lexer": "ipython2",
   "version": "2.7.6"
  }
 },
 "nbformat": 4,
 "nbformat_minor": 5
}
